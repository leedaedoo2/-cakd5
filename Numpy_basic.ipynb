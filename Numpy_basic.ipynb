{
 "cells": [
  {
   "cell_type": "markdown",
   "id": "89fd4845",
   "metadata": {},
   "source": [
    "Numpy는 \"numerical python\"의 약자로 대규모 다차원 배열과 행렬 연산에 필요한 다양한 함수를 제공\n",
    "\n",
    "- Numerical Python을 의미하는 Numpy는 파이썬에서 선형대수 기반의 프로그램을 쉽게 만들 수 있도록 지원하는 대표적인 패키지\n",
    "- 많은 머신러닝 알고리즘이 numpy 기반으로 작성되어 있으며 알고리즘의 입출력 데이터를 numpy 배열 타입으로 사용함\n",
    "- numpy의 기본 데이터 타입은 ndarray.ndarray를 이용해 numpy에서 다차원 배열을 쉽게 새성하고 다양한 연산 수행\n",
    "\n",
    "Numpy 특징\n",
    "- 강력한 N차원 배열 객체\n",
    "- 정교한 브로드캐스팅 기능\n",
    "- 유용한 선형 대수학, 푸리에 변환 및 난수 기능\n",
    "- 푸리에 변환은 시간이나 공간에 대한 함수를 시간 또는 공갅파수 성분으로 분해하는 변환\n",
    "- 범용적 데이터 처리에 사용 가능한 다차원 컨테이너"
   ]
  },
  {
   "cell_type": "code",
   "execution_count": 1,
   "id": "f53b3e56",
   "metadata": {},
   "outputs": [
    {
     "name": "stdout",
     "output_type": "stream",
     "text": [
      "Requirement already satisfied: numpy in c:\\users\\admin\\anaconda3\\envs\\cakd5\\lib\\site-packages (1.21.2)\n"
     ]
    }
   ],
   "source": [
    "!pip install numpy"
   ]
  },
  {
   "cell_type": "code",
   "execution_count": 3,
   "id": "2b4f3a56",
   "metadata": {},
   "outputs": [
    {
     "name": "stdout",
     "output_type": "stream",
     "text": [
      "[0 1 2 3 4 5 6 7 8 9]\n",
      "<class 'numpy.ndarray'>\n"
     ]
    }
   ],
   "source": [
    "import numpy as np\n",
    "z = np.arange(10)\n",
    "print(z)\n",
    "print(type(z))"
   ]
  },
  {
   "cell_type": "code",
   "execution_count": 4,
   "id": "205048ac",
   "metadata": {},
   "outputs": [],
   "source": [
    "my_arr = np.arange(1000000)\n",
    "my_list = list(range(1000000))"
   ]
  },
  {
   "cell_type": "code",
   "execution_count": 5,
   "id": "911641d9",
   "metadata": {},
   "outputs": [
    {
     "name": "stdout",
     "output_type": "stream",
     "text": [
      "Wall time: 13 ms\n"
     ]
    }
   ],
   "source": [
    "%time for _ in range(10): my_array2 = my_arr * 2"
   ]
  },
  {
   "cell_type": "code",
   "execution_count": 6,
   "id": "143d8436",
   "metadata": {},
   "outputs": [
    {
     "name": "stdout",
     "output_type": "stream",
     "text": [
      "Wall time: 612 ms\n"
     ]
    }
   ],
   "source": [
    "%time for _ in range(10): my_list2 = [x*2 for x in my_list]"
   ]
  },
  {
   "cell_type": "code",
   "execution_count": 14,
   "id": "e2a4944e",
   "metadata": {},
   "outputs": [
    {
     "name": "stdout",
     "output_type": "stream",
     "text": [
      "[[-12.61581835 -14.51607278   5.00129838]\n",
      " [  8.48874073   1.13201726   4.22263505]]\n",
      "[[-2.52316367 -2.90321456  1.00025968]\n",
      " [ 1.69774815  0.22640345  0.84452701]]\n"
     ]
    }
   ],
   "source": [
    "# 배열 연산\n",
    "# np.random.randn 가우시안 표준 정규분포에서 난수 매트릭스 array 생성\n",
    "data = np.random.randn(2,3) #표준 정규분포 2행 3열 매트릭스\n",
    "print(data *10)\n",
    "print(data+data)"
   ]
  },
  {
   "cell_type": "code",
   "execution_count": 16,
   "id": "b59e28ef",
   "metadata": {},
   "outputs": [
    {
     "name": "stdout",
     "output_type": "stream",
     "text": [
      "(2, 3)\n",
      "float64\n",
      "2\n"
     ]
    }
   ],
   "source": [
    "print(data.shape) # 크기\n",
    "print(data.dtype) # 데이터 타입\n",
    "print(data.ndim) # 차원"
   ]
  },
  {
   "cell_type": "markdown",
   "id": "45fc021c",
   "metadata": {},
   "source": [
    "다차원 배열\n",
    "<img src = 'numpy차원.jpg' STYLE = 'width:300px;'>"
   ]
  },
  {
   "cell_type": "code",
   "execution_count": 18,
   "id": "3256548b",
   "metadata": {},
   "outputs": [
    {
     "name": "stdout",
     "output_type": "stream",
     "text": [
      "<class 'list'> \n",
      "\n",
      "[[1 2 3 4]\n",
      " [5 6 7 8]] <class 'numpy.ndarray'>\n"
     ]
    }
   ],
   "source": [
    "data2 = [[1,2,3,4],[5,6,7,8]]\n",
    "print(type(data2),'\\n')\n",
    "arr2 = np.array(data2)\n",
    "print(arr2,type(arr2))"
   ]
  },
  {
   "cell_type": "code",
   "execution_count": 23,
   "id": "3d30763c",
   "metadata": {},
   "outputs": [
    {
     "name": "stdout",
     "output_type": "stream",
     "text": [
      "2 \n",
      "\n",
      "(2, 4) \n",
      "\n"
     ]
    }
   ],
   "source": [
    "print(arr2.ndim,'\\n')\n",
    "print(arr2.shape,'\\n')"
   ]
  },
  {
   "cell_type": "code",
   "execution_count": 27,
   "id": "07d29001",
   "metadata": {},
   "outputs": [
    {
     "name": "stdout",
     "output_type": "stream",
     "text": [
      "[1 2 3] <class 'numpy.ndarray'> (3,)\n"
     ]
    }
   ],
   "source": [
    "#1차원 배열로 3개의 데이터\n",
    "array1 = np.array([1,2,3])\n",
    "print(array1,type(array1),array1.shape) # (,열)이 아닌(열,) 형태로 출력"
   ]
  },
  {
   "cell_type": "code",
   "execution_count": 35,
   "id": "50631daa",
   "metadata": {},
   "outputs": [
    {
     "name": "stdout",
     "output_type": "stream",
     "text": [
      "[[ 0.25315446  2.24493932  1.70816458]\n",
      " [ 1.82008436  2.1998024  -0.65047153]] <class 'numpy.ndarray'> (2, 3)\n"
     ]
    }
   ],
   "source": [
    "# 2차원 배열로 2개의 row와 3개의 column으로 구성된 6개의 데이터\n",
    "array23 = np.random.randn(2,3)\n",
    "print(array23, type(array23),array23.shape)"
   ]
  },
  {
   "cell_type": "code",
   "execution_count": 36,
   "id": "c2a4ee9d",
   "metadata": {},
   "outputs": [
    {
     "name": "stdout",
     "output_type": "stream",
     "text": [
      "[[ 0.4972784  -0.28153215  0.42275392]] <class 'numpy.ndarray'> (1, 3)\n",
      "[[1 2 3]] <class 'numpy.ndarray'> (1, 3)\n"
     ]
    }
   ],
   "source": [
    "#1개의 row와 3개의 column으로 구성된 2차원 배열\n",
    "array13 = np.random.randn(1,3)\n",
    "print(array13,type(array13),array13.shape)\n",
    "\n",
    "array21  = np.array([[1,2,3]])\n",
    "print(array21,type(array21),array21.shape)"
   ]
  },
  {
   "cell_type": "code",
   "execution_count": 41,
   "id": "583ff413",
   "metadata": {},
   "outputs": [
    {
     "name": "stdout",
     "output_type": "stream",
     "text": [
      "[[[1 2 3]\n",
      "  [4 5 6]\n",
      "  [7 8 9]]\n",
      "\n",
      " [[1 2 3]\n",
      "  [4 5 6]\n",
      "  [7 8 9]]\n",
      "\n",
      " [[1 2 3]\n",
      "  [4 5 6]\n",
      "  [7 8 9]]] (3, 3, 3)\n"
     ]
    }
   ],
   "source": [
    "# 3차원 배열\n",
    "array333 = np.array([[[1,2,3],[4,5,6],[7,8,9]],\n",
    "                     [[1,2,3],[4,5,6],[7,8,9]],\n",
    "                     [[1,2,3],[4,5,6],[7,8,9]]])\n",
    "print(array333,array333.shape)"
   ]
  },
  {
   "cell_type": "code",
   "execution_count": 42,
   "id": "61292ea9",
   "metadata": {},
   "outputs": [],
   "source": [
    "# 경고 메시지 제외 처리\n",
    "import warnings\n",
    "warnings.filterwarnings('ignore')"
   ]
  },
  {
   "cell_type": "markdown",
   "id": "649e0084",
   "metadata": {},
   "source": [
    "배열 생성 및 초기화\n",
    "- numpy는 원하는 shape로 배열을 설정하고 각 요소를 특정 값으로 초기화하는 zeros, ones, full, eye 함수 제공\n",
    "- 파라미터로 입력한 배열과 같은 shape의 배열을 만드는 zeros_like, ones_like, full_like 함수도 제공"
   ]
  },
  {
   "cell_type": "code",
   "execution_count": 50,
   "id": "0e50f967",
   "metadata": {},
   "outputs": [
    {
     "name": "stdout",
     "output_type": "stream",
     "text": [
      "[0. 0. 0. 0. 0. 0. 0. 0. 0. 0.]\n",
      "[[1. 1. 1. 1. 1.]\n",
      " [1. 1. 1. 1. 1.]\n",
      " [1. 1. 1. 1. 1.]\n",
      " [1. 1. 1. 1. 1.]\n",
      " [1. 1. 1. 1. 1.]]\n",
      "[[[0. 0. 0.]\n",
      "  [0. 0. 0.]\n",
      "  [0. 0. 0.]]\n",
      "\n",
      " [[0. 0. 0.]\n",
      "  [0. 0. 0.]\n",
      "  [0. 0. 0.]]]\n"
     ]
    }
   ],
   "source": [
    "print(np.zeros(10))\n",
    "print(np.ones((5,5)))\n",
    "print(np.zeros((2,3,3)))"
   ]
  },
  {
   "cell_type": "code",
   "execution_count": 52,
   "id": "7e148e76",
   "metadata": {},
   "outputs": [
    {
     "name": "stdout",
     "output_type": "stream",
     "text": [
      "[[7 7]\n",
      " [7 7]]\n"
     ]
    }
   ],
   "source": [
    "a = np.full((2,2),7)\n",
    "print(a)"
   ]
  },
  {
   "cell_type": "code",
   "execution_count": 54,
   "id": "a91f6c3e",
   "metadata": {},
   "outputs": [
    {
     "name": "stdout",
     "output_type": "stream",
     "text": [
      "[[1. 0. 0.]\n",
      " [0. 1. 0.]\n",
      " [0. 0. 1.]]\n"
     ]
    }
   ],
   "source": [
    "#단위행렬 항등행렬\n",
    "b = np.eye(3)\n",
    "print(b)"
   ]
  },
  {
   "cell_type": "code",
   "execution_count": 58,
   "id": "59c30d0b",
   "metadata": {},
   "outputs": [
    {
     "name": "stdout",
     "output_type": "stream",
     "text": [
      "[ 0  1  2  3  4  5  6  7  8  9 10 11 12 13 14] <class 'numpy.ndarray'> (15,)\n"
     ]
    }
   ],
   "source": [
    "# arange : python range함수의 배열 버전\n",
    "arr1 = np.arange(15)\n",
    "print(arr1,type(arr1),arr1.shape)"
   ]
  },
  {
   "cell_type": "code",
   "execution_count": 60,
   "id": "694a2961",
   "metadata": {},
   "outputs": [
    {
     "name": "stdout",
     "output_type": "stream",
     "text": [
      "[[ 0  1  2  3  4]\n",
      " [ 5  6  7  8  9]\n",
      " [10 11 12 13 14]]\n"
     ]
    }
   ],
   "source": [
    "arr2 = arr1.reshape((3,5))\n",
    "print(arr2)"
   ]
  },
  {
   "cell_type": "code",
   "execution_count": 62,
   "id": "7a3fc028",
   "metadata": {},
   "outputs": [
    {
     "name": "stdout",
     "output_type": "stream",
     "text": [
      "[[[ 0  1  2  3  4]\n",
      "  [ 5  6  7  8  9]\n",
      "  [10 11 12 13 14]]]\n"
     ]
    }
   ],
   "source": [
    "arr3 = arr1.reshape((1,3,5))\n",
    "print(arr3)"
   ]
  },
  {
   "cell_type": "code",
   "execution_count": 66,
   "id": "ede8c8d3",
   "metadata": {},
   "outputs": [
    {
     "name": "stdout",
     "output_type": "stream",
     "text": [
      "[[0 1]\n",
      " [2 3]\n",
      " [4 5]\n",
      " [6 7]\n",
      " [8 9]]\n"
     ]
    }
   ],
   "source": [
    "# array1에 reshape 함수를 이용, (5,2) 배열을 생성하고 크기를 같이 출력하세요.\n",
    "array1 = np.arange(10)\n",
    "array2 = array1.reshape((5,2))\n",
    "print(array2)"
   ]
  },
  {
   "cell_type": "code",
   "execution_count": 67,
   "id": "1f221db4",
   "metadata": {},
   "outputs": [
    {
     "name": "stdout",
     "output_type": "stream",
     "text": [
      "[[ 0  1]\n",
      " [ 2  3]\n",
      " [ 4  5]\n",
      " [ 6  7]\n",
      " [ 8  9]\n",
      " [10 11]\n",
      " [12 13]\n",
      " [14 15]\n",
      " [16 17]\n",
      " [18 19]\n",
      " [20 21]\n",
      " [22 23]\n",
      " [24 25]\n",
      " [26 27]\n",
      " [28 29]]\n",
      "[[[ 0  1  2  3  4]\n",
      "  [ 5  6  7  8  9]\n",
      "  [10 11 12 13 14]]\n",
      "\n",
      " [[15 16 17 18 19]\n",
      "  [20 21 22 23 24]\n",
      "  [25 26 27 28 29]]]\n"
     ]
    }
   ],
   "source": [
    "arry1 = np.arange(30)\n",
    "arry2 = arry1.reshape(15,2)\n",
    "arry3 = arry1.reshape(2,3,5)\n",
    "print(arry2)\n",
    "print(arry3)"
   ]
  },
  {
   "cell_type": "code",
   "execution_count": 70,
   "id": "c87b78b7",
   "metadata": {},
   "outputs": [
    {
     "name": "stdout",
     "output_type": "stream",
     "text": [
      "[[ 0  1  2  3  4  5  6  7  8  9]\n",
      " [10 11 12 13 14 15 16 17 18 19]\n",
      " [20 21 22 23 24 25 26 27 28 29]] (3, 10) \n",
      "\n",
      "[[[ 0  1  2  3  4]\n",
      "  [ 5  6  7  8  9]]\n",
      "\n",
      " [[10 11 12 13 14]\n",
      "  [15 16 17 18 19]]\n",
      "\n",
      " [[20 21 22 23 24]\n",
      "  [25 26 27 28 29]]] (3, 2, 5)\n"
     ]
    }
   ],
   "source": [
    "#reshape(-1,-1) 이용, 차원 변경\n",
    "array1 = np.arange(30)\n",
    "ar12 = array1.reshape(3,-1)\n",
    "print(ar12,ar12.shape,'\\n')\n",
    "ar13 = array1.reshape(-1,2,5)\n",
    "print(ar13,ar13.shape)"
   ]
  },
  {
   "cell_type": "code",
   "execution_count": 73,
   "id": "5eaca759",
   "metadata": {},
   "outputs": [
    {
     "name": "stdout",
     "output_type": "stream",
     "text": [
      "[1 2 3 4 5 6 7 8 9 0 1 3 5 7 9] (15,) \n",
      " [[[1]\n",
      "  [2]\n",
      "  [3]]\n",
      "\n",
      " [[4]\n",
      "  [5]\n",
      "  [6]]\n",
      "\n",
      " [[7]\n",
      "  [8]\n",
      "  [9]]\n",
      "\n",
      " [[0]\n",
      "  [1]\n",
      "  [3]]\n",
      "\n",
      " [[5]\n",
      "  [7]\n",
      "  [9]]] (5, 3, 1)\n"
     ]
    }
   ],
   "source": [
    "#2차원을 1차원이나 3차원으로 변환\n",
    "a12 = np.array([[1,2,3,4,5],[6,7,8,9,0],[1,3,5,7,9]])\n",
    "a11 = a12.reshape(-1,)\n",
    "a13 = a12.reshape(-1,3,1)\n",
    "print(a11,a11.shape,'\\n',a13,a13.shape)"
   ]
  },
  {
   "cell_type": "code",
   "execution_count": 74,
   "id": "f46ba4bd",
   "metadata": {},
   "outputs": [
    {
     "name": "stdout",
     "output_type": "stream",
     "text": [
      "[1 2 3 4 5 6 7 8 9] (9,) \n",
      " [[1 2 3]\n",
      " [4 5 6]\n",
      " [7 8 9]] (3, 3)\n"
     ]
    }
   ],
   "source": [
    "# 3차원을 1,2차원으로\n",
    "\n",
    "ar3 = np.array([[[1,2,3],[4,5,6],[7,8,9]]])\n",
    "\n",
    "ar31 = ar3.reshape(-1,)\n",
    "ar32 = ar3.reshape(3,-1)\n",
    "\n",
    "print(ar31,ar31.shape,'\\n',ar32,ar32.shape)"
   ]
  },
  {
   "cell_type": "markdown",
   "id": "78b4775b",
   "metadata": {},
   "source": [
    "행렬의 종류\n",
    "- 정방행렬 : 행과 열의 수가 같은 행렬\n",
    "- 대각행렬 : 주대각서 원소를 제외한 모든 원소들이 0인 정방행렬\n",
    "- 항등행렬 : 행렬 곱셈 연산에 항등원으로 작용하는 행렬\n",
    "- 영행렬 : 모든 원소가 0인 행렬고 곱셈 연산에서 영원으로 작용하는 행렬\n",
    "- 전치행렬 : 주대각선 원소를 기준으로 행과 열을 바꿔주는 행렬\n",
    "- 직교행렬 : 행렬 A의 역행렬이 A의 전치행렬이고 A의 전치행렬과 A행렬을 곱하면 항등행렬이 되는 행렬"
   ]
  },
  {
   "cell_type": "code",
   "execution_count": 77,
   "id": "7365316b",
   "metadata": {},
   "outputs": [
    {
     "name": "stdout",
     "output_type": "stream",
     "text": [
      "[[7 7 7 7 7]\n",
      " [7 7 7 7 7]\n",
      " [7 7 7 7 7]\n",
      " [7 7 7 7 7]\n",
      " [7 7 7 7 7]]\n"
     ]
    }
   ],
   "source": [
    "#정방행렬\n",
    "array1 = np.full((5,5),7)\n",
    "print(array1)"
   ]
  },
  {
   "cell_type": "code",
   "execution_count": 79,
   "id": "3d570220",
   "metadata": {},
   "outputs": [
    {
     "name": "stdout",
     "output_type": "stream",
     "text": [
      "[[1. 0. 0. 0. 0.]\n",
      " [0. 1. 0. 0. 0.]\n",
      " [0. 0. 1. 0. 0.]\n",
      " [0. 0. 0. 1. 0.]\n",
      " [0. 0. 0. 0. 1.]]\n"
     ]
    }
   ],
   "source": [
    "#항등행렬, 단위 행렬\n",
    "array2 = np.eye(5)\n",
    "print(array2)"
   ]
  },
  {
   "cell_type": "code",
   "execution_count": 82,
   "id": "e27087a3",
   "metadata": {},
   "outputs": [
    {
     "name": "stdout",
     "output_type": "stream",
     "text": [
      "[[0. 0. 0. 0. 0.]\n",
      " [0. 0. 0. 0. 0.]\n",
      " [0. 0. 0. 0. 0.]\n",
      " [0. 0. 0. 0. 0.]\n",
      " [0. 0. 0. 0. 0.]]\n"
     ]
    }
   ],
   "source": [
    "# 영행렬\n",
    "array3 = np.zeros((5,5))\n",
    "print(array3)"
   ]
  },
  {
   "cell_type": "markdown",
   "id": "8f6530b1",
   "metadata": {},
   "source": [
    "ndarray 데이터 형태 지정 및 변경\n",
    "<img src = '데이터형태.jpg' STYLE = 'width = 300px;'>"
   ]
  },
  {
   "cell_type": "code",
   "execution_count": 88,
   "id": "42b7f4e1",
   "metadata": {},
   "outputs": [
    {
     "name": "stdout",
     "output_type": "stream",
     "text": [
      "[1. 2. 3.] float64\n"
     ]
    }
   ],
   "source": [
    "arr1 = np.array([1,2,3],dtype = np.float64)\n",
    "print(arr1,arr1.dtype)"
   ]
  },
  {
   "cell_type": "code",
   "execution_count": 90,
   "id": "c76b838b",
   "metadata": {},
   "outputs": [
    {
     "name": "stdout",
     "output_type": "stream",
     "text": [
      "int32\n",
      "[1. 2. 3. 4. 5.] float64\n"
     ]
    }
   ],
   "source": [
    "#타입 변경 astype\n",
    "arr = np.array([1,2,3,4,5])\n",
    "print(arr.dtype)\n",
    "float_arr = arr.astype(np.float64)\n",
    "print(float_arr,float_arr.dtype)"
   ]
  },
  {
   "cell_type": "code",
   "execution_count": 129,
   "id": "c16f96d8",
   "metadata": {},
   "outputs": [
    {
     "name": "stdout",
     "output_type": "stream",
     "text": [
      "[1 1 1 1 1 1 1 1 1 1]\n"
     ]
    }
   ],
   "source": [
    "#empty 함수: shape와 dtype를 입력받아 초기화되지 않은 배열을 만들어준다\n",
    "#empty 함수를 실행할 때마다 값이 다른것을 확인할 수 있다. 이는 해당 메모리 영역에 어느 데이터가 남아있었는지 상관없이 그대로 영역의 주소만 알려줄 뿐 초기화는 사용자에게 맡기기 때문이다.\n",
    "print(np.empty(shape=(10,),dtype=np.int8))"
   ]
  },
  {
   "cell_type": "code",
   "execution_count": 122,
   "id": "a50e8d75",
   "metadata": {},
   "outputs": [
    {
     "name": "stdout",
     "output_type": "stream",
     "text": [
      "[b'1' b'2' b'3' b'4'] |S1\n",
      "[1 2 3 4] int32\n"
     ]
    }
   ],
   "source": [
    "# 문자열 타입으로 배열 만들기\n",
    "arr=np.array([1,2,3,4],dtype='S')\n",
    "print(arr,arr.dtype)\n",
    "arr1 = arr.astype(int)\n",
    "print(arr1,arr1.dtype)"
   ]
  },
  {
   "cell_type": "code",
   "execution_count": 130,
   "id": "e7f0dafe",
   "metadata": {},
   "outputs": [
    {
     "name": "stdout",
     "output_type": "stream",
     "text": [
      "[1 2 3]\n",
      "[1.2 2.3 3. ]\n"
     ]
    }
   ],
   "source": [
    "# 정수와 실수로 구성된 list_e = [1.2,2.3,3]을 numpy를 이용해서 실수형과 정수형으로 각각 출력하세요\n",
    "\n",
    "list_e = [1.2,2.3,3]\n",
    "\n",
    "arr = np.array(list_e,dtype = int)\n",
    "print(arr)\n",
    "arr2 = np.array(list_e,dtype=float)\n",
    "print(arr2)"
   ]
  },
  {
   "cell_type": "code",
   "execution_count": 138,
   "id": "f3ad82e6",
   "metadata": {},
   "outputs": [
    {
     "name": "stdout",
     "output_type": "stream",
     "text": [
      "[[1 2 3]\n",
      " [4 5 6]]\n"
     ]
    },
    {
     "data": {
      "text/plain": [
       "array([[ 2,  4,  6],\n",
       "       [ 8, 10, 12]])"
      ]
     },
     "execution_count": 138,
     "metadata": {},
     "output_type": "execute_result"
    }
   ],
   "source": [
    "# 배열의 산술 연산\n",
    "arr = np.array([[1,2,3],[4,5,6]])\n",
    "arr = np.arange(1,7).reshape(2,3)\n",
    "print(arr)\n",
    "\n",
    "arr+arr"
   ]
  },
  {
   "cell_type": "code",
   "execution_count": 150,
   "id": "65bc3cbc",
   "metadata": {},
   "outputs": [
    {
     "name": "stdout",
     "output_type": "stream",
     "text": [
      "[[ 0.  4.  1.]\n",
      " [ 7.  2. 12.]]\n"
     ]
    },
    {
     "data": {
      "text/plain": [
       "array([[False,  True, False],\n",
       "       [ True, False,  True]])"
      ]
     },
     "execution_count": 150,
     "metadata": {},
     "output_type": "execute_result"
    }
   ],
   "source": [
    "arr2 = np.array([[0.,4.,1.],[7.,2.,12.]])\n",
    "print(arr2)\n",
    "\n",
    "arr2 > arr"
   ]
  },
  {
   "cell_type": "code",
   "execution_count": 155,
   "id": "bcc9b43d",
   "metadata": {},
   "outputs": [
    {
     "name": "stdout",
     "output_type": "stream",
     "text": [
      "[[12 14 16]\n",
      " [18 20 22]\n",
      " [24 26 28]]\n",
      "[[12 14 16]\n",
      " [18 20 22]\n",
      " [24 26 28]]\n",
      "[[10 10 10]\n",
      " [10 10 10]\n",
      " [10 10 10]]\n",
      "[[10 10 10]\n",
      " [10 10 10]\n",
      " [10 10 10]]\n",
      "[[ 11  24  39]\n",
      " [ 56  75  96]\n",
      " [119 144 171]]\n",
      "[[ 11  24  39]\n",
      " [ 56  75  96]\n",
      " [119 144 171]]\n",
      "[[11.          6.          4.33333333]\n",
      " [ 3.5         3.          2.66666667]\n",
      " [ 2.42857143  2.25        2.11111111]]\n",
      "[[11.          6.          4.33333333]\n",
      " [ 3.5         3.          2.66666667]\n",
      " [ 2.42857143  2.25        2.11111111]]\n"
     ]
    }
   ],
   "source": [
    "# 기본 사칙 연산\n",
    "value1 = np.arange(1,10).reshape(3,3)\n",
    "value2 = np.arange(11,20).reshape(3,3)\n",
    "\n",
    "print(value1+value2)\n",
    "print(np.add(value1,value2))\n",
    "\n",
    "\n",
    "print(value2-value1)\n",
    "\n",
    "print(np.subtract(value2,value1))\n",
    "\n",
    "print(value1*value2)\n",
    "\n",
    "print(np.multiply(value2,value1))\n",
    "print(value2/value1)\n",
    "print(np.divide(value2,value1))"
   ]
  },
  {
   "cell_type": "code",
   "execution_count": 175,
   "id": "fca2e593",
   "metadata": {},
   "outputs": [
    {
     "data": {
      "text/plain": [
       "array([[ 0.10872052, -0.15281705],\n",
       "       [ 0.50448543, -0.20077848]])"
      ]
     },
     "execution_count": 175,
     "metadata": {},
     "output_type": "execute_result"
    }
   ],
   "source": [
    "arr = np.random.randn(2,2)\n",
    "arr"
   ]
  },
  {
   "cell_type": "code",
   "execution_count": 176,
   "id": "348302a5",
   "metadata": {},
   "outputs": [
    {
     "data": {
      "text/plain": [
       "array([ 0.3066, -0.1768])"
      ]
     },
     "execution_count": 176,
     "metadata": {},
     "output_type": "execute_result"
    }
   ],
   "source": [
    "arr.mean(axis=0).round(4)"
   ]
  },
  {
   "cell_type": "code",
   "execution_count": 177,
   "id": "3c3017ac",
   "metadata": {},
   "outputs": [
    {
     "data": {
      "text/plain": [
       "array([-0.022 ,  0.1519])"
      ]
     },
     "execution_count": 177,
     "metadata": {},
     "output_type": "execute_result"
    }
   ],
   "source": [
    "arr.mean(axis=1).round(4)"
   ]
  },
  {
   "cell_type": "code",
   "execution_count": 178,
   "id": "9c31b800",
   "metadata": {},
   "outputs": [
    {
     "data": {
      "text/plain": [
       "0.2596"
      ]
     },
     "execution_count": 178,
     "metadata": {},
     "output_type": "execute_result"
    }
   ],
   "source": [
    "arr.sum().round(4)"
   ]
  },
  {
   "cell_type": "code",
   "execution_count": 180,
   "id": "3a48d715",
   "metadata": {},
   "outputs": [
    {
     "data": {
      "text/plain": [
       "array([ 0.10872052, -0.01661435, -0.0083817 ,  0.00168286])"
      ]
     },
     "execution_count": 180,
     "metadata": {},
     "output_type": "execute_result"
    }
   ],
   "source": [
    "arr.cumprod() # 원소들 순으로 누적곱 실행"
   ]
  },
  {
   "cell_type": "code",
   "execution_count": 182,
   "id": "9c9da301",
   "metadata": {},
   "outputs": [
    {
     "data": {
      "text/plain": [
       "array([[1, 2, 3],\n",
       "       [4, 5, 6],\n",
       "       [7, 8, 9]])"
      ]
     },
     "execution_count": 182,
     "metadata": {},
     "output_type": "execute_result"
    }
   ],
   "source": [
    "# 인덱싱 슬라이싱\n",
    "arr2d = np.arange(1,10).reshape(3,3)\n",
    "arr2d"
   ]
  },
  {
   "cell_type": "code",
   "execution_count": 184,
   "id": "5b024532",
   "metadata": {},
   "outputs": [
    {
     "data": {
      "text/plain": [
       "array([7, 8, 9])"
      ]
     },
     "execution_count": 184,
     "metadata": {},
     "output_type": "execute_result"
    }
   ],
   "source": [
    "arr2d[2]"
   ]
  },
  {
   "cell_type": "code",
   "execution_count": 186,
   "id": "7b108a41",
   "metadata": {},
   "outputs": [
    {
     "data": {
      "text/plain": [
       "9"
      ]
     },
     "execution_count": 186,
     "metadata": {},
     "output_type": "execute_result"
    }
   ],
   "source": [
    "arr2d[2][2]"
   ]
  },
  {
   "cell_type": "code",
   "execution_count": 189,
   "id": "b39691e3",
   "metadata": {},
   "outputs": [
    {
     "data": {
      "text/plain": [
       "array([1, 4, 7])"
      ]
     },
     "execution_count": 189,
     "metadata": {},
     "output_type": "execute_result"
    }
   ],
   "source": [
    "arr2d[:,0]"
   ]
  },
  {
   "cell_type": "code",
   "execution_count": 194,
   "id": "ebbe5cbc",
   "metadata": {},
   "outputs": [
    {
     "data": {
      "text/plain": [
       "array([[1, 2, 3],\n",
       "       [4, 5, 6]])"
      ]
     },
     "execution_count": 194,
     "metadata": {},
     "output_type": "execute_result"
    }
   ],
   "source": [
    "arr2d[:2][:]"
   ]
  },
  {
   "cell_type": "code",
   "execution_count": 210,
   "id": "cae4dda8",
   "metadata": {},
   "outputs": [
    {
     "name": "stdout",
     "output_type": "stream",
     "text": [
      "[3 6]\n",
      "[[1 2]\n",
      " [4 5]]\n"
     ]
    }
   ],
   "source": [
    "# arr2d에서 [3,6],[[1,2],[4,5]]를 출력하세요\n",
    "print(arr2d[:2,2])\n",
    "print(arr2d[:2,:2])"
   ]
  },
  {
   "cell_type": "code",
   "execution_count": 216,
   "id": "b0926e94",
   "metadata": {},
   "outputs": [
    {
     "name": "stdout",
     "output_type": "stream",
     "text": [
      "[[1 2 3]\n",
      " [4 5 6]]\n"
     ]
    }
   ],
   "source": [
    "print(arr2d[:-1])"
   ]
  },
  {
   "cell_type": "code",
   "execution_count": 233,
   "id": "131e91b4",
   "metadata": {},
   "outputs": [
    {
     "name": "stdout",
     "output_type": "stream",
     "text": [
      "[14 15 16]\n",
      "[3 9]\n",
      "[ 1  7 13]\n"
     ]
    }
   ],
   "source": [
    "arr = np.arange(30).reshape(5,6)\n",
    "arr\n",
    "\n",
    "print(arr[2,2:5])\n",
    "print(arr[:2,3])\n",
    "print(arr[:3,1])"
   ]
  },
  {
   "cell_type": "code",
   "execution_count": 235,
   "id": "9115f693",
   "metadata": {},
   "outputs": [
    {
     "name": "stdout",
     "output_type": "stream",
     "text": [
      "[[0, 1, 2, 3, 4, 5], [6, 7, 8, 9, 10, 11], [12, 13, 14, 15, 16, 17], [18, 19, 20, 21, 22, 23], [24, 25, 26, 27, 28, 29]]\n"
     ]
    }
   ],
   "source": [
    "# 배열을 리스트로 변환\n",
    "li = arr.tolist()\n",
    "print(li)"
   ]
  },
  {
   "cell_type": "code",
   "execution_count": 238,
   "id": "b622b6dd",
   "metadata": {},
   "outputs": [
    {
     "name": "stdout",
     "output_type": "stream",
     "text": [
      "[1 2 3 4 5 6 7 8 9]\n",
      "[6 7 8 9]\n",
      "[False False False False False  True  True  True  True]\n"
     ]
    }
   ],
   "source": [
    "# Boolean indexing\n",
    "\n",
    "arr1d = np.arange(1,10)\n",
    "print(arr1d)\n",
    "\n",
    "arr3 = arr1d[arr1d>5]\n",
    "print(arr3)\n",
    "print(arr1d > 5)"
   ]
  },
  {
   "cell_type": "code",
   "execution_count": 246,
   "id": "dd4db37c",
   "metadata": {},
   "outputs": [
    {
     "name": "stdout",
     "output_type": "stream",
     "text": [
      "[6 7 8 9]\n"
     ]
    }
   ],
   "source": [
    "#arr1d에서 일반 인덱스를 이용해서 출력\n",
    "arr4 = arr1d[5:9]\n",
    "print(arr4)"
   ]
  },
  {
   "cell_type": "code",
   "execution_count": 247,
   "id": "dea064cf",
   "metadata": {},
   "outputs": [
    {
     "name": "stdout",
     "output_type": "stream",
     "text": [
      "[11 12 13 14]\n"
     ]
    }
   ],
   "source": [
    "# 1~14까지의 ndarray를 만들어 array_e로 저장하고 (array_e/2) > 5를 만족하는 값을 불린 인덱싱으로 출력하세요\n",
    "array_e = np.arange(1,15)\n",
    "print(array_e[array_e/2 > 5])"
   ]
  },
  {
   "cell_type": "code",
   "execution_count": 252,
   "id": "80b54e6d",
   "metadata": {},
   "outputs": [
    {
     "name": "stdout",
     "output_type": "stream",
     "text": [
      "[ True False False  True False False False]\n",
      "[[ 1.73052906  0.25799091 -0.29704707  0.79256355]\n",
      " [-1.20265023  0.15869665 -2.9857248   0.62330169]\n",
      " [-0.69868949  1.38571966  0.8896105  -1.02951314]\n",
      " [-0.10511911  1.00793852 -0.42298169 -0.12469711]\n",
      " [-0.9236112   0.33737666  0.18845798 -0.17044232]\n",
      " [ 1.1007453   1.84455636  0.66610465 -0.41818943]\n",
      " [-1.06386216 -1.70099422  0.45936318  0.40068225]] \n",
      " \n",
      " [[ 1.73052906  0.25799091 -0.29704707  0.79256355]\n",
      " [-0.10511911  1.00793852 -0.42298169 -0.12469711]]\n"
     ]
    }
   ],
   "source": [
    "names = np.array(['Bob','Joe','Will','Bob','Will','Joe','Joe'])\n",
    "data = np.random.randn(7,4)\n",
    "\n",
    "print(names == 'Bob')\n",
    "print(data,'\\n','\\n',data[names=='Bob'])"
   ]
  },
  {
   "cell_type": "code",
   "execution_count": 253,
   "id": "20db48ba",
   "metadata": {},
   "outputs": [
    {
     "data": {
      "text/plain": [
       "array([[-0.29704707,  0.79256355],\n",
       "       [-0.42298169, -0.12469711]])"
      ]
     },
     "execution_count": 253,
     "metadata": {},
     "output_type": "execute_result"
    }
   ],
   "source": [
    "data[names=='Bob' , 2:]"
   ]
  },
  {
   "cell_type": "code",
   "execution_count": 254,
   "id": "ae7505b3",
   "metadata": {},
   "outputs": [
    {
     "data": {
      "text/plain": [
       "array([[-1.20265023,  0.15869665, -2.9857248 ,  0.62330169],\n",
       "       [-0.69868949,  1.38571966,  0.8896105 , -1.02951314],\n",
       "       [-0.9236112 ,  0.33737666,  0.18845798, -0.17044232],\n",
       "       [ 1.1007453 ,  1.84455636,  0.66610465, -0.41818943],\n",
       "       [-1.06386216, -1.70099422,  0.45936318,  0.40068225]])"
      ]
     },
     "execution_count": 254,
     "metadata": {},
     "output_type": "execute_result"
    }
   ],
   "source": [
    "data[names!='Bob']"
   ]
  },
  {
   "cell_type": "code",
   "execution_count": 263,
   "id": "219eb598",
   "metadata": {},
   "outputs": [
    {
     "data": {
      "text/plain": [
       "array([[ 1.73052906,  0.25799091, -0.29704707,  0.79256355],\n",
       "       [-0.69868949,  1.38571966,  0.8896105 , -1.02951314],\n",
       "       [-0.10511911,  1.00793852, -0.42298169, -0.12469711],\n",
       "       [-0.9236112 ,  0.33737666,  0.18845798, -0.17044232]])"
      ]
     },
     "execution_count": 263,
     "metadata": {},
     "output_type": "execute_result"
    }
   ],
   "source": [
    "data[names !='Joe']"
   ]
  },
  {
   "cell_type": "code",
   "execution_count": 266,
   "id": "feb9006e",
   "metadata": {},
   "outputs": [
    {
     "data": {
      "text/plain": [
       "array([[ 1.73052906,  0.25799091, -0.29704707,  0.79256355],\n",
       "       [-0.69868949,  1.38571966,  0.8896105 , -1.02951314],\n",
       "       [-0.10511911,  1.00793852, -0.42298169, -0.12469711],\n",
       "       [-0.9236112 ,  0.33737666,  0.18845798, -0.17044232]])"
      ]
     },
     "execution_count": 266,
     "metadata": {},
     "output_type": "execute_result"
    }
   ],
   "source": [
    "mask = (names == 'Bob') | (names == 'Will')\n",
    "\n",
    "data[mask]"
   ]
  },
  {
   "cell_type": "code",
   "execution_count": 272,
   "id": "230acfea",
   "metadata": {},
   "outputs": [
    {
     "name": "stdout",
     "output_type": "stream",
     "text": [
      "[[1.73052906 0.25799091 0.         0.79256355]\n",
      " [0.         0.15869665 0.         0.62330169]\n",
      " [0.         1.38571966 0.8896105  0.        ]\n",
      " [0.         1.00793852 0.         0.        ]\n",
      " [0.         0.33737666 0.18845798 0.        ]\n",
      " [1.1007453  1.84455636 0.66610465 0.        ]\n",
      " [0.         0.         0.45936318 0.40068225]]\n"
     ]
    }
   ],
   "source": [
    "#음수를 모두 0으로 처리하여 출력\n",
    "data[data<0] = 0\n",
    "print(data)"
   ]
  }
 ],
 "metadata": {
  "kernelspec": {
   "display_name": "Python 3 (ipykernel)",
   "language": "python",
   "name": "python3"
  },
  "language_info": {
   "codemirror_mode": {
    "name": "ipython",
    "version": 3
   },
   "file_extension": ".py",
   "mimetype": "text/x-python",
   "name": "python",
   "nbconvert_exporter": "python",
   "pygments_lexer": "ipython3",
   "version": "3.8.12"
  }
 },
 "nbformat": 4,
 "nbformat_minor": 5
}
