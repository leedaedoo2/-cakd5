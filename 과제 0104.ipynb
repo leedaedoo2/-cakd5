{
 "cells": [
  {
   "cell_type": "code",
   "execution_count": 9,
   "id": "626821b5",
   "metadata": {},
   "outputs": [
    {
     "name": "stdout",
     "output_type": "stream",
     "text": [
      "정수 입력> e\n",
      "invalid literal for int() with base 10: 'e'\n",
      "<class 'ValueError'>\n"
     ]
    }
   ],
   "source": [
    "# 숫자 대신 문자를 입력시 예외가 발생되는데 아래 코드를 수정해서 예외 객체와 자료형을 출력하시오\n",
    "\n",
    "\n",
    "try:\n",
    "    num_input = input('정수 입력> ')\n",
    "    num_int = int(num_input)\n",
    "    print('반지름 = ',num_int)\n",
    "    print('둘레 = ',2*3.14*num_int)\n",
    "    print('넓이 = ',3.14*num_int*num_int)\n",
    "except Exception as e:\n",
    "    print(e)\n",
    "    print(type(e))"
   ]
  },
  {
   "cell_type": "code",
   "execution_count": 22,
   "id": "7256f390",
   "metadata": {},
   "outputs": [
    {
     "name": "stdout",
     "output_type": "stream",
     "text": [
      "정수 입력> 1\n",
      "1번째 요소: 52\n",
      "모든 예외처리 완료\n"
     ]
    }
   ],
   "source": [
    "# 아래 코드를 보완하여 발생 가능한 모든 예외(정수,인덱스, 미리 파악하지 못한 예외까지)를 처리한 후 마지막에 모든 예외처리 완료를 출력하세요\n",
    "\n",
    "list_num = [52,273,32,72,100]\n",
    "try:\n",
    "    num_input = int(input('정수 입력> '))\n",
    "\n",
    "    print('{}번째 요소: {}'.format(num_input,list_num[num_input-1]))\n",
    "except Exception as e:\n",
    "    print(e)\n",
    "    print(type(e))\n",
    "finally:\n",
    "    print('모든 예외처리 완료')"
   ]
  },
  {
   "cell_type": "code",
   "execution_count": null,
   "id": "23aa2029",
   "metadata": {},
   "outputs": [],
   "source": [
    "#자유 주제 프로그래밍. 단 예외처리 3건 이상"
   ]
  },
  {
   "cell_type": "code",
   "execution_count": 23,
   "id": "39feb4e1",
   "metadata": {},
   "outputs": [],
   "source": [
    "#클래스의 정의 및 사용하는 방법을 설명"
   ]
  },
  {
   "cell_type": "code",
   "execution_count": 27,
   "id": "f3405555",
   "metadata": {},
   "outputs": [
    {
     "name": "stdout",
     "output_type": "stream",
     "text": [
      "2\n",
      "3\n",
      "6\n",
      "division by zero\n"
     ]
    }
   ],
   "source": [
    "#4칙 연산 기능을 포함한 Cal4클래스(생성자 이용)을 작성하고 이 클래스를 이용하여 Cal 계산기 객체를 만든 후 적절한 수를 적용하여 사칙연산을 수행하시오\n",
    "\n",
    "class Cal4:\n",
    "    def add(self,num1,num2):\n",
    "        return num1+num2\n",
    "    def diff(self,num1,num2):\n",
    "        return num1-num2\n",
    "    def mul(self,num1,num2):\n",
    "        return num1*num2\n",
    "    def div(self,num1,num2):\n",
    "        try:\n",
    "            ret = num1/num2\n",
    "            return ret\n",
    "        except Exception as e:\n",
    "            return e\n",
    "            \n",
    "obj = Cal4()\n",
    "print(obj.add(1,1))\n",
    "print(obj.diff(4,1))\n",
    "print(obj.mul(2,3))\n",
    "print(obj.div(3,0))"
   ]
  },
  {
   "cell_type": "code",
   "execution_count": 31,
   "id": "b12413a4",
   "metadata": {},
   "outputs": [
    {
     "name": "stdout",
     "output_type": "stream",
     "text": [
      "추가금을 입력하세요> 5656\n",
      "6656\n"
     ]
    }
   ],
   "source": [
    "# 사용자 함수를 작성하여 기본 가격 1000에 입력 받은 값으 추가한 가격을 산출하세요\n",
    "# 지역 변수\n",
    "\n",
    "class Money:\n",
    "    def addMoney(self,money1):\n",
    "        return 1000+money1\n",
    "    \n",
    "money = int(input(\"추가금을 입력하세요> \"))\n",
    "\n",
    "obj = Money()\n",
    "result = obj.addMoney(money)\n",
    "print(result)"
   ]
  },
  {
   "cell_type": "code",
   "execution_count": 32,
   "id": "f4640460",
   "metadata": {},
   "outputs": [
    {
     "name": "stdout",
     "output_type": "stream",
     "text": [
      "추가금을 입력하세요> 46\n",
      "1046\n"
     ]
    }
   ],
   "source": [
    "#전역 변수\n",
    "money = int(input(\"추가금을 입력하세요> \"))\n",
    "\n",
    "class Money2:\n",
    "    def addMoney2(self):\n",
    "        global money\n",
    "        return 1000+money\n",
    "    \n",
    "obj = Money2()\n",
    "result = obj.addMoney2()\n",
    "print(result)"
   ]
  },
  {
   "cell_type": "code",
   "execution_count": 42,
   "id": "b87ad292",
   "metadata": {},
   "outputs": [
    {
     "name": "stdout",
     "output_type": "stream",
     "text": [
      "인생 게임에 온 것을 환영합니다?\n",
      "어디로 갈까요? 1.은행 2.도박장 3.금액 확인> 2\n",
      "코인 토스 도박장에 오신 것을 환영합니다!!!!!\n",
      "한번 던지실까요??> [y/n]y\n",
      "그럼 얼마를 걸어보실까요?? (0을 눌러 뒤로가기)> 50000\n",
      "그가 던졌습니다!\n",
      "50000원 내고 0원 벌었습니다!\n",
      "그러는 동안 하루가 지났네요...(대충 이자 들어왔다는 소리)\n",
      "코인 토스 도박장에 오신 것을 환영합니다!!!!!\n",
      "한번 던지실까요??> [y/n]n\n",
      "그럼 안녕히가세요!\n",
      "HAHAHA 당신은 이제 끝장입니다!\n"
     ]
    }
   ],
   "source": [
    "import numpy as np\n",
    "\n",
    "\n",
    "class Bank:\n",
    "    bankmoney = 0\n",
    "    def viewmoney(self):\n",
    "        return self.bankmoney\n",
    "    def deposit(self,money):\n",
    "        self.bankmoney += money\n",
    "        \n",
    "    def withdraw(self,money):\n",
    "        if self.bankmoney < money:\n",
    "            print('인출 금액이 부족합니다')\n",
    "            return 0\n",
    "        else:\n",
    "            self.bankmoney -= money\n",
    "            return money\n",
    "    def interest(self):\n",
    "        a = np.random.randint(6)\n",
    "        a = 1+0.01*a\n",
    "        self.bankmoney *= a\n",
    "        self.bankmoney = round(self.bankmoney)\n",
    "\n",
    "class Coin:\n",
    "    def cointoss(self):\n",
    "        x = np.random.randint(2)\n",
    "        return x\n",
    "    def coinresult(self,x,money):\n",
    "        rest = 0\n",
    "        if x == 0:\n",
    "            print('앞면이 나왔습니다')\n",
    "            print('당첨금 두배')\n",
    "            rest =  2*money\n",
    "        elif x == 1:\n",
    "            print('꽝입니다')\n",
    "            rest =  0\n",
    "        return rest\n",
    "class Man(Bank,Coin):\n",
    "    budget = 50000\n",
    "    \n",
    "\n",
    "person = Man()\n",
    "print('인생 게임에 온 것을 환영합니다?')\n",
    "while 1:\n",
    "    if person.budget == 0 and person.bankmoney == 0:\n",
    "        print('HAHAHA 당신은 이제 끝장입니다!')\n",
    "        break\n",
    "    \n",
    "    \n",
    "    choice1 = input('어디로 갈까요? 1.은행 2.도박장 3.금액 확인> ')\n",
    "    if choice1 not in ['1','2','3']:\n",
    "        print('다시 누르세요')\n",
    "        \n",
    "        continue\n",
    "    elif choice1 == '1':\n",
    "        while 1:\n",
    "            choice2 = input('무엇을 할까요? 1.저금액 확인 2.저금 3.인출 아무거나 눌러서 뒤로 갑니다> ')\n",
    "            if choice2 == '1':\n",
    "                print('현재 저금액 : ',person.bankmoney)\n",
    "                continue\n",
    "            elif choice2 == '2':\n",
    "                while 1:\n",
    "                    depositmoney = input('저금할 금액을 적어주세요 (0을 눌러 취소)> ')\n",
    "                    if depositmoney.isdigit() != True:\n",
    "                        print('다시 적어주세요')\n",
    "                    elif int(depositmoney) > person.budget:\n",
    "                        print('금액이 부족합니다')\n",
    "                    elif int(depositmoney) == 0:\n",
    "                        print('저금을 취소합니다')\n",
    "                        break\n",
    "                    else:\n",
    "                        print(f'{depositmoney}원 저금합니다')\n",
    "                        person.budget -=int(depositmoney)\n",
    "                        person.deposit(int(depositmoney))\n",
    "                        break\n",
    "                    \n",
    "            elif choice2 == '3':\n",
    "                while 1:\n",
    "                    withdrawmoney = input('인출할 금액을 적어주세요 (0을 눌러 취소)> ')\n",
    "                    if withdrawmoney.isdigit() != True:\n",
    "                        print('다시 적어주세요')\n",
    "                    elif int(withdrawmoney) > person.bankmoney:\n",
    "                        print('금액이 부족합니다')\n",
    "                    elif int(withdrawmoney) == 0:\n",
    "                        print('인출을 취소합니다')\n",
    "                        break\n",
    "                    else:\n",
    "                        print(f'{withdrawmoney}원 인출합니다')\n",
    "                        person.budget += person.withdraw(int(withdrawmoney))\n",
    "                        break\n",
    "            else:\n",
    "                break\n",
    "    elif choice1 == '3':\n",
    "        print(f'현재 소지금 :{person.budget}원')\n",
    "        continue\n",
    "    elif choice1 == '2':\n",
    "        while 1:\n",
    "            print('코인 토스 도박장에 오신 것을 환영합니다!!!!!')\n",
    "            choice3 = input('한번 던지실까요??> [y/n]')\n",
    "            if choice3 not in ['y','n']:\n",
    "                print('다시 골라주세요!')\n",
    "                continue\n",
    "            elif choice3 == 'n':\n",
    "                print('그럼 안녕히가세요!')\n",
    "                break\n",
    "            else:\n",
    "                while 1:\n",
    "                    bet = input('그럼 얼마를 걸어보실까요?? (0을 눌러 뒤로가기)> ')\n",
    "                    if bet.isdigit() != True:\n",
    "                        print('잘못 누르셨네요!')\n",
    "                        continue\n",
    "                    elif int(bet) > person.budget:\n",
    "                        print('이럴수가! 돈이 부족하군요!')\n",
    "                        continue\n",
    "                    elif int(bet) == 0:\n",
    "                        print('그럼 충분히 생각해주세요!')\n",
    "                        break\n",
    "                    else:\n",
    "                        print('그가 던졌습니다!')\n",
    "                        person.budget -= int(bet)\n",
    "                        result = person.coinresult(person.cointoss,int(bet))\n",
    "                        person.budget += result\n",
    "                        print(f'{int(bet)}원 내고 {result}원 벌었습니다!')\n",
    "                        print('그러는 동안 하루가 지났네요...(대충 이자 들어왔다는 소리)')\n",
    "                        person.interest()\n",
    "                        break\n",
    "                \n",
    "                \n",
    "                        \n",
    "                        "
   ]
  }
 ],
 "metadata": {
  "kernelspec": {
   "display_name": "Python 3 (ipykernel)",
   "language": "python",
   "name": "python3"
  },
  "language_info": {
   "codemirror_mode": {
    "name": "ipython",
    "version": 3
   },
   "file_extension": ".py",
   "mimetype": "text/x-python",
   "name": "python",
   "nbconvert_exporter": "python",
   "pygments_lexer": "ipython3",
   "version": "3.8.12"
  }
 },
 "nbformat": 4,
 "nbformat_minor": 5
}
