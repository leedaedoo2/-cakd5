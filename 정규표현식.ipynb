{
 "cells": [
  {
   "cell_type": "code",
   "execution_count": 1,
   "id": "59d4da1e",
   "metadata": {},
   "outputs": [
    {
     "name": "stdout",
     "output_type": "stream",
     "text": [
      "발표 인원을 입력하세요> 5\n",
      "이용준\n",
      "김기현\n",
      "어정호\n",
      "오주완\n",
      "조남현\n"
     ]
    }
   ],
   "source": [
    "#발표 인원을 입력시 랜덤으로 리스트 출력(중복 제외)\n",
    "import random\n",
    "\n",
    "name = ['권혁종', '김기연', '김기현', '김민성', '김영수', '김재경', '김정수', '김태형', '마경수', '문성윤',\n",
    "       '박광민','박종석','손창효','어정호','예지우','오주완','용지영','이동연','이용준','이재우',\n",
    "       '이재호','이현정','임재곤','장종호','정현우','조경윤','조남현','최종원','최지원']\n",
    "\n",
    "while 1:\n",
    "    try:\n",
    "        t = int(input(\"발표 인원을 입력하세요> \"))\n",
    "        member = random.shuffle(name)\n",
    "\n",
    "        for a in range(t):\n",
    "            print(name[a])\n",
    "        break\n",
    "    except:\n",
    "        print('다시 입력하세요')"
   ]
  },
  {
   "cell_type": "markdown",
   "id": "1bae97c6",
   "metadata": {},
   "source": [
    "# 정규 표현식(regular expression)\n",
    "\n",
    "## 정규 표현식의 기초, 메타 문자\n",
    "\n",
    "- . ^ $ * + ? {} [] \\ ()\n",
    "- [] 문자 클래스\n",
    " - [0-9]\n",
    " - \\d 숫자와 매치, [0-9] 동일한 표현식\n",
    " - \\D 숫자가 아닌것과 매치[^0-9]와 동일한 표현식\n",
    " - \\s whitespace 문자와 매치, [ \\t\\n\\r\\f\\v]오 동일한 표현식\n",
    " - \\S whitespace 문자가 아닌 것과 매치, [^ \\t\\n\\r\\f\\w]\n",
    " - \\w 문자+ 숫자와 매치,[a-zA-z0-9]와 동일\n",
    " - \\W 문자 + 숫자가 아닌 문자와 매치, [^ a-zA-Z0-9]와 동일한 표현식\n",
    "- Whitespace\n",
    " - 스페이스 바(ascii = 32)\n",
    " - \\b 뒤로 한칸 이동( Backspace) (아스키코드 8)\n",
    " - \\t 수평 탭 간격 띄우기\n",
    " - \\n 줄 바꿈(개행)\n",
    " - \\v 수직 탭 간격 띄우기\n",
    " - \\f 프린트 출력 용지를 한페이지 넘김\n",
    " - \\r 동일한 줄의 맨앞에서 커서 이동\n",
    " \n",
    "- Dot(.) 메타 문자는 줄바꿈 문자인 \\n을 제외한 모든 문자와 매치됨을 의미\n",
    "- 반복(\\*)  ca*t 0부터 무한대로 반복 caaaaa*t c*t\n",
    "- 반복(\\+)  ca+t 최소 1번 이상 반복\n",
    "- ca{m,n} a 반복횟수가 m부터 n까지인 것을 매치\n",
    "- ca{2}t는 c+a(2번 반복)+t의 의미\n",
    "- 반복 횟수가 {1,}은 1 이상, {0,}은 0 이상인 경우로 각각 +,*와 동일\n",
    "- {,1}은 반복 횟수가 1 이하를 의미\n",
    "- ab?c b가 0~1번 사용되면 매치되는 것으로 ?는 앞에 b가 있어도 되고 없어도 된다\n",
    "\n",
    "re 모듈 : 파이썬은 정규표현식을 지원하기 위해 기본으로 제공\n",
    "- re.compile의 결과로 리턴되는 객체를 이용하여 그 이후 작업 수행\n",
    "\n",
    "정규식을 이용한 문자열 검색\n",
    "- match() : 문자열의 처음부터 정규식과 매치되는지를 조사\n",
    "- search() : 문자열의 전체를 검색하여 정규식과 매치되는지 조사\n",
    "- findall() : 정규식과 매치되는 모든 문자열을 리스트로 리턴\n",
    "- finditer() : 정규식과 매치되는 모든 문자열을 반복 가능한 객체로 리턴\n"
   ]
  },
  {
   "cell_type": "code",
   "execution_count": 9,
   "id": "6cff5831",
   "metadata": {},
   "outputs": [
    {
     "name": "stdout",
     "output_type": "stream",
     "text": [
      "<re.Match object; span=(0, 7), match='python '>\n"
     ]
    }
   ],
   "source": [
    "import re\n",
    "\n",
    "p = re.compile('[a-z]+\\s')\n",
    "\n",
    "m = p.match('python python')\n",
    "\n",
    "print(m)"
   ]
  },
  {
   "cell_type": "code",
   "execution_count": 11,
   "id": "1b692252",
   "metadata": {},
   "outputs": [
    {
     "data": {
      "text/plain": [
       "<re.Match object; span=(0, 7), match='python '>"
      ]
     },
     "execution_count": 11,
     "metadata": {},
     "output_type": "execute_result"
    }
   ],
   "source": [
    "re.match('[a-z]+\\s','python python')"
   ]
  },
  {
   "cell_type": "code",
   "execution_count": 13,
   "id": "94b3a45f",
   "metadata": {},
   "outputs": [
    {
     "data": {
      "text/plain": [
       "['python ', 'python ']"
      ]
     },
     "execution_count": 13,
     "metadata": {},
     "output_type": "execute_result"
    }
   ],
   "source": [
    "p.findall('python python ')"
   ]
  },
  {
   "cell_type": "code",
   "execution_count": 21,
   "id": "d886be75",
   "metadata": {},
   "outputs": [
    {
     "name": "stdout",
     "output_type": "stream",
     "text": [
      "None\n"
     ]
    }
   ],
   "source": [
    "m = p.match('3python ')\n",
    "print(m)"
   ]
  },
  {
   "cell_type": "code",
   "execution_count": 20,
   "id": "4c136019",
   "metadata": {},
   "outputs": [
    {
     "name": "stdout",
     "output_type": "stream",
     "text": [
      "<re.Match object; span=(1, 8), match='python '>\n"
     ]
    }
   ],
   "source": [
    "m = p.search('3python ')\n",
    "print(m)"
   ]
  },
  {
   "cell_type": "code",
   "execution_count": 19,
   "id": "ee1e2476",
   "metadata": {
    "scrolled": true
   },
   "outputs": [
    {
     "name": "stdout",
     "output_type": "stream",
     "text": [
      "<re.Match object; span=(0, 8), match='3python '>\n"
     ]
    }
   ],
   "source": [
    "pp = re.compile('[0-9][a-z]+\\s')\n",
    "\n",
    "m = pp.match('3python ')\n",
    "print(m)"
   ]
  },
  {
   "cell_type": "code",
   "execution_count": 26,
   "id": "7b57bdf9",
   "metadata": {},
   "outputs": [
    {
     "name": "stdout",
     "output_type": "stream",
     "text": [
      "<re.Match object; span=(1, 6), match='anker'> \n",
      " <re.Match object; span=(0, 6), match='banker'>\n"
     ]
    }
   ],
   "source": [
    "# 문자 클래스 : []\n",
    "\n",
    "pattern = re.compile('[a-z]+')\n",
    "p1 = pattern.search('Banker')\n",
    "p2 = pattern.search('banker')\n",
    "\n",
    "print(p1,'\\n',p2)"
   ]
  },
  {
   "cell_type": "code",
   "execution_count": 37,
   "id": "9b2ce126",
   "metadata": {},
   "outputs": [
    {
     "name": "stdout",
     "output_type": "stream",
     "text": [
      "<re.Match object; span=(5, 6), match='a'>\n",
      "a\n",
      "<class 'str'>\n"
     ]
    }
   ],
   "source": [
    "# '12345abc'에서 a만 출력하세요\n",
    "import re\n",
    "\n",
    "pattern = re.compile('[a]')\n",
    "\n",
    "p3 = pattern.search('12345abc')\n",
    "\n",
    "print(p3)\n",
    "print(p3.group())\n",
    "print(type(p3.group()))"
   ]
  },
  {
   "cell_type": "code",
   "execution_count": 39,
   "id": "b8e592a1",
   "metadata": {},
   "outputs": [
    {
     "data": {
      "text/plain": [
       "'A'"
      ]
     },
     "execution_count": 39,
     "metadata": {},
     "output_type": "execute_result"
    }
   ],
   "source": [
    "import re\n",
    "\n",
    "pattern = re.compile('[A-Z]')\n",
    "\n",
    "m = pattern.search('12345Abc')\n",
    "m.group()"
   ]
  },
  {
   "cell_type": "code",
   "execution_count": 42,
   "id": "1d970d9c",
   "metadata": {},
   "outputs": [
    {
     "data": {
      "text/plain": [
       "'122333c'"
      ]
     },
     "execution_count": 42,
     "metadata": {},
     "output_type": "execute_result"
    }
   ],
   "source": [
    "import re\n",
    "\n",
    "pattern =  re.compile('12{2}3{3}c')\n",
    "\n",
    "text = '122333c'\n",
    "\n",
    "m = pattern.search(text)\n",
    "m.group()"
   ]
  },
  {
   "cell_type": "code",
   "execution_count": 43,
   "id": "300a8e8f",
   "metadata": {},
   "outputs": [
    {
     "data": {
      "text/plain": [
       "['life', 'is', 'too', 'short']"
      ]
     },
     "execution_count": 43,
     "metadata": {},
     "output_type": "execute_result"
    }
   ],
   "source": [
    "p  = re.compile('[a-z]+')\n",
    "result = p.findall('life is too short')\n",
    "\n",
    "result"
   ]
  },
  {
   "cell_type": "code",
   "execution_count": 50,
   "id": "fd893eab",
   "metadata": {},
   "outputs": [
    {
     "name": "stdout",
     "output_type": "stream",
     "text": [
      "life\n",
      "is\n",
      "too\n",
      "short\n"
     ]
    }
   ],
   "source": [
    "# finditer는 findall과 동일하지만 그 결과로 반복 가능한 객체를 돌려준다\n",
    "\n",
    "result = p.finditer('life is too short')\n",
    "\n",
    "\n",
    "for r in result:print(r.group())"
   ]
  },
  {
   "cell_type": "code",
   "execution_count": 57,
   "id": "62dbc3c0",
   "metadata": {},
   "outputs": [
    {
     "name": "stdout",
     "output_type": "stream",
     "text": [
      "['1', '2', '3', '4', '1', '2', '3', '4']\n"
     ]
    }
   ],
   "source": [
    "# '1234a1234'에서 '1','2','3','4'를 모두 출력하세요\n",
    "\n",
    "p = re.compile('[0-9]')\n",
    "result=p.findall('1234a1234')\n",
    "\n",
    "print(result)"
   ]
  },
  {
   "cell_type": "code",
   "execution_count": 65,
   "id": "f22caee7",
   "metadata": {},
   "outputs": [
    {
     "name": "stdout",
     "output_type": "stream",
     "text": [
      "[' ', '3 ', ' ', ' ', ' ', ' ', '!']\n"
     ]
    }
   ],
   "source": [
    "#'Python3 is very good programming language!'에서 ['Python','is','very','good','programming','language']를 모두 출력\n",
    "\n",
    "p = re.compile('[^A-Za-z]+')\n",
    "\n",
    "m = p.findall(' Python3 is very good programming language!')\n",
    "print(m)"
   ]
  },
  {
   "cell_type": "code",
   "execution_count": 69,
   "id": "b670269f",
   "metadata": {},
   "outputs": [
    {
     "name": "stdout",
     "output_type": "stream",
     "text": [
      "python\n",
      "0\n",
      "6\n",
      "(0, 6)\n"
     ]
    }
   ],
   "source": [
    "#match 객체의 메소드\n",
    "\n",
    "import re\n",
    "p = re.compile('[a-z]+')\n",
    "\n",
    "m = p.match('python')\n",
    "print(m.group())\n",
    "print(m.start()) #시작점 인덱스\n",
    "print(m.end()) #종료시점 인덱스\n",
    "\n",
    "print(m.span()) #인덱스 범위"
   ]
  },
  {
   "cell_type": "code",
   "execution_count": 70,
   "id": "6e5cc65a",
   "metadata": {},
   "outputs": [
    {
     "name": "stdout",
     "output_type": "stream",
     "text": [
      "python\n",
      "2\n",
      "8\n",
      "(2, 8)\n"
     ]
    }
   ],
   "source": [
    "m = p.search('3 python')\n",
    "print(m.group())\n",
    "print(m.start())\n",
    "print(m.end())\n",
    "print(m.span())"
   ]
  },
  {
   "cell_type": "code",
   "execution_count": 72,
   "id": "c857d75c",
   "metadata": {},
   "outputs": [
    {
     "name": "stdout",
     "output_type": "stream",
     "text": [
      "python\n"
     ]
    }
   ],
   "source": [
    "# 모듈 단위로 수행\n",
    "\n",
    "m =  re.match('[a-z]+',\"python\")\n",
    "print(m.group())"
   ]
  },
  {
   "cell_type": "code",
   "execution_count": 78,
   "id": "2402887a",
   "metadata": {},
   "outputs": [
    {
     "name": "stdout",
     "output_type": "stream",
     "text": [
      "None\n",
      "acb\n",
      "a12?Ab\n"
     ]
    }
   ],
   "source": [
    "#dot(.) 메타 문자\n",
    "#개행을 제외한 사이에 문자가 들어가면 match\n",
    "import re\n",
    "\n",
    "p = re.compile('a.+b')\n",
    "m1 = p.match('a\\nb')\n",
    "m2 = p.match('acb')\n",
    "m3 = p.match('a12?Ab')\n",
    "print(m1)\n",
    "print(m2.group())\n",
    "print(m3.group())"
   ]
  },
  {
   "cell_type": "code",
   "execution_count": 83,
   "id": "37e3a7c2",
   "metadata": {},
   "outputs": [
    {
     "name": "stdout",
     "output_type": "stream",
     "text": [
      "a\n",
      "b\n"
     ]
    }
   ],
   "source": [
    "p = re.compile('a.b',re.DOTALL)\n",
    "m = p.match('a\\nb')\n",
    "print(m.group())"
   ]
  },
  {
   "cell_type": "code",
   "execution_count": 87,
   "id": "adcf8ceb",
   "metadata": {},
   "outputs": [
    {
     "name": "stdout",
     "output_type": "stream",
     "text": [
      "python\n",
      "Python\n",
      "PYTHON\n"
     ]
    }
   ],
   "source": [
    "# re.IGNORANCE 또는 re.I > 대소문자 구분 없이 match 수행시 사용\n",
    "\n",
    "p = re.compile('[a-z]+',re.I)\n",
    "m = p.match('python')\n",
    "m2 = p.match('Python')\n",
    "m3 = p.match('PYTHON')\n",
    "print(m.group())\n",
    "print(m2.group())\n",
    "print(m3.group())"
   ]
  },
  {
   "cell_type": "code",
   "execution_count": 88,
   "id": "163fae7d",
   "metadata": {},
   "outputs": [
    {
     "name": "stdout",
     "output_type": "stream",
     "text": [
      "python\n",
      "Python\n",
      "PYTHON\n"
     ]
    }
   ],
   "source": [
    "s = p.search('3 python')\n",
    "s2 = p.search('3 Python')\n",
    "s3 = p.search('3 PYTHON')\n",
    "\n",
    "print(s.group())\n",
    "print(s2.group())\n",
    "print(s3.group())"
   ]
  },
  {
   "cell_type": "code",
   "execution_count": 91,
   "id": "c39cd9cd",
   "metadata": {},
   "outputs": [
    {
     "name": "stdout",
     "output_type": "stream",
     "text": [
      "['python one']\n"
     ]
    }
   ],
   "source": [
    "p = re.compile('^python\\s\\w+') # 처음 시작하는 문자를 고름\n",
    "\n",
    "data = \"\"\"python one\n",
    "life is too short\n",
    "python two\n",
    "you need python\n",
    "python three\n",
    "\"\"\"\n",
    "\n",
    "print(p.findall(data))"
   ]
  },
  {
   "cell_type": "code",
   "execution_count": 95,
   "id": "d9a02720",
   "metadata": {},
   "outputs": [
    {
     "name": "stdout",
     "output_type": "stream",
     "text": [
      "['python three']\n"
     ]
    }
   ],
   "source": [
    "p = re.compile('python\\s\\w+$') # 마지막에 오는 것만 match\n",
    "\n",
    "data = \"\"\"python one\n",
    "life is too short\n",
    "python two\n",
    "you need python\n",
    "python three\n",
    "\"\"\"\n",
    "\n",
    "print(p.findall(data))"
   ]
  },
  {
   "cell_type": "code",
   "execution_count": 100,
   "id": "da86811b",
   "metadata": {},
   "outputs": [
    {
     "name": "stdout",
     "output_type": "stream",
     "text": [
      "<re.Match object; span=(0, 4), match='Crow'>\n"
     ]
    }
   ],
   "source": [
    "# | : or와 동일한 의미\n",
    "\n",
    "p = re.compile('Crow|Servo')\n",
    "m = p.match('CrowHello')\n",
    "print(m)"
   ]
  },
  {
   "cell_type": "code",
   "execution_count": 99,
   "id": "d31d5876",
   "metadata": {},
   "outputs": [
    {
     "name": "stdout",
     "output_type": "stream",
     "text": [
      "<re.Match object; span=(0, 8), match='\\\\section'>\n"
     ]
    },
    {
     "data": {
      "text/plain": [
       "['\\\\section', '\\\\section']"
      ]
     },
     "execution_count": 99,
     "metadata": {},
     "output_type": "execute_result"
    }
   ],
   "source": [
    "#Raw String 규칙 > 백슬래시 문제\n",
    "p = re.compile(r'\\\\section')\n",
    "print(p.match('\\section'))\n",
    "p.findall('\\section\\section')"
   ]
  },
  {
   "cell_type": "code",
   "execution_count": 117,
   "id": "800117c4",
   "metadata": {},
   "outputs": [
    {
     "data": {
      "text/plain": [
       "['home']"
      ]
     },
     "execution_count": 117,
     "metadata": {},
     "output_type": "execute_result"
    }
   ],
   "source": [
    "# 'we are going home'에서 home만 출력하세요\n",
    "\n",
    "p = re.compile('[a-z]+$')\n",
    "\n",
    "m = p.findall('we are going home')\n",
    "m"
   ]
  },
  {
   "cell_type": "code",
   "execution_count": 119,
   "id": "cac8d02b",
   "metadata": {},
   "outputs": [
    {
     "data": {
      "text/plain": [
       "'home'"
      ]
     },
     "execution_count": 119,
     "metadata": {},
     "output_type": "execute_result"
    }
   ],
   "source": [
    "# 'home sweet'에서 home만 출력\n",
    "\n",
    "p = re.compile('^[a-z]+')\n",
    "\n",
    "m = p.search('home sweet')\n",
    "m.group()"
   ]
  },
  {
   "cell_type": "code",
   "execution_count": 126,
   "id": "ef2c217d",
   "metadata": {},
   "outputs": [
    {
     "name": "stdout",
     "output_type": "stream",
     "text": [
      "<re.Match object; span=(3, 9), match='ABCDEF'>\n",
      "ABCDEF\n",
      "ABCDEF\n",
      "CD\n"
     ]
    },
    {
     "ename": "IndexError",
     "evalue": "no such group",
     "output_type": "error",
     "traceback": [
      "\u001b[1;31m---------------------------------------------------------------------------\u001b[0m",
      "\u001b[1;31mIndexError\u001b[0m                                Traceback (most recent call last)",
      "\u001b[1;32m~\\AppData\\Local\\Temp/ipykernel_8256/793187661.py\u001b[0m in \u001b[0;36m<module>\u001b[1;34m\u001b[0m\n\u001b[0;32m      6\u001b[0m \u001b[0mprint\u001b[0m\u001b[1;33m(\u001b[0m\u001b[0mm\u001b[0m\u001b[1;33m)\u001b[0m\u001b[1;33m\u001b[0m\u001b[1;33m\u001b[0m\u001b[0m\n\u001b[0;32m      7\u001b[0m \u001b[1;32mfor\u001b[0m \u001b[0mi\u001b[0m \u001b[1;32min\u001b[0m \u001b[0mrange\u001b[0m\u001b[1;33m(\u001b[0m\u001b[0mlen\u001b[0m\u001b[1;33m(\u001b[0m\u001b[0mm\u001b[0m\u001b[1;33m.\u001b[0m\u001b[0mgroup\u001b[0m\u001b[1;33m(\u001b[0m\u001b[1;33m)\u001b[0m\u001b[1;33m)\u001b[0m\u001b[1;33m)\u001b[0m\u001b[1;33m:\u001b[0m\u001b[1;33m\u001b[0m\u001b[1;33m\u001b[0m\u001b[0m\n\u001b[1;32m----> 8\u001b[1;33m     \u001b[0mprint\u001b[0m\u001b[1;33m(\u001b[0m\u001b[0mm\u001b[0m\u001b[1;33m.\u001b[0m\u001b[0mgroup\u001b[0m\u001b[1;33m(\u001b[0m\u001b[0mi\u001b[0m\u001b[1;33m)\u001b[0m\u001b[1;33m)\u001b[0m\u001b[1;33m\u001b[0m\u001b[1;33m\u001b[0m\u001b[0m\n\u001b[0m",
      "\u001b[1;31mIndexError\u001b[0m: no such group"
     ]
    }
   ],
   "source": [
    "#grouping : 매치된 문자열 중에서 특정 부분의 문자열만 뽑아내는 경우 ()으로 만들어준다\n",
    "# group(0) 매치된 전체 문자열 1 첫번째 그룹, 2 두번째 그룹, n n번째 그룹\n",
    "p = re.compile('(AB(CD)EF)+')\n",
    "\n",
    "m = p.search('DEFABCDEFDEF OK?')\n",
    "print(m)\n",
    "for i in range(len(m.group())):\n",
    "    print(m.group(i))"
   ]
  }
 ],
 "metadata": {
  "kernelspec": {
   "display_name": "Python 3 (ipykernel)",
   "language": "python",
   "name": "python3"
  },
  "language_info": {
   "codemirror_mode": {
    "name": "ipython",
    "version": 3
   },
   "file_extension": ".py",
   "mimetype": "text/x-python",
   "name": "python",
   "nbconvert_exporter": "python",
   "pygments_lexer": "ipython3",
   "version": "3.8.12"
  }
 },
 "nbformat": 4,
 "nbformat_minor": 5
}
