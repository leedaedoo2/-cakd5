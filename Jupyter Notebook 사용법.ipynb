{
 "cells": [
  {
   "cell_type": "code",
   "execution_count": 1,
   "id": "86cb25be",
   "metadata": {},
   "outputs": [
    {
     "name": "stdout",
     "output_type": "stream",
     "text": [
      "hello python\n"
     ]
    }
   ],
   "source": [
    "print(\"hello python\")"
   ]
  },
  {
   "cell_type": "markdown",
   "id": "ab11662a",
   "metadata": {},
   "source": [
    "# 주피터 노트북 사용법\n",
    "## 주피터 노트북 사용법\n",
    "### 주피터 노트북 사용법\n",
    "#### 주피터 노트북 사용법\n",
    "- 주피터\n",
    "- 노트북\n",
    "\n",
    "#### 주피터 노트북 사용법\n",
    "1. 주피터\n",
    "2. 노트북\n",
    "\n",
    "단축키\n",
    " - esc를 눌러 커맨드 모드로 진입하여 enter를 통해 cell을 수정할 수 있다.\n",
    " - a 현재 cell 위에 새 cell 삽입\n",
    " - b 현재 cell 아래에 새 cell 삽입\n",
    " - m markdown 모드\n",
    " - y code 모드"
   ]
  },
  {
   "cell_type": "markdown",
   "id": "1c35133b",
   "metadata": {},
   "source": [
    "매직명령어 : 맨 앞에 %를 붙이고 특정 명령을 수행할 수 있다. 파이썬 문법에는 포함되지 않는 Jupyter notebook만의 기능\n",
    "    <img src = '매직명령어.jpg' STYLE = 'width=800px:'>\n"
   ]
  },
  {
   "cell_type": "code",
   "execution_count": 3,
   "id": "071053c2",
   "metadata": {},
   "outputs": [
    {
     "name": "stdout",
     "output_type": "stream",
     "text": [
      " C 드라이브의 볼륨에는 이름이 없습니다.\n",
      " 볼륨 일련 번호: AA1A-F8CD\n",
      "\n",
      " C:\\cakd5\\workspace\\m1_programming 디렉터리\n",
      "\n",
      "2021-12-28  오후 05:48    <DIR>          .\n",
      "2021-12-28  오후 05:48    <DIR>          ..\n",
      "2021-12-28  오후 05:42    <DIR>          .ipynb_checkpoints\n",
      "2021-12-28  오후 05:48             2,030 Untitled.ipynb\n",
      "2021-12-28  오후 05:48            94,995 매직명령어.jpg\n",
      "               2개 파일              97,025 바이트\n",
      "               3개 디렉터리  957,062,082,560 바이트 남음\n"
     ]
    }
   ],
   "source": [
    "%ls"
   ]
  }
 ],
 "metadata": {
  "kernelspec": {
   "display_name": "Python 3 (ipykernel)",
   "language": "python",
   "name": "python3"
  },
  "language_info": {
   "codemirror_mode": {
    "name": "ipython",
    "version": 3
   },
   "file_extension": ".py",
   "mimetype": "text/x-python",
   "name": "python",
   "nbconvert_exporter": "python",
   "pygments_lexer": "ipython3",
   "version": "3.8.12"
  }
 },
 "nbformat": 4,
 "nbformat_minor": 5
}
