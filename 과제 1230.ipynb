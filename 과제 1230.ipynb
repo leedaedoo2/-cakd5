{
 "cells": [
  {
   "cell_type": "code",
   "execution_count": 7,
   "id": "f2243d72",
   "metadata": {},
   "outputs": [
    {
     "name": "stdout",
     "output_type": "stream",
     "text": [
      "2500\n"
     ]
    }
   ],
   "source": [
    "#[과제] 1부터 100까지 아래와 같이 2개의 수를 곱해서 가장 큰 수를 구하시오\n",
    "# 1*99, 2*98 .... 99*1\n",
    "def multiply(a):\n",
    "    return a*(100-a)\n",
    "\n",
    "\n",
    "current = 0\n",
    "maxValue = 0\n",
    "\n",
    "for i in range(1,100):\n",
    "    current = multiply(i)\n",
    "    if current >= maxValue:\n",
    "        maxValue = current\n",
    "    else:\n",
    "        continue\n",
    "        \n",
    "print(maxValue)    "
   ]
  },
  {
   "cell_type": "code",
   "execution_count": 262,
   "id": "c139d39e",
   "metadata": {},
   "outputs": [
    {
     "name": "stdout",
     "output_type": "stream",
     "text": [
      "[[1, 4, 7], [2, 5, 8], [3, 6, 9]]\n"
     ]
    }
   ],
   "source": [
    "# [과제][]을 채워서 아래와 같이 출력하세요\n",
    "# 출력 : [[1,4,7],[2,5,8],[3,6,9]]\n",
    "\n",
    "numbers = [1,2,3,4,5,6,7,8,9]\n",
    "output = [[],[],[]]\n",
    "\n",
    "for number in numbers:\n",
    "#    print(number)\n",
    "#    print((number-1)%3)\n",
    "#    print((number-1)//3)\n",
    "    output[(number-1)%3].append(number)\n",
    "#    print(output)\n",
    "#    print('')\n",
    "print(output)\n",
    "\n",
    "#정답 : (number-1)%3"
   ]
  },
  {
   "cell_type": "code",
   "execution_count": 6,
   "id": "675a5bbc",
   "metadata": {},
   "outputs": [
    {
     "name": "stdout",
     "output_type": "stream",
     "text": [
      "로또 얼마나 하시겠어요? : 8\n",
      "[3, 15, 16, 26, 30, 45]\n",
      "[6, 13, 23, 25, 27, 30]\n",
      "[2, 16, 24, 29, 38, 42]\n",
      "[12, 14, 15, 21, 24, 45]\n",
      "[13, 16, 24, 29, 39, 40]\n",
      "[1, 9, 14, 16, 32, 40]\n",
      "[11, 14, 28, 31, 36, 42]\n",
      "[2, 9, 19, 27, 38, 41]\n"
     ]
    }
   ],
   "source": [
    "#[과제]사용자가 입력한 게임 회수만큼 로또 번호를 출력하는 프로그램을 작성하세요\n",
    "\n",
    "import numpy as np\n",
    "\n",
    "lottoTrial = int(input('로또 얼마나 하시겠어요? : '))\n",
    "for a in range(0,lottoTrial):\n",
    "    num = []\n",
    "    number = np.random.randint(45,size = 1)\n",
    "    num.append(number[0]+1)\n",
    "    while len(num) < 6:            \n",
    "        number2 = np.random.randint(45,size = 1)\n",
    "        if number2[0]+1 in num:\n",
    "            continue\n",
    "        else:\n",
    "            num.append(number2[0]+1)\n",
    "       \n",
    "    num = sorted(num)\n",
    "    print(num)\n",
    "\n"
   ]
  },
  {
   "cell_type": "code",
   "execution_count": 304,
   "id": "d90bbf8c",
   "metadata": {},
   "outputs": [
    {
     "name": "stdout",
     "output_type": "stream",
     "text": [
      "[['남자4호', '여자2호'], ['남자5호', '여자4호'], ['남자2호', '여자1호'], ['남자3호', '여자3호'], ['남자1호', '여자5호']]\n"
     ]
    }
   ],
   "source": [
    "#[과제]남녀 파트너 정해주기 프로그램을 작성하세요(5개 커플)\n",
    "import random\n",
    "\n",
    "man = ['남자1호','남자2호','남자3호','남자4호','남자5호']\n",
    "woman = ['여자1호','여자2호','여자3호','여자4호','여자5호']\n",
    "\n",
    "couple = [[],[],[],[],[]]\n",
    "\n",
    "random.shuffle(man)\n",
    "random.shuffle(woman)\n",
    "\n",
    "for index in range(0,len(man)):\n",
    "    couple[index].append(man[index])\n",
    "    couple[index].append(woman[index])\n",
    "    \n",
    "print(couple)\n"
   ]
  },
  {
   "cell_type": "code",
   "execution_count": 268,
   "id": "a4fc6bc8",
   "metadata": {},
   "outputs": [
    {
     "name": "stdout",
     "output_type": "stream",
     "text": [
      "문자열을 입력하시오:이건말이되지않아\n",
      "건말이되지않아이"
     ]
    }
   ],
   "source": [
    "#입력받은 문자열의 각 문자를 그 다음 문자로 변경하여 출력하세요.\n",
    "#입력 abcde -> 출력 bcdea\n",
    "\n",
    "string = input('문자열을 입력하시오:')\n",
    "string = list(string)\n",
    "tmp = string[0]\n",
    "for i in range(0,len(string)-1):\n",
    "    string[i] = string[i+1]\n",
    "    \n",
    "string[len(string)-1] = tmp\n",
    "for j in range(0,len(string)):\n",
    "    print(string[j],end='')"
   ]
  },
  {
   "cell_type": "code",
   "execution_count": 307,
   "id": "119c109c",
   "metadata": {},
   "outputs": [
    {
     "name": "stdout",
     "output_type": "stream",
     "text": [
      "중앙 식당에 오신 것을 환영합니다\n",
      "\n",
      "========================================\n",
      "\n",
      "          - 메  뉴 -\n",
      "    1. 불고기 비빔밥 : 12,000원\n",
      "    2. 야채 비빔밥 : 8,000원\n",
      "    3. 전주 비빔밥 : 10,000원\n",
      "\n",
      "    세트 주문시 : 3000원 추가\n",
      "    (세트는 밥과 반찬이 추가됩니다.)\n",
      "\n",
      "========================================\n",
      "\n",
      "비빔밥 메뉴를 선택해 주세요. 1, 2, 3 >>>2\n",
      "세트 주문을 하시겠습니까? 3,000원 추가. y, n >>>1\n",
      "총 금액은 8000원 입니다.\n",
      "비빔밥 메뉴를 선택해 주세요. 1, 2, 3 >>>2\n",
      "세트 주문을 하시겠습니까? 3,000원 추가. y, n >>>y\n",
      "총 금액은 11000원 입니다.\n",
      "비빔밥 메뉴를 선택해 주세요. 1, 2, 3 >>>1\n",
      "세트 주문을 하시겠습니까? 3,000원 추가. y, n >>>y\n",
      "총 금액은 15000원 입니다.\n",
      "비빔밥 메뉴를 선택해 주세요. 1, 2, 3 >>>4\n",
      "잘못 입력했습니다. 다시 주문하세요\n",
      "비빔밥 메뉴를 선택해 주세요. 1, 2, 3 >>>3\n"
     ]
    },
    {
     "ename": "KeyboardInterrupt",
     "evalue": "Interrupted by user",
     "output_type": "error",
     "traceback": [
      "\u001b[1;31m---------------------------------------------------------------------------\u001b[0m",
      "\u001b[1;31mKeyboardInterrupt\u001b[0m                         Traceback (most recent call last)",
      "\u001b[1;32m~\\AppData\\Local\\Temp/ipykernel_4084/2009996611.py\u001b[0m in \u001b[0;36m<module>\u001b[1;34m\u001b[0m\n\u001b[0;32m     46\u001b[0m         \u001b[1;32mcontinue\u001b[0m\u001b[1;33m\u001b[0m\u001b[1;33m\u001b[0m\u001b[0m\n\u001b[0;32m     47\u001b[0m     \u001b[0mTotalCost\u001b[0m \u001b[1;33m=\u001b[0m \u001b[0mTotalCost\u001b[0m \u001b[1;33m+\u001b[0m \u001b[0mmenuCost\u001b[0m\u001b[1;33m[\u001b[0m\u001b[0mmyChoice\u001b[0m\u001b[1;33m-\u001b[0m\u001b[1;36m1\u001b[0m\u001b[1;33m]\u001b[0m\u001b[1;33m\u001b[0m\u001b[1;33m\u001b[0m\u001b[0m\n\u001b[1;32m---> 48\u001b[1;33m     \u001b[0mSetChoice\u001b[0m \u001b[1;33m=\u001b[0m \u001b[0minput\u001b[0m\u001b[1;33m(\u001b[0m\u001b[1;34m'세트 주문을 하시겠습니까? 3,000원 추가. y, n >>>'\u001b[0m\u001b[1;33m)\u001b[0m\u001b[1;33m\u001b[0m\u001b[1;33m\u001b[0m\u001b[0m\n\u001b[0m\u001b[0;32m     49\u001b[0m     \u001b[1;32mif\u001b[0m \u001b[0mSetChoice\u001b[0m \u001b[1;33m==\u001b[0m \u001b[1;34m'y'\u001b[0m\u001b[1;33m:\u001b[0m\u001b[1;33m\u001b[0m\u001b[1;33m\u001b[0m\u001b[0m\n\u001b[0;32m     50\u001b[0m         \u001b[0mTotalCost\u001b[0m \u001b[1;33m=\u001b[0m \u001b[0mTotalCost\u001b[0m \u001b[1;33m+\u001b[0m \u001b[0msetmenu\u001b[0m\u001b[1;33m\u001b[0m\u001b[1;33m\u001b[0m\u001b[0m\n",
      "\u001b[1;32m~\\anaconda3\\envs\\cakd5\\lib\\site-packages\\ipykernel\\kernelbase.py\u001b[0m in \u001b[0;36mraw_input\u001b[1;34m(self, prompt)\u001b[0m\n\u001b[0;32m   1004\u001b[0m                 \u001b[1;34m\"raw_input was called, but this frontend does not support input requests.\"\u001b[0m\u001b[1;33m\u001b[0m\u001b[1;33m\u001b[0m\u001b[0m\n\u001b[0;32m   1005\u001b[0m             )\n\u001b[1;32m-> 1006\u001b[1;33m         return self._input_request(\n\u001b[0m\u001b[0;32m   1007\u001b[0m             \u001b[0mstr\u001b[0m\u001b[1;33m(\u001b[0m\u001b[0mprompt\u001b[0m\u001b[1;33m)\u001b[0m\u001b[1;33m,\u001b[0m\u001b[1;33m\u001b[0m\u001b[1;33m\u001b[0m\u001b[0m\n\u001b[0;32m   1008\u001b[0m             \u001b[0mself\u001b[0m\u001b[1;33m.\u001b[0m\u001b[0m_parent_ident\u001b[0m\u001b[1;33m[\u001b[0m\u001b[1;34m\"shell\"\u001b[0m\u001b[1;33m]\u001b[0m\u001b[1;33m,\u001b[0m\u001b[1;33m\u001b[0m\u001b[1;33m\u001b[0m\u001b[0m\n",
      "\u001b[1;32m~\\anaconda3\\envs\\cakd5\\lib\\site-packages\\ipykernel\\kernelbase.py\u001b[0m in \u001b[0;36m_input_request\u001b[1;34m(self, prompt, ident, parent, password)\u001b[0m\n\u001b[0;32m   1049\u001b[0m             \u001b[1;32mexcept\u001b[0m \u001b[0mKeyboardInterrupt\u001b[0m\u001b[1;33m:\u001b[0m\u001b[1;33m\u001b[0m\u001b[1;33m\u001b[0m\u001b[0m\n\u001b[0;32m   1050\u001b[0m                 \u001b[1;31m# re-raise KeyboardInterrupt, to truncate traceback\u001b[0m\u001b[1;33m\u001b[0m\u001b[1;33m\u001b[0m\u001b[1;33m\u001b[0m\u001b[0m\n\u001b[1;32m-> 1051\u001b[1;33m                 \u001b[1;32mraise\u001b[0m \u001b[0mKeyboardInterrupt\u001b[0m\u001b[1;33m(\u001b[0m\u001b[1;34m\"Interrupted by user\"\u001b[0m\u001b[1;33m)\u001b[0m \u001b[1;32mfrom\u001b[0m \u001b[1;32mNone\u001b[0m\u001b[1;33m\u001b[0m\u001b[1;33m\u001b[0m\u001b[0m\n\u001b[0m\u001b[0;32m   1052\u001b[0m             \u001b[1;32mexcept\u001b[0m \u001b[0mException\u001b[0m\u001b[1;33m:\u001b[0m\u001b[1;33m\u001b[0m\u001b[1;33m\u001b[0m\u001b[0m\n\u001b[0;32m   1053\u001b[0m                 \u001b[0mself\u001b[0m\u001b[1;33m.\u001b[0m\u001b[0mlog\u001b[0m\u001b[1;33m.\u001b[0m\u001b[0mwarning\u001b[0m\u001b[1;33m(\u001b[0m\u001b[1;34m\"Invalid Message:\"\u001b[0m\u001b[1;33m,\u001b[0m \u001b[0mexc_info\u001b[0m\u001b[1;33m=\u001b[0m\u001b[1;32mTrue\u001b[0m\u001b[1;33m)\u001b[0m\u001b[1;33m\u001b[0m\u001b[1;33m\u001b[0m\u001b[0m\n",
      "\u001b[1;31mKeyboardInterrupt\u001b[0m: Interrupted by user"
     ]
    }
   ],
   "source": [
    "#음식점의 음식 주문가격 산출 프로그램을 자유롭게 작성\n",
    "'''\n",
    "중앙 식당에 오신 것을 환영합니다\n",
    "\n",
    "========================================\n",
    "\n",
    "          - 메  뉴 -\n",
    "    1. 불고기 비빔밥 : 12,000원\n",
    "    2. 야채 비빔밥 : 8,000원\n",
    "    3. 전주 비빔밥 : 10,000원\n",
    "\n",
    "    세트 주문시 : 3000원 추가\n",
    "    (세트는 밥과 반찬이 추가됩니다.)\n",
    "\n",
    "========================================\n",
    "\n",
    "비빔밥 메뉴를 선택해 주세요. 1, 2, 3 >>> 2\n",
    "세트 주문을 하시겠습니까? 3,000원 추가. y, n >>> y\n",
    "총 금액은 11000원 입니다.\n",
    "'''\n",
    "\n",
    "print('중앙 식당에 오신 것을 환영합니다')\n",
    "print('')\n",
    "print('========================================')\n",
    "print('')\n",
    "print('          - 메  뉴 -')\n",
    "print('    1. 불고기 비빔밥 : 12,000원')\n",
    "print('    2. 야채 비빔밥 : 8,000원')\n",
    "print('    3. 전주 비빔밥 : 10,000원')\n",
    "print('')\n",
    "print('    세트 주문시 : 3000원 추가')\n",
    "print('    (세트는 밥과 반찬이 추가됩니다.)')\n",
    "print('')\n",
    "print('========================================')\n",
    "print('')\n",
    "\n",
    "menuCost = [12000,8000,10000]\n",
    "setmenu = 3000\n",
    "\n",
    "\n",
    "while 1:\n",
    "    TotalCost = 0\n",
    "    myChoice = int(input('비빔밥 메뉴를 선택해 주세요. 1, 2, 3 >>>'))\n",
    "    if myChoice not in [1,2,3]:\n",
    "        print('잘못 입력했습니다. 다시 주문하세요')\n",
    "        continue\n",
    "    TotalCost = TotalCost + menuCost[myChoice-1]\n",
    "    SetChoice = input('세트 주문을 하시겠습니까? 3,000원 추가. y, n >>>')\n",
    "    if SetChoice == 'y':\n",
    "        TotalCost = TotalCost + setmenu\n",
    "    else:\n",
    "        TotalCost = TotalCost\n",
    "    print(f'총 금액은 {TotalCost}원 입니다.')"
   ]
  },
  {
   "cell_type": "code",
   "execution_count": 271,
   "id": "e25548b2",
   "metadata": {},
   "outputs": [
    {
     "name": "stdout",
     "output_type": "stream",
     "text": [
      "가위바위보를 합니다. 가위 = 1,바위 = 2,보 = 3 >2\n",
      "당신의 선택 = 바위\n",
      "컴퓨터의 선택 = 보\n",
      "아깝게도 져버렸습니다... 다시 도전하세요\n",
      "\n",
      "가위바위보를 합니다. 가위 = 1,바위 = 2,보 = 3 >2\n",
      "당신의 선택 = 바위\n",
      "컴퓨터의 선택 = 가위\n",
      "당신이 이겼습니다! 현재 1승!\n",
      "\n",
      "가위바위보를 합니다. 가위 = 1,바위 = 2,보 = 3 >2\n",
      "당신의 선택 = 바위\n",
      "컴퓨터의 선택 = 보\n",
      "아깝게도 져버렸습니다... 다시 도전하세요\n",
      "\n",
      "가위바위보를 합니다. 가위 = 1,바위 = 2,보 = 3 >2\n",
      "당신의 선택 = 바위\n",
      "컴퓨터의 선택 = 바위\n",
      "비겼군요. 다시 도전하세요\n",
      "\n",
      "가위바위보를 합니다. 가위 = 1,바위 = 2,보 = 3 >2\n",
      "당신의 선택 = 바위\n",
      "컴퓨터의 선택 = 바위\n",
      "비겼군요. 다시 도전하세요\n",
      "\n",
      "가위바위보를 합니다. 가위 = 1,바위 = 2,보 = 3 >2\n",
      "당신의 선택 = 바위\n",
      "컴퓨터의 선택 = 보\n",
      "아깝게도 져버렸습니다... 다시 도전하세요\n",
      "\n",
      "가위바위보를 합니다. 가위 = 1,바위 = 2,보 = 3 >2\n",
      "당신의 선택 = 바위\n",
      "컴퓨터의 선택 = 바위\n",
      "비겼군요. 다시 도전하세요\n",
      "\n",
      "가위바위보를 합니다. 가위 = 1,바위 = 2,보 = 3 >2\n",
      "당신의 선택 = 바위\n",
      "컴퓨터의 선택 = 가위\n",
      "당신이 이겼습니다! 현재 2승!\n",
      "\n",
      "가위바위보를 합니다. 가위 = 1,바위 = 2,보 = 3 >2\n",
      "당신의 선택 = 바위\n",
      "컴퓨터의 선택 = 가위\n",
      "당신이 이겼습니다! 현재 3승!\n",
      "\n",
      "3승을 달성했으므로 게임을 종료합니다.\n"
     ]
    }
   ],
   "source": [
    "# [과제]player가 3승할때까지 계속 진행되는 가위바위보 게임 프로그램을 작성하세요\n",
    "# 가위 : 1, 바위 : 2 , 보 : 3\n",
    "\n",
    "import numpy as np\n",
    "\n",
    "def rspgame(player,computer):\n",
    "    if player == computer:\n",
    "        return 'draw'\n",
    "    elif player == '가위':\n",
    "        if computer == '보':\n",
    "            return 'win'\n",
    "        elif computer == '바위':\n",
    "            return 'lose'\n",
    "    elif player == '바위':\n",
    "        if computer == '가위':\n",
    "            return 'win'\n",
    "        elif computer == '보':\n",
    "            return 'lose'\n",
    "    elif player == '보':\n",
    "        if computer == '바위':\n",
    "            return 'win'\n",
    "        elif computer == '가위':\n",
    "            return 'lose'\n",
    "        \n",
    "winCount = 0\n",
    "rsp = ['가위','바위','보']\n",
    "while 1:\n",
    "    if winCount == 3:\n",
    "        print('3승을 달성했으므로 게임을 종료합니다.')\n",
    "        break\n",
    "    player = int(input('가위바위보를 합니다. 가위 = 1,바위 = 2,보 = 3 >'))\n",
    "    if player not in [1,2,3]:\n",
    "        print('잘못 입력했습니다. 다시 입력하세요')\n",
    "        continue\n",
    "    playerChoice = rsp[player-1]\n",
    "    print(f'당신의 선택 = {playerChoice}')\n",
    "    computer = np.random.randint(3,size = 1)\n",
    "    computernum = computer[0]\n",
    "    computerChoice = rsp[computernum]\n",
    "    print(f'컴퓨터의 선택 = {computerChoice}')\n",
    "    \n",
    "    result = rspgame(playerChoice,computerChoice)\n",
    "    \n",
    "    if result == 'win':\n",
    "        winCount += 1\n",
    "        print(f'당신이 이겼습니다! 현재 {winCount}승!')\n",
    "    elif result == 'lose':\n",
    "        print('아깝게도 져버렸습니다... 다시 도전하세요')\n",
    "    elif result == 'draw':\n",
    "        print('비겼군요. 다시 도전하세요')\n",
    "    print('')\n"
   ]
  },
  {
   "cell_type": "code",
   "execution_count": 240,
   "id": "5097fb68",
   "metadata": {},
   "outputs": [
    {
     "name": "stdout",
     "output_type": "stream",
     "text": [
      "컴퓨터가 숫자를 1에서 100까지 생성합니다\n",
      "정답을 맞춰봐요> 50\n",
      "down\n",
      "정답을 맞춰봐요> 25\n",
      "up\n",
      "정답을 맞춰봐요> 37\n",
      "down\n",
      "정답을 맞춰봐요> 31\n",
      "맞췄습니다!\n",
      "y를 눌러게임을 그만할까요?> y\n",
      "게임을 그만둡니다\n"
     ]
    }
   ],
   "source": [
    "#컴퓨터가 랜덤하게 생성하는 숫자 맞추기 프로그램\n",
    "import numpy as np\n",
    "\n",
    "while 1:\n",
    "    \n",
    "    print('컴퓨터가 숫자를 1에서 100까지 생성합니다')\n",
    "    comnum = np.random.randint(1,101)\n",
    "    while 1:\n",
    "        answer = int(input('정답을 맞춰봐요> '))\n",
    "        if answer not in range(0,100):\n",
    "            print('다시 쓰세요')\n",
    "            continue\n",
    "        elif answer > comnum:\n",
    "            print('down')\n",
    "            continue\n",
    "        elif answer < comnum:\n",
    "            print('up')\n",
    "            continue\n",
    "        elif answer == comnum:\n",
    "            print('맞췄습니다!')\n",
    "            break\n",
    "            \n",
    "    respond = input('y를 눌러게임을 그만할까요?> ')\n",
    "    if respond == 'y':\n",
    "        print('게임을 그만둡니다')\n",
    "        break\n",
    "    else:\n",
    "        print('그럼 한번 더합니다')\n",
    "        continue"
   ]
  },
  {
   "cell_type": "code",
   "execution_count": 21,
   "id": "cedc99d6",
   "metadata": {},
   "outputs": [
    {
     "name": "stdout",
     "output_type": "stream",
     "text": [
      "첫번째 숫자를 입력하세요> 0\n",
      "두번째 숫자를 입력하세요> 1\n",
      "세번째 숫자를 입력하세요> 2\n",
      "네번째 숫자를 입력하세요> 3\n",
      "다섯번째 숫자를 입력하세요> 4\n",
      "어느 연산을 해보시겠나요 sub or div> div\n",
      "0.0\n"
     ]
    },
    {
     "ename": "KeyboardInterrupt",
     "evalue": "Interrupted by user",
     "output_type": "error",
     "traceback": [
      "\u001b[1;31m---------------------------------------------------------------------------\u001b[0m",
      "\u001b[1;31mKeyboardInterrupt\u001b[0m                         Traceback (most recent call last)",
      "\u001b[1;32m~\\AppData\\Local\\Temp/ipykernel_8984/3264982535.py\u001b[0m in \u001b[0;36m<module>\u001b[1;34m\u001b[0m\n\u001b[0;32m     40\u001b[0m \u001b[1;33m\u001b[0m\u001b[0m\n\u001b[0;32m     41\u001b[0m \u001b[1;33m\u001b[0m\u001b[0m\n\u001b[1;32m---> 42\u001b[1;33m     \u001b[0my\u001b[0m \u001b[1;33m=\u001b[0m \u001b[0minput\u001b[0m\u001b[1;33m(\u001b[0m\u001b[1;34m'연산을 계속할까요? y/아무거나 > '\u001b[0m\u001b[1;33m)\u001b[0m\u001b[1;33m\u001b[0m\u001b[1;33m\u001b[0m\u001b[0m\n\u001b[0m\u001b[0;32m     43\u001b[0m     \u001b[1;32mif\u001b[0m \u001b[0my\u001b[0m \u001b[1;33m==\u001b[0m \u001b[1;34m'y'\u001b[0m\u001b[1;33m:\u001b[0m\u001b[1;33m\u001b[0m\u001b[1;33m\u001b[0m\u001b[0m\n\u001b[0;32m     44\u001b[0m         \u001b[1;32mcontinue\u001b[0m\u001b[1;33m\u001b[0m\u001b[1;33m\u001b[0m\u001b[0m\n",
      "\u001b[1;32m~\\anaconda3\\envs\\cakd5\\lib\\site-packages\\ipykernel\\kernelbase.py\u001b[0m in \u001b[0;36mraw_input\u001b[1;34m(self, prompt)\u001b[0m\n\u001b[0;32m   1004\u001b[0m                 \u001b[1;34m\"raw_input was called, but this frontend does not support input requests.\"\u001b[0m\u001b[1;33m\u001b[0m\u001b[1;33m\u001b[0m\u001b[0m\n\u001b[0;32m   1005\u001b[0m             )\n\u001b[1;32m-> 1006\u001b[1;33m         return self._input_request(\n\u001b[0m\u001b[0;32m   1007\u001b[0m             \u001b[0mstr\u001b[0m\u001b[1;33m(\u001b[0m\u001b[0mprompt\u001b[0m\u001b[1;33m)\u001b[0m\u001b[1;33m,\u001b[0m\u001b[1;33m\u001b[0m\u001b[1;33m\u001b[0m\u001b[0m\n\u001b[0;32m   1008\u001b[0m             \u001b[0mself\u001b[0m\u001b[1;33m.\u001b[0m\u001b[0m_parent_ident\u001b[0m\u001b[1;33m[\u001b[0m\u001b[1;34m\"shell\"\u001b[0m\u001b[1;33m]\u001b[0m\u001b[1;33m,\u001b[0m\u001b[1;33m\u001b[0m\u001b[1;33m\u001b[0m\u001b[0m\n",
      "\u001b[1;32m~\\anaconda3\\envs\\cakd5\\lib\\site-packages\\ipykernel\\kernelbase.py\u001b[0m in \u001b[0;36m_input_request\u001b[1;34m(self, prompt, ident, parent, password)\u001b[0m\n\u001b[0;32m   1049\u001b[0m             \u001b[1;32mexcept\u001b[0m \u001b[0mKeyboardInterrupt\u001b[0m\u001b[1;33m:\u001b[0m\u001b[1;33m\u001b[0m\u001b[1;33m\u001b[0m\u001b[0m\n\u001b[0;32m   1050\u001b[0m                 \u001b[1;31m# re-raise KeyboardInterrupt, to truncate traceback\u001b[0m\u001b[1;33m\u001b[0m\u001b[1;33m\u001b[0m\u001b[1;33m\u001b[0m\u001b[0m\n\u001b[1;32m-> 1051\u001b[1;33m                 \u001b[1;32mraise\u001b[0m \u001b[0mKeyboardInterrupt\u001b[0m\u001b[1;33m(\u001b[0m\u001b[1;34m\"Interrupted by user\"\u001b[0m\u001b[1;33m)\u001b[0m \u001b[1;32mfrom\u001b[0m \u001b[1;32mNone\u001b[0m\u001b[1;33m\u001b[0m\u001b[1;33m\u001b[0m\u001b[0m\n\u001b[0m\u001b[0;32m   1052\u001b[0m             \u001b[1;32mexcept\u001b[0m \u001b[0mException\u001b[0m\u001b[1;33m:\u001b[0m\u001b[1;33m\u001b[0m\u001b[1;33m\u001b[0m\u001b[0m\n\u001b[0;32m   1053\u001b[0m                 \u001b[0mself\u001b[0m\u001b[1;33m.\u001b[0m\u001b[0mlog\u001b[0m\u001b[1;33m.\u001b[0m\u001b[0mwarning\u001b[0m\u001b[1;33m(\u001b[0m\u001b[1;34m\"Invalid Message:\"\u001b[0m\u001b[1;33m,\u001b[0m \u001b[0mexc_info\u001b[0m\u001b[1;33m=\u001b[0m\u001b[1;32mTrue\u001b[0m\u001b[1;33m)\u001b[0m\u001b[1;33m\u001b[0m\u001b[1;33m\u001b[0m\u001b[0m\n",
      "\u001b[1;31mKeyboardInterrupt\u001b[0m: Interrupted by user"
     ]
    }
   ],
   "source": [
    "# 과제 뺄셈, 나눗셈 멀티 계산 함수를 작성\n",
    "# ('sub' ,2,4,6,8,10)\n",
    "\n",
    "def sub_div(choice,*args):\n",
    "    args = list(args)\n",
    "    if choice == 'sub':\n",
    "        result = args[0]\n",
    "        for i in range(1,len(args)):\n",
    "            result -= args[i]\n",
    "        return result\n",
    "            \n",
    "    elif choice == 'div':\n",
    "        result = args[0]\n",
    "        del args[0]\n",
    "        if 0 in args:\n",
    "            return 'failed to calculate'\n",
    "        for i in range(0,len(args)-1):\n",
    "            result /= args[i]\n",
    "        return result\n",
    "    else:\n",
    "        return 'wrong input'\n",
    "        \n",
    "sub_div('div',2,4,6,8,10)\n",
    "\n",
    "while 1:\n",
    "    a = int(input('첫번째 숫자를 입력하세요> '))\n",
    "    b = int(input('두번째 숫자를 입력하세요> '))\n",
    "    c = int(input('세번째 숫자를 입력하세요> '))\n",
    "    d = int(input('네번째 숫자를 입력하세요> '))\n",
    "    e = int(input('다섯번째 숫자를 입력하세요> '))\n",
    "    while 1:\n",
    "        cal = input('어느 연산을 해보시겠나요 sub or div> ')\n",
    "        if cal not in ['sub', 'div']:\n",
    "            print('잘못된 입력입니다. 다시 시도하세요')\n",
    "            continue\n",
    "        else:\n",
    "            result = sub_div(cal,a,b,c,d,e)\n",
    "            print(result)\n",
    "            break\n",
    "    \n",
    "    \n",
    "    y = input('연산을 계속할까요? y/아무거나 > ')\n",
    "    if y == 'y':\n",
    "        continue\n",
    "    else:\n",
    "        print('연산을 종료합니다')\n",
    "        break"
   ]
  },
  {
   "cell_type": "code",
   "execution_count": null,
   "id": "68a244da",
   "metadata": {},
   "outputs": [],
   "source": []
  }
 ],
 "metadata": {
  "kernelspec": {
   "display_name": "Python 3 (ipykernel)",
   "language": "python",
   "name": "python3"
  },
  "language_info": {
   "codemirror_mode": {
    "name": "ipython",
    "version": 3
   },
   "file_extension": ".py",
   "mimetype": "text/x-python",
   "name": "python",
   "nbconvert_exporter": "python",
   "pygments_lexer": "ipython3",
   "version": "3.8.12"
  }
 },
 "nbformat": 4,
 "nbformat_minor": 5
}
