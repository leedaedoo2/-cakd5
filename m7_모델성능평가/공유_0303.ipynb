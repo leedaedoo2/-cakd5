{
 "cells": [
  {
   "cell_type": "markdown",
   "id": "7257a64b",
   "metadata": {},
   "source": [
    "[과제] train.csv 파일을 불러와서 분류모델링 평가를 아래와 같이 수행하세요.\n",
    "- dt 모델을 적용하고 GridSearchCV를 사용, 교차검증과 성능 개선을 위한 하이퍼파라미터 튜닝\n",
    "- accuracy에 추가하여 confusion matrix, accuracy, precision, recall, roc auc score 평가\n"
   ]
  },
  {
   "cell_type": "code",
   "execution_count": null,
   "id": "2e6bf12b",
   "metadata": {},
   "outputs": [],
   "source": [
    "tdf = pd.read_csv('./dataset/train.csv')\n",
    "y_tdf = tdf['Survived']\n",
    "X_tdf = tdf.drop('Survived',axis = 1)\n",
    "X_tdf = transform_features(X_tdf)\n",
    "X_tdf.head()"
   ]
  },
  {
   "cell_type": "code",
   "execution_count": null,
   "id": "553d5122",
   "metadata": {},
   "outputs": [],
   "source": [
    "# dt 모델을 적용하고 GridSearchCV를 사용, 교차검증과 성능 개선을 위한 하이퍼파라미터 튜닝\n",
    "from sklearn.model_selection import train_test_split\n",
    "from sklearn.tree import DecisionTreeClassifier\n",
    "\n",
    "X_train,X_test, y_train, y_test = train_test_split(X_tdf,y_tdf,test_size = 0.2,random_state = 11)\n",
    "\n",
    "dt_clf = DecisionTreeClassifier(random_state = 11)\n",
    "dt_clf.fit(X_train,y_train)\n",
    "dt_pred = dt_clf.predict(X_test)\n",
    "print('dt_clf',accuracy_score(y_test,dt_pred))"
   ]
  },
  {
   "cell_type": "code",
   "execution_count": null,
   "id": "98f3594c",
   "metadata": {},
   "outputs": [],
   "source": [
    "from sklearn.model_selection import GridSearchCV\n",
    "\n",
    "parameters = {'max_depth':[2,3,5,10],'min_samples_split':[2,3,5],'min_samples_leaf':[1,5,8]}\n",
    "\n",
    "grid_dclf = GridSearchCV(dt_clf,param_grid=parameters,scoring='accuracy',cv=5)\n",
    "grid_dclf.fit(X_train,y_train)\n",
    "\n",
    "print(grid_dclf.best_params_)\n",
    "print(grid_dclf.best_score_)\n",
    "best_dclf = grid_dclf.best_estimator_\n",
    "\n",
    "dpredictions = best_dclf.predict(X_test)\n",
    "accuracy = accuracy_score(y_test,dpredictions)\n",
    "\n",
    "print(accuracy)"
   ]
  },
  {
   "cell_type": "code",
   "execution_count": null,
   "id": "756c8d92",
   "metadata": {},
   "outputs": [],
   "source": [
    "# accuracy에 추가하여 confusion matrix, accuracy, precision, recall, roc auc score 평가\n",
    "from sklearn.metrics import roc_auc_score\n",
    "from sklearn.metrics import f1_score\n",
    "pred_proba = dt_clf.predict_proba(X_test)[:,1]\n",
    "\n",
    "def get_clf_evals(y_test,pred=None,pred_proba=None):\n",
    "    confusion = confusion_matrix(y_test,pred)\n",
    "    accuracy = accuracy_score(y_test,pred)\n",
    "    precision = precision_score(y_test,pred)\n",
    "    recall = recall_score(y_test,pred)\n",
    "    f1 = f1_score(y_test,pred)\n",
    "    roc_auc = roc_auc_score(y_test,pred_proba)\n",
    "    \n",
    "    print(f'오차 행렬:\\n {confusion}')\n",
    "    print(f'정확도: {round(accuracy,4)}, 정밀도: {round(precision,4)}, 재현율: {round(recall,4)}, f1 score: {round(f1,4)}, auc: {round(roc_auc,4)}')\n",
    "    \n",
    "get_clf_evals(y_test,dt_pred,pred_proba)"
   ]
  }
 ],
 "metadata": {
  "kernelspec": {
   "display_name": "Python 3 (ipykernel)",
   "language": "python",
   "name": "python3"
  },
  "language_info": {
   "codemirror_mode": {
    "name": "ipython",
    "version": 3
   },
   "file_extension": ".py",
   "mimetype": "text/x-python",
   "name": "python",
   "nbconvert_exporter": "python",
   "pygments_lexer": "ipython3",
   "version": "3.8.12"
  }
 },
 "nbformat": 4,
 "nbformat_minor": 5
}
