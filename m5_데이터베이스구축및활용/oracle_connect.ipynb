{
 "cells": [
  {
   "cell_type": "code",
   "execution_count": 2,
   "id": "0f832756",
   "metadata": {
    "scrolled": true
   },
   "outputs": [
    {
     "name": "stdout",
     "output_type": "stream",
     "text": [
      "Collecting cx_oracle\n",
      "  Downloading cx_Oracle-8.3.0-cp38-cp38-win_amd64.whl (219 kB)\n",
      "Installing collected packages: cx-oracle\n",
      "Successfully installed cx-oracle-8.3.0\n"
     ]
    }
   ],
   "source": [
    "!pip install cx_oracle"
   ]
  },
  {
   "cell_type": "code",
   "execution_count": 3,
   "id": "2323cb5d",
   "metadata": {},
   "outputs": [
    {
     "data": {
      "text/plain": [
       "'(DESCRIPTION=(ADDRESS=(PROTOCOL=TCP)(HOST=localhost)(PORT=1521))(CONNECT_DATA=(SID=xe)))'"
      ]
     },
     "execution_count": 3,
     "metadata": {},
     "output_type": "execute_result"
    }
   ],
   "source": [
    "import cx_Oracle\n",
    "\n",
    "dsn = cx_Oracle.makedsn('localhost',1521,'xe')\n",
    "dsn"
   ]
  },
  {
   "cell_type": "code",
   "execution_count": 4,
   "id": "4857b18b",
   "metadata": {},
   "outputs": [
    {
     "data": {
      "text/plain": [
       "<cx_Oracle.Connection to C##CAKD5@(DESCRIPTION=(ADDRESS=(PROTOCOL=TCP)(HOST=localhost)(PORT=1521))(CONNECT_DATA=(SID=xe)))>"
      ]
     },
     "execution_count": 4,
     "metadata": {},
     "output_type": "execute_result"
    }
   ],
   "source": [
    "db = cx_Oracle.connect('C##CAKD5','CAKD5',dsn)\n",
    "db"
   ]
  },
  {
   "cell_type": "code",
   "execution_count": 5,
   "id": "7e6686b6",
   "metadata": {
    "scrolled": true
   },
   "outputs": [
    {
     "data": {
      "text/html": [
       "<div>\n",
       "<style scoped>\n",
       "    .dataframe tbody tr th:only-of-type {\n",
       "        vertical-align: middle;\n",
       "    }\n",
       "\n",
       "    .dataframe tbody tr th {\n",
       "        vertical-align: top;\n",
       "    }\n",
       "\n",
       "    .dataframe thead th {\n",
       "        text-align: right;\n",
       "    }\n",
       "</style>\n",
       "<table border=\"1\" class=\"dataframe\">\n",
       "  <thead>\n",
       "    <tr style=\"text-align: right;\">\n",
       "      <th></th>\n",
       "      <th>BOOKID</th>\n",
       "      <th>BOOKNAME</th>\n",
       "      <th>PUBLISHER</th>\n",
       "      <th>PRICE</th>\n",
       "    </tr>\n",
       "  </thead>\n",
       "  <tbody>\n",
       "    <tr>\n",
       "      <th>0</th>\n",
       "      <td>1</td>\n",
       "      <td>축구의 역사</td>\n",
       "      <td>굿스포츠</td>\n",
       "      <td>7000</td>\n",
       "    </tr>\n",
       "    <tr>\n",
       "      <th>1</th>\n",
       "      <td>2</td>\n",
       "      <td>축구아는 여자</td>\n",
       "      <td>나무수</td>\n",
       "      <td>13000</td>\n",
       "    </tr>\n",
       "    <tr>\n",
       "      <th>2</th>\n",
       "      <td>3</td>\n",
       "      <td>축구의 이해</td>\n",
       "      <td>대한미디어</td>\n",
       "      <td>22000</td>\n",
       "    </tr>\n",
       "    <tr>\n",
       "      <th>3</th>\n",
       "      <td>4</td>\n",
       "      <td>골프 바이블</td>\n",
       "      <td>대한미디어</td>\n",
       "      <td>35000</td>\n",
       "    </tr>\n",
       "    <tr>\n",
       "      <th>4</th>\n",
       "      <td>5</td>\n",
       "      <td>피겨 교본</td>\n",
       "      <td>굿스포츠</td>\n",
       "      <td>8000</td>\n",
       "    </tr>\n",
       "  </tbody>\n",
       "</table>\n",
       "</div>"
      ],
      "text/plain": [
       "   BOOKID BOOKNAME PUBLISHER  PRICE\n",
       "0       1   축구의 역사      굿스포츠   7000\n",
       "1       2  축구아는 여자       나무수  13000\n",
       "2       3   축구의 이해     대한미디어  22000\n",
       "3       4   골프 바이블     대한미디어  35000\n",
       "4       5    피겨 교본      굿스포츠   8000"
      ]
     },
     "execution_count": 5,
     "metadata": {},
     "output_type": "execute_result"
    }
   ],
   "source": [
    "import pandas as pd\n",
    "cursor = db.cursor()\n",
    "cursor.execute('select * from book')\n",
    "x = cursor.fetchall()\n",
    "columns = ['BOOKID','BOOKNAME','PUBLISHER','PRICE']\n",
    "df = pd.DataFrame(x, columns = columns)\n",
    "df.head()"
   ]
  },
  {
   "cell_type": "code",
   "execution_count": 8,
   "id": "fd017d0b",
   "metadata": {},
   "outputs": [],
   "source": [
    "# create\n",
    "\n",
    "import cx_Oracle\n",
    "con = cx_Oracle.connect('C##CAKD5/CAKD5@localhost:1521/xe')\n",
    "cursor = con.cursor()\n",
    "sql = \"create table sample1(id varchar2(10), score number)\"\n",
    "cursor.execute(sql)\n",
    "cursor.close()\n",
    "con.commit()\n",
    "con.close()"
   ]
  },
  {
   "cell_type": "code",
   "execution_count": 10,
   "id": "5ed8f62e",
   "metadata": {},
   "outputs": [],
   "source": [
    "# insert\n",
    "\n",
    "def insert(t):\n",
    "    con = cx_Oracle.connect('C##CAKD5/CAKD5@localhost:1521/xe')\n",
    "    cursor = con.cursor()\n",
    "    sql = \"insert into sample1 (id,score) values(:1,:2)\"\n",
    "    cursor.execute(sql,t)\n",
    "    cursor.close()\n",
    "    con.commit()\n",
    "    con.close()\n",
    "    \n",
    "insert(('111',80))"
   ]
  },
  {
   "cell_type": "code",
   "execution_count": 11,
   "id": "b8bfb56b",
   "metadata": {},
   "outputs": [],
   "source": [
    "# 여러개 insert\n",
    "def insertmany(t):\n",
    "    con = cx_Oracle.connect('C##CAKD5/CAKD5@localhost:1521/xe')\n",
    "    cursor = con.cursor()\n",
    "    sql = \"insert into sample1 (id,score) values(:1,:2)\"\n",
    "    cursor.executemany(sql,t)\n",
    "    cursor.close()\n",
    "    con.commit()\n",
    "    con.close()\n",
    "\n",
    "\n",
    "rows = [('112',90),('113',70),('114',80),('115',90),('116',85)]\n",
    "insertmany(rows)"
   ]
  },
  {
   "cell_type": "code",
   "execution_count": 14,
   "id": "cbc4738a",
   "metadata": {},
   "outputs": [],
   "source": [
    "# 세 개의 속성으로 구성되는 테이블을 생성하고 10개의 데이터를 입력(사용자 함수 사용)\n",
    "\n",
    "con = cx_Oracle.connect('C##CAKD5/CAKD5@localhost:1521/xe')\n",
    "cursor = con.cursor()\n",
    "sql = \"create table sample2(col1 varchar2(10), col2 number, col3 number, CONSTRAINT sample_pk PRIMARY KEY(col1))\"\n",
    "cursor.execute(sql)\n",
    "cursor.close()\n",
    "con.commit()\n",
    "con.close()\n",
    "\n",
    "rows = [('a',1,11),('b',2,22),('c',3,33),('d',4,44),('e',5,55),('f',6,66),('g',7,77),('h',8,88),('i',9,99),('j',10,100)]\n",
    "\n",
    "def insertmany(t):\n",
    "    con = cx_Oracle.connect('C##CAKD5/CAKD5@localhost:1521/xe')\n",
    "    cursor = con.cursor()\n",
    "    sql = \"insert into sample2 (col1,col2,col3) values(:1,:2,:3)\"\n",
    "    cursor.executemany(sql,t)\n",
    "    cursor.close()\n",
    "    con.commit()\n",
    "    con.close()\n",
    "insertmany(rows)"
   ]
  },
  {
   "cell_type": "code",
   "execution_count": 20,
   "id": "a78b8230",
   "metadata": {},
   "outputs": [],
   "source": [
    "# update\n",
    "def updatecol(t):\n",
    "    con = cx_Oracle.connect('C##CAKD5/CAKD5@localhost:1521/xe')\n",
    "    cursor = con.cursor()\n",
    "    sql = \"update sample2 set col1=:1 where col3=:2\"\n",
    "    cursor.execute(sql,t)\n",
    "    cursor.close()\n",
    "    con.commit()\n",
    "    con.close()\n",
    "updatecol(('aa',11))"
   ]
  },
  {
   "cell_type": "code",
   "execution_count": 23,
   "id": "c7767d91",
   "metadata": {},
   "outputs": [],
   "source": [
    "# delete\n",
    "def deletecol(t):\n",
    "    con = cx_Oracle.connect('C##CAKD5/CAKD5@localhost:1521/xe')\n",
    "    cursor = con.cursor()\n",
    "    sql = \"delete from sample2 where col3=:1\"\n",
    "    cursor.execute(sql,t)\n",
    "    cursor.close()\n",
    "    con.commit()\n",
    "    con.close()\n",
    "deletecol((100,))"
   ]
  },
  {
   "cell_type": "code",
   "execution_count": 29,
   "id": "001e9d44",
   "metadata": {},
   "outputs": [
    {
     "name": "stdout",
     "output_type": "stream",
     "text": [
      "['COL1', 'COL2', 'COL3']\n"
     ]
    },
    {
     "data": {
      "text/html": [
       "<div>\n",
       "<style scoped>\n",
       "    .dataframe tbody tr th:only-of-type {\n",
       "        vertical-align: middle;\n",
       "    }\n",
       "\n",
       "    .dataframe tbody tr th {\n",
       "        vertical-align: top;\n",
       "    }\n",
       "\n",
       "    .dataframe thead th {\n",
       "        text-align: right;\n",
       "    }\n",
       "</style>\n",
       "<table border=\"1\" class=\"dataframe\">\n",
       "  <thead>\n",
       "    <tr style=\"text-align: right;\">\n",
       "      <th></th>\n",
       "      <th>COL1</th>\n",
       "      <th>COL2</th>\n",
       "      <th>COL3</th>\n",
       "    </tr>\n",
       "  </thead>\n",
       "  <tbody>\n",
       "    <tr>\n",
       "      <th>0</th>\n",
       "      <td>aa</td>\n",
       "      <td>1</td>\n",
       "      <td>11</td>\n",
       "    </tr>\n",
       "    <tr>\n",
       "      <th>1</th>\n",
       "      <td>b</td>\n",
       "      <td>2</td>\n",
       "      <td>22</td>\n",
       "    </tr>\n",
       "    <tr>\n",
       "      <th>2</th>\n",
       "      <td>c</td>\n",
       "      <td>3</td>\n",
       "      <td>33</td>\n",
       "    </tr>\n",
       "    <tr>\n",
       "      <th>3</th>\n",
       "      <td>d</td>\n",
       "      <td>4</td>\n",
       "      <td>44</td>\n",
       "    </tr>\n",
       "    <tr>\n",
       "      <th>4</th>\n",
       "      <td>e</td>\n",
       "      <td>5</td>\n",
       "      <td>55</td>\n",
       "    </tr>\n",
       "    <tr>\n",
       "      <th>5</th>\n",
       "      <td>f</td>\n",
       "      <td>6</td>\n",
       "      <td>66</td>\n",
       "    </tr>\n",
       "    <tr>\n",
       "      <th>6</th>\n",
       "      <td>g</td>\n",
       "      <td>7</td>\n",
       "      <td>77</td>\n",
       "    </tr>\n",
       "    <tr>\n",
       "      <th>7</th>\n",
       "      <td>h</td>\n",
       "      <td>8</td>\n",
       "      <td>88</td>\n",
       "    </tr>\n",
       "    <tr>\n",
       "      <th>8</th>\n",
       "      <td>i</td>\n",
       "      <td>9</td>\n",
       "      <td>99</td>\n",
       "    </tr>\n",
       "  </tbody>\n",
       "</table>\n",
       "</div>"
      ],
      "text/plain": [
       "  COL1  COL2  COL3\n",
       "0   aa     1    11\n",
       "1    b     2    22\n",
       "2    c     3    33\n",
       "3    d     4    44\n",
       "4    e     5    55\n",
       "5    f     6    66\n",
       "6    g     7    77\n",
       "7    h     8    88\n",
       "8    i     9    99"
      ]
     },
     "metadata": {},
     "output_type": "display_data"
    }
   ],
   "source": [
    "import pandas as pd\n",
    "con = cx_Oracle.connect('C##CAKD5/CAKD5@localhost:1521/xe')\n",
    "cursor = con.cursor()\n",
    "sql = \"select * from sample2\"\n",
    "cursor.execute(sql)\n",
    "x = cursor.fetchall()\n",
    "cursor.execute(\"select column_name from user_tab_columns where table_name = 'SAMPLE2'\")\n",
    "col = cursor.fetchall()\n",
    "col_list = []\n",
    "for i in col:\n",
    "    col_list.append(i[0])\n",
    "print(col_list)\n",
    "\n",
    "df_col = pd.DataFrame(x,columns = col_list)\n",
    "display(df_col)\n",
    "cursor.close()\n",
    "con.close()"
   ]
  },
  {
   "cell_type": "code",
   "execution_count": 31,
   "id": "dd849d03",
   "metadata": {},
   "outputs": [],
   "source": [
    "df_col.to_csv('./data/col3.csv')"
   ]
  },
  {
   "cell_type": "code",
   "execution_count": 37,
   "id": "b9b0f433",
   "metadata": {
    "scrolled": true
   },
   "outputs": [
    {
     "data": {
      "text/plain": [
       "[('aa', '1', '11'),\n",
       " ('b', '2', '22'),\n",
       " ('c', '3', '33'),\n",
       " ('d', '4', '44'),\n",
       " ('e', '5', '55'),\n",
       " ('f', '6', '66'),\n",
       " ('g', '7', '77'),\n",
       " ('h', '8', '88'),\n",
       " ('i', '9', '99')]"
      ]
     },
     "execution_count": 37,
     "metadata": {},
     "output_type": "execute_result"
    }
   ],
   "source": [
    "import csv\n",
    "with open('./data/col3.csv','r') as csv_file:\n",
    "    csv_reader = csv.reader(csv_file)\n",
    "    next(csv_reader)\n",
    "    data = []\n",
    "    for line in csv_reader:\n",
    "        data.append((line[1],line[2],line[3]))\n",
    "data"
   ]
  },
  {
   "cell_type": "code",
   "execution_count": 38,
   "id": "84ee2d23",
   "metadata": {},
   "outputs": [],
   "source": [
    "con = cx_Oracle.connect('C##CAKD5/CAKD5@localhost:1521/xe')\n",
    "cursor = con.cursor()\n",
    "sql = \"alter table sample2 drop constraint sample_pk\"\n",
    "cursor.execute(sql)\n",
    "cursor.close()\n",
    "con.commit()\n",
    "con.close()"
   ]
  },
  {
   "cell_type": "code",
   "execution_count": 40,
   "id": "f54d5d90",
   "metadata": {},
   "outputs": [],
   "source": [
    "with open('./data/col3.csv','r') as csv_file:\n",
    "    csv_reader = csv.reader(csv_file)\n",
    "    next(csv_reader)\n",
    "    con = cx_Oracle.connect('C##CAKD5/CAKD5@localhost:1521/xe')\n",
    "    cursor = con.cursor()\n",
    "    sql = \"insert into sample2 (col1,col2,col3) values(:1,:2,:3)\"\n",
    "    data = []\n",
    "    for line in csv_reader:\n",
    "        data.append((line[1],line[2],line[3]))\n",
    "    cursor.executemany(sql,data)\n",
    "    cursor.close()\n",
    "    con.commit()\n",
    "    con.close()"
   ]
  },
  {
   "cell_type": "code",
   "execution_count": 41,
   "id": "6b43a85e",
   "metadata": {
    "scrolled": true
   },
   "outputs": [
    {
     "data": {
      "text/html": [
       "<div>\n",
       "<style scoped>\n",
       "    .dataframe tbody tr th:only-of-type {\n",
       "        vertical-align: middle;\n",
       "    }\n",
       "\n",
       "    .dataframe tbody tr th {\n",
       "        vertical-align: top;\n",
       "    }\n",
       "\n",
       "    .dataframe thead th {\n",
       "        text-align: right;\n",
       "    }\n",
       "</style>\n",
       "<table border=\"1\" class=\"dataframe\">\n",
       "  <thead>\n",
       "    <tr style=\"text-align: right;\">\n",
       "      <th></th>\n",
       "      <th>id</th>\n",
       "      <th>sales</th>\n",
       "    </tr>\n",
       "  </thead>\n",
       "  <tbody>\n",
       "    <tr>\n",
       "      <th>0</th>\n",
       "      <td>0</td>\n",
       "      <td>39</td>\n",
       "    </tr>\n",
       "    <tr>\n",
       "      <th>1</th>\n",
       "      <td>1</td>\n",
       "      <td>38</td>\n",
       "    </tr>\n",
       "    <tr>\n",
       "      <th>2</th>\n",
       "      <td>2</td>\n",
       "      <td>1</td>\n",
       "    </tr>\n",
       "    <tr>\n",
       "      <th>3</th>\n",
       "      <td>3</td>\n",
       "      <td>80</td>\n",
       "    </tr>\n",
       "    <tr>\n",
       "      <th>4</th>\n",
       "      <td>4</td>\n",
       "      <td>54</td>\n",
       "    </tr>\n",
       "  </tbody>\n",
       "</table>\n",
       "</div>"
      ],
      "text/plain": [
       "   id  sales\n",
       "0   0     39\n",
       "1   1     38\n",
       "2   2      1\n",
       "3   3     80\n",
       "4   4     54"
      ]
     },
     "execution_count": 41,
     "metadata": {},
     "output_type": "execute_result"
    }
   ],
   "source": [
    "import numpy as np\n",
    "import pandas as pd\n",
    "\n",
    "df=pd.DataFrame()\n",
    "df['id'] = np.arange(10000)\n",
    "df['sales'] = np.random.randint(1,100,size=10000)\n",
    "df.head()"
   ]
  },
  {
   "cell_type": "code",
   "execution_count": 42,
   "id": "f77ace1b",
   "metadata": {},
   "outputs": [],
   "source": [
    "# id의 자료타입을 number로 변경하여 id 기준으로 올림차순으로 정렬하여 출력\n",
    "import cx_Oracle\n",
    "con = cx_Oracle.connect('C##CAKD5/CAKD5@localhost:1521/xe')\n",
    "cursor = con.cursor()\n",
    "sql = \"create table sample3(id number, sales number)\"\n",
    "cursor.execute(sql)\n",
    "cursor.close()\n",
    "con.commit()\n",
    "con.close()"
   ]
  },
  {
   "cell_type": "code",
   "execution_count": 49,
   "id": "1e5e7b1a",
   "metadata": {},
   "outputs": [],
   "source": [
    "\n",
    "datas = []\n",
    "for i in range(10000):\n",
    "    datas.append((int(df.loc[i,'id']),int(df.loc[i,'sales'])))\n",
    "con = cx_Oracle.connect('C##CAKD5/CAKD5@localhost:1521/xe')\n",
    "cursor = con.cursor()\n",
    "sql = \"insert into sample3 (id,sales) values(:1,:2)\"\n",
    "cursor.executemany(sql,datas)\n",
    "cursor.close()\n",
    "con.commit()\n",
    "con.close()"
   ]
  },
  {
   "cell_type": "markdown",
   "id": "5ca1f74e",
   "metadata": {},
   "source": [
    "[과제] employees 테이블을 불러와서 다음사항을 수행하세요.\n",
    "- 컬럼명을 포함하여 employees 테이블을 데이터프레임으로 출력\n",
    "- department_id별 평균 연봉을 출력\n",
    "- 부서별 평균 연봉을 수평 그래프로 시각화\n"
   ]
  },
  {
   "cell_type": "code",
   "execution_count": 52,
   "id": "d8512a06",
   "metadata": {
    "scrolled": false
   },
   "outputs": [
    {
     "name": "stdout",
     "output_type": "stream",
     "text": [
      "['EMPLOYEE_ID', 'FIRST_NAME', 'LAST_NAME', 'EMAIL', 'PHONE_NUMBER', 'HIRE_DATE', 'JOB_ID', 'SALARY', 'COMMISSION_PCT', 'MANAGER_ID', 'DEPARTMENT_ID']\n"
     ]
    },
    {
     "data": {
      "text/html": [
       "<div>\n",
       "<style scoped>\n",
       "    .dataframe tbody tr th:only-of-type {\n",
       "        vertical-align: middle;\n",
       "    }\n",
       "\n",
       "    .dataframe tbody tr th {\n",
       "        vertical-align: top;\n",
       "    }\n",
       "\n",
       "    .dataframe thead th {\n",
       "        text-align: right;\n",
       "    }\n",
       "</style>\n",
       "<table border=\"1\" class=\"dataframe\">\n",
       "  <thead>\n",
       "    <tr style=\"text-align: right;\">\n",
       "      <th></th>\n",
       "      <th>EMPLOYEE_ID</th>\n",
       "      <th>FIRST_NAME</th>\n",
       "      <th>LAST_NAME</th>\n",
       "      <th>EMAIL</th>\n",
       "      <th>PHONE_NUMBER</th>\n",
       "      <th>HIRE_DATE</th>\n",
       "      <th>JOB_ID</th>\n",
       "      <th>SALARY</th>\n",
       "      <th>COMMISSION_PCT</th>\n",
       "      <th>MANAGER_ID</th>\n",
       "      <th>DEPARTMENT_ID</th>\n",
       "    </tr>\n",
       "  </thead>\n",
       "  <tbody>\n",
       "    <tr>\n",
       "      <th>0</th>\n",
       "      <td>100</td>\n",
       "      <td>Steven</td>\n",
       "      <td>King</td>\n",
       "      <td>SKING</td>\n",
       "      <td>515.123.4567</td>\n",
       "      <td>2003-06-17</td>\n",
       "      <td>AD_PRES</td>\n",
       "      <td>24000.0</td>\n",
       "      <td>NaN</td>\n",
       "      <td>NaN</td>\n",
       "      <td>90.0</td>\n",
       "    </tr>\n",
       "    <tr>\n",
       "      <th>1</th>\n",
       "      <td>101</td>\n",
       "      <td>Neena</td>\n",
       "      <td>Kochhar</td>\n",
       "      <td>NKOCHHAR</td>\n",
       "      <td>515.123.4568</td>\n",
       "      <td>2005-09-21</td>\n",
       "      <td>AD_VP</td>\n",
       "      <td>17000.0</td>\n",
       "      <td>NaN</td>\n",
       "      <td>100.0</td>\n",
       "      <td>90.0</td>\n",
       "    </tr>\n",
       "    <tr>\n",
       "      <th>2</th>\n",
       "      <td>102</td>\n",
       "      <td>Lex</td>\n",
       "      <td>De Haan</td>\n",
       "      <td>LDEHAAN</td>\n",
       "      <td>515.123.4569</td>\n",
       "      <td>2001-01-13</td>\n",
       "      <td>AD_VP</td>\n",
       "      <td>17000.0</td>\n",
       "      <td>NaN</td>\n",
       "      <td>100.0</td>\n",
       "      <td>90.0</td>\n",
       "    </tr>\n",
       "    <tr>\n",
       "      <th>3</th>\n",
       "      <td>103</td>\n",
       "      <td>Alexander</td>\n",
       "      <td>Hunold</td>\n",
       "      <td>AHUNOLD</td>\n",
       "      <td>590.423.4567</td>\n",
       "      <td>2006-01-03</td>\n",
       "      <td>IT_PROG</td>\n",
       "      <td>9000.0</td>\n",
       "      <td>NaN</td>\n",
       "      <td>102.0</td>\n",
       "      <td>60.0</td>\n",
       "    </tr>\n",
       "    <tr>\n",
       "      <th>4</th>\n",
       "      <td>104</td>\n",
       "      <td>Bruce</td>\n",
       "      <td>Ernst</td>\n",
       "      <td>BERNST</td>\n",
       "      <td>590.423.4568</td>\n",
       "      <td>2007-05-21</td>\n",
       "      <td>IT_PROG</td>\n",
       "      <td>6000.0</td>\n",
       "      <td>NaN</td>\n",
       "      <td>103.0</td>\n",
       "      <td>60.0</td>\n",
       "    </tr>\n",
       "  </tbody>\n",
       "</table>\n",
       "</div>"
      ],
      "text/plain": [
       "   EMPLOYEE_ID FIRST_NAME LAST_NAME     EMAIL  PHONE_NUMBER  HIRE_DATE  \\\n",
       "0          100     Steven      King     SKING  515.123.4567 2003-06-17   \n",
       "1          101      Neena   Kochhar  NKOCHHAR  515.123.4568 2005-09-21   \n",
       "2          102        Lex   De Haan   LDEHAAN  515.123.4569 2001-01-13   \n",
       "3          103  Alexander    Hunold   AHUNOLD  590.423.4567 2006-01-03   \n",
       "4          104      Bruce     Ernst    BERNST  590.423.4568 2007-05-21   \n",
       "\n",
       "    JOB_ID   SALARY  COMMISSION_PCT  MANAGER_ID  DEPARTMENT_ID  \n",
       "0  AD_PRES  24000.0             NaN         NaN           90.0  \n",
       "1    AD_VP  17000.0             NaN       100.0           90.0  \n",
       "2    AD_VP  17000.0             NaN       100.0           90.0  \n",
       "3  IT_PROG   9000.0             NaN       102.0           60.0  \n",
       "4  IT_PROG   6000.0             NaN       103.0           60.0  "
      ]
     },
     "execution_count": 52,
     "metadata": {},
     "output_type": "execute_result"
    }
   ],
   "source": [
    "con = cx_Oracle.connect('C##CAKD5/CAKD5@localhost:1521/xe')\n",
    "cursor = con.cursor()\n",
    "cursor.execute(\"select column_name from user_tab_columns where table_name = 'EMPLOYEES'\")\n",
    "col = cursor.fetchall()\n",
    "col_list = []\n",
    "for i in col:\n",
    "    col_list.append(i[0])\n",
    "print(col_list)\n",
    "sql = \"select * from employees\"\n",
    "cursor.execute(sql)\n",
    "x = cursor.fetchall()\n",
    "df = pd.DataFrame(x,columns = col_list)\n",
    "df.head()"
   ]
  },
  {
   "cell_type": "code",
   "execution_count": 96,
   "id": "b88e183d",
   "metadata": {},
   "outputs": [
    {
     "name": "stdout",
     "output_type": "stream",
     "text": [
      "[10.0, 20.0, 30.0, 40.0, 50.0, 60.0, 70.0, 80.0, 90.0, 100.0, 110.0]\n",
      "10.0 4400\n",
      "20.0 9500\n",
      "30.0 4150\n",
      "40.0 6500\n",
      "50.0 3476\n",
      "60.0 5760\n",
      "70.0 10000\n",
      "80.0 8956\n",
      "90.0 19333\n",
      "100.0 8601\n",
      "110.0 10154\n"
     ]
    },
    {
     "data": {
      "image/png": "[encoded data removed]",
      "text/plain": [
       "<Figure size 864x576 with 1 Axes>"
      ]
     },
     "metadata": {
      "needs_background": "light"
     },
     "output_type": "display_data"
    }
   ],
   "source": [
    "import matplotlib.pyplot as plt\n",
    "\n",
    "departments = set(list(df['DEPARTMENT_ID']))\n",
    "departments = sorted(list(departments)[1:])\n",
    "print(departments)\n",
    "department = df.groupby('DEPARTMENT_ID')\n",
    "salary_means = []\n",
    "for i in departments:\n",
    "    department_i = department.get_group(i)\n",
    "    print(i,round(department_i['SALARY'].mean()))\n",
    "    salary_means.append(department_i['SALARY'].mean())\n",
    "    \n",
    "plt.figure(figsize = (12,8))\n",
    "plt.bar(departments, salary_means, width = 5,color = 'skyblue')\n",
    "plt.xlabel('deparment_id')\n",
    "plt.ylabel('salary_mean')\n",
    "plt.show()"
   ]
  },
  {
   "cell_type": "markdown",
   "id": "33d05483",
   "metadata": {},
   "source": [
    "[과제] PURPROD 테이블을 불러와서 다음사항을 수행하세요.\n",
    "\n",
    "\n",
    "- 고객별 2014년 2015년 총구매액 및 평균구매액 출력\n",
    "- 고객별 2014 VS 2015 총구매액 기준 성장율"
   ]
  },
  {
   "cell_type": "code",
   "execution_count": 103,
   "id": "9a8458cf",
   "metadata": {
    "scrolled": false
   },
   "outputs": [
    {
     "data": {
      "text/html": [
       "<div>\n",
       "<style scoped>\n",
       "    .dataframe tbody tr th:only-of-type {\n",
       "        vertical-align: middle;\n",
       "    }\n",
       "\n",
       "    .dataframe tbody tr th {\n",
       "        vertical-align: top;\n",
       "    }\n",
       "\n",
       "    .dataframe thead th {\n",
       "        text-align: right;\n",
       "    }\n",
       "</style>\n",
       "<table border=\"1\" class=\"dataframe\">\n",
       "  <thead>\n",
       "    <tr style=\"text-align: right;\">\n",
       "      <th></th>\n",
       "      <th>고객번호</th>\n",
       "      <th>year</th>\n",
       "      <th>총구매금액</th>\n",
       "      <th>평균구매금액</th>\n",
       "    </tr>\n",
       "  </thead>\n",
       "  <tbody>\n",
       "    <tr>\n",
       "      <th>0</th>\n",
       "      <td>00001</td>\n",
       "      <td>2014.0</td>\n",
       "      <td>54041667</td>\n",
       "      <td>90979.24</td>\n",
       "    </tr>\n",
       "    <tr>\n",
       "      <th>1</th>\n",
       "      <td>00001</td>\n",
       "      <td>2015.0</td>\n",
       "      <td>31000883</td>\n",
       "      <td>66956.55</td>\n",
       "    </tr>\n",
       "    <tr>\n",
       "      <th>2</th>\n",
       "      <td>00001</td>\n",
       "      <td>NaN</td>\n",
       "      <td>85042550</td>\n",
       "      <td>80456.53</td>\n",
       "    </tr>\n",
       "    <tr>\n",
       "      <th>3</th>\n",
       "      <td>00002</td>\n",
       "      <td>2014.0</td>\n",
       "      <td>46245330</td>\n",
       "      <td>75812.02</td>\n",
       "    </tr>\n",
       "    <tr>\n",
       "      <th>4</th>\n",
       "      <td>00002</td>\n",
       "      <td>2015.0</td>\n",
       "      <td>53635430</td>\n",
       "      <td>105998.87</td>\n",
       "    </tr>\n",
       "  </tbody>\n",
       "</table>\n",
       "</div>"
      ],
      "text/plain": [
       "    고객번호    year     총구매금액     평균구매금액\n",
       "0  00001  2014.0  54041667   90979.24\n",
       "1  00001  2015.0  31000883   66956.55\n",
       "2  00001     NaN  85042550   80456.53\n",
       "3  00002  2014.0  46245330   75812.02\n",
       "4  00002  2015.0  53635430  105998.87"
      ]
     },
     "execution_count": 103,
     "metadata": {},
     "output_type": "execute_result"
    }
   ],
   "source": [
    "con = cx_Oracle.connect('LM/LM@localhost:1521/xepdb1')\n",
    "cursor = con.cursor()\n",
    "cursor.execute(\"select 고객번호, YEAR, sum(구매금액), round(avg(구매금액),2) from PURPROD group by 고객번호, YEAR order by 고객번호\")\n",
    "x = cursor.fetchall()\n",
    "df2 = pd.DataFrame(x,columns = ['고객번호','year','총구매금액','평균구매금액'])\n"
   ]
  },
  {
   "cell_type": "code",
   "execution_count": 105,
   "id": "caa7d7da",
   "metadata": {},
   "outputs": [
    {
     "name": "stdout",
     "output_type": "stream",
     "text": [
      "<class 'pandas.core.frame.DataFrame'>\n",
      "RangeIndex: 58089 entries, 0 to 58088\n",
      "Data columns (total 4 columns):\n",
      " #   Column  Non-Null Count  Dtype  \n",
      "---  ------  --------------  -----  \n",
      " 0   고객번호    58089 non-null  object \n",
      " 1   year    38706 non-null  float64\n",
      " 2   총구매금액   58089 non-null  int64  \n",
      " 3   평균구매금액  58089 non-null  float64\n",
      "dtypes: float64(2), int64(1), object(1)\n",
      "memory usage: 1.8+ MB\n"
     ]
    }
   ],
   "source": [
    "df2.info()"
   ]
  },
  {
   "cell_type": "code",
   "execution_count": 115,
   "id": "049cf691",
   "metadata": {
    "scrolled": true
   },
   "outputs": [
    {
     "name": "stdout",
     "output_type": "stream",
     "text": [
      "19338\n"
     ]
    },
    {
     "data": {
      "text/html": [
       "<div>\n",
       "<style scoped>\n",
       "    .dataframe tbody tr th:only-of-type {\n",
       "        vertical-align: middle;\n",
       "    }\n",
       "\n",
       "    .dataframe tbody tr th {\n",
       "        vertical-align: top;\n",
       "    }\n",
       "\n",
       "    .dataframe thead th {\n",
       "        text-align: right;\n",
       "    }\n",
       "</style>\n",
       "<table border=\"1\" class=\"dataframe\">\n",
       "  <thead>\n",
       "    <tr style=\"text-align: right;\">\n",
       "      <th></th>\n",
       "      <th>고객번호</th>\n",
       "      <th>year</th>\n",
       "      <th>총구매금액</th>\n",
       "      <th>평균구매금액</th>\n",
       "    </tr>\n",
       "  </thead>\n",
       "  <tbody>\n",
       "    <tr>\n",
       "      <th>0</th>\n",
       "      <td>00001</td>\n",
       "      <td>2014.0</td>\n",
       "      <td>54041667</td>\n",
       "      <td>90979.24</td>\n",
       "    </tr>\n",
       "    <tr>\n",
       "      <th>1</th>\n",
       "      <td>00002</td>\n",
       "      <td>2014.0</td>\n",
       "      <td>46245330</td>\n",
       "      <td>75812.02</td>\n",
       "    </tr>\n",
       "    <tr>\n",
       "      <th>2</th>\n",
       "      <td>00003</td>\n",
       "      <td>2014.0</td>\n",
       "      <td>1893769</td>\n",
       "      <td>2562.61</td>\n",
       "    </tr>\n",
       "    <tr>\n",
       "      <th>3</th>\n",
       "      <td>00004</td>\n",
       "      <td>2014.0</td>\n",
       "      <td>9299616</td>\n",
       "      <td>21039.86</td>\n",
       "    </tr>\n",
       "    <tr>\n",
       "      <th>4</th>\n",
       "      <td>00005</td>\n",
       "      <td>2014.0</td>\n",
       "      <td>7685880</td>\n",
       "      <td>15159.53</td>\n",
       "    </tr>\n",
       "  </tbody>\n",
       "</table>\n",
       "</div>"
      ],
      "text/plain": [
       "    고객번호    year     총구매금액    평균구매금액\n",
       "0  00001  2014.0  54041667  90979.24\n",
       "1  00002  2014.0  46245330  75812.02\n",
       "2  00003  2014.0   1893769   2562.61\n",
       "3  00004  2014.0   9299616  21039.86\n",
       "4  00005  2014.0   7685880  15159.53"
      ]
     },
     "execution_count": 115,
     "metadata": {},
     "output_type": "execute_result"
    }
   ],
   "source": [
    "grouped = df2.groupby('year')\n",
    "group2014 = grouped.get_group(2014)\n",
    "print(len(group2014))\n",
    "group2014.set_index(np.arange(len(group2014)),inplace=True)\n",
    "group2014.head()"
   ]
  },
  {
   "cell_type": "code",
   "execution_count": 114,
   "id": "94e3576d",
   "metadata": {
    "scrolled": true
   },
   "outputs": [
    {
     "name": "stdout",
     "output_type": "stream",
     "text": [
      "19368\n"
     ]
    },
    {
     "data": {
      "text/html": [
       "<div>\n",
       "<style scoped>\n",
       "    .dataframe tbody tr th:only-of-type {\n",
       "        vertical-align: middle;\n",
       "    }\n",
       "\n",
       "    .dataframe tbody tr th {\n",
       "        vertical-align: top;\n",
       "    }\n",
       "\n",
       "    .dataframe thead th {\n",
       "        text-align: right;\n",
       "    }\n",
       "</style>\n",
       "<table border=\"1\" class=\"dataframe\">\n",
       "  <thead>\n",
       "    <tr style=\"text-align: right;\">\n",
       "      <th></th>\n",
       "      <th>고객번호</th>\n",
       "      <th>year</th>\n",
       "      <th>총구매금액</th>\n",
       "      <th>평균구매금액</th>\n",
       "    </tr>\n",
       "  </thead>\n",
       "  <tbody>\n",
       "    <tr>\n",
       "      <th>0</th>\n",
       "      <td>00001</td>\n",
       "      <td>2015.0</td>\n",
       "      <td>31000883</td>\n",
       "      <td>66956.55</td>\n",
       "    </tr>\n",
       "    <tr>\n",
       "      <th>1</th>\n",
       "      <td>00002</td>\n",
       "      <td>2015.0</td>\n",
       "      <td>53635430</td>\n",
       "      <td>105998.87</td>\n",
       "    </tr>\n",
       "    <tr>\n",
       "      <th>2</th>\n",
       "      <td>00003</td>\n",
       "      <td>2015.0</td>\n",
       "      <td>1271398</td>\n",
       "      <td>2812.83</td>\n",
       "    </tr>\n",
       "    <tr>\n",
       "      <th>3</th>\n",
       "      <td>00004</td>\n",
       "      <td>2015.0</td>\n",
       "      <td>7394194</td>\n",
       "      <td>15152.04</td>\n",
       "    </tr>\n",
       "    <tr>\n",
       "      <th>4</th>\n",
       "      <td>00005</td>\n",
       "      <td>2015.0</td>\n",
       "      <td>5551190</td>\n",
       "      <td>26184.86</td>\n",
       "    </tr>\n",
       "  </tbody>\n",
       "</table>\n",
       "</div>"
      ],
      "text/plain": [
       "    고객번호    year     총구매금액     평균구매금액\n",
       "0  00001  2015.0  31000883   66956.55\n",
       "1  00002  2015.0  53635430  105998.87\n",
       "2  00003  2015.0   1271398    2812.83\n",
       "3  00004  2015.0   7394194   15152.04\n",
       "4  00005  2015.0   5551190   26184.86"
      ]
     },
     "execution_count": 114,
     "metadata": {},
     "output_type": "execute_result"
    }
   ],
   "source": [
    "group2015 = grouped.get_group(2015)\n",
    "print(len(group2015))\n",
    "group2015.set_index(np.arange(len(group2015)),inplace=True)\n",
    "group2015.head()"
   ]
  },
  {
   "cell_type": "code",
   "execution_count": 122,
   "id": "f64af294",
   "metadata": {},
   "outputs": [
    {
     "data": {
      "text/html": [
       "<div>\n",
       "<style scoped>\n",
       "    .dataframe tbody tr th:only-of-type {\n",
       "        vertical-align: middle;\n",
       "    }\n",
       "\n",
       "    .dataframe tbody tr th {\n",
       "        vertical-align: top;\n",
       "    }\n",
       "\n",
       "    .dataframe thead th {\n",
       "        text-align: right;\n",
       "    }\n",
       "</style>\n",
       "<table border=\"1\" class=\"dataframe\">\n",
       "  <thead>\n",
       "    <tr style=\"text-align: right;\">\n",
       "      <th></th>\n",
       "      <th>고객번호</th>\n",
       "      <th>14_총구매금액</th>\n",
       "      <th>15_총구매금액</th>\n",
       "      <th>14_평균구매금액</th>\n",
       "      <th>15_평균구매금액</th>\n",
       "      <th>구매성장율</th>\n",
       "    </tr>\n",
       "  </thead>\n",
       "  <tbody>\n",
       "    <tr>\n",
       "      <th>0</th>\n",
       "      <td>00001</td>\n",
       "      <td>54041667</td>\n",
       "      <td>31000883</td>\n",
       "      <td>90979.24</td>\n",
       "      <td>66956.55</td>\n",
       "      <td>-0.426352</td>\n",
       "    </tr>\n",
       "    <tr>\n",
       "      <th>1</th>\n",
       "      <td>00002</td>\n",
       "      <td>46245330</td>\n",
       "      <td>53635430</td>\n",
       "      <td>75812.02</td>\n",
       "      <td>105998.87</td>\n",
       "      <td>0.159802</td>\n",
       "    </tr>\n",
       "    <tr>\n",
       "      <th>2</th>\n",
       "      <td>00003</td>\n",
       "      <td>1893769</td>\n",
       "      <td>1271398</td>\n",
       "      <td>2562.61</td>\n",
       "      <td>2812.83</td>\n",
       "      <td>-0.328641</td>\n",
       "    </tr>\n",
       "    <tr>\n",
       "      <th>3</th>\n",
       "      <td>00004</td>\n",
       "      <td>9299616</td>\n",
       "      <td>7394194</td>\n",
       "      <td>21039.86</td>\n",
       "      <td>15152.04</td>\n",
       "      <td>-0.204893</td>\n",
       "    </tr>\n",
       "    <tr>\n",
       "      <th>4</th>\n",
       "      <td>00005</td>\n",
       "      <td>7685880</td>\n",
       "      <td>5551190</td>\n",
       "      <td>15159.53</td>\n",
       "      <td>26184.86</td>\n",
       "      <td>-0.277742</td>\n",
       "    </tr>\n",
       "    <tr>\n",
       "      <th>...</th>\n",
       "      <td>...</td>\n",
       "      <td>...</td>\n",
       "      <td>...</td>\n",
       "      <td>...</td>\n",
       "      <td>...</td>\n",
       "      <td>...</td>\n",
       "    </tr>\n",
       "    <tr>\n",
       "      <th>19333</th>\n",
       "      <td>19376</td>\n",
       "      <td>273297</td>\n",
       "      <td>9443651</td>\n",
       "      <td>4079.06</td>\n",
       "      <td>23433.38</td>\n",
       "      <td>33.554536</td>\n",
       "    </tr>\n",
       "    <tr>\n",
       "      <th>19334</th>\n",
       "      <td>19377</td>\n",
       "      <td>217360</td>\n",
       "      <td>4263560</td>\n",
       "      <td>14490.67</td>\n",
       "      <td>8630.69</td>\n",
       "      <td>18.615201</td>\n",
       "    </tr>\n",
       "    <tr>\n",
       "      <th>19335</th>\n",
       "      <td>19378</td>\n",
       "      <td>474760</td>\n",
       "      <td>7207202</td>\n",
       "      <td>23738.00</td>\n",
       "      <td>6618.18</td>\n",
       "      <td>14.180727</td>\n",
       "    </tr>\n",
       "    <tr>\n",
       "      <th>19336</th>\n",
       "      <td>19379</td>\n",
       "      <td>1190620</td>\n",
       "      <td>8464148</td>\n",
       "      <td>13685.29</td>\n",
       "      <td>4126.84</td>\n",
       "      <td>6.109026</td>\n",
       "    </tr>\n",
       "    <tr>\n",
       "      <th>19337</th>\n",
       "      <td>19380</td>\n",
       "      <td>522700</td>\n",
       "      <td>7284834</td>\n",
       "      <td>30747.06</td>\n",
       "      <td>11347.09</td>\n",
       "      <td>12.936931</td>\n",
       "    </tr>\n",
       "  </tbody>\n",
       "</table>\n",
       "<p>19338 rows × 6 columns</p>\n",
       "</div>"
      ],
      "text/plain": [
       "        고객번호  14_총구매금액  15_총구매금액  14_평균구매금액  15_평균구매금액      구매성장율\n",
       "0      00001  54041667  31000883   90979.24   66956.55  -0.426352\n",
       "1      00002  46245330  53635430   75812.02  105998.87   0.159802\n",
       "2      00003   1893769   1271398    2562.61    2812.83  -0.328641\n",
       "3      00004   9299616   7394194   21039.86   15152.04  -0.204893\n",
       "4      00005   7685880   5551190   15159.53   26184.86  -0.277742\n",
       "...      ...       ...       ...        ...        ...        ...\n",
       "19333  19376    273297   9443651    4079.06   23433.38  33.554536\n",
       "19334  19377    217360   4263560   14490.67    8630.69  18.615201\n",
       "19335  19378    474760   7207202   23738.00    6618.18  14.180727\n",
       "19336  19379   1190620   8464148   13685.29    4126.84   6.109026\n",
       "19337  19380    522700   7284834   30747.06   11347.09  12.936931\n",
       "\n",
       "[19338 rows x 6 columns]"
      ]
     },
     "execution_count": 122,
     "metadata": {},
     "output_type": "execute_result"
    }
   ],
   "source": [
    "df_1415 = pd.DataFrame()\n",
    "df_1415['고객번호'] = group2014['고객번호']\n",
    "df_1415['14_총구매금액'] = group2014['총구매금액']\n",
    "df_1415['15_총구매금액'] = group2015['총구매금액']\n",
    "df_1415['14_평균구매금액'] = group2014['평균구매금액']\n",
    "df_1415['15_평균구매금액'] = group2015['평균구매금액']\n",
    "df_1415['구매성장율'] = (df_1415['15_총구매금액']-df_1415['14_총구매금액'])/df_1415['14_총구매금액']\n",
    "df_1415"
   ]
  }
 ],
 "metadata": {
  "kernelspec": {
   "display_name": "Python 3 (ipykernel)",
   "language": "python",
   "name": "python3"
  },
  "language_info": {
   "codemirror_mode": {
    "name": "ipython",
    "version": 3
   },
   "file_extension": ".py",
   "mimetype": "text/x-python",
   "name": "python",
   "nbconvert_exporter": "python",
   "pygments_lexer": "ipython3",
   "version": "3.8.12"
  }
 },
 "nbformat": 4,
 "nbformat_minor": 5
}
