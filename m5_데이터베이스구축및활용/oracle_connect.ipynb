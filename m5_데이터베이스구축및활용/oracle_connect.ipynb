{
 "cells": [
  {
   "cell_type": "code",
   "execution_count": 1,
   "id": "0f832756",
   "metadata": {
    "scrolled": true
   },
   "outputs": [
    {
     "name": "stdout",
     "output_type": "stream",
     "text": [
      "Collecting cx_oracle\n",
      "  Downloading cx_Oracle-8.3.0-cp38-cp38-win_amd64.whl (219 kB)\n",
      "Installing collected packages: cx-oracle\n",
      "Successfully installed cx-oracle-8.3.0\n"
     ]
    }
   ],
   "source": [
    "!pip install cx_oracle"
   ]
  },
  {
   "cell_type": "code",
   "execution_count": 3,
   "id": "2323cb5d",
   "metadata": {},
   "outputs": [
    {
     "data": {
      "text/plain": [
       "'(DESCRIPTION=(ADDRESS=(PROTOCOL=TCP)(HOST=localhost)(PORT=1521))(CONNECT_DATA=(SID=xe)))'"
      ]
     },
     "execution_count": 3,
     "metadata": {},
     "output_type": "execute_result"
    }
   ],
   "source": [
    "import cx_Oracle\n",
    "\n",
    "dsn = cx_Oracle.makedsn('localhost',1521,'xe')\n",
    "dsn"
   ]
  },
  {
   "cell_type": "code",
   "execution_count": 4,
   "id": "4857b18b",
   "metadata": {},
   "outputs": [
    {
     "data": {
      "text/plain": [
       "<cx_Oracle.Connection to C##CAKD5@(DESCRIPTION=(ADDRESS=(PROTOCOL=TCP)(HOST=localhost)(PORT=1521))(CONNECT_DATA=(SID=xe)))>"
      ]
     },
     "execution_count": 4,
     "metadata": {},
     "output_type": "execute_result"
    }
   ],
   "source": [
    "db = cx_Oracle.connect('C##CAKD5','CAKD5',dsn)\n",
    "db"
   ]
  },
  {
   "cell_type": "code",
   "execution_count": 6,
   "id": "7e6686b6",
   "metadata": {
    "scrolled": true
   },
   "outputs": [
    {
     "data": {
      "text/html": [
       "<div>\n",
       "<style scoped>\n",
       "    .dataframe tbody tr th:only-of-type {\n",
       "        vertical-align: middle;\n",
       "    }\n",
       "\n",
       "    .dataframe tbody tr th {\n",
       "        vertical-align: top;\n",
       "    }\n",
       "\n",
       "    .dataframe thead th {\n",
       "        text-align: right;\n",
       "    }\n",
       "</style>\n",
       "<table border=\"1\" class=\"dataframe\">\n",
       "  <thead>\n",
       "    <tr style=\"text-align: right;\">\n",
       "      <th></th>\n",
       "      <th>BOOKID</th>\n",
       "      <th>BOOKNAME</th>\n",
       "      <th>PUBLISHER</th>\n",
       "      <th>PRICE</th>\n",
       "    </tr>\n",
       "  </thead>\n",
       "  <tbody>\n",
       "    <tr>\n",
       "      <th>0</th>\n",
       "      <td>1</td>\n",
       "      <td>축구의 역사</td>\n",
       "      <td>굿스포츠</td>\n",
       "      <td>7000</td>\n",
       "    </tr>\n",
       "    <tr>\n",
       "      <th>1</th>\n",
       "      <td>2</td>\n",
       "      <td>축구아는 여자</td>\n",
       "      <td>나무수</td>\n",
       "      <td>13000</td>\n",
       "    </tr>\n",
       "    <tr>\n",
       "      <th>2</th>\n",
       "      <td>3</td>\n",
       "      <td>축구의 이해</td>\n",
       "      <td>대한미디어</td>\n",
       "      <td>22000</td>\n",
       "    </tr>\n",
       "    <tr>\n",
       "      <th>3</th>\n",
       "      <td>4</td>\n",
       "      <td>골프 바이블</td>\n",
       "      <td>대한미디어</td>\n",
       "      <td>35000</td>\n",
       "    </tr>\n",
       "    <tr>\n",
       "      <th>4</th>\n",
       "      <td>5</td>\n",
       "      <td>피겨 교본</td>\n",
       "      <td>굿스포츠</td>\n",
       "      <td>8000</td>\n",
       "    </tr>\n",
       "  </tbody>\n",
       "</table>\n",
       "</div>"
      ],
      "text/plain": [
       "   BOOKID BOOKNAME PUBLISHER  PRICE\n",
       "0       1   축구의 역사      굿스포츠   7000\n",
       "1       2  축구아는 여자       나무수  13000\n",
       "2       3   축구의 이해     대한미디어  22000\n",
       "3       4   골프 바이블     대한미디어  35000\n",
       "4       5    피겨 교본      굿스포츠   8000"
      ]
     },
     "execution_count": 6,
     "metadata": {},
     "output_type": "execute_result"
    }
   ],
   "source": [
    "import pandas as pd\n",
    "cursor = db.cursor()\n",
    "cursor.execute('select * from book')\n",
    "x = cursor.fetchall()\n",
    "columns = ['BOOKID','BOOKNAME','PUBLISHER','PRICE']\n",
    "df = pd.DataFrame(x, columns = columns)\n",
    "df.head()"
   ]
  }
 ],
 "metadata": {
  "kernelspec": {
   "display_name": "Python 3 (ipykernel)",
   "language": "python",
   "name": "python3"
  },
  "language_info": {
   "codemirror_mode": {
    "name": "ipython",
    "version": 3
   },
   "file_extension": ".py",
   "mimetype": "text/x-python",
   "name": "python",
   "nbconvert_exporter": "python",
   "pygments_lexer": "ipython3",
   "version": "3.8.12"
  }
 },
 "nbformat": 4,
 "nbformat_minor": 5
}
