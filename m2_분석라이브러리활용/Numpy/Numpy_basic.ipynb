{
 "cells": [
  {
   "cell_type": "markdown",
   "id": "9be069a0",
   "metadata": {},
   "source": [
    "Numpy는 \"numerical python\"의 약자로 대규모 다차원 배열과 행렬 연산에 필요한 다양한 함수를 제공\n",
    "\n",
    "- Numerical Python을 의미하는 Numpy는 파이썬에서 선형대수 기반의 프로그램을 쉽게 만들 수 있도록 지원하는 대표적인 패키지\n",
    "- 많은 머신러닝 알고리즘이 numpy 기반으로 작성되어 있으며 알고리즘의 입출력 데이터를 numpy 배열 타입으로 사용함\n",
    "- numpy의 기본 데이터 타입은 ndarray.ndarray를 이용해 numpy에서 다차원 배열을 쉽게 새성하고 다양한 연산 수행\n",
    "\n",
    "Numpy 특징\n",
    "- 강력한 N차원 배열 객체\n",
    "- 정교한 브로드캐스팅 기능\n",
    "- 유용한 선형 대수학, 푸리에 변환 및 난수 기능\n",
    "- 푸리에 변환은 시간이나 공간에 대한 함수를 시간 또는 공갅파수 성분으로 분해하는 변환\n",
    "- 범용적 데이터 처리에 사용 가능한 다차원 컨테이너"
   ]
  },
  {
   "cell_type": "code",
   "execution_count": 1,
   "id": "8acc9494",
   "metadata": {},
   "outputs": [
    {
     "name": "stdout",
     "output_type": "stream",
     "text": [
      "Requirement already satisfied: numpy in c:\\users\\admin\\anaconda3\\envs\\cakd5\\lib\\site-packages (1.21.2)\n"
     ]
    }
   ],
   "source": [
    "!pip install numpy"
   ]
  },
  {
   "cell_type": "code",
   "execution_count": 3,
   "id": "c10eb819",
   "metadata": {},
   "outputs": [
    {
     "name": "stdout",
     "output_type": "stream",
     "text": [
      "[0 1 2 3 4 5 6 7 8 9]\n",
      "<class 'numpy.ndarray'>\n"
     ]
    }
   ],
   "source": [
    "import numpy as np\n",
    "z = np.arange(10)\n",
    "print(z)\n",
    "print(type(z))"
   ]
  },
  {
   "cell_type": "code",
   "execution_count": 4,
   "id": "f442f397",
   "metadata": {},
   "outputs": [],
   "source": [
    "my_arr = np.arange(1000000)\n",
    "my_list = list(range(1000000))"
   ]
  },
  {
   "cell_type": "code",
   "execution_count": 5,
   "id": "886ef4e3",
   "metadata": {},
   "outputs": [
    {
     "name": "stdout",
     "output_type": "stream",
     "text": [
      "Wall time: 13 ms\n"
     ]
    }
   ],
   "source": [
    "%time for _ in range(10): my_array2 = my_arr * 2"
   ]
  },
  {
   "cell_type": "code",
   "execution_count": 6,
   "id": "f7b2eb8c",
   "metadata": {},
   "outputs": [
    {
     "name": "stdout",
     "output_type": "stream",
     "text": [
      "Wall time: 612 ms\n"
     ]
    }
   ],
   "source": [
    "%time for _ in range(10): my_list2 = [x*2 for x in my_list]"
   ]
  },
  {
   "cell_type": "code",
   "execution_count": 14,
   "id": "f86880e5",
   "metadata": {},
   "outputs": [
    {
     "name": "stdout",
     "output_type": "stream",
     "text": [
      "[[-12.61581835 -14.51607278   5.00129838]\n",
      " [  8.48874073   1.13201726   4.22263505]]\n",
      "[[-2.52316367 -2.90321456  1.00025968]\n",
      " [ 1.69774815  0.22640345  0.84452701]]\n"
     ]
    }
   ],
   "source": [
    "# 배열 연산\n",
    "# np.random.randn 가우시안 표준 정규분포에서 난수 매트릭스 array 생성\n",
    "data = np.random.randn(2,3) #표준 정규분포 2행 3열 매트릭스\n",
    "print(data *10)\n",
    "print(data+data)"
   ]
  },
  {
   "cell_type": "code",
   "execution_count": 16,
   "id": "c5265b42",
   "metadata": {},
   "outputs": [
    {
     "name": "stdout",
     "output_type": "stream",
     "text": [
      "(2, 3)\n",
      "float64\n",
      "2\n"
     ]
    }
   ],
   "source": [
    "print(data.shape) # 크기\n",
    "print(data.dtype) # 데이터 타입\n",
    "print(data.ndim) # 차원"
   ]
  },
  {
   "cell_type": "markdown",
   "id": "6ffd07e0",
   "metadata": {},
   "source": [
    "다차원 배열\n",
    "<img src = 'numpy차원.jpg' STYLE = 'width:300px;'>"
   ]
  },
  {
   "cell_type": "code",
   "execution_count": 18,
   "id": "e6a3576d",
   "metadata": {},
   "outputs": [
    {
     "name": "stdout",
     "output_type": "stream",
     "text": [
      "<class 'list'> \n",
      "\n",
      "[[1 2 3 4]\n",
      " [5 6 7 8]] <class 'numpy.ndarray'>\n"
     ]
    }
   ],
   "source": [
    "data2 = [[1,2,3,4],[5,6,7,8]]\n",
    "print(type(data2),'\\n')\n",
    "arr2 = np.array(data2)\n",
    "print(arr2,type(arr2))"
   ]
  },
  {
   "cell_type": "code",
   "execution_count": 23,
   "id": "b715e7e3",
   "metadata": {},
   "outputs": [
    {
     "name": "stdout",
     "output_type": "stream",
     "text": [
      "2 \n",
      "\n",
      "(2, 4) \n",
      "\n"
     ]
    }
   ],
   "source": [
    "print(arr2.ndim,'\\n')\n",
    "print(arr2.shape,'\\n')"
   ]
  },
  {
   "cell_type": "code",
   "execution_count": 27,
   "id": "5636ecfd",
   "metadata": {},
   "outputs": [
    {
     "name": "stdout",
     "output_type": "stream",
     "text": [
      "[1 2 3] <class 'numpy.ndarray'> (3,)\n"
     ]
    }
   ],
   "source": [
    "#1차원 배열로 3개의 데이터\n",
    "array1 = np.array([1,2,3])\n",
    "print(array1,type(array1),array1.shape) # (,열)이 아닌(열,) 형태로 출력"
   ]
  },
  {
   "cell_type": "code",
   "execution_count": 35,
   "id": "cf0f2fc4",
   "metadata": {},
   "outputs": [
    {
     "name": "stdout",
     "output_type": "stream",
     "text": [
      "[[ 0.25315446  2.24493932  1.70816458]\n",
      " [ 1.82008436  2.1998024  -0.65047153]] <class 'numpy.ndarray'> (2, 3)\n"
     ]
    }
   ],
   "source": [
    "# 2차원 배열로 2개의 row와 3개의 column으로 구성된 6개의 데이터\n",
    "array23 = np.random.randn(2,3)\n",
    "print(array23, type(array23),array23.shape)"
   ]
  },
  {
   "cell_type": "code",
   "execution_count": 36,
   "id": "027fd9db",
   "metadata": {},
   "outputs": [
    {
     "name": "stdout",
     "output_type": "stream",
     "text": [
      "[[ 0.4972784  -0.28153215  0.42275392]] <class 'numpy.ndarray'> (1, 3)\n",
      "[[1 2 3]] <class 'numpy.ndarray'> (1, 3)\n"
     ]
    }
   ],
   "source": [
    "#1개의 row와 3개의 column으로 구성된 2차원 배열\n",
    "array13 = np.random.randn(1,3)\n",
    "print(array13,type(array13),array13.shape)\n",
    "\n",
    "array21  = np.array([[1,2,3]])\n",
    "print(array21,type(array21),array21.shape)"
   ]
  },
  {
   "cell_type": "code",
   "execution_count": 41,
   "id": "0fee5416",
   "metadata": {},
   "outputs": [
    {
     "name": "stdout",
     "output_type": "stream",
     "text": [
      "[[[1 2 3]\n",
      "  [4 5 6]\n",
      "  [7 8 9]]\n",
      "\n",
      " [[1 2 3]\n",
      "  [4 5 6]\n",
      "  [7 8 9]]\n",
      "\n",
      " [[1 2 3]\n",
      "  [4 5 6]\n",
      "  [7 8 9]]] (3, 3, 3)\n"
     ]
    }
   ],
   "source": [
    "# 3차원 배열\n",
    "array333 = np.array([[[1,2,3],[4,5,6],[7,8,9]],\n",
    "                     [[1,2,3],[4,5,6],[7,8,9]],\n",
    "                     [[1,2,3],[4,5,6],[7,8,9]]])\n",
    "print(array333,array333.shape)"
   ]
  },
  {
   "cell_type": "code",
   "execution_count": 13,
   "id": "d28f4eeb",
   "metadata": {},
   "outputs": [
    {
     "name": "stderr",
     "output_type": "stream",
     "text": [
      "ERROR: Could not find a version that satisfies the requirement warnings (from versions: none)\n",
      "ERROR: No matching distribution found for warnings\n"
     ]
    }
   ],
   "source": [
    "!pip install warnings"
   ]
  },
  {
   "cell_type": "code",
   "execution_count": 42,
   "id": "3737bc90",
   "metadata": {},
   "outputs": [],
   "source": [
    "# 경고 메시지 제외 처리\n",
    "import warnings\n",
    "warnings.filterwarnings('ignore')"
   ]
  },
  {
   "cell_type": "markdown",
   "id": "8abc27e4",
   "metadata": {},
   "source": [
    "배열 생성 및 초기화\n",
    "- numpy는 원하는 shape로 배열을 설정하고 각 요소를 특정 값으로 초기화하는 zeros, ones, full, eye 함수 제공\n",
    "- 파라미터로 입력한 배열과 같은 shape의 배열을 만드는 zeros_like, ones_like, full_like 함수도 제공"
   ]
  },
  {
   "cell_type": "code",
   "execution_count": 50,
   "id": "021b8422",
   "metadata": {},
   "outputs": [
    {
     "name": "stdout",
     "output_type": "stream",
     "text": [
      "[0. 0. 0. 0. 0. 0. 0. 0. 0. 0.]\n",
      "[[1. 1. 1. 1. 1.]\n",
      " [1. 1. 1. 1. 1.]\n",
      " [1. 1. 1. 1. 1.]\n",
      " [1. 1. 1. 1. 1.]\n",
      " [1. 1. 1. 1. 1.]]\n",
      "[[[0. 0. 0.]\n",
      "  [0. 0. 0.]\n",
      "  [0. 0. 0.]]\n",
      "\n",
      " [[0. 0. 0.]\n",
      "  [0. 0. 0.]\n",
      "  [0. 0. 0.]]]\n"
     ]
    }
   ],
   "source": [
    "print(np.zeros(10))\n",
    "print(np.ones((5,5)))\n",
    "print(np.zeros((2,3,3)))"
   ]
  },
  {
   "cell_type": "code",
   "execution_count": 52,
   "id": "246cff08",
   "metadata": {},
   "outputs": [
    {
     "name": "stdout",
     "output_type": "stream",
     "text": [
      "[[7 7]\n",
      " [7 7]]\n"
     ]
    }
   ],
   "source": [
    "a = np.full((2,2),7)\n",
    "print(a)"
   ]
  },
  {
   "cell_type": "code",
   "execution_count": 54,
   "id": "28d1053e",
   "metadata": {},
   "outputs": [
    {
     "name": "stdout",
     "output_type": "stream",
     "text": [
      "[[1. 0. 0.]\n",
      " [0. 1. 0.]\n",
      " [0. 0. 1.]]\n"
     ]
    }
   ],
   "source": [
    "#단위행렬 항등행렬\n",
    "b = np.eye(3)\n",
    "print(b)"
   ]
  },
  {
   "cell_type": "code",
   "execution_count": 58,
   "id": "bb905806",
   "metadata": {},
   "outputs": [
    {
     "name": "stdout",
     "output_type": "stream",
     "text": [
      "[ 0  1  2  3  4  5  6  7  8  9 10 11 12 13 14] <class 'numpy.ndarray'> (15,)\n"
     ]
    }
   ],
   "source": [
    "# arange : python range함수의 배열 버전\n",
    "arr1 = np.arange(15)\n",
    "print(arr1,type(arr1),arr1.shape)"
   ]
  },
  {
   "cell_type": "code",
   "execution_count": 60,
   "id": "189e3f48",
   "metadata": {},
   "outputs": [
    {
     "name": "stdout",
     "output_type": "stream",
     "text": [
      "[[ 0  1  2  3  4]\n",
      " [ 5  6  7  8  9]\n",
      " [10 11 12 13 14]]\n"
     ]
    }
   ],
   "source": [
    "arr2 = arr1.reshape((3,5))\n",
    "print(arr2)"
   ]
  },
  {
   "cell_type": "code",
   "execution_count": 62,
   "id": "9b1f83dd",
   "metadata": {},
   "outputs": [
    {
     "name": "stdout",
     "output_type": "stream",
     "text": [
      "[[[ 0  1  2  3  4]\n",
      "  [ 5  6  7  8  9]\n",
      "  [10 11 12 13 14]]]\n"
     ]
    }
   ],
   "source": [
    "arr3 = arr1.reshape((1,3,5))\n",
    "print(arr3)"
   ]
  },
  {
   "cell_type": "code",
   "execution_count": 66,
   "id": "0d3a19eb",
   "metadata": {},
   "outputs": [
    {
     "name": "stdout",
     "output_type": "stream",
     "text": [
      "[[0 1]\n",
      " [2 3]\n",
      " [4 5]\n",
      " [6 7]\n",
      " [8 9]]\n"
     ]
    }
   ],
   "source": [
    "# array1에 reshape 함수를 이용, (5,2) 배열을 생성하고 크기를 같이 출력하세요.\n",
    "array1 = np.arange(10)\n",
    "array2 = array1.reshape((5,2))\n",
    "print(array2)"
   ]
  },
  {
   "cell_type": "code",
   "execution_count": 67,
   "id": "4c3901bc",
   "metadata": {},
   "outputs": [
    {
     "name": "stdout",
     "output_type": "stream",
     "text": [
      "[[ 0  1]\n",
      " [ 2  3]\n",
      " [ 4  5]\n",
      " [ 6  7]\n",
      " [ 8  9]\n",
      " [10 11]\n",
      " [12 13]\n",
      " [14 15]\n",
      " [16 17]\n",
      " [18 19]\n",
      " [20 21]\n",
      " [22 23]\n",
      " [24 25]\n",
      " [26 27]\n",
      " [28 29]]\n",
      "[[[ 0  1  2  3  4]\n",
      "  [ 5  6  7  8  9]\n",
      "  [10 11 12 13 14]]\n",
      "\n",
      " [[15 16 17 18 19]\n",
      "  [20 21 22 23 24]\n",
      "  [25 26 27 28 29]]]\n"
     ]
    }
   ],
   "source": [
    "arry1 = np.arange(30)\n",
    "arry2 = arry1.reshape(15,2)\n",
    "arry3 = arry1.reshape(2,3,5)\n",
    "print(arry2)\n",
    "print(arry3)"
   ]
  },
  {
   "cell_type": "code",
   "execution_count": 70,
   "id": "8d675a34",
   "metadata": {},
   "outputs": [
    {
     "name": "stdout",
     "output_type": "stream",
     "text": [
      "[[ 0  1  2  3  4  5  6  7  8  9]\n",
      " [10 11 12 13 14 15 16 17 18 19]\n",
      " [20 21 22 23 24 25 26 27 28 29]] (3, 10) \n",
      "\n",
      "[[[ 0  1  2  3  4]\n",
      "  [ 5  6  7  8  9]]\n",
      "\n",
      " [[10 11 12 13 14]\n",
      "  [15 16 17 18 19]]\n",
      "\n",
      " [[20 21 22 23 24]\n",
      "  [25 26 27 28 29]]] (3, 2, 5)\n"
     ]
    }
   ],
   "source": [
    "#reshape(-1,-1) 이용, 차원 변경\n",
    "array1 = np.arange(30)\n",
    "ar12 = array1.reshape(3,-1)\n",
    "print(ar12,ar12.shape,'\\n')\n",
    "ar13 = array1.reshape(-1,2,5)\n",
    "print(ar13,ar13.shape)"
   ]
  },
  {
   "cell_type": "code",
   "execution_count": 73,
   "id": "27180bd8",
   "metadata": {},
   "outputs": [
    {
     "name": "stdout",
     "output_type": "stream",
     "text": [
      "[1 2 3 4 5 6 7 8 9 0 1 3 5 7 9] (15,) \n",
      " [[[1]\n",
      "  [2]\n",
      "  [3]]\n",
      "\n",
      " [[4]\n",
      "  [5]\n",
      "  [6]]\n",
      "\n",
      " [[7]\n",
      "  [8]\n",
      "  [9]]\n",
      "\n",
      " [[0]\n",
      "  [1]\n",
      "  [3]]\n",
      "\n",
      " [[5]\n",
      "  [7]\n",
      "  [9]]] (5, 3, 1)\n"
     ]
    }
   ],
   "source": [
    "#2차원을 1차원이나 3차원으로 변환\n",
    "a12 = np.array([[1,2,3,4,5],[6,7,8,9,0],[1,3,5,7,9]])\n",
    "a11 = a12.reshape(-1,)\n",
    "a13 = a12.reshape(-1,3,1)\n",
    "print(a11,a11.shape,'\\n',a13,a13.shape)"
   ]
  },
  {
   "cell_type": "code",
   "execution_count": 74,
   "id": "9aa26506",
   "metadata": {},
   "outputs": [
    {
     "name": "stdout",
     "output_type": "stream",
     "text": [
      "[1 2 3 4 5 6 7 8 9] (9,) \n",
      " [[1 2 3]\n",
      " [4 5 6]\n",
      " [7 8 9]] (3, 3)\n"
     ]
    }
   ],
   "source": [
    "# 3차원을 1,2차원으로\n",
    "\n",
    "ar3 = np.array([[[1,2,3],[4,5,6],[7,8,9]]])\n",
    "\n",
    "ar31 = ar3.reshape(-1,)\n",
    "ar32 = ar3.reshape(3,-1)\n",
    "\n",
    "print(ar31,ar31.shape,'\\n',ar32,ar32.shape)"
   ]
  },
  {
   "cell_type": "markdown",
   "id": "e19f29f3",
   "metadata": {},
   "source": [
    "행렬의 종류\n",
    "- 정방행렬 : 행과 열의 수가 같은 행렬\n",
    "- 대각행렬 : 주대각서 원소를 제외한 모든 원소들이 0인 정방행렬\n",
    "- 항등행렬 : 행렬 곱셈 연산에 항등원으로 작용하는 행렬\n",
    "- 영행렬 : 모든 원소가 0인 행렬고 곱셈 연산에서 영원으로 작용하는 행렬\n",
    "- 전치행렬 : 주대각선 원소를 기준으로 행과 열을 바꿔주는 행렬\n",
    "- 직교행렬 : 행렬 A의 역행렬이 A의 전치행렬이고 A의 전치행렬과 A행렬을 곱하면 항등행렬이 되는 행렬"
   ]
  },
  {
   "cell_type": "code",
   "execution_count": 77,
   "id": "99ddd8be",
   "metadata": {},
   "outputs": [
    {
     "name": "stdout",
     "output_type": "stream",
     "text": [
      "[[7 7 7 7 7]\n",
      " [7 7 7 7 7]\n",
      " [7 7 7 7 7]\n",
      " [7 7 7 7 7]\n",
      " [7 7 7 7 7]]\n"
     ]
    }
   ],
   "source": [
    "#정방행렬\n",
    "array1 = np.full((5,5),7)\n",
    "print(array1)"
   ]
  },
  {
   "cell_type": "code",
   "execution_count": 79,
   "id": "9c7e0666",
   "metadata": {},
   "outputs": [
    {
     "name": "stdout",
     "output_type": "stream",
     "text": [
      "[[1. 0. 0. 0. 0.]\n",
      " [0. 1. 0. 0. 0.]\n",
      " [0. 0. 1. 0. 0.]\n",
      " [0. 0. 0. 1. 0.]\n",
      " [0. 0. 0. 0. 1.]]\n"
     ]
    }
   ],
   "source": [
    "#항등행렬, 단위 행렬\n",
    "array2 = np.eye(5)\n",
    "print(array2)"
   ]
  },
  {
   "cell_type": "code",
   "execution_count": 82,
   "id": "57c4c3b9",
   "metadata": {},
   "outputs": [
    {
     "name": "stdout",
     "output_type": "stream",
     "text": [
      "[[0. 0. 0. 0. 0.]\n",
      " [0. 0. 0. 0. 0.]\n",
      " [0. 0. 0. 0. 0.]\n",
      " [0. 0. 0. 0. 0.]\n",
      " [0. 0. 0. 0. 0.]]\n"
     ]
    }
   ],
   "source": [
    "# 영행렬\n",
    "array3 = np.zeros((5,5))\n",
    "print(array3)"
   ]
  },
  {
   "cell_type": "markdown",
   "id": "c418b463",
   "metadata": {},
   "source": [
    "ndarray 데이터 형태 지정 및 변경\n",
    "<img src = '데이터형태.jpg' STYLE = 'width = 300px;'>"
   ]
  },
  {
   "cell_type": "code",
   "execution_count": 88,
   "id": "11aeac6d",
   "metadata": {},
   "outputs": [
    {
     "name": "stdout",
     "output_type": "stream",
     "text": [
      "[1. 2. 3.] float64\n"
     ]
    }
   ],
   "source": [
    "arr1 = np.array([1,2,3],dtype = np.float64)\n",
    "print(arr1,arr1.dtype)"
   ]
  },
  {
   "cell_type": "code",
   "execution_count": 90,
   "id": "b15ac3f5",
   "metadata": {},
   "outputs": [
    {
     "name": "stdout",
     "output_type": "stream",
     "text": [
      "int32\n",
      "[1. 2. 3. 4. 5.] float64\n"
     ]
    }
   ],
   "source": [
    "#타입 변경 astype\n",
    "arr = np.array([1,2,3,4,5])\n",
    "print(arr.dtype)\n",
    "float_arr = arr.astype(np.float64)\n",
    "print(float_arr,float_arr.dtype)"
   ]
  },
  {
   "cell_type": "code",
   "execution_count": 129,
   "id": "f5d2467a",
   "metadata": {},
   "outputs": [
    {
     "name": "stdout",
     "output_type": "stream",
     "text": [
      "[1 1 1 1 1 1 1 1 1 1]\n"
     ]
    }
   ],
   "source": [
    "#empty 함수: shape와 dtype를 입력받아 초기화되지 않은 배열을 만들어준다\n",
    "#empty 함수를 실행할 때마다 값이 다른것을 확인할 수 있다. 이는 해당 메모리 영역에 어느 데이터가 남아있었는지 상관없이 그대로 영역의 주소만 알려줄 뿐 초기화는 사용자에게 맡기기 때문이다.\n",
    "print(np.empty(shape=(10,),dtype=np.int8))"
   ]
  },
  {
   "cell_type": "code",
   "execution_count": 122,
   "id": "3fe1b991",
   "metadata": {},
   "outputs": [
    {
     "name": "stdout",
     "output_type": "stream",
     "text": [
      "[b'1' b'2' b'3' b'4'] |S1\n",
      "[1 2 3 4] int32\n"
     ]
    }
   ],
   "source": [
    "# 문자열 타입으로 배열 만들기\n",
    "arr=np.array([1,2,3,4],dtype='S')\n",
    "print(arr,arr.dtype)\n",
    "arr1 = arr.astype(int)\n",
    "print(arr1,arr1.dtype)"
   ]
  },
  {
   "cell_type": "code",
   "execution_count": 130,
   "id": "6412f13a",
   "metadata": {},
   "outputs": [
    {
     "name": "stdout",
     "output_type": "stream",
     "text": [
      "[1 2 3]\n",
      "[1.2 2.3 3. ]\n"
     ]
    }
   ],
   "source": [
    "# 정수와 실수로 구성된 list_e = [1.2,2.3,3]을 numpy를 이용해서 실수형과 정수형으로 각각 출력하세요\n",
    "\n",
    "list_e = [1.2,2.3,3]\n",
    "\n",
    "arr = np.array(list_e,dtype = int)\n",
    "print(arr)\n",
    "arr2 = np.array(list_e,dtype=float)\n",
    "print(arr2)"
   ]
  },
  {
   "cell_type": "code",
   "execution_count": 138,
   "id": "739f5b94",
   "metadata": {},
   "outputs": [
    {
     "name": "stdout",
     "output_type": "stream",
     "text": [
      "[[1 2 3]\n",
      " [4 5 6]]\n"
     ]
    },
    {
     "data": {
      "text/plain": [
       "array([[ 2,  4,  6],\n",
       "       [ 8, 10, 12]])"
      ]
     },
     "execution_count": 138,
     "metadata": {},
     "output_type": "execute_result"
    }
   ],
   "source": [
    "# 배열의 산술 연산\n",
    "arr = np.array([[1,2,3],[4,5,6]])\n",
    "arr = np.arange(1,7).reshape(2,3)\n",
    "print(arr)\n",
    "\n",
    "arr+arr"
   ]
  },
  {
   "cell_type": "code",
   "execution_count": 150,
   "id": "0085e261",
   "metadata": {},
   "outputs": [
    {
     "name": "stdout",
     "output_type": "stream",
     "text": [
      "[[ 0.  4.  1.]\n",
      " [ 7.  2. 12.]]\n"
     ]
    },
    {
     "data": {
      "text/plain": [
       "array([[False,  True, False],\n",
       "       [ True, False,  True]])"
      ]
     },
     "execution_count": 150,
     "metadata": {},
     "output_type": "execute_result"
    }
   ],
   "source": [
    "arr2 = np.array([[0.,4.,1.],[7.,2.,12.]])\n",
    "print(arr2)\n",
    "\n",
    "arr2 > arr"
   ]
  },
  {
   "cell_type": "code",
   "execution_count": 155,
   "id": "32307326",
   "metadata": {},
   "outputs": [
    {
     "name": "stdout",
     "output_type": "stream",
     "text": [
      "[[12 14 16]\n",
      " [18 20 22]\n",
      " [24 26 28]]\n",
      "[[12 14 16]\n",
      " [18 20 22]\n",
      " [24 26 28]]\n",
      "[[10 10 10]\n",
      " [10 10 10]\n",
      " [10 10 10]]\n",
      "[[10 10 10]\n",
      " [10 10 10]\n",
      " [10 10 10]]\n",
      "[[ 11  24  39]\n",
      " [ 56  75  96]\n",
      " [119 144 171]]\n",
      "[[ 11  24  39]\n",
      " [ 56  75  96]\n",
      " [119 144 171]]\n",
      "[[11.          6.          4.33333333]\n",
      " [ 3.5         3.          2.66666667]\n",
      " [ 2.42857143  2.25        2.11111111]]\n",
      "[[11.          6.          4.33333333]\n",
      " [ 3.5         3.          2.66666667]\n",
      " [ 2.42857143  2.25        2.11111111]]\n"
     ]
    }
   ],
   "source": [
    "# 기본 사칙 연산\n",
    "value1 = np.arange(1,10).reshape(3,3)\n",
    "value2 = np.arange(11,20).reshape(3,3)\n",
    "\n",
    "print(value1+value2)\n",
    "print(np.add(value1,value2))\n",
    "\n",
    "\n",
    "print(value2-value1)\n",
    "\n",
    "print(np.subtract(value2,value1))\n",
    "\n",
    "print(value1*value2)\n",
    "\n",
    "print(np.multiply(value2,value1))\n",
    "print(value2/value1)\n",
    "print(np.divide(value2,value1))"
   ]
  },
  {
   "cell_type": "code",
   "execution_count": 175,
   "id": "8405225c",
   "metadata": {},
   "outputs": [
    {
     "data": {
      "text/plain": [
       "array([[ 0.10872052, -0.15281705],\n",
       "       [ 0.50448543, -0.20077848]])"
      ]
     },
     "execution_count": 175,
     "metadata": {},
     "output_type": "execute_result"
    }
   ],
   "source": [
    "arr = np.random.randn(2,2)\n",
    "arr"
   ]
  },
  {
   "cell_type": "code",
   "execution_count": 176,
   "id": "d08fee20",
   "metadata": {},
   "outputs": [
    {
     "data": {
      "text/plain": [
       "array([ 0.3066, -0.1768])"
      ]
     },
     "execution_count": 176,
     "metadata": {},
     "output_type": "execute_result"
    }
   ],
   "source": [
    "arr.mean(axis=0).round(4)"
   ]
  },
  {
   "cell_type": "code",
   "execution_count": 177,
   "id": "42215745",
   "metadata": {},
   "outputs": [
    {
     "data": {
      "text/plain": [
       "array([-0.022 ,  0.1519])"
      ]
     },
     "execution_count": 177,
     "metadata": {},
     "output_type": "execute_result"
    }
   ],
   "source": [
    "arr.mean(axis=1).round(4)"
   ]
  },
  {
   "cell_type": "code",
   "execution_count": 178,
   "id": "db2eda44",
   "metadata": {},
   "outputs": [
    {
     "data": {
      "text/plain": [
       "0.2596"
      ]
     },
     "execution_count": 178,
     "metadata": {},
     "output_type": "execute_result"
    }
   ],
   "source": [
    "arr.sum().round(4)"
   ]
  },
  {
   "cell_type": "code",
   "execution_count": 180,
   "id": "9266b96c",
   "metadata": {},
   "outputs": [
    {
     "data": {
      "text/plain": [
       "array([ 0.10872052, -0.01661435, -0.0083817 ,  0.00168286])"
      ]
     },
     "execution_count": 180,
     "metadata": {},
     "output_type": "execute_result"
    }
   ],
   "source": [
    "arr.cumprod() # 원소들 순으로 누적곱 실행"
   ]
  },
  {
   "cell_type": "code",
   "execution_count": 182,
   "id": "d953e7e9",
   "metadata": {},
   "outputs": [
    {
     "data": {
      "text/plain": [
       "array([[1, 2, 3],\n",
       "       [4, 5, 6],\n",
       "       [7, 8, 9]])"
      ]
     },
     "execution_count": 182,
     "metadata": {},
     "output_type": "execute_result"
    }
   ],
   "source": [
    "# 인덱싱 슬라이싱\n",
    "arr2d = np.arange(1,10).reshape(3,3)\n",
    "arr2d"
   ]
  },
  {
   "cell_type": "code",
   "execution_count": 184,
   "id": "2dacdc3a",
   "metadata": {},
   "outputs": [
    {
     "data": {
      "text/plain": [
       "array([7, 8, 9])"
      ]
     },
     "execution_count": 184,
     "metadata": {},
     "output_type": "execute_result"
    }
   ],
   "source": [
    "arr2d[2]"
   ]
  },
  {
   "cell_type": "code",
   "execution_count": 186,
   "id": "7dc9db9f",
   "metadata": {},
   "outputs": [
    {
     "data": {
      "text/plain": [
       "9"
      ]
     },
     "execution_count": 186,
     "metadata": {},
     "output_type": "execute_result"
    }
   ],
   "source": [
    "arr2d[2][2]"
   ]
  },
  {
   "cell_type": "code",
   "execution_count": 189,
   "id": "0faef6a2",
   "metadata": {},
   "outputs": [
    {
     "data": {
      "text/plain": [
       "array([1, 4, 7])"
      ]
     },
     "execution_count": 189,
     "metadata": {},
     "output_type": "execute_result"
    }
   ],
   "source": [
    "arr2d[:,0]"
   ]
  },
  {
   "cell_type": "code",
   "execution_count": 194,
   "id": "6b1cda3c",
   "metadata": {},
   "outputs": [
    {
     "data": {
      "text/plain": [
       "array([[1, 2, 3],\n",
       "       [4, 5, 6]])"
      ]
     },
     "execution_count": 194,
     "metadata": {},
     "output_type": "execute_result"
    }
   ],
   "source": [
    "arr2d[:2][:]"
   ]
  },
  {
   "cell_type": "code",
   "execution_count": 210,
   "id": "48cf18c1",
   "metadata": {},
   "outputs": [
    {
     "name": "stdout",
     "output_type": "stream",
     "text": [
      "[3 6]\n",
      "[[1 2]\n",
      " [4 5]]\n"
     ]
    }
   ],
   "source": [
    "# arr2d에서 [3,6],[[1,2],[4,5]]를 출력하세요\n",
    "print(arr2d[:2,2])\n",
    "print(arr2d[:2,:2])"
   ]
  },
  {
   "cell_type": "code",
   "execution_count": 216,
   "id": "48515068",
   "metadata": {},
   "outputs": [
    {
     "name": "stdout",
     "output_type": "stream",
     "text": [
      "[[1 2 3]\n",
      " [4 5 6]]\n"
     ]
    }
   ],
   "source": [
    "print(arr2d[:-1])"
   ]
  },
  {
   "cell_type": "code",
   "execution_count": 233,
   "id": "168017c2",
   "metadata": {},
   "outputs": [
    {
     "name": "stdout",
     "output_type": "stream",
     "text": [
      "[14 15 16]\n",
      "[3 9]\n",
      "[ 1  7 13]\n"
     ]
    }
   ],
   "source": [
    "arr = np.arange(30).reshape(5,6)\n",
    "arr\n",
    "\n",
    "print(arr[2,2:5])\n",
    "print(arr[:2,3])\n",
    "print(arr[:3,1])"
   ]
  },
  {
   "cell_type": "code",
   "execution_count": 235,
   "id": "5d0a4d96",
   "metadata": {},
   "outputs": [
    {
     "name": "stdout",
     "output_type": "stream",
     "text": [
      "[[0, 1, 2, 3, 4, 5], [6, 7, 8, 9, 10, 11], [12, 13, 14, 15, 16, 17], [18, 19, 20, 21, 22, 23], [24, 25, 26, 27, 28, 29]]\n"
     ]
    }
   ],
   "source": [
    "# 배열을 리스트로 변환\n",
    "li = arr.tolist()\n",
    "print(li)"
   ]
  },
  {
   "cell_type": "code",
   "execution_count": 238,
   "id": "293c6203",
   "metadata": {},
   "outputs": [
    {
     "name": "stdout",
     "output_type": "stream",
     "text": [
      "[1 2 3 4 5 6 7 8 9]\n",
      "[6 7 8 9]\n",
      "[False False False False False  True  True  True  True]\n"
     ]
    }
   ],
   "source": [
    "# Boolean indexing\n",
    "\n",
    "arr1d = np.arange(1,10)\n",
    "print(arr1d)\n",
    "\n",
    "arr3 = arr1d[arr1d>5]\n",
    "print(arr3)\n",
    "print(arr1d > 5)"
   ]
  },
  {
   "cell_type": "code",
   "execution_count": 246,
   "id": "cd28019b",
   "metadata": {},
   "outputs": [
    {
     "name": "stdout",
     "output_type": "stream",
     "text": [
      "[6 7 8 9]\n"
     ]
    }
   ],
   "source": [
    "#arr1d에서 일반 인덱스를 이용해서 출력\n",
    "arr4 = arr1d[5:9]\n",
    "print(arr4)"
   ]
  },
  {
   "cell_type": "code",
   "execution_count": 247,
   "id": "055868e9",
   "metadata": {},
   "outputs": [
    {
     "name": "stdout",
     "output_type": "stream",
     "text": [
      "[11 12 13 14]\n"
     ]
    }
   ],
   "source": [
    "# 1~14까지의 ndarray를 만들어 array_e로 저장하고 (array_e/2) > 5를 만족하는 값을 불린 인덱싱으로 출력하세요\n",
    "array_e = np.arange(1,15)\n",
    "print(array_e[array_e/2 > 5])"
   ]
  },
  {
   "cell_type": "code",
   "execution_count": 273,
   "id": "597ec2c0",
   "metadata": {},
   "outputs": [
    {
     "name": "stdout",
     "output_type": "stream",
     "text": [
      "[ True False False  True False False False]\n",
      "[[-0.31396014  1.18569611  0.88998778  0.28685728]\n",
      " [-1.06650282  0.18149337 -0.17942469  0.07836538]\n",
      " [ 0.70005485  0.91743058  0.0070535   0.18229373]\n",
      " [-0.46753768 -0.05245048  0.53828303  0.23415294]\n",
      " [ 0.04527973  0.15142294 -1.2072849  -0.26547107]\n",
      " [-1.46398409 -0.51007989 -0.04617486  0.7308804 ]\n",
      " [-0.9398875  -0.43105758  0.19056248  0.72250998]] \n",
      " \n",
      " [[-0.31396014  1.18569611  0.88998778  0.28685728]\n",
      " [-0.46753768 -0.05245048  0.53828303  0.23415294]]\n"
     ]
    }
   ],
   "source": [
    "names = np.array(['Bob','Joe','Will','Bob','Will','Joe','Joe'])\n",
    "data = np.random.randn(7,4)\n",
    "\n",
    "print(names == 'Bob')\n",
    "print(data,'\\n','\\n',data[names=='Bob'])"
   ]
  },
  {
   "cell_type": "code",
   "execution_count": 253,
   "id": "939eef60",
   "metadata": {},
   "outputs": [
    {
     "data": {
      "text/plain": [
       "array([[-0.29704707,  0.79256355],\n",
       "       [-0.42298169, -0.12469711]])"
      ]
     },
     "execution_count": 253,
     "metadata": {},
     "output_type": "execute_result"
    }
   ],
   "source": [
    "data[names=='Bob' , 2:]"
   ]
  },
  {
   "cell_type": "code",
   "execution_count": 254,
   "id": "4c518b94",
   "metadata": {},
   "outputs": [
    {
     "data": {
      "text/plain": [
       "array([[-1.20265023,  0.15869665, -2.9857248 ,  0.62330169],\n",
       "       [-0.69868949,  1.38571966,  0.8896105 , -1.02951314],\n",
       "       [-0.9236112 ,  0.33737666,  0.18845798, -0.17044232],\n",
       "       [ 1.1007453 ,  1.84455636,  0.66610465, -0.41818943],\n",
       "       [-1.06386216, -1.70099422,  0.45936318,  0.40068225]])"
      ]
     },
     "execution_count": 254,
     "metadata": {},
     "output_type": "execute_result"
    }
   ],
   "source": [
    "data[names!='Bob']"
   ]
  },
  {
   "cell_type": "code",
   "execution_count": 263,
   "id": "4603c85f",
   "metadata": {},
   "outputs": [
    {
     "data": {
      "text/plain": [
       "array([[ 1.73052906,  0.25799091, -0.29704707,  0.79256355],\n",
       "       [-0.69868949,  1.38571966,  0.8896105 , -1.02951314],\n",
       "       [-0.10511911,  1.00793852, -0.42298169, -0.12469711],\n",
       "       [-0.9236112 ,  0.33737666,  0.18845798, -0.17044232]])"
      ]
     },
     "execution_count": 263,
     "metadata": {},
     "output_type": "execute_result"
    }
   ],
   "source": [
    "data[names !='Joe']"
   ]
  },
  {
   "cell_type": "code",
   "execution_count": 266,
   "id": "61fd0c37",
   "metadata": {},
   "outputs": [
    {
     "data": {
      "text/plain": [
       "array([[ 1.73052906,  0.25799091, -0.29704707,  0.79256355],\n",
       "       [-0.69868949,  1.38571966,  0.8896105 , -1.02951314],\n",
       "       [-0.10511911,  1.00793852, -0.42298169, -0.12469711],\n",
       "       [-0.9236112 ,  0.33737666,  0.18845798, -0.17044232]])"
      ]
     },
     "execution_count": 266,
     "metadata": {},
     "output_type": "execute_result"
    }
   ],
   "source": [
    "mask = (names == 'Bob') | (names == 'Will')\n",
    "\n",
    "data[mask]"
   ]
  },
  {
   "cell_type": "code",
   "execution_count": 272,
   "id": "55c956ba",
   "metadata": {},
   "outputs": [
    {
     "name": "stdout",
     "output_type": "stream",
     "text": [
      "[[1.73052906 0.25799091 0.         0.79256355]\n",
      " [0.         0.15869665 0.         0.62330169]\n",
      " [0.         1.38571966 0.8896105  0.        ]\n",
      " [0.         1.00793852 0.         0.        ]\n",
      " [0.         0.33737666 0.18845798 0.        ]\n",
      " [1.1007453  1.84455636 0.66610465 0.        ]\n",
      " [0.         0.         0.45936318 0.40068225]]\n"
     ]
    }
   ],
   "source": [
    "#음수를 모두 0으로 처리하여 출력\n",
    "data[data<0] = 0\n",
    "print(data)"
   ]
  },
  {
   "cell_type": "code",
   "execution_count": 2,
   "id": "95d61e03",
   "metadata": {},
   "outputs": [
    {
     "name": "stdout",
     "output_type": "stream",
     "text": [
      "[[1.05058685e-311 1.06224114e-321 0.00000000e+000 0.00000000e+000]\n",
      " [0.00000000e+000 5.02034658e+175 7.62809698e+169 1.54832587e+185]\n",
      " [2.44599579e-056 1.93281214e-076 1.09287061e-042 1.04914850e-153]\n",
      " [6.32299154e+233 1.38496879e+219 8.38440315e+242 2.59027926e-144]\n",
      " [3.80985069e+180 1.14428494e+243 2.59027907e-144 7.79952704e-143]\n",
      " [6.88908094e-042 3.44875038e-032 1.15388988e-071 1.40013223e-076]\n",
      " [2.59027856e-144 2.59903818e-144 5.27365184e-091 3.94463758e-062]\n",
      " [5.88363620e-062 1.11475752e+261 1.16318408e-028 2.59297589e-306]]\n",
      "[[0. 0. 0. 0.]\n",
      " [1. 1. 1. 1.]\n",
      " [2. 2. 2. 2.]\n",
      " [3. 3. 3. 3.]\n",
      " [4. 4. 4. 4.]\n",
      " [5. 5. 5. 5.]\n",
      " [6. 6. 6. 6.]\n",
      " [7. 7. 7. 7.]]\n"
     ]
    }
   ],
   "source": [
    "#fancy indexing\n",
    "import numpy as np\n",
    "\n",
    "arr = np.empty((8,4))\n",
    "print(arr)\n",
    "for i in range(8):\n",
    "    arr[i] = i\n",
    "    \n",
    "print(arr)"
   ]
  },
  {
   "cell_type": "code",
   "execution_count": 3,
   "id": "7a685968",
   "metadata": {},
   "outputs": [
    {
     "data": {
      "text/plain": [
       "array([[4., 4., 4., 4.],\n",
       "       [3., 3., 3., 3.],\n",
       "       [0., 0., 0., 0.],\n",
       "       [6., 6., 6., 6.]])"
      ]
     },
     "execution_count": 3,
     "metadata": {},
     "output_type": "execute_result"
    }
   ],
   "source": [
    "arr[[4,3,0,6]]"
   ]
  },
  {
   "cell_type": "code",
   "execution_count": 4,
   "id": "024b1d3d",
   "metadata": {},
   "outputs": [
    {
     "data": {
      "text/plain": [
       "array([[5., 5., 5., 5.],\n",
       "       [3., 3., 3., 3.],\n",
       "       [1., 1., 1., 1.]])"
      ]
     },
     "execution_count": 4,
     "metadata": {},
     "output_type": "execute_result"
    }
   ],
   "source": [
    "arr[[-3,-5,-7]]"
   ]
  },
  {
   "cell_type": "code",
   "execution_count": 7,
   "id": "3b2047d6",
   "metadata": {},
   "outputs": [
    {
     "name": "stdout",
     "output_type": "stream",
     "text": [
      "[[ 0  1  2  3]\n",
      " [ 4  5  6  7]\n",
      " [ 8  9 10 11]\n",
      " [12 13 14 15]\n",
      " [16 17 18 19]\n",
      " [20 21 22 23]\n",
      " [24 25 26 27]\n",
      " [28 29 30 31]] \n",
      "\n"
     ]
    },
    {
     "data": {
      "text/plain": [
       "array([ 4, 23, 29, 10])"
      ]
     },
     "execution_count": 7,
     "metadata": {},
     "output_type": "execute_result"
    }
   ],
   "source": [
    "arr = np.arange(32).reshape(8,4)\n",
    "print(arr,'\\n')\n",
    "arr[[1,5,7,2],[0,3,1,2]]"
   ]
  },
  {
   "cell_type": "code",
   "execution_count": 9,
   "id": "faefbb20",
   "metadata": {},
   "outputs": [
    {
     "name": "stdout",
     "output_type": "stream",
     "text": [
      "[[ 4  5  6  7]\n",
      " [20 21 22 23]\n",
      " [28 29 30 31]\n",
      " [ 8  9 10 11]] \n",
      "\n",
      "[[ 4  7  5  6]\n",
      " [20 23 21 22]\n",
      " [28 31 29 30]\n",
      " [ 8 11  9 10]]\n"
     ]
    }
   ],
   "source": [
    "print(arr[[1,5,7,2]],'\\n')\n",
    "print(arr[[1,5,7,2]][:,[0,3,1,2]])"
   ]
  },
  {
   "cell_type": "code",
   "execution_count": 12,
   "id": "ea583395",
   "metadata": {
    "scrolled": true
   },
   "outputs": [
    {
     "name": "stdout",
     "output_type": "stream",
     "text": [
      "[[ 0  1  2  3  4]\n",
      " [ 5  6  7  8  9]\n",
      " [10 11 12 13 14]] \n",
      "\n",
      "[[ 0  5 10]\n",
      " [ 1  6 11]\n",
      " [ 2  7 12]\n",
      " [ 3  8 13]\n",
      " [ 4  9 14]]\n"
     ]
    }
   ],
   "source": [
    "# 배열 전치와 축 바꾸기\n",
    "\n",
    "arr = np.arange(15).reshape(3,5)\n",
    "print(arr,'\\n')\n",
    "print(arr.T)"
   ]
  },
  {
   "cell_type": "markdown",
   "id": "36ae6914",
   "metadata": {},
   "source": [
    "- 랜덤 배열 생성 후 타입, 차원 확인\n",
    "- 다차원 배열\n",
    "- 특정 조건 적용 후 출력 > 불린 인덱싱\n",
    "- 차원 변환\n",
    "- 인덱싱\n",
    "- zeros, zeros_like, ones, ones_like"
   ]
  }
 ],
 "metadata": {
  "kernelspec": {
   "display_name": "Python 3 (ipykernel)",
   "language": "python",
   "name": "python3"
  },
  "language_info": {
   "codemirror_mode": {
    "name": "ipython",
    "version": 3
   },
   "file_extension": ".py",
   "mimetype": "text/x-python",
   "name": "python",
   "nbconvert_exporter": "python",
   "pygments_lexer": "ipython3",
   "version": "3.8.12"
  }
 },
 "nbformat": 4,
 "nbformat_minor": 5
}
