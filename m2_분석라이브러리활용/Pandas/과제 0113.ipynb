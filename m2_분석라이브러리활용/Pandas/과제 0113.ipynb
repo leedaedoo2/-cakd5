{
 "cells": [
  {
   "cell_type": "code",
   "execution_count": 15,
   "id": "753cc95e",
   "metadata": {},
   "outputs": [
    {
     "name": "stdout",
     "output_type": "stream",
     "text": [
      "<class 'pandas.core.frame.DataFrame'>\n",
      "<class 'pandas.core.series.Series'>\n",
      "<class 'numpy.ndarray'>\n",
      "        qsec\n",
      "3   0.588095\n",
      "5   0.680952\n",
      "7   0.654762\n",
      "8   1.000000\n",
      "10  0.523810\n",
      "17  0.591667\n",
      "19  0.642857\n",
      "20  0.655952\n",
      "25  0.523810\n"
     ]
    },
    {
     "data": {
      "text/plain": [
       "9"
      ]
     },
     "execution_count": 15,
     "metadata": {},
     "output_type": "execute_result"
    }
   ],
   "source": [
    "#mtcars.csv를 불러와서 0~1 스케일로 정규화한 후 qsec컬럼이 0.5보다 큰 관측치의 개수를 구하시오\n",
    "import numpy as np\n",
    "import pandas as pd\n",
    "from sklearn.preprocessing import MinMaxScaler\n",
    "\n",
    "scaler = MinMaxScaler()\n",
    "\n",
    "df = pd.read_csv('./dataset/mtcars.csv',index_col = 0)\n",
    "print(type(df))\n",
    "print(type(df['qsec']))\n",
    "scaled = scaler.fit_transform(df) # minmaxscaler 사용시 array로 변환\n",
    "print(type(scaled))\n",
    "df = pd.DataFrame(scaled,columns = df.columns)\n",
    "newdf = df.loc[df['qsec']>0.5,['qsec']]\n",
    "print(newdf)\n",
    "len(newdf)"
   ]
  }
 ],
 "metadata": {
  "kernelspec": {
   "display_name": "Python 3 (ipykernel)",
   "language": "python",
   "name": "python3"
  },
  "language_info": {
   "codemirror_mode": {
    "name": "ipython",
    "version": 3
   },
   "file_extension": ".py",
   "mimetype": "text/x-python",
   "name": "python",
   "nbconvert_exporter": "python",
   "pygments_lexer": "ipython3",
   "version": "3.8.12"
  }
 },
 "nbformat": 4,
 "nbformat_minor": 5
}
