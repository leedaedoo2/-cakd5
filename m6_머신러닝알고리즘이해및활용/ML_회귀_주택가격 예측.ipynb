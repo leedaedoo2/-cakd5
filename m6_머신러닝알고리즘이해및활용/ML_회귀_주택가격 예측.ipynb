{
 "cells": [
  {
   "cell_type": "markdown",
   "id": "21dd5e42",
   "metadata": {},
   "source": [
    "[도전과제] 캐글 주택가격 예측 및 평가를 아래 사이트를 참조하여 수행하세요.\n",
    "\n",
    "https://www.kaggle.com/c/house-prices-advanced-regression-techniques\n"
   ]
  }
 ],
 "metadata": {
  "kernelspec": {
   "display_name": "Python 3 (ipykernel)",
   "language": "python",
   "name": "python3"
  },
  "language_info": {
   "codemirror_mode": {
    "name": "ipython",
    "version": 3
   },
   "file_extension": ".py",
   "mimetype": "text/x-python",
   "name": "python",
   "nbconvert_exporter": "python",
   "pygments_lexer": "ipython3",
   "version": "3.8.12"
  }
 },
 "nbformat": 4,
 "nbformat_minor": 5
}
