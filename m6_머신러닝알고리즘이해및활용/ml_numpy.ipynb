{
 "cells": [
  {
   "cell_type": "code",
   "execution_count": 5,
   "id": "29c5a9b9",
   "metadata": {},
   "outputs": [
    {
     "name": "stdout",
     "output_type": "stream",
     "text": [
      "[1 2 3] <class 'numpy.ndarray'> (3,)\n",
      "[[1 2]\n",
      " [3 4]] <class 'numpy.ndarray'> (2, 2)\n",
      "[[[1 2]\n",
      "  [3 4]]\n",
      "\n",
      " [[5 6]\n",
      "  [7 8]]] <class 'numpy.ndarray'> (2, 2, 2)\n"
     ]
    }
   ],
   "source": [
    "import numpy as np\n",
    "array1 = np.array([1,2,3])\n",
    "array2 = np.array([[1,2],[3,4]])\n",
    "array3 = np.array([[[1,2],[3,4]],[[5,6],[7,8]]])\n",
    "print(array1,type(array1),array1.shape)\n",
    "print(array2,type(array2),array2.shape)\n",
    "print(array3,type(array3),array3.shape)"
   ]
  },
  {
   "cell_type": "code",
   "execution_count": 6,
   "id": "dc509519",
   "metadata": {},
   "outputs": [
    {
     "name": "stdout",
     "output_type": "stream",
     "text": [
      "float64\n",
      "int32\n"
     ]
    }
   ],
   "source": [
    "array_int = np.array([1,2,3])\n",
    "array_float=array_int.astype('float64')\n",
    "print(array_float.dtype)\n",
    "array_int2 = array_float.astype('int32')\n",
    "print(array_int2.dtype)"
   ]
  },
  {
   "cell_type": "code",
   "execution_count": 8,
   "id": "5bcd37f3",
   "metadata": {},
   "outputs": [
    {
     "name": "stdout",
     "output_type": "stream",
     "text": [
      "[[0 0]\n",
      " [0 0]\n",
      " [0 0]]\n"
     ]
    }
   ],
   "source": [
    "zero_array =np.zeros((3,2),dtype=int)\n",
    "print(zero_array)"
   ]
  },
  {
   "cell_type": "code",
   "execution_count": 10,
   "id": "cd393e2c",
   "metadata": {},
   "outputs": [
    {
     "name": "stdout",
     "output_type": "stream",
     "text": [
      "[[1. 1.]\n",
      " [1. 1.]\n",
      " [1. 1.]] float64\n"
     ]
    }
   ],
   "source": [
    "one_array = np.ones((3,2))\n",
    "print(one_array,one_array.dtype)"
   ]
  },
  {
   "cell_type": "code",
   "execution_count": 13,
   "id": "6700a94c",
   "metadata": {},
   "outputs": [
    {
     "name": "stdout",
     "output_type": "stream",
     "text": [
      "[[0 1 2 3 4]\n",
      " [5 6 7 8 9]] (2, 5)\n",
      "[[[0 1 2 3 4]]\n",
      "\n",
      " [[5 6 7 8 9]]] (2, 1, 5)\n"
     ]
    }
   ],
   "source": [
    "# reshape\n",
    "ar1 = np.arange(10)\n",
    "ar11 = ar1.reshape((2,5))\n",
    "print(ar11,ar11.shape)\n",
    "ar22 = ar1.reshape((2,1,5))\n",
    "print(ar22,ar22.shape)"
   ]
  },
  {
   "cell_type": "code",
   "execution_count": 15,
   "id": "e1c1952b",
   "metadata": {},
   "outputs": [
    {
     "name": "stdout",
     "output_type": "stream",
     "text": [
      "[[[0 1 2 3 4 5 6 7 8 9]]] (1, 1, 10)\n"
     ]
    }
   ],
   "source": [
    "ar33 = ar1.reshape((1,1,-1))\n",
    "print(ar33,ar33.shape)"
   ]
  },
  {
   "cell_type": "code",
   "execution_count": 20,
   "id": "1fbb878b",
   "metadata": {},
   "outputs": [
    {
     "name": "stdout",
     "output_type": "stream",
     "text": [
      "[0 1 2 3 4 5 6 7] (8,)\n",
      "[[0 1 2 3]\n",
      " [4 5 6 7]] (2, 4)\n"
     ]
    }
   ],
   "source": [
    "ar3 = np.arange(8).reshape((2,2,2))\n",
    "ar31 = ar3.reshape((-1))\n",
    "print(ar31,ar31.shape)\n",
    "ar32 = ar3.reshape((2,4))\n",
    "print(ar32,ar32.shape)"
   ]
  },
  {
   "cell_type": "code",
   "execution_count": 23,
   "id": "50969479",
   "metadata": {},
   "outputs": [
    {
     "name": "stdout",
     "output_type": "stream",
     "text": [
      "[1 2 3 4 5 6 7 8 9]\n",
      "2\n",
      "9\n",
      "7\n"
     ]
    }
   ],
   "source": [
    "# indexing\n",
    "ar1 = np.arange(1,10)\n",
    "print(ar1)\n",
    "value = ar1[1]\n",
    "print(value)\n",
    "print(ar1[-1])\n",
    "print(ar1[-3])"
   ]
  },
  {
   "cell_type": "code",
   "execution_count": 29,
   "id": "1fbc0a1f",
   "metadata": {},
   "outputs": [
    {
     "name": "stdout",
     "output_type": "stream",
     "text": [
      "[[1 2 3]\n",
      " [4 5 6]\n",
      " [7 8 9]]\n",
      "1\n",
      "[[3 2]\n",
      " [6 5]]\n",
      "[[1 2]\n",
      " [4 5]]\n"
     ]
    }
   ],
   "source": [
    "ar2d = np.arange(1,10).reshape(3,3)\n",
    "print(ar2d)\n",
    "print(ar2d[0,0])\n",
    "print(ar2d[0:2,3:0:-1])\n",
    "print(ar2d[0:-1,0:-1])"
   ]
  },
  {
   "cell_type": "code",
   "execution_count": 35,
   "id": "37cd5181",
   "metadata": {
    "scrolled": true
   },
   "outputs": [
    {
     "name": "stdout",
     "output_type": "stream",
     "text": [
      "[ 1  2  3  4  5  6  7  8  9 10 11 12 13 14 15 16 17 18 19]\n",
      "[4 5 6]\n",
      "[16 17 18]\n"
     ]
    }
   ],
   "source": [
    "ar1 = np.arange(1,20)\n",
    "print(ar1)\n",
    "print(ar1[3:6])\n",
    "print(ar1[-4:-1])"
   ]
  },
  {
   "cell_type": "code",
   "execution_count": 45,
   "id": "d67b47c6",
   "metadata": {},
   "outputs": [
    {
     "name": "stdout",
     "output_type": "stream",
     "text": [
      "[[1 2 3]\n",
      " [4 5 6]\n",
      " [7 8 9]]\n",
      "[[1 2]\n",
      " [4 5]]\n",
      "[[4 5 6]\n",
      " [7 8 9]]\n",
      "[[4 5 6]\n",
      " [7 8 9]]\n",
      "[[2 3]\n",
      " [5 6]]\n",
      "[[2 3]\n",
      " [5 6]]\n",
      "[1 4]\n"
     ]
    }
   ],
   "source": [
    "ar2d = np.arange(1,10).reshape(3,3)\n",
    "print(ar2d)\n",
    "print(ar2d[0:2,0:2])\n",
    "print(ar2d[1:3,:])\n",
    "print(ar2d[-2:,:])\n",
    "print(ar2d[0:2,1:3])\n",
    "print(ar2d[:2,1:])\n",
    "print(ar2d[:2,0])"
   ]
  },
  {
   "cell_type": "code",
   "execution_count": 48,
   "id": "6e808476",
   "metadata": {},
   "outputs": [
    {
     "name": "stdout",
     "output_type": "stream",
     "text": [
      "[1 2 3 4 5 6 7 8 9]\n",
      "[6 7 8 9]\n"
     ]
    }
   ],
   "source": [
    "# boolean indexing\n",
    "ar1 = np.arange(1,10)\n",
    "print(ar1)\n",
    "print(ar1[ar1>5])"
   ]
  },
  {
   "cell_type": "code",
   "execution_count": 57,
   "id": "efbb59bf",
   "metadata": {},
   "outputs": [
    {
     "name": "stdout",
     "output_type": "stream",
     "text": [
      "[[1 2 3]\n",
      " [4 5 6]\n",
      " [7 8 9]]\n",
      "[3 6]\n",
      "[[1 2]\n",
      " [4 5]]\n",
      "[[1 2 3]\n",
      " [4 5 6]]\n"
     ]
    }
   ],
   "source": [
    "#fancy indexing\n",
    "ar1 = np.arange(1,10).reshape(3,3)\n",
    "print(ar1)\n",
    "print(ar1[[0,1],2])\n",
    "print(ar1[[0,1],:2])\n",
    "print(ar1[[0,1],:3])"
   ]
  },
  {
   "cell_type": "code",
   "execution_count": 66,
   "id": "6d0e3f8c",
   "metadata": {},
   "outputs": [
    {
     "name": "stdout",
     "output_type": "stream",
     "text": [
      "[3 1 9 5]\n",
      "[1 3 5 9]\n",
      "None\n",
      "[1 3 5 9]\n"
     ]
    }
   ],
   "source": [
    "#np.sort() : 원본 미반영\n",
    "ar = np.array([3,1,9,5])\n",
    "print(ar)\n",
    "print(np.sort(ar))\n",
    "#ndarray.sort() : 원본 반영\n",
    "sort_ar1 = ar.sort()\n",
    "print(sort_ar1)\n",
    "print(ar)"
   ]
  },
  {
   "cell_type": "code",
   "execution_count": 68,
   "id": "049c1846",
   "metadata": {
    "scrolled": true
   },
   "outputs": [
    {
     "name": "stdout",
     "output_type": "stream",
     "text": [
      "[9 5 3 1]\n"
     ]
    }
   ],
   "source": [
    "# 내림차순 정렬\n",
    "sort_ar_desc = np.sort(ar)[::-1]\n",
    "print(sort_ar_desc)"
   ]
  },
  {
   "cell_type": "code",
   "execution_count": 69,
   "id": "d9048604",
   "metadata": {},
   "outputs": [
    {
     "name": "stdout",
     "output_type": "stream",
     "text": [
      "[[ 8 12]\n",
      " [ 7  1]]\n",
      "[[ 7  1]\n",
      " [ 8 12]]\n",
      "[[ 8 12]\n",
      " [ 1  7]]\n"
     ]
    }
   ],
   "source": [
    "ar2 = np.array([[8,12],[7,1]])\n",
    "print(ar2)\n",
    "sort_ar2_axis0 = np.sort(ar2,axis=0)\n",
    "print(sort_ar2_axis0)\n",
    "sort_ar2_axis1 = np.sort(ar2,axis=1)\n",
    "print(sort_ar2_axis1)"
   ]
  },
  {
   "cell_type": "code",
   "execution_count": 70,
   "id": "d3cf5ea4",
   "metadata": {},
   "outputs": [
    {
     "name": "stdout",
     "output_type": "stream",
     "text": [
      "[1 0 3 2]\n"
     ]
    }
   ],
   "source": [
    "# 정렬 행렬의 인덱스 반환\n",
    "ar = np.array([3,1,9,5])\n",
    "sort_indices = np.argsort(ar)\n",
    "print(sort_indices)"
   ]
  },
  {
   "cell_type": "code",
   "execution_count": 71,
   "id": "22a69808",
   "metadata": {},
   "outputs": [
    {
     "data": {
      "text/plain": [
       "array([[ 58,  64],\n",
       "       [139, 154]])"
      ]
     },
     "execution_count": 71,
     "metadata": {},
     "output_type": "execute_result"
    }
   ],
   "source": [
    "# 행렬 내적\n",
    "a = np.array([[1,2,3],[4,5,6]])\n",
    "b = np.array([[7,8],[9,10],[11,12]])\n",
    "\n",
    "np.dot(a,b)"
   ]
  },
  {
   "cell_type": "code",
   "execution_count": 73,
   "id": "594c5508",
   "metadata": {},
   "outputs": [
    {
     "data": {
      "text/plain": [
       "array([[1, 3],\n",
       "       [2, 4]])"
      ]
     },
     "execution_count": 73,
     "metadata": {},
     "output_type": "execute_result"
    }
   ],
   "source": [
    "# 전치 행렬\n",
    "a = np.array([[1,2],[3,4]])\n",
    "a.transpose()"
   ]
  }
 ],
 "metadata": {
  "kernelspec": {
   "display_name": "Python 3 (ipykernel)",
   "language": "python",
   "name": "python3"
  },
  "language_info": {
   "codemirror_mode": {
    "name": "ipython",
    "version": 3
   },
   "file_extension": ".py",
   "mimetype": "text/x-python",
   "name": "python",
   "nbconvert_exporter": "python",
   "pygments_lexer": "ipython3",
   "version": "3.8.12"
  }
 },
 "nbformat": 4,
 "nbformat_minor": 5
}
