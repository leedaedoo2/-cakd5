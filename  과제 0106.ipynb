{
 "cells": [
  {
   "cell_type": "code",
   "execution_count": 8,
   "id": "adbc18fa",
   "metadata": {},
   "outputs": [
    {
     "data": {
      "text/plain": [
       "'대'"
      ]
     },
     "execution_count": 8,
     "metadata": {},
     "output_type": "execute_result"
    }
   ],
   "source": [
    "# 'KOREA 대한민국'에서 '대'만 출력하세요\n",
    "\n",
    "import re\n",
    "\n",
    "pattern = re.compile('[^A-Z\\s]')\n",
    "\n",
    "m = pattern.search('KOREA 대한민국')\n",
    "\n",
    "m.group()"
   ]
  },
  {
   "cell_type": "code",
   "execution_count": 13,
   "id": "f519931e",
   "metadata": {},
   "outputs": [
    {
     "data": {
      "text/plain": [
       "'aaaaBBBcccDDDeee'"
      ]
     },
     "execution_count": 13,
     "metadata": {},
     "output_type": "execute_result"
    }
   ],
   "source": [
    "# 'aaaaBBBcccDDDeee'를 모두 출력하세요\n",
    "\n",
    "import re\n",
    "\n",
    "pattern = re.compile('[^\\s]+')\n",
    "\n",
    "m = pattern.search('aaaaBBBcccDDDeee')\n",
    "\n",
    "m.group()"
   ]
  },
  {
   "cell_type": "code",
   "execution_count": 35,
   "id": "6d04129e",
   "metadata": {},
   "outputs": [
    {
     "name": "stdout",
     "output_type": "stream",
     "text": [
      "C\n",
      "C\n",
      "C\n"
     ]
    }
   ],
   "source": [
    "#BC, CC, ABC  모두 C 가 출력되는 정규 표현식을 ()에 작성하세요\n",
    "\n",
    "pattern = re.compile('[C]')\n",
    "text1 = 'BC'\n",
    "text2 = 'CC'\n",
    "text3 = 'ABC'\n",
    "\n",
    "p1 = pattern.search(text1)\n",
    "p2 = pattern.search(text2)\n",
    "p3 = pattern.search(text3)\n",
    "\n",
    "print(p1.group())\n",
    "print(p2.group())\n",
    "print(p3.group())"
   ]
  },
  {
   "cell_type": "code",
   "execution_count": 34,
   "id": "64a2fb40",
   "metadata": {},
   "outputs": [
    {
     "data": {
      "text/plain": [
       "'032-232-3245'"
      ]
     },
     "execution_count": 34,
     "metadata": {},
     "output_type": "execute_result"
    }
   ],
   "source": [
    "#정규표현식을 사용하여 test에서 전화번호만 출력하세요.\n",
    "# test = '문의사항이 있으면 032-232-3245로 연락주시기 바랍니다.'\n",
    "\n",
    "import re\n",
    "pattern = re.compile('[0-9]+\\D[0-9]+\\D[0-9]+')\n",
    "\n",
    "m = pattern.search('문의사항이 있으면 032-232-3245로 연락주시기 바랍니다.')\n",
    "m.group()"
   ]
  },
  {
   "cell_type": "code",
   "execution_count": 90,
   "id": "f449a386",
   "metadata": {},
   "outputs": [
    {
     "name": "stdout",
     "output_type": "stream",
     "text": [
      "abcdefghi\n",
      "e\n"
     ]
    }
   ],
   "source": [
    "#'abcdefghij'에서 중첩을 적용한 서브그룹 5개로 컴파일하여  group()함수를 이용해\n",
    "# 'abcdefghi'와 'e'를 출력하세요.\n",
    "\n",
    "import re\n",
    "\n",
    "pattern1 = re.compile('((ab(cd(e)fg)hi)(j))')\n",
    "#pattern1 = re.compile('(ab)(cd)(e)(fg)(hi)(j)')\n",
    "text = 'abcdefghij'\n",
    "m = pattern1.search(text)\n",
    "print(m.group(2))\n",
    "print(m.group(4))"
   ]
  },
  {
   "cell_type": "code",
   "execution_count": 79,
   "id": "dd7e8339",
   "metadata": {},
   "outputs": [
    {
     "name": "stdout",
     "output_type": "stream",
     "text": [
      "199305\n"
     ]
    }
   ],
   "source": [
    "# '199305, 1923A, a93247'에서 '199305'만 출력하세요\n",
    "\n",
    "import re\n",
    "\n",
    "p = re.compile('[0-9]+')\n",
    "\n",
    "m = p.search('199305, 1923A, a93247')\n",
    "print(m.group())"
   ]
  }
 ],
 "metadata": {
  "kernelspec": {
   "display_name": "Python 3 (ipykernel)",
   "language": "python",
   "name": "python3"
  },
  "language_info": {
   "codemirror_mode": {
    "name": "ipython",
    "version": 3
   },
   "file_extension": ".py",
   "mimetype": "text/x-python",
   "name": "python",
   "nbconvert_exporter": "python",
   "pygments_lexer": "ipython3",
   "version": "3.8.12"
  }
 },
 "nbformat": 4,
 "nbformat_minor": 5
}
