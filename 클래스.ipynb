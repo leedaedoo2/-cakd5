{
 "cells": [
  {
   "cell_type": "markdown",
   "id": "993a801d",
   "metadata": {},
   "source": [
    "## 클래스\n",
    "\n",
    "클래스란 똑같은 무엇인가를 계속해서 만들어 낼 수 있는 설계 도면이고 객체란 클래스로 만든 피조물을 뜻한다\n",
    "\n",
    "- class : 함수 + 변수 모아놓은 것\n",
    "- object : 클래스를 써서 만든 것 = instance\n",
    "\n",
    "- 클래스를 정의한 후 그 클래스를 사용해서 데이터 객체(인스턴스)를 만들 수 있다.\n",
    "- 동일한 클래스에 의해 만들어진 각 객체들은 유사한 특징을 공유한다.\n",
    "- 모든 인스턴스에서 메소드(=코드)는 동일하지만, 속성(데이터)는 다르다.\n",
    "    - 메소드 : 코드\n",
    "    - 속성 : 데이터\n",
    "    - 인스턴스 : 클래스에 의해 만들어진 데이터 객체\n",
    "    - a = 클래스() 에서 a는 객체이고 클래스의 인스턴스이다.\n",
    "    - 인스턴스라는 말은 특정 객체가 어느 클래스의 객체인지를 관계 위주로 설명할 때 사용"
   ]
  },
  {
   "cell_type": "code",
   "execution_count": 7,
   "id": "40478a4e",
   "metadata": {},
   "outputs": [
    {
     "name": "stdout",
     "output_type": "stream",
     "text": [
      "name은 25세이며 computer을 전공함\n",
      "computer\n"
     ]
    }
   ],
   "source": [
    "# 클래스 생성자(인자가 있는 경우)\n",
    "\n",
    "class Cakd:\n",
    "    def __init__(self,name,age,major):\n",
    "        self.name = name\n",
    "        self.age = age\n",
    "        self.major = major\n",
    "        print(f'{self.name}은 {self.age}세이며 {self.major}을 전공함')\n",
    "        \n",
    "student = Cakd('name',25,'computer')\n",
    "print(student.major)"
   ]
  },
  {
   "cell_type": "code",
   "execution_count": 11,
   "id": "3e6bc8d2",
   "metadata": {},
   "outputs": [
    {
     "name": "stdout",
     "output_type": "stream",
     "text": [
      "Cakd 인스턴스가 메모리에서 제거됩니다\n"
     ]
    }
   ],
   "source": [
    "# 클래스 소멸자\n",
    "#클래스 인스턴스 객체가 메모리에서 제거될 때 자동으로 호출되는 클래스 메소드\n",
    "\n",
    "class Cakd:\n",
    "    def __del__(self):\n",
    "        print('Cakd 인스턴스가 메모리에서 제거됩니다')\n",
    "              \n",
    "obj = Cakd()\n",
    "del obj\n"
   ]
  },
  {
   "cell_type": "markdown",
   "id": "4b4db31e",
   "metadata": {},
   "source": [
    "## 클래스 멤버, 클래스 메소드\n",
    "- 클래스를 구성하는 주요 요소는 클래스 멤버(변수)와 클래스 메소드(함수)로 클래스 공간 내에서 정의\n",
    "\n",
    "- 클래스 멤버는 클래스 메소드 내에서 정의되는 지역 변수나 인스턴스 멤버와는다름\n",
    "- 클래스 메소드는 첫번째 인자가 반드시 self로 시작한다\n",
    "- self는 이 클래스의 인스턴스 객체를 가리키는 참조자\n",
    "- 인스턴스 객체에서 클래스 메소드를 호출 시 첫번째 인자인 self를 생략한다"
   ]
  },
  {
   "cell_type": "code",
   "execution_count": 14,
   "id": "996c4dfe",
   "metadata": {},
   "outputs": [
    {
     "name": "stdout",
     "output_type": "stream",
     "text": [
      "안녕하세요\n",
      "안녕하세요\n"
     ]
    }
   ],
   "source": [
    "class MyClass:\n",
    "    var = '안녕하세요' # 클래스 멤버(변수)\n",
    "    def sayHello(self): # 클래스 메소드(함수)\n",
    "        return self.var\n",
    "    \n",
    "obj = MyClass()\n",
    "print(obj.var)\n",
    "print(obj.sayHello())"
   ]
  },
  {
   "cell_type": "code",
   "execution_count": 24,
   "id": "c34a35df",
   "metadata": {},
   "outputs": [
    {
     "name": "stdout",
     "output_type": "stream",
     "text": [
      "안녕하세요\n",
      "안녕\n",
      "안녕하세요\n"
     ]
    },
    {
     "data": {
      "text/plain": [
       "'hi'"
      ]
     },
     "execution_count": 24,
     "metadata": {},
     "output_type": "execute_result"
    }
   ],
   "source": [
    "#클래스 멤버와 인스턴스 멤버\n",
    "#클래스 멤버는 클래스 메소드 바깥에서 선언되고 인스턴스 멤버는 클래스 메소드 안에서 self와 함께 선언된다\n",
    "\n",
    "class MyClass:\n",
    "    var = '안녕하세요' #클래스 멤버\n",
    "    def sayHello(self): #클래스 메소드\n",
    "        param1 = '안녕' #지역 변수\n",
    "        self.param2 = 'hi' #인스턴스 멤버\n",
    "        print(param1)\n",
    "        print(self.var)\n",
    "        \n",
    "        \n",
    "obj = MyClass()\n",
    "print(obj.var)\n",
    "obj.sayHello()\n",
    "obj.param2"
   ]
  },
  {
   "cell_type": "code",
   "execution_count": 28,
   "id": "d9b2db03",
   "metadata": {},
   "outputs": [
    {
     "name": "stdout",
     "output_type": "stream",
     "text": [
      "안녕하세요\n",
      "wii! 다음에 보자\n",
      "<class '__main__.MyClass'>\n"
     ]
    }
   ],
   "source": [
    "#클래스 메소드\n",
    "# 클래스 내에서 정의되는 클래스 메소드는 첫번째 인자가 반드시 self여야 한다\n",
    "\n",
    "class MyClass:\n",
    "    def sayHello(self):\n",
    "        print('안녕하세요')\n",
    "    def sayBye(self,name):\n",
    "        print(f'{name}! 다음에 보자')\n",
    "        \n",
    "obj = MyClass()\n",
    "obj.sayHello()\n",
    "obj.sayBye('wii')\n",
    "print(type(obj))\n"
   ]
  },
  {
   "cell_type": "markdown",
   "id": "d5e28b03",
   "metadata": {},
   "source": [
    "## 객체 지향 프로그래밍(object-oriented programming)\n",
    "\n",
    "- 클래스 인스턴스는 객체라고도 하며 이렇게 클래스를 정의하고 객체를 만드는 패턴을 객체 지향 프로그래밍이라고 한다. OOP\n",
    "- 인스턴스를 불러온다는 것은 클래스를 가져와 객체로 바꿔준다는 것인데 type() 함수를 사용하는 것은 그 반대\n",
    "- 객체의 type를 확인해 보면 해당 객체가 어떤 클래스의 인스턴스인지를 확인\n",
    "- 파이썬에서 main은 \"현재 실행중인 파일\"을 의미한다\n"
   ]
  },
  {
   "cell_type": "code",
   "execution_count": 29,
   "id": "ef7aeade",
   "metadata": {},
   "outputs": [
    {
     "name": "stdout",
     "output_type": "stream",
     "text": [
      "<class '__main__.Test'>\n"
     ]
    }
   ],
   "source": [
    "#임의의 클래스를 작성한 후 인스턴스를 생성하고 그것의 타입을 확인\n",
    "\n",
    "class Test:\n",
    "    pass\n",
    "\n",
    "test = Test()\n",
    "print(type(test))"
   ]
  },
  {
   "cell_type": "markdown",
   "id": "ad6bd473",
   "metadata": {},
   "source": [
    "### 클래스 상속\n",
    "- 어떤 클래스가 가지고 있는 모든 멤버나 메소드를 상속받는 클래스가 모두 사용할 수 있도록 해주는 것\n",
    "\n",
    "- 상속을 해주는 클래스가 부모클래스(슈퍼), 상속을 받는 클래스가 자식클래스(서브)라 한다.\n",
    "\n",
    "- class 자식클래스명(부모클래스명)\n",
    "\n",
    "- 자식클래스는 여러 부모클래스로부터 상속받을 수 있으며 다중상속이라 함.\n",
    "\n",
    "- class 자식클래스명(부모1, 부모2, 부모3, ....)"
   ]
  },
  {
   "cell_type": "code",
   "execution_count": 38,
   "id": "ef61966b",
   "metadata": {},
   "outputs": [
    {
     "name": "stdout",
     "output_type": "stream",
     "text": [
      "3\n",
      "6\n",
      "2\n"
     ]
    }
   ],
   "source": [
    "class Sum:\n",
    "    def sum(self,n1,n2):\n",
    "        return n1+n2\n",
    "\n",
    "class Mul:\n",
    "    def mul(self,n1,n2):\n",
    "        return n1*n2\n",
    "    \n",
    "class Cal(Sum,Mul):\n",
    "    def sub(self,n1,n2):\n",
    "        n2 = Mul.mul(self,n2,-1)\n",
    "        ret = Sum.sum(self,n1,n2)\n",
    "        return ret\n",
    "    \n",
    "obj = Cal()\n",
    "print(obj.sum(1,2))\n",
    "print(obj.mul(2,3))\n",
    "print(obj.sub(5,3))"
   ]
  },
  {
   "cell_type": "code",
   "execution_count": 40,
   "id": "fcc62e61",
   "metadata": {},
   "outputs": [
    {
     "name": "stdout",
     "output_type": "stream",
     "text": [
      "cakd5, 안녕하세요\n",
      "cakd5, 다음에 보자\n"
     ]
    }
   ],
   "source": [
    "#클래스 MyClass를 작성하고 객체를 생성하여 아래와 같이 출력하세요(생성자 사용)\n",
    "\n",
    "class MyClass:\n",
    "    def hello(self,name):\n",
    "        print(f'{name}, 안녕하세요')\n",
    "        \n",
    "    def bye(self,name):\n",
    "        print(f'{name}, 다음에 보자')\n",
    "        \n",
    "obj = MyClass()\n",
    "obj.hello('cakd5')\n",
    "obj.bye('cakd5')"
   ]
  }
 ],
 "metadata": {
  "kernelspec": {
   "display_name": "Python 3 (ipykernel)",
   "language": "python",
   "name": "python3"
  },
  "language_info": {
   "codemirror_mode": {
    "name": "ipython",
    "version": 3
   },
   "file_extension": ".py",
   "mimetype": "text/x-python",
   "name": "python",
   "nbconvert_exporter": "python",
   "pygments_lexer": "ipython3",
   "version": "3.8.12"
  }
 },
 "nbformat": 4,
 "nbformat_minor": 5
}
