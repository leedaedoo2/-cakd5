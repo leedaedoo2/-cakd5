{
 "cells": [
  {
   "cell_type": "code",
   "execution_count": 3,
   "id": "ca741235",
   "metadata": {},
   "outputs": [],
   "source": [
    "#과제 strings를 다양한 문자가 포함된 순서로 정렬하세요\n",
    "strings = ['a','ca','bar','aaaa','ababa']\n",
    "\n",
    "def variableAlphabet(string):\n",
    "    count = 1\n",
    "    for i in range(1,len(string)):\n",
    "        if string[i] not in string[0:i]:\n",
    "            count += 1                    \n",
    "    return count\n",
    "\n",
    "new = {}\n",
    "for i in range(len(strings)):\n",
    "    new[string[i]] = variableAlphabet(strings[i])\n",
    "    \n",
    "    \n",
    "    \n",
    "\n",
    "\n",
    "\n",
    "\n",
    "\n"
   ]
  },
  {
   "cell_type": "code",
   "execution_count": 4,
   "id": "863e4680",
   "metadata": {},
   "outputs": [
    {
     "data": {
      "text/plain": [
       "[1]"
      ]
     },
     "execution_count": 4,
     "metadata": {},
     "output_type": "execute_result"
    }
   ],
   "source": [
    "string = [1,2,3,4,5]\n",
    "string[0:1]"
   ]
  },
  {
   "cell_type": "code",
   "execution_count": 7,
   "id": "0a8ec38a",
   "metadata": {},
   "outputs": [
    {
     "data": {
      "text/plain": [
       "['bar', 'ababa', 'ca', 'aaaa', 'a']"
      ]
     },
     "execution_count": 7,
     "metadata": {},
     "output_type": "execute_result"
    }
   ],
   "source": [
    "strings = ['a','ca','bar','aaaa','ababa']\n",
    "strings.sort(key=lambda x:len(set(x)))\n",
    "strings[::-1]"
   ]
  },
  {
   "cell_type": "code",
   "execution_count": 10,
   "id": "beb0bb83",
   "metadata": {},
   "outputs": [
    {
     "data": {
      "text/plain": [
       "('bar', 'ababa', 'ca', 'aaaa', 'a')"
      ]
     },
     "execution_count": 10,
     "metadata": {},
     "output_type": "execute_result"
    }
   ],
   "source": [
    "strings = ('a','ca','bar','aaaa','ababa')\n",
    "newstr = list(strings)\n",
    "newstr.sort(key=lambda x:len(set(x)))\n",
    "strings = tuple(newstr)\n",
    "strings[::-1]"
   ]
  },
  {
   "cell_type": "code",
   "execution_count": 23,
   "id": "44a4a333",
   "metadata": {},
   "outputs": [
    {
     "name": "stdout",
     "output_type": "stream",
     "text": [
      "gfedcba"
     ]
    }
   ],
   "source": [
    "s = 'abcdefg'\n",
    "s = list(s)\n",
    "tmp = ''\n",
    "for i in range(int(len(s)/2)):\n",
    "    tmp = s[i]\n",
    "    s[i] = s[len(s)-i-1]\n",
    "    s[len(s)-i-1] = tmp\n",
    "\n",
    "for j in range(len(s)):\n",
    "    print(s[j],end = '')"
   ]
  },
  {
   "cell_type": "code",
   "execution_count": 26,
   "id": "1220491f",
   "metadata": {},
   "outputs": [
    {
     "data": {
      "text/plain": [
       "'gfedcba'"
      ]
     },
     "execution_count": 26,
     "metadata": {},
     "output_type": "execute_result"
    }
   ],
   "source": [
    "s = 'abcdefg'\n",
    "s[::-1]"
   ]
  },
  {
   "cell_type": "code",
   "execution_count": 39,
   "id": "6d080914",
   "metadata": {},
   "outputs": [
    {
     "name": "stdout",
     "output_type": "stream",
     "text": [
      "dcb\n"
     ]
    }
   ],
   "source": [
    "#dcb만 출력\n",
    "s = 'abcdefg'\n",
    "s[::-1]\n",
    "print(s[3:0:-1])"
   ]
  },
  {
   "cell_type": "code",
   "execution_count": 40,
   "id": "2827fc54",
   "metadata": {},
   "outputs": [
    {
     "name": "stdout",
     "output_type": "stream",
     "text": [
      "gfedcba\n",
      "gfedcba\n"
     ]
    }
   ],
   "source": [
    "s = 'abcdefg'\n",
    "print(s[::-1])\n",
    "print(s[6::-1])"
   ]
  }
 ],
 "metadata": {
  "kernelspec": {
   "display_name": "Python 3 (ipykernel)",
   "language": "python",
   "name": "python3"
  },
  "language_info": {
   "codemirror_mode": {
    "name": "ipython",
    "version": 3
   },
   "file_extension": ".py",
   "mimetype": "text/x-python",
   "name": "python",
   "nbconvert_exporter": "python",
   "pygments_lexer": "ipython3",
   "version": "3.8.12"
  }
 },
 "nbformat": 4,
 "nbformat_minor": 5
}
