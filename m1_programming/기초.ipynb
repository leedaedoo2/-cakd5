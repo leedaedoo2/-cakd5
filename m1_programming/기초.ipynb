{
 "cells": [
  {
   "cell_type": "markdown",
   "id": "21df8be5",
   "metadata": {},
   "source": [
    "# 파이썬 이란\n",
    "- 1990년 암스테르담의 귀도 반 로섬(Guido Van Rossum)이 개발한 인터프리터 언어\n",
    "- 컴퓨터 프로그래밍 교육을 위해 많이 사용하지만, 기업의 실무를 위해서도 많이 사용하는 - 언어. 구글에서 만든 소프트웨어의 50%이상이 파이썬으로 작성\n",
    "## 파이썬의 특징\n",
    "- 파이썬은 인간다운 언어이다\n",
    "- 파이썬은 문법이 쉬워 빠르게 배울 수 있다\n",
    "- 파이썬은 무료이지만 강력하다\n",
    "- 파이썬은 간결하다\n",
    "- 파이썬은 프로그래밍을 즐기게 해준다\n",
    "- 파이썬은 개발 속도가 빠르다\n",
    "## 파이썬으로 할 수 있는 일\n",
    "- 시스템 유틸리티 제작\n",
    "- GUI 프로그래밍\n",
    "- C/C++와의 결합\n",
    "- 웹 프로그래밍\n",
    "- 수치 연산 프로그래밍\n",
    "- 데이터베이스 프로그래밍\n",
    "- 데이터 분석, 사물 인터넷\n",
    "## 참조\n",
    "- 표현식 : 어떠한 값을 만들어 내는 간단한 코드. 273, 10 + 20 + 30, \"Python Programming\"\n",
    "- 문장 : 표현식이 하나 이상 모이면 문장. print(\"Hello\")\n",
    "- 프로그램 : 문장이 모여서 프로그램\n",
    "- 식별자 : 프로그램밍 언어에서 이름을 붙일 때 사용하는 단어. 주로 변수 또는 함수 이름 등으로 사용\n",
    "- 주석 : 프로그램을 설명하기 위해 사용. # 기호로 주석 처리\n",
    "- 연산자 : 스스로 값이 되는 것이 아니고 값과 값 사이에 무언가 기능을 적용할 때 사용\n",
    "- 자료 : 리터럴이라고 하는데 숫자이든 문자이든 어떠한 값 자체를 의미. 1, 10, \"Hello\"\n",
    "- 키워드 : 파이썬이 만들어질 때 이미 사용하겠다고 예약해 놓는 것. False, None, True, ...\n",
    "- 프로그램밍 언어에서 사용자가 이름을 정할 때 키워드는 사용할 수 없음"
   ]
  },
  {
   "cell_type": "code",
   "execution_count": 1,
   "id": "cd7428cf",
   "metadata": {},
   "outputs": [
    {
     "name": "stdout",
     "output_type": "stream",
     "text": [
      "Python 3.8.12\n"
     ]
    }
   ],
   "source": [
    "!python -V"
   ]
  },
  {
   "cell_type": "code",
   "execution_count": 9,
   "id": "a688dfdf",
   "metadata": {},
   "outputs": [
    {
     "name": "stdout",
     "output_type": "stream",
     "text": [
      "273\n",
      "60\n"
     ]
    }
   ],
   "source": [
    "# 표현식\n",
    "print(273)\n",
    "print(10+20+30)"
   ]
  },
  {
   "cell_type": "code",
   "execution_count": 11,
   "id": "c40c3026",
   "metadata": {},
   "outputs": [
    {
     "name": "stdout",
     "output_type": "stream",
     "text": [
      "hello python\n",
      "52 hello python 8\n"
     ]
    }
   ],
   "source": [
    "#표현식이 하나 이상 씩 모이면 문장\n",
    "print(\"hello python\")\n",
    "print(52, 'hello python', 5+3)"
   ]
  },
  {
   "cell_type": "code",
   "execution_count": 12,
   "id": "69cedc19",
   "metadata": {},
   "outputs": [
    {
     "name": "stdout",
     "output_type": "stream",
     "text": [
      "2\n"
     ]
    }
   ],
   "source": [
    "# 문장이 모여서 프로그램\n",
    "a=1;b=1;c=a+b\n",
    "print(c)"
   ]
  },
  {
   "cell_type": "code",
   "execution_count": 16,
   "id": "b4eb7830",
   "metadata": {},
   "outputs": [
    {
     "name": "stdout",
     "output_type": "stream",
     "text": [
      "['False', 'None', 'True', 'and', 'as', 'assert', 'async', 'await', 'break', 'class', 'continue', 'def', 'del', 'elif', 'else', 'except', 'finally', 'for', 'from', 'global', 'if', 'import', 'in', 'is', 'lambda', 'nonlocal', 'not', 'or', 'pass', 'raise', 'return', 'try', 'while', 'with', 'yield'] \n",
      "\n",
      "\n",
      "35\n"
     ]
    }
   ],
   "source": [
    "# keyword\n",
    "import keyword\n",
    "print(keyword.kwlist,'\\n')\n",
    "print()\n",
    "print(len(keyword.kwlist))"
   ]
  },
  {
   "cell_type": "markdown",
   "id": "30159bc3",
   "metadata": {},
   "source": [
    "식별자 기본 규칙\n",
    " - 키워드를 사용하면 안된다.\n",
    " - 특수문자는 언더바만 사용한다.\n",
    " - 숫자로 시작하면 안된다.\n",
    " - 공백을 포함할 수 없다."
   ]
  },
  {
   "cell_type": "code",
   "execution_count": 17,
   "id": "a4dcc5f5",
   "metadata": {},
   "outputs": [
    {
     "ename": "SyntaxError",
     "evalue": "invalid syntax (Temp/ipykernel_1916/365122581.py, line 5)",
     "output_type": "error",
     "traceback": [
      "\u001b[1;36m  File \u001b[1;32m\"C:\\Users\\admin\\AppData\\Local\\Temp/ipykernel_1916/365122581.py\"\u001b[1;36m, line \u001b[1;32m5\u001b[0m\n\u001b[1;33m    273alpha\u001b[0m\n\u001b[1;37m       ^\u001b[0m\n\u001b[1;31mSyntaxError\u001b[0m\u001b[1;31m:\u001b[0m invalid syntax\n"
     ]
    }
   ],
   "source": [
    "alpha\n",
    "break # 키워드\n",
    "alpha10\n",
    "_alpha\n",
    "273alpha\n",
    "Alpha\n",
    "ALPHA\n",
    "has space"
   ]
  },
  {
   "cell_type": "markdown",
   "id": "11ab3c60",
   "metadata": {},
   "source": [
    "파이썬은 snake_case와 CamelCase를 모두 사용한다 \n",
    "\n",
    "스네이크 케이스 뒤에 {}가 있다 - 함수 : {}가 없다 - 변수 "
   ]
  },
  {
   "cell_type": "code",
   "execution_count": 18,
   "id": "63be4ae2",
   "metadata": {},
   "outputs": [
    {
     "name": "stdout",
     "output_type": "stream",
     "text": [
      "3이 있습니다.\n"
     ]
    }
   ],
   "source": [
    "# 사람이 생각하는 방식을 그대로 표현할 수 있는 언어\n",
    "if 3 in [1,2,3,4]:\n",
    "    print('3이 있습니다.')"
   ]
  },
  {
   "cell_type": "code",
   "execution_count": 20,
   "id": "3a080702",
   "metadata": {},
   "outputs": [
    {
     "name": "stdout",
     "output_type": "stream",
     "text": [
      "정답\n"
     ]
    }
   ],
   "source": [
    "a = 1\n",
    "b = 2\n",
    "if a+b ==3:\n",
    "    print('정답')"
   ]
  },
  {
   "cell_type": "code",
   "execution_count": 23,
   "id": "6282b316",
   "metadata": {},
   "outputs": [
    {
     "name": "stdout",
     "output_type": "stream",
     "text": [
      "123 -123 0 1.23 127 2748 42\n"
     ]
    }
   ],
   "source": [
    "#파이썬 자료형 - 숫자형 (정수, 실수, 8진수, 16진수)\n",
    "a = 123\n",
    "b = -123\n",
    "c = 0\n",
    "d = 1.23\n",
    "e = 0o177\n",
    "f = 0xABC\n",
    "g = 0b101010\n",
    "print(a, b, c, d, e, f, g)"
   ]
  },
  {
   "cell_type": "code",
   "execution_count": 24,
   "id": "a28ce5aa",
   "metadata": {},
   "outputs": [
    {
     "name": "stdout",
     "output_type": "stream",
     "text": [
      "10 2 12 8 20 5.0 0 5 100\n"
     ]
    }
   ],
   "source": [
    "#사칙연산\n",
    "a = 10\n",
    "b = 2\n",
    "c = a+b\n",
    "d = a-b\n",
    "e = a*b\n",
    "f = a/b\n",
    "g = a%b #나머지\n",
    "h = a//b # 몫\n",
    "i = a**b # 제곱\n",
    "print(a,b,c,d,e,f,g,h,i)"
   ]
  },
  {
   "cell_type": "code",
   "execution_count": 25,
   "id": "ac100c4f",
   "metadata": {},
   "outputs": [
    {
     "ename": "TypeError",
     "evalue": "can only concatenate str (not \"int\") to str",
     "output_type": "error",
     "traceback": [
      "\u001b[1;31m---------------------------------------------------------------------------\u001b[0m",
      "\u001b[1;31mTypeError\u001b[0m                                 Traceback (most recent call last)",
      "\u001b[1;32m~\\AppData\\Local\\Temp/ipykernel_1916/2363121204.py\u001b[0m in \u001b[0;36m<module>\u001b[1;34m\u001b[0m\n\u001b[0;32m      2\u001b[0m \u001b[0mstring\u001b[0m \u001b[1;33m=\u001b[0m \u001b[1;34m'문자열'\u001b[0m\u001b[1;33m\u001b[0m\u001b[1;33m\u001b[0m\u001b[0m\n\u001b[0;32m      3\u001b[0m \u001b[0mnumber\u001b[0m \u001b[1;33m=\u001b[0m \u001b[1;36m273\u001b[0m\u001b[1;33m\u001b[0m\u001b[1;33m\u001b[0m\u001b[0m\n\u001b[1;32m----> 4\u001b[1;33m \u001b[0mprint\u001b[0m\u001b[1;33m(\u001b[0m\u001b[0mstring\u001b[0m\u001b[1;33m+\u001b[0m\u001b[0mnumber\u001b[0m\u001b[1;33m)\u001b[0m\u001b[1;33m\u001b[0m\u001b[1;33m\u001b[0m\u001b[0m\n\u001b[0m",
      "\u001b[1;31mTypeError\u001b[0m: can only concatenate str (not \"int\") to str"
     ]
    }
   ],
   "source": [
    "# 다른 타입간 연산은 불가\n",
    "string = '문자열'\n",
    "number = 273\n",
    "print(string+number)"
   ]
  },
  {
   "cell_type": "code",
   "execution_count": 27,
   "id": "e0c0998a",
   "metadata": {},
   "outputs": [
    {
     "data": {
      "text/plain": [
       "str"
      ]
     },
     "execution_count": 27,
     "metadata": {},
     "output_type": "execute_result"
    }
   ],
   "source": [
    "a=10\n",
    "a= '문자'\n",
    "#a = 100\n",
    "type(a)"
   ]
  },
  {
   "cell_type": "code",
   "execution_count": 28,
   "id": "f5602935",
   "metadata": {},
   "outputs": [
    {
     "data": {
      "text/plain": [
       "200"
      ]
     },
     "execution_count": 28,
     "metadata": {},
     "output_type": "execute_result"
    }
   ],
   "source": [
    "#복합 대입 연산자\n",
    "num = 10\n",
    "num += 10\n",
    "num *= 10\n",
    "num"
   ]
  },
  {
   "cell_type": "code",
   "execution_count": 31,
   "id": "81e83a30",
   "metadata": {},
   "outputs": [
    {
     "data": {
      "text/plain": [
       "10.0"
      ]
     },
     "execution_count": 31,
     "metadata": {},
     "output_type": "execute_result"
    }
   ],
   "source": [
    "num = 100\n",
    "num /= 10\n",
    "num"
   ]
  },
  {
   "cell_type": "code",
   "execution_count": 32,
   "id": "c832b4fe",
   "metadata": {},
   "outputs": [
    {
     "name": "stdout",
     "output_type": "stream",
     "text": [
      "인사말을 입력하세요: hi\n"
     ]
    },
    {
     "data": {
      "text/plain": [
       "'hi'"
      ]
     },
     "execution_count": 32,
     "metadata": {},
     "output_type": "execute_result"
    }
   ],
   "source": [
    "# 사용자 입력\n",
    "input('인사말을 입력하세요: ')"
   ]
  },
  {
   "cell_type": "code",
   "execution_count": 34,
   "id": "08c1baf1",
   "metadata": {},
   "outputs": [
    {
     "name": "stdout",
     "output_type": "stream",
     "text": [
      "숫자를 입력하세요: 10\n",
      "10\n"
     ]
    },
    {
     "data": {
      "text/plain": [
       "str"
      ]
     },
     "execution_count": 34,
     "metadata": {},
     "output_type": "execute_result"
    }
   ],
   "source": [
    "num = input('숫자를 입력하세요: ')\n",
    "print(num)\n",
    "type(num)"
   ]
  },
  {
   "cell_type": "code",
   "execution_count": 35,
   "id": "66cf11db",
   "metadata": {},
   "outputs": [
    {
     "name": "stdout",
     "output_type": "stream",
     "text": [
      "숫자입력 :123\n",
      "숫자입력 :456\n",
      "123456\n"
     ]
    }
   ],
   "source": [
    "num1 = input('숫자입력 :')\n",
    "num2 = input('숫자입력 :')\n",
    "print(num1+num2)"
   ]
  },
  {
   "cell_type": "code",
   "execution_count": 36,
   "id": "e9e0cccc",
   "metadata": {},
   "outputs": [
    {
     "name": "stdout",
     "output_type": "stream",
     "text": [
      "숫자입력 :123\n",
      "숫자입력 :456\n",
      "579\n"
     ]
    }
   ],
   "source": [
    "num1 = input('숫자입력 :')\n",
    "num1_n = int(num1)\n",
    "num2 = input('숫자입력 :')\n",
    "num2_n = int(num2)\n",
    "print(num1_n+num2_n)"
   ]
  },
  {
   "cell_type": "code",
   "execution_count": 39,
   "id": "7a9d2d3a",
   "metadata": {},
   "outputs": [
    {
     "name": "stdout",
     "output_type": "stream",
     "text": [
      "숫자입력 :3\n",
      "숫자입력 :3.3\n",
      "6.3\n"
     ]
    }
   ],
   "source": [
    "num1 = input('숫자입력 :')\n",
    "num1_n = float(num1)\n",
    "num2 = input('숫자입력 :')\n",
    "num2_n = float(num2)\n",
    "print(num1_n+num2_n)"
   ]
  },
  {
   "cell_type": "code",
   "execution_count": 40,
   "id": "3a64ae0d",
   "metadata": {},
   "outputs": [
    {
     "name": "stdout",
     "output_type": "stream",
     "text": [
      "5252.273\n"
     ]
    }
   ],
   "source": [
    "a= 52\n",
    "b = 52.273\n",
    "a_s = str(a)\n",
    "b_s = str(b)\n",
    "print(a_s+b_s)"
   ]
  },
  {
   "cell_type": "code",
   "execution_count": 41,
   "id": "b6067ced",
   "metadata": {},
   "outputs": [
    {
     "name": "stdout",
     "output_type": "stream",
     "text": [
      "python's value is great\n"
     ]
    }
   ],
   "source": [
    "# 문자열 : \"\", '', \"\"\" \"\"\", ''' '''\n",
    "s1 = \"python's value is great\"\n",
    "s2 = '\"python us valuable\"he says'\n",
    "s3 = 'python\\'s value is great'\n",
    "print(s3)"
   ]
  },
  {
   "cell_type": "code",
   "execution_count": 42,
   "id": "da1c2b49",
   "metadata": {},
   "outputs": [
    {
     "name": "stdout",
     "output_type": "stream",
     "text": [
      "Once you study data analysis\n",
      "You need python\n"
     ]
    }
   ],
   "source": [
    "y1 = \"Once you study data analysis\\nYou need python\"\n",
    "print(y1)\n",
    "y2 = '''Once you study data analysis,\n",
    "You need python'''"
   ]
  },
  {
   "cell_type": "code",
   "execution_count": 43,
   "id": "b9653892",
   "metadata": {},
   "outputs": [
    {
     "name": "stdout",
     "output_type": "stream",
     "text": [
      "\"What a wonderful world!\"\n",
      " he said loudly\n"
     ]
    }
   ],
   "source": [
    "string = '''\"What a wonderful world!\"\\n he said loudly'''\n",
    "print(string)"
   ]
  },
  {
   "cell_type": "code",
   "execution_count": 45,
   "id": "b5f57cac",
   "metadata": {},
   "outputs": [
    {
     "name": "stdout",
     "output_type": "stream",
     "text": [
      "python is easy to learn\n",
      "pythonpythonpython\n",
      "python3.8\n",
      "====================\n"
     ]
    }
   ],
   "source": [
    "#문자열 연산\n",
    "a1 = 'python'\n",
    "a2 = ' is easy to learn'\n",
    "print(a1 + a2)\n",
    "print(a1*3)\n",
    "print(a1+'3.8')\n",
    "print('='*20)"
   ]
  },
  {
   "cell_type": "code",
   "execution_count": 47,
   "id": "823661a9",
   "metadata": {},
   "outputs": [
    {
     "name": "stdout",
     "output_type": "stream",
     "text": [
      "[1, 2, 3, 4, 5]\n",
      "['a', 'b', 'c', [1, 2, 3, 4, 5]]\n"
     ]
    }
   ],
   "source": [
    "#자료형 - list\n",
    "#list는 []로 표시하며 []안의 요소를 ,로 구분하여 순서대로 나열\n",
    "list1 = [1,2,3,4,5]\n",
    "print(list1)\n",
    "list2 = ['a','b','c',list1]\n",
    "print(list2)"
   ]
  },
  {
   "cell_type": "code",
   "execution_count": 52,
   "id": "53486647",
   "metadata": {},
   "outputs": [
    {
     "name": "stdout",
     "output_type": "stream",
     "text": [
      "[1, 2, 3, 4, 5]\n",
      "c\n",
      "2\n",
      "5\n"
     ]
    }
   ],
   "source": [
    "#인덱싱\n",
    "list1 = [1,2,3,4,5]\n",
    "print(list1[:])\n",
    "print(list2[2])\n",
    "print(list2[3][1])\n",
    "print(list2[3][4])"
   ]
  },
  {
   "cell_type": "code",
   "execution_count": 56,
   "id": "b114f809",
   "metadata": {},
   "outputs": [
    {
     "name": "stdout",
     "output_type": "stream",
     "text": [
      "[1, 1, 2, 3, 4, 5, 6, 7, 8, 9]\n",
      "['a', 'a', 'c']\n",
      "['a', 'c']\n"
     ]
    }
   ],
   "source": [
    "#list 수정,삭제\n",
    "a = [0,1,2,3,4,5,6,7,8,9]\n",
    "b = ['a','b','c']\n",
    "a[0] = 1\n",
    "b[1] = 'a'\n",
    "print(a)\n",
    "print(b)\n",
    "\n",
    "del b[1]\n",
    "print(b)"
   ]
  },
  {
   "cell_type": "code",
   "execution_count": 57,
   "id": "57d63466",
   "metadata": {},
   "outputs": [
    {
     "name": "stdout",
     "output_type": "stream",
     "text": [
      "[0, 1, 2, 3, 4, 5, 6, 7, 8, 9, 'a', 'b', 'c']\n"
     ]
    },
    {
     "data": {
      "text/plain": [
       "[0, 1, 2, 3, 4, 5, 6, 7, 8, 9, 'a', 'b', 1]"
      ]
     },
     "execution_count": 57,
     "metadata": {},
     "output_type": "execute_result"
    }
   ],
   "source": [
    "a = [0,1,2,3,4,5,6,7,8,9]\n",
    "b = ['a','b','c']\n",
    "c= a+b\n",
    "print(c)\n",
    "c[-1] = 1\n",
    "c"
   ]
  },
  {
   "cell_type": "code",
   "execution_count": 58,
   "id": "3b5d0529",
   "metadata": {},
   "outputs": [
    {
     "name": "stdout",
     "output_type": "stream",
     "text": [
      "[1, 2, 3, 4, 5, 6, 7, 8, 9]\n"
     ]
    }
   ],
   "source": [
    "s = [5,7,1,2,9,4,3,8,6]\n",
    "s.sort()\n",
    "print(s)"
   ]
  },
  {
   "cell_type": "code",
   "execution_count": 61,
   "id": "d3dbae03",
   "metadata": {},
   "outputs": [
    {
     "name": "stdout",
     "output_type": "stream",
     "text": [
      "[1, 2, 3, 4]\n",
      "[4, 3, 2, 1]\n",
      "[4, 3, 2, 1]\n"
     ]
    }
   ],
   "source": [
    "b = [2,4,3,1]\n",
    "b.sort()\n",
    "print(b)\n",
    "#내림차순\n",
    "b_d = sorted(b,reverse=True)\n",
    "print(b_d)\n",
    "b.reverse()\n",
    "print(b)"
   ]
  },
  {
   "cell_type": "code",
   "execution_count": 63,
   "id": "97c2fe2f",
   "metadata": {},
   "outputs": [
    {
     "name": "stdout",
     "output_type": "stream",
     "text": [
      "[1, 1, 1, 2, 2, 3, 4, 5, 6, 7, 8, 9]\n",
      "[9, 8, 7, 6, 5, 4, 3, 2, 2, 1, 1, 1]\n",
      "[9, 8, 7, 6, 5, 4, 3, 2, 2, 1, 1, 1]\n"
     ]
    }
   ],
   "source": [
    "s = [1,1,2,3,4,5,6,7,8,9,2,1]\n",
    "s.sort()\n",
    "print(s)\n",
    "s_d = sorted(s,reverse=True)\n",
    "print(s_d)\n",
    "s.reverse()\n",
    "print(s)"
   ]
  },
  {
   "cell_type": "code",
   "execution_count": 65,
   "id": "10044c08",
   "metadata": {},
   "outputs": [
    {
     "name": "stdout",
     "output_type": "stream",
     "text": [
      "2\n"
     ]
    }
   ],
   "source": [
    "#인덱스 변환\n",
    "c = [1,2,3,1,5]\n",
    "print(c.index(3))"
   ]
  },
  {
   "cell_type": "code",
   "execution_count": 61,
   "id": "aad1836c",
   "metadata": {},
   "outputs": [
    {
     "name": "stdout",
     "output_type": "stream",
     "text": [
      "[54, 79, 11, 38, 93, 1, 95, 44, 88, 24, 67, 82, 3, 76, 35, 86, 61, 69, 87, 43, 32, 11, 84, 10, 54, 37, 28, 2, 27, 83, 89, 23, 53, 51, 46, 20, 53, 29, 67, 35, 39, 9, 73, 41, 23, 3, 46, 90, 50, 3, 31, 9, 10, 27, 45, 71, 39, 61, 85, 97, 44, 34, 34, 88, 33, 5, 36, 0, 75, 34, 69, 53, 80, 62, 8, 61, 1, 81, 35, 91, 40, 36, 48, 25, 67, 35, 30, 29, 33, 18, 17, 93, 84, 2, 69, 12, 44, 66, 91, 85]\n"
     ]
    }
   ],
   "source": [
    "import numpy as np\n",
    "c = np.random.randint(100,size = 100).tolist()\n",
    "print(c)"
   ]
  },
  {
   "cell_type": "code",
   "execution_count": 70,
   "id": "99178c5a",
   "metadata": {},
   "outputs": [
    {
     "name": "stdout",
     "output_type": "stream",
     "text": [
      "3\n"
     ]
    }
   ],
   "source": [
    "# 개수 반환\n",
    "c = [1,1,3,3,3,5,5]\n",
    "print(c.count(3))"
   ]
  },
  {
   "cell_type": "code",
   "execution_count": 77,
   "id": "01d398b6",
   "metadata": {},
   "outputs": [
    {
     "name": "stdout",
     "output_type": "stream",
     "text": [
      "[1, 2, 3, 4, 5]\n",
      "[1, 2, 3, 4, 5, 6]\n",
      "[5, 1, 2, 3, 4, 5, 6]\n",
      "[5, 1, 2, 3, 4, 5, 6, 7]\n"
     ]
    }
   ],
   "source": [
    "#list 확장\n",
    "h = [1,2,3]\n",
    "h.extend([4,5])\n",
    "print(h)\n",
    "#추가\n",
    "h.append(6)\n",
    "print(h)\n",
    "h.insert(0,5)\n",
    "print(h)\n",
    "h.insert(len(h),7)\n",
    "print(h)"
   ]
  },
  {
   "cell_type": "code",
   "execution_count": 78,
   "id": "f44395ea",
   "metadata": {},
   "outputs": [
    {
     "name": "stdout",
     "output_type": "stream",
     "text": [
      "(1, 2, 3, 4, 5) abc 5 b\n"
     ]
    }
   ],
   "source": [
    "#tuple\n",
    "tuple1 = (1,2,3,4,5)\n",
    "tuple2 = ('a','b','c')\n",
    "tuple3 = (1,'a','abc',[1,2,3,4,5],['a','b','c'])\n",
    "\n",
    "print(tuple1[:],tuple3[2],tuple3[3][4],tuple3[4][1])"
   ]
  },
  {
   "cell_type": "code",
   "execution_count": 79,
   "id": "df6b7b87",
   "metadata": {},
   "outputs": [
    {
     "ename": "TypeError",
     "evalue": "'tuple' object does not support item assignment",
     "output_type": "error",
     "traceback": [
      "\u001b[1;31m---------------------------------------------------------------------------\u001b[0m",
      "\u001b[1;31mTypeError\u001b[0m                                 Traceback (most recent call last)",
      "\u001b[1;32m~\\AppData\\Local\\Temp/ipykernel_1916/2860481297.py\u001b[0m in \u001b[0;36m<module>\u001b[1;34m\u001b[0m\n\u001b[0;32m      1\u001b[0m \u001b[1;31m#tuple의 요소 값은 변경할 수 없음 - 프로그램에서 그 값이 항상 변하지 않아야 되는 경우 사용\u001b[0m\u001b[1;33m\u001b[0m\u001b[1;33m\u001b[0m\u001b[1;33m\u001b[0m\u001b[0m\n\u001b[1;32m----> 2\u001b[1;33m \u001b[0mtuple1\u001b[0m\u001b[1;33m[\u001b[0m\u001b[1;36m0\u001b[0m\u001b[1;33m]\u001b[0m \u001b[1;33m=\u001b[0m \u001b[1;36m6\u001b[0m\u001b[1;33m\u001b[0m\u001b[1;33m\u001b[0m\u001b[0m\n\u001b[0m\u001b[0;32m      3\u001b[0m \u001b[0mprint\u001b[0m\u001b[1;33m(\u001b[0m\u001b[0mtuple1\u001b[0m\u001b[1;33m)\u001b[0m\u001b[1;33m\u001b[0m\u001b[1;33m\u001b[0m\u001b[0m\n",
      "\u001b[1;31mTypeError\u001b[0m: 'tuple' object does not support item assignment"
     ]
    }
   ],
   "source": [
    "#tuple의 요소 값은 변경할 수 없음 - 프로그램에서 그 값이 항상 변하지 않아야 되는 경우 사용\n",
    "tuple1[0] = 6\n",
    "print(tuple1)"
   ]
  },
  {
   "cell_type": "code",
   "execution_count": 80,
   "id": "b33b5f5b",
   "metadata": {},
   "outputs": [
    {
     "name": "stdout",
     "output_type": "stream",
     "text": [
      "(1,)\n",
      "(1, 2, 3)\n",
      "(1, 2, 3, 1, 2, 3, 1, 2, 3)\n",
      "(1, 1, 2, 3)\n"
     ]
    },
    {
     "data": {
      "text/plain": [
       "tuple"
      ]
     },
     "execution_count": 80,
     "metadata": {},
     "output_type": "execute_result"
    }
   ],
   "source": [
    "t1 = (1,) #1개의 요소만을 가질 때에는 요소 뒤에 콤마를 붙어야 함\n",
    "print(t1)\n",
    "t2 = 1,2,3\n",
    "print(t2)\n",
    "print(t2*3)\n",
    "t3 = t1+t2\n",
    "print(t3)\n",
    "t4 = (1,)\n",
    "type(t4)"
   ]
  },
  {
   "cell_type": "code",
   "execution_count": 2,
   "id": "b315efb7",
   "metadata": {},
   "outputs": [
    {
     "name": "stdout",
     "output_type": "stream",
     "text": [
      "1\n",
      "{'a': 1, 'b': 5, 'c': 3}\n",
      "{'a': 1, 'b': 5, 'c': [1, 2, 3, 4, 5]}\n",
      "4\n",
      "{'b': 5, 'c': [1, 2, 3, 4, 5]}\n"
     ]
    }
   ],
   "source": [
    "#자료형 - 사전 : 키와 값을 하나의 요소로 하는 순서가 없는 집합\n",
    "d1 = {'a':1,'b':2,'c':3}\n",
    "print(d1['a'])\n",
    "d1['b'] = 5\n",
    "print(d1)\n",
    "d1['c'] = [1,2,3,4,5]\n",
    "print(d1)\n",
    "print(d1['c'][3])\n",
    "\n",
    "del d1['a']\n",
    "print(d1)"
   ]
  },
  {
   "cell_type": "code",
   "execution_count": 85,
   "id": "921abe3c",
   "metadata": {},
   "outputs": [
    {
     "name": "stdout",
     "output_type": "stream",
     "text": [
      "dict_keys(['a', 'b', 'c'])\n",
      "dict_values([1, 5, [1, 2, 3, 4, 5]])\n",
      "dict_items([('a', 1), ('b', 5), ('c', [1, 2, 3, 4, 5])])\n"
     ]
    }
   ],
   "source": [
    "print(d1.keys())\n",
    "print(d1.values())\n",
    "print(d1.items())"
   ]
  },
  {
   "cell_type": "code",
   "execution_count": 87,
   "id": "936215c0",
   "metadata": {},
   "outputs": [
    {
     "name": "stdout",
     "output_type": "stream",
     "text": [
      "1\n",
      "{'x': 1, 'y': 71, 'z': 3}\n",
      "{'x': 1, 'y': 71, 'z': [1, 2, 3, 4, 5]}\n",
      "3\n",
      "dict_keys(['x', 'y', 'z'])\n",
      "dict_values([1, 71, [1, 2, 3, 4, 5]])\n",
      "dict_items([('x', 1), ('y', 71), ('z', [1, 2, 3, 4, 5])])\n"
     ]
    }
   ],
   "source": [
    "d1 = {'x':1,'y':2,'z':3}\n",
    "print(d1['x'])\n",
    "d1['y'] = 71\n",
    "print(d1)\n",
    "d1['z'] = [1,2,3,4,5]\n",
    "print(d1)\n",
    "print(d1['z'][2])\n",
    "print(d1.keys())\n",
    "print(d1.values())\n",
    "print(d1.items())"
   ]
  },
  {
   "cell_type": "code",
   "execution_count": 89,
   "id": "19f47f4f",
   "metadata": {},
   "outputs": [
    {
     "name": "stdout",
     "output_type": "stream",
     "text": [
      "{0, 1, 2, 3, 4} {'e', 'o', 'h', 'l'}\n"
     ]
    }
   ],
   "source": [
    "#자료형 - 집합,set (중복을 허용하지 않으며 순서가 없다)\n",
    "s1 = set([1,2,4,0,3])\n",
    "s2 = set('hello')\n",
    "print(s1,s2)"
   ]
  },
  {
   "cell_type": "code",
   "execution_count": 92,
   "id": "fe203bde",
   "metadata": {},
   "outputs": [
    {
     "name": "stdout",
     "output_type": "stream",
     "text": [
      "1\n",
      "o\n"
     ]
    }
   ],
   "source": [
    "#집합은 인덱싱으로 값을 얻을 수 없다 필요시 리스트, 튜플로 변환\n",
    "l1 = list(s1)\n",
    "print(l1[1])\n",
    "l2 = list(s2)\n",
    "print(l2[1])"
   ]
  },
  {
   "cell_type": "code",
   "execution_count": 96,
   "id": "e6137d9a",
   "metadata": {},
   "outputs": [
    {
     "name": "stdout",
     "output_type": "stream",
     "text": [
      "[1, 2, 3, 4, 5, 6, 7, 8, 9]\n",
      "[4, 5, 6]\n"
     ]
    }
   ],
   "source": [
    "# 집합 연산 - 합집합 | , 교집합&\n",
    "s1 = set([1,2,3,4,5,6])\n",
    "s2 = set([4,5,6,7,8,9])\n",
    "print(list(s1|s2))\n",
    "print(list(s1&s2))"
   ]
  },
  {
   "cell_type": "code",
   "execution_count": 102,
   "id": "cda02138",
   "metadata": {},
   "outputs": [
    {
     "name": "stdout",
     "output_type": "stream",
     "text": [
      "[1, 1, 2, 2, 2, 3, 3, 3, 4, 4, 5]\n",
      "<class 'list'>\n",
      "3\n",
      "(1, 1, 2, 2, 2, 3, 3, 3, 4, 4, 5)\n",
      "3\n",
      "{1, 2, 3, 4, 5}\n"
     ]
    }
   ],
   "source": [
    "list3 = [1,1,2,2,2,3,3,3,4,4,5]\n",
    "print(list3)\n",
    "print(type(list3))\n",
    "print(list3.count(2))\n",
    "tuple3 = tuple(list3)\n",
    "print(tuple3)\n",
    "print(tuple3.count(2))\n",
    "set3 = set(list3)\n",
    "print(set3)"
   ]
  },
  {
   "cell_type": "code",
   "execution_count": 103,
   "id": "de30b3dc",
   "metadata": {},
   "outputs": [
    {
     "name": "stdout",
     "output_type": "stream",
     "text": [
      "a가 list1에 있습니다.\n"
     ]
    }
   ],
   "source": [
    "#들여쓰기\n",
    "list1 = ['a','b','c']\n",
    "if 'a' in list1:\n",
    "    print('a가 list1에 있습니다.')\n",
    "else:\n",
    "    print('a가 ;list1에 없습니다')\n",
    "        "
   ]
  },
  {
   "cell_type": "code",
   "execution_count": 106,
   "id": "ba54671b",
   "metadata": {},
   "outputs": [
    {
     "data": {
      "text/plain": [
       "'나의 이름은 홍길동입니다. 나이는 30입니다'"
      ]
     },
     "execution_count": 106,
     "metadata": {},
     "output_type": "execute_result"
    }
   ],
   "source": [
    "# 문자열 포맷\n",
    "\n",
    "name = '홍길동'\n",
    "age = 30\n",
    "f'나의 이름은 {name}입니다. 나이는 {age}입니다'"
   ]
  },
  {
   "cell_type": "code",
   "execution_count": 109,
   "id": "6bbf3595",
   "metadata": {},
   "outputs": [
    {
     "data": {
      "text/plain": [
       "'나의 이름은 홍길동입니다. 나이는 30입니다'"
      ]
     },
     "execution_count": 109,
     "metadata": {},
     "output_type": "execute_result"
    }
   ],
   "source": [
    "dict1 = {'name':'홍길동','age':30}\n",
    "f'나의 이름은 {dict1[\"name\"]}입니다. 나이는 {dict1[\"age\"]}입니다'"
   ]
  },
  {
   "cell_type": "code",
   "execution_count": 111,
   "id": "f0e7a75f",
   "metadata": {},
   "outputs": [
    {
     "data": {
      "text/plain": [
       "'3.14'"
      ]
     },
     "execution_count": 111,
     "metadata": {},
     "output_type": "execute_result"
    }
   ],
   "source": [
    "y=3.14159\n",
    "f'{y:0.2f}'"
   ]
  },
  {
   "cell_type": "code",
   "execution_count": 112,
   "id": "1820328f",
   "metadata": {},
   "outputs": [
    {
     "data": {
      "text/plain": [
       "'      3.14'"
      ]
     },
     "execution_count": 112,
     "metadata": {},
     "output_type": "execute_result"
    }
   ],
   "source": [
    "f'{y:10.2f}'"
   ]
  },
  {
   "cell_type": "code",
   "execution_count": 117,
   "id": "f55a3aca",
   "metadata": {},
   "outputs": [
    {
     "name": "stdout",
     "output_type": "stream",
     "text": [
      "홍길동 선수가 1등입니다\n",
      "홍길동 선수가 1등입니다\n"
     ]
    }
   ],
   "source": [
    "#포맷 함수\n",
    "f1 = \"{} 선수가 {}등입니다\".format('홍길동',1)\n",
    "print(f1)\n",
    "f2 = \"%s 선수가 %d등입니다\" %('홍길동',1)\n",
    "print(f2)"
   ]
  },
  {
   "cell_type": "code",
   "execution_count": 119,
   "id": "6019b1f8",
   "metadata": {},
   "outputs": [
    {
     "name": "stdout",
     "output_type": "stream",
     "text": [
      "파이썬은 자바보다 2배 쉽습니다\n",
      "파이썬은 자바보다 2배 쉽습니다\n"
     ]
    }
   ],
   "source": [
    "f3 = \"{}은 {}보다 {}배 쉽습니다\".format('파이썬','자바',2)\n",
    "print(f3)\n",
    "f4 = \"{2}은 {0}보다 {1}배 쉽습니다\".format('자바',2,'파이썬')\n",
    "print(f4)"
   ]
  },
  {
   "cell_type": "code",
   "execution_count": 145,
   "id": "c9e24563",
   "metadata": {},
   "outputs": [
    {
     "name": "stdout",
     "output_type": "stream",
     "text": [
      "12345\n",
      "     12345\n",
      "12.345679\n",
      "          12.346\n"
     ]
    }
   ],
   "source": [
    "# 과제\n",
    "\n",
    "num = 123456789\n",
    "\n",
    "num1 = int(num/(10**4))\n",
    "print(num1)\n",
    "num11 = f'{num1:10.0f}'\n",
    "print(num11)\n",
    "\n",
    "num2 = num/(10**7)\n",
    "num22 = f'{num2:0.6f}'\n",
    "print(num22)\n",
    "num222 = f'{num2:16.3f}'\n",
    "print(num222)"
   ]
  },
  {
   "cell_type": "code",
   "execution_count": 149,
   "id": "b62de0b6",
   "metadata": {},
   "outputs": [
    {
     "name": "stdout",
     "output_type": "stream",
     "text": [
      "저축 증가\n"
     ]
    }
   ],
   "source": [
    "#제어문 if-elif-else\n",
    "i = 7000000\n",
    "e = 3000000\n",
    "\n",
    "if i>e:\n",
    "    print('저축 증가')\n",
    "elif i<e:\n",
    "    print('빚 증가')\n",
    "else:\n",
    "    print('현상 유지')\n",
    "        "
   ]
  },
  {
   "cell_type": "code",
   "execution_count": 150,
   "id": "97d281a1",
   "metadata": {},
   "outputs": [
    {
     "name": "stdout",
     "output_type": "stream",
     "text": [
      "5 15 6 20 7 25 "
     ]
    }
   ],
   "source": [
    "# for 반복문\n",
    "numbers = [5,15,6,20,7,25]\n",
    "for number in numbers:\n",
    "    print(number,end=' ')"
   ]
  },
  {
   "cell_type": "code",
   "execution_count": 153,
   "id": "bf3fde37",
   "metadata": {},
   "outputs": [
    {
     "name": "stdout",
     "output_type": "stream",
     "text": [
      "몫= 2\n",
      "나머지= 1\n"
     ]
    }
   ],
   "source": [
    "print('몫=', 5//2)\n",
    "print('나머지=',5%2)"
   ]
  },
  {
   "cell_type": "code",
   "execution_count": 152,
   "id": "1ddccb47",
   "metadata": {},
   "outputs": [
    {
     "name": "stdout",
     "output_type": "stream",
     "text": [
      "1030301\n"
     ]
    }
   ],
   "source": [
    "print(101**3)"
   ]
  },
  {
   "cell_type": "code",
   "execution_count": 162,
   "id": "a0f1e458",
   "metadata": {},
   "outputs": [
    {
     "name": "stdout",
     "output_type": "stream",
     "text": [
      "Python 3.8.3\n",
      "2\n"
     ]
    },
    {
     "data": {
      "text/plain": [
       "int"
      ]
     },
     "execution_count": 162,
     "metadata": {},
     "output_type": "execute_result"
    }
   ],
   "source": [
    "s1 = 'Python'\n",
    "s2 = '3.8.3'\n",
    "print(s1+' '+s2)\n",
    "\n",
    "b=5\n",
    "b**=3\n",
    "b%=3\n",
    "print(b)\n",
    "\n",
    "a=5\n",
    "a='10'\n",
    "a=15\n",
    "type(a)"
   ]
  },
  {
   "cell_type": "code",
   "execution_count": 163,
   "id": "08bb8688",
   "metadata": {},
   "outputs": [
    {
     "name": "stdout",
     "output_type": "stream",
     "text": [
      "당신의 이름은 무엇인가요? : 이재우\n"
     ]
    },
    {
     "data": {
      "text/plain": [
       "'이재우'"
      ]
     },
     "execution_count": 163,
     "metadata": {},
     "output_type": "execute_result"
    }
   ],
   "source": [
    "input('당신의 이름은 무엇인가요? : ')"
   ]
  },
  {
   "cell_type": "code",
   "execution_count": 167,
   "id": "0aa9e6a6",
   "metadata": {},
   "outputs": [
    {
     "name": "stdout",
     "output_type": "stream",
     "text": [
      "첫번째 숫자: 3\n",
      "두번째 숫자: 7\n",
      "세번째 숫자: 9\n",
      "243\n"
     ]
    }
   ],
   "source": [
    "a= input('첫번째 숫자: ')\n",
    "int_a= int(a)\n",
    "b= input('두번째 숫자: ')\n",
    "int_b = int(b)\n",
    "c= input('세번째 숫자: ')\n",
    "int_c = int(c)\n",
    "print(int_a**int_b//int_c)"
   ]
  },
  {
   "cell_type": "code",
   "execution_count": 170,
   "id": "b5383a36",
   "metadata": {},
   "outputs": [
    {
     "name": "stdout",
     "output_type": "stream",
     "text": [
      "첫번째 숫자: 1\n",
      "두번째 숫자: 2\n",
      "세번째 숫자: 3\n",
      "네번째 숫자: 4\n",
      "다섯번째 숫자: 5\n",
      "12345\n"
     ]
    }
   ],
   "source": [
    "# 1부터 5까지 입력해서 12345를 출력하시오\n",
    "a= input('첫번째 숫자: ')\n",
    "int_a= int(a)\n",
    "b= input('두번째 숫자: ')\n",
    "int_b = int(b)\n",
    "c= input('세번째 숫자: ')\n",
    "int_c = int(c)\n",
    "d=input('네번째 숫자: ')\n",
    "int_d=int(d)\n",
    "e=input('다섯번째 숫자: ')\n",
    "int_e = int(e)\n",
    "num = int_a*(10**4)+int_b*(10**3)+int_c*(10**2)+int_d*10+int_e\n",
    "print(num)"
   ]
  },
  {
   "cell_type": "code",
   "execution_count": 171,
   "id": "7bf4a715",
   "metadata": {},
   "outputs": [
    {
     "name": "stdout",
     "output_type": "stream",
     "text": [
      "[0, 1, 2, 3, 4, 5, 6, 7, 8, 'b', 'c']\n"
     ]
    }
   ],
   "source": [
    "list1 = [0,1,2,3,4,5,6,7,8,9,'a','b','c']\n",
    "del list1[10]\n",
    "del list1[-3]\n",
    "print(list1)"
   ]
  },
  {
   "cell_type": "code",
   "execution_count": 176,
   "id": "cbbe2942",
   "metadata": {},
   "outputs": [
    {
     "name": "stdout",
     "output_type": "stream",
     "text": [
      "1 2 3 4 5 "
     ]
    }
   ],
   "source": [
    "#for continue break\n",
    "#1~ 10 범위의 정수에서 1부터 5까지만 출력하세요\n",
    "for i in range(1,11):\n",
    "    print(i,end=' ')\n",
    "    if i<5:\n",
    "        continue\n",
    "    else:\n",
    "        break"
   ]
  },
  {
   "cell_type": "code",
   "execution_count": 179,
   "id": "1a901df5",
   "metadata": {},
   "outputs": [
    {
     "name": "stdout",
     "output_type": "stream",
     "text": [
      "1\n",
      "2\n",
      "4\n",
      "5\n",
      "10\n",
      "20\n",
      "25\n",
      "50\n"
     ]
    }
   ],
   "source": [
    "for a in range(1,100):\n",
    "    if 100%a == 0:\n",
    "        print(a)\n",
    "    else:\n",
    "        a+=1\n",
    "        continue"
   ]
  },
  {
   "cell_type": "code",
   "execution_count": 183,
   "id": "2d4a665b",
   "metadata": {},
   "outputs": [
    {
     "name": "stdout",
     "output_type": "stream",
     "text": [
      "15 20 25 "
     ]
    }
   ],
   "source": [
    "#number 리스트에서 15, 20, 25를 출력하세요(for,if문 사용)\n",
    "numbers=[5,15,6,20,7,25]\n",
    "for number in numbers:\n",
    "    if number > 10:\n",
    "        print(number,end = ' ')\n",
    "    else:\n",
    "        continue\n"
   ]
  },
  {
   "cell_type": "code",
   "execution_count": 184,
   "id": "16e6d0e4",
   "metadata": {},
   "outputs": [
    {
     "name": "stdout",
     "output_type": "stream",
     "text": [
      "45\n",
      "1035\n"
     ]
    }
   ],
   "source": [
    "# while문\n",
    "# 정수 1부터 n까지 더할 때 그 합이 1000보다 커지게 되는 n과의 합을 구하시오\n",
    "x = 1\n",
    "sum = 0\n",
    "while 1:\n",
    "    sum = sum+x\n",
    "    if sum > 1000:\n",
    "        print(x)\n",
    "        print(sum)\n",
    "        break\n",
    "    else:\n",
    "        x+=1"
   ]
  },
  {
   "cell_type": "code",
   "execution_count": 2,
   "id": "ba098d71",
   "metadata": {},
   "outputs": [
    {
     "name": "stdout",
     "output_type": "stream",
     "text": [
      "166833\n"
     ]
    }
   ],
   "source": [
    "# while 문을 사용해 1부터 1000까지 정수 중에서 3의 배수의 합을 구해보자\n",
    "\n",
    "x=1\n",
    "sum = 0\n",
    "\n",
    "while 1:\n",
    "    if x > 1000:\n",
    "        print(sum)\n",
    "        break\n",
    "    else:\n",
    "        if x%3 == 0:\n",
    "            sum = sum +x\n",
    "        x+=1\n"
   ]
  },
  {
   "cell_type": "code",
   "execution_count": 3,
   "id": "d916e2e9",
   "metadata": {},
   "outputs": [
    {
     "name": "stdout",
     "output_type": "stream",
     "text": [
      "4455\n"
     ]
    }
   ],
   "source": [
    "# [과제] 1부터 100까지의 정수 중 5에서 95까지의 합을 구하세요.\n",
    "sum = 0\n",
    "\n",
    "for a in range(5,95):\n",
    "    sum = sum + a\n",
    "print(sum)"
   ]
  },
  {
   "cell_type": "code",
   "execution_count": 20,
   "id": "d91877dd",
   "metadata": {},
   "outputs": [
    {
     "name": "stdout",
     "output_type": "stream",
     "text": [
      "돈을 얼마나 넣어볼까요?: 1800\n",
      "커피 한잔 순삭\n",
      "커피 한잔 순삭\n",
      "커피 한잔 순삭\n",
      "커피 한잔 순삭\n",
      "커피 한잔 순삭\n",
      "커피 없어요. 일주일 뒤에 와요\n"
     ]
    }
   ],
   "source": [
    "# 과제 커피 자판기 프로그램\n",
    "# 시나리오 : 자판기 커피 재고 5잔, 커피 한잔 가격 300원, 재고 범위내에서 300원 이상 돈을 넣으면 거스름돈과 커피를 주고 그렇지 않으면 반환하며 재고가 소진되면 안내멘트 출력\n",
    "# 각 Case별 멘트 출력은 상황에 맞게 창작\n",
    "# while, if ~ elif ~ else 제어문을 사용하여 작성\n",
    "\n",
    "myMoney = int(input('돈을 얼마나 넣어볼까요?: '))\n",
    "\n",
    "remainCoffee = 5\n",
    "coffeeCost = 300\n",
    "\n",
    "while 1:\n",
    "    if remainCoffee == 0:\n",
    "        print('커피 없어요. 일주일 뒤에 와요')\n",
    "        break\n",
    "    elif myMoney < 300:\n",
    "        print('돈이 부족하네요. 나중에 다시 와요')\n",
    "        print('거스름돈 %d원 받아가요'%(myMoney))\n",
    "        break\n",
    "\n",
    "    else:\n",
    "        myMoney -= 300\n",
    "        remainCoffee -= 1\n",
    "        print('커피 한잔 순삭')\n",
    "        if myMoney < 300:\n",
    "            print('거스름돈 %d원 받아가요'%(myMoney))\n",
    "            break\n",
    "        else:\n",
    "            continue\n",
    "\n"
   ]
  },
  {
   "cell_type": "code",
   "execution_count": 5,
   "id": "c2fdf385",
   "metadata": {},
   "outputs": [
    {
     "name": "stdout",
     "output_type": "stream",
     "text": [
      "25\n"
     ]
    }
   ],
   "source": [
    "x= lambda a,b:a**b\n",
    "print(x(5,2))"
   ]
  },
  {
   "cell_type": "code",
   "execution_count": null,
   "id": "3713496b",
   "metadata": {},
   "outputs": [],
   "source": [
    "import numpy as np\n",
    "coffee = 5\n",
    "print('welcome to coffecoin')\n",
    "print(f'남은 커피 {coffee}잔')\n",
    "print('')\n",
    "\n",
    "while 1:\n",
    "    price = 300\n",
    "    var = np.random.randint(100,size = 1).tolist()\n",
    "    price = price + var[0]\n",
    "    print(f'현재 커피값 : {price}원')\n",
    "    money = int(input(\"커피 팔아요 현금 넣어요: \"))\n",
    "    print('')\n",
    "    if money == price:\n",
    "        print('커피를 마신다')\n",
    "        coffee -= 1\n",
    "        print(f'남은 커피 {coffee}잔')\n",
    "        print('')\n",
    "    elif money > price:\n",
    "        c = money - price\n",
    "        print(f'커피 마시고 잔돈 {c}원 받아가요')\n",
    "        coffee -= 1\n",
    "        print(f'남은 커피 {coffee}잔')\n",
    "        print('')\n",
    "    else:\n",
    "        print(f'커피는 {price}원입니다 현금 다시 넣어요')\n",
    "        print(f'남은 커피 {coffee}잔')\n",
    "        print('')\n",
    "    \n",
    "    if coffee == 0:\n",
    "        print('완판')\n",
    "        break"
   ]
  },
  {
   "cell_type": "code",
   "execution_count": 29,
   "id": "44a0ddf6",
   "metadata": {},
   "outputs": [
    {
     "data": {
      "text/plain": [
       "97"
      ]
     },
     "execution_count": 29,
     "metadata": {},
     "output_type": "execute_result"
    }
   ],
   "source": [
    "ord('a')"
   ]
  },
  {
   "cell_type": "code",
   "execution_count": 30,
   "id": "e0067ef0",
   "metadata": {},
   "outputs": [
    {
     "data": {
      "text/plain": [
       "'A'"
      ]
     },
     "execution_count": 30,
     "metadata": {},
     "output_type": "execute_result"
    }
   ],
   "source": [
    "chr(65)"
   ]
  },
  {
   "cell_type": "code",
   "execution_count": 31,
   "id": "3c2a4327",
   "metadata": {},
   "outputs": [
    {
     "data": {
      "text/plain": [
       "'\\x01'"
      ]
     },
     "execution_count": 31,
     "metadata": {},
     "output_type": "execute_result"
    }
   ],
   "source": [
    "chr(1)"
   ]
  },
  {
   "cell_type": "code",
   "execution_count": 32,
   "id": "9f82b295",
   "metadata": {},
   "outputs": [
    {
     "data": {
      "text/plain": [
       "'%'"
      ]
     },
     "execution_count": 32,
     "metadata": {},
     "output_type": "execute_result"
    }
   ],
   "source": [
    "chr(37)"
   ]
  },
  {
   "cell_type": "code",
   "execution_count": 41,
   "id": "3ba43990",
   "metadata": {},
   "outputs": [
    {
     "data": {
      "text/plain": [
       "1"
      ]
     },
     "execution_count": 41,
     "metadata": {},
     "output_type": "execute_result"
    }
   ],
   "source": [
    "#2와 5를 더한 후 3으로 나눈 나머지 값을 사용자 함수를 이용해 구한다\n",
    "def cal_abc(a,b,c):\n",
    "    return (a+b)%c\n",
    "\n",
    "cal_abc(2,5,3)\n",
    "    "
   ]
  },
  {
   "cell_type": "code",
   "execution_count": 44,
   "id": "a6e076e4",
   "metadata": {},
   "outputs": [
    {
     "name": "stdout",
     "output_type": "stream",
     "text": [
      "It is true\n",
      "'Python is fit for data analysis'\n"
     ]
    }
   ],
   "source": [
    "#문자열 앞의 공백을 제거하고 아래와 같이 출력 : strip()\n",
    "\n",
    "input_a = \"\"\"\n",
    "                       It is true\n",
    "'Python is fit for data analysis'\n",
    "\"\"\"\n",
    "print(input_a.strip())"
   ]
  },
  {
   "cell_type": "code",
   "execution_count": 49,
   "id": "6af20b6e",
   "metadata": {},
   "outputs": [
    {
     "name": "stdout",
     "output_type": "stream",
     "text": [
      "['10', '20', '30', '40', '50']\n",
      "['10', '20', '30', '40', '50']\n"
     ]
    }
   ],
   "source": [
    "# \"10/20/30/40/50\"을 '/'를 기준으로 컷 : split()\n",
    "a = \"10/20/30/40/50\"\n",
    "b = \"10,20,30,40,50\"\n",
    "print(a.split(\"/\"))\n",
    "print(b.split(\",\"))"
   ]
  },
  {
   "cell_type": "code",
   "execution_count": 51,
   "id": "8a89bd45",
   "metadata": {},
   "outputs": [
    {
     "name": "stdout",
     "output_type": "stream",
     "text": [
      "첫번째 수를 입력하세요: 1\n",
      "두번째 수를 입력하세요: 1\n",
      "2\n"
     ]
    }
   ],
   "source": [
    "# 짝수와 짝수를 입력하면 곱한 값을 출력하고 홀수와 홀수를 입력하면 덧셈을 출력하고 그 외는 다시 입력하라는 메시지를 출력하세요\n",
    "\n",
    "while 1:\n",
    "    first = int(input('첫번째 수를 입력하세요: '))\n",
    "    second = int(input('두번째 수를 입력하세요: '))\n",
    "    if first%2 ==0 and second%2 == 0:\n",
    "        print(first*second)\n",
    "        break\n",
    "    elif first%2 != 0 and second%2 != 0:\n",
    "        print(first+second)\n",
    "        break\n",
    "    else:\n",
    "        print('다시 입력하세요')"
   ]
  },
  {
   "cell_type": "code",
   "execution_count": 58,
   "id": "c05f6ab3",
   "metadata": {},
   "outputs": [
    {
     "name": "stdout",
     "output_type": "stream",
     "text": [
      "[12 15  0  3  3  7  9 19 18  4]\n"
     ]
    }
   ],
   "source": [
    "import numpy as np\n",
    "np.random.seed(0)\n",
    "num = np.random.randint(20,size = 10)\n",
    "print(num)"
   ]
  },
  {
   "cell_type": "code",
   "execution_count": 62,
   "id": "df04a300",
   "metadata": {},
   "outputs": [
    {
     "name": "stdout",
     "output_type": "stream",
     "text": [
      "문장을 입력하세요> 안녕하세요\n",
      "녕하세요안\n"
     ]
    }
   ],
   "source": [
    "text = input('문장을 입력하세요> ')\n",
    "ret =''\n",
    "for i in range(len(text)):\n",
    "    if i != len(text)-1:\n",
    "        ret += text[i+1]\n",
    "    else:\n",
    "        ret += text[0]\n",
    "print(ret)"
   ]
  }
 ],
 "metadata": {
  "kernelspec": {
   "display_name": "Python 3 (ipykernel)",
   "language": "python",
   "name": "python3"
  },
  "language_info": {
   "codemirror_mode": {
    "name": "ipython",
    "version": 3
   },
   "file_extension": ".py",
   "mimetype": "text/x-python",
   "name": "python",
   "nbconvert_exporter": "python",
   "pygments_lexer": "ipython3",
   "version": "3.8.12"
  }
 },
 "nbformat": 4,
 "nbformat_minor": 5
}
