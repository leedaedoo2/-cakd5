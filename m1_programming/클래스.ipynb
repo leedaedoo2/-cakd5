{
 "cells": [
  {
   "cell_type": "markdown",
   "id": "993a801d",
   "metadata": {},
   "source": [
    "## 클래스\n",
    "\n",
    "클래스란 똑같은 무엇인가를 계속해서 만들어 낼 수 있는 설계 도면이고 객체란 클래스로 만든 피조물을 뜻한다\n",
    "\n",
    "- class : 함수 + 변수 모아놓은 것\n",
    "- object : 클래스를 써서 만든 것 = instance\n",
    "\n",
    "- 클래스를 정의한 후 그 클래스를 사용해서 데이터 객체(인스턴스)를 만들 수 있다.\n",
    "- 동일한 클래스에 의해 만들어진 각 객체들은 유사한 특징을 공유한다.\n",
    "- 모든 인스턴스에서 메소드(=코드)는 동일하지만, 속성(데이터)는 다르다.\n",
    "    - 메소드 : 코드\n",
    "    - 속성 : 데이터\n",
    "    - 인스턴스 : 클래스에 의해 만들어진 데이터 객체\n",
    "    - a = 클래스() 에서 a는 객체이고 클래스의 인스턴스이다.\n",
    "    - 인스턴스라는 말은 특정 객체가 어느 클래스의 객체인지를 관계 위주로 설명할 때 사용"
   ]
  },
  {
   "cell_type": "code",
   "execution_count": 7,
   "id": "40478a4e",
   "metadata": {},
   "outputs": [
    {
     "name": "stdout",
     "output_type": "stream",
     "text": [
      "name은 25세이며 computer을 전공함\n",
      "computer\n"
     ]
    }
   ],
   "source": [
    "# 클래스 생성자(인자가 있는 경우)\n",
    "\n",
    "class Cakd:\n",
    "    def __init__(self,name,age,major):\n",
    "        self.name = name\n",
    "        self.age = age\n",
    "        self.major = major\n",
    "        print(f'{self.name}은 {self.age}세이며 {self.major}을 전공함')\n",
    "        \n",
    "student = Cakd('name',25,'computer')\n",
    "print(student.major)"
   ]
  },
  {
   "cell_type": "code",
   "execution_count": 11,
   "id": "3e6bc8d2",
   "metadata": {},
   "outputs": [
    {
     "name": "stdout",
     "output_type": "stream",
     "text": [
      "Cakd 인스턴스가 메모리에서 제거됩니다\n"
     ]
    }
   ],
   "source": [
    "# 클래스 소멸자\n",
    "#클래스 인스턴스 객체가 메모리에서 제거될 때 자동으로 호출되는 클래스 메소드\n",
    "\n",
    "class Cakd:\n",
    "    def __del__(self):\n",
    "        print('Cakd 인스턴스가 메모리에서 제거됩니다')\n",
    "              \n",
    "obj = Cakd()\n",
    "del obj\n"
   ]
  },
  {
   "cell_type": "markdown",
   "id": "4b4db31e",
   "metadata": {},
   "source": [
    "## 클래스 멤버, 클래스 메소드\n",
    "- 클래스를 구성하는 주요 요소는 클래스 멤버(변수)와 클래스 메소드(함수)로 클래스 공간 내에서 정의\n",
    "\n",
    "- 클래스 멤버는 클래스 메소드 내에서 정의되는 지역 변수나 인스턴스 멤버와는다름\n",
    "- 클래스 메소드는 첫번째 인자가 반드시 self로 시작한다\n",
    "- self는 이 클래스의 인스턴스 객체를 가리키는 참조자\n",
    "- 인스턴스 객체에서 클래스 메소드를 호출 시 첫번째 인자인 self를 생략한다"
   ]
  },
  {
   "cell_type": "code",
   "execution_count": 14,
   "id": "996c4dfe",
   "metadata": {},
   "outputs": [
    {
     "name": "stdout",
     "output_type": "stream",
     "text": [
      "안녕하세요\n",
      "안녕하세요\n"
     ]
    }
   ],
   "source": [
    "class MyClass:\n",
    "    var = '안녕하세요' # 클래스 멤버(변수)\n",
    "    def sayHello(self): # 클래스 메소드(함수)\n",
    "        return self.var\n",
    "    \n",
    "obj = MyClass()\n",
    "print(obj.var)\n",
    "print(obj.sayHello())"
   ]
  },
  {
   "cell_type": "code",
   "execution_count": 24,
   "id": "c34a35df",
   "metadata": {},
   "outputs": [
    {
     "name": "stdout",
     "output_type": "stream",
     "text": [
      "안녕하세요\n",
      "안녕\n",
      "안녕하세요\n"
     ]
    },
    {
     "data": {
      "text/plain": [
       "'hi'"
      ]
     },
     "execution_count": 24,
     "metadata": {},
     "output_type": "execute_result"
    }
   ],
   "source": [
    "#클래스 멤버와 인스턴스 멤버\n",
    "#클래스 멤버는 클래스 메소드 바깥에서 선언되고 인스턴스 멤버는 클래스 메소드 안에서 self와 함께 선언된다\n",
    "\n",
    "class MyClass:\n",
    "    var = '안녕하세요' #클래스 멤버\n",
    "    def sayHello(self): #클래스 메소드\n",
    "        param1 = '안녕' #지역 변수\n",
    "        self.param2 = 'hi' #인스턴스 멤버\n",
    "        print(param1)\n",
    "        print(self.var)\n",
    "        \n",
    "        \n",
    "obj = MyClass()\n",
    "print(obj.var)\n",
    "obj.sayHello()\n",
    "obj.param2"
   ]
  },
  {
   "cell_type": "code",
   "execution_count": 28,
   "id": "d9b2db03",
   "metadata": {},
   "outputs": [
    {
     "name": "stdout",
     "output_type": "stream",
     "text": [
      "안녕하세요\n",
      "wii! 다음에 보자\n",
      "<class '__main__.MyClass'>\n"
     ]
    }
   ],
   "source": [
    "#클래스 메소드\n",
    "# 클래스 내에서 정의되는 클래스 메소드는 첫번째 인자가 반드시 self여야 한다\n",
    "\n",
    "class MyClass:\n",
    "    def sayHello(self):\n",
    "        print('안녕하세요')\n",
    "    def sayBye(self,name):\n",
    "        print(f'{name}! 다음에 보자')\n",
    "        \n",
    "obj = MyClass()\n",
    "obj.sayHello()\n",
    "obj.sayBye('wii')\n",
    "print(type(obj))\n"
   ]
  },
  {
   "cell_type": "markdown",
   "id": "d5e28b03",
   "metadata": {},
   "source": [
    "## 객체 지향 프로그래밍(object-oriented programming)\n",
    "\n",
    "- 클래스 인스턴스는 객체라고도 하며 이렇게 클래스를 정의하고 객체를 만드는 패턴을 객체 지향 프로그래밍이라고 한다. OOP\n",
    "- 인스턴스를 불러온다는 것은 클래스를 가져와 객체로 바꿔준다는 것인데 type() 함수를 사용하는 것은 그 반대\n",
    "- 객체의 type를 확인해 보면 해당 객체가 어떤 클래스의 인스턴스인지를 확인\n",
    "- 파이썬에서 main은 \"현재 실행중인 파일\"을 의미한다\n"
   ]
  },
  {
   "cell_type": "code",
   "execution_count": 29,
   "id": "ef7aeade",
   "metadata": {},
   "outputs": [
    {
     "name": "stdout",
     "output_type": "stream",
     "text": [
      "<class '__main__.Test'>\n"
     ]
    }
   ],
   "source": [
    "#임의의 클래스를 작성한 후 인스턴스를 생성하고 그것의 타입을 확인\n",
    "\n",
    "class Test:\n",
    "    pass\n",
    "\n",
    "test = Test()\n",
    "print(type(test))"
   ]
  },
  {
   "cell_type": "markdown",
   "id": "ad6bd473",
   "metadata": {},
   "source": [
    "### 클래스 상속\n",
    "- 어떤 클래스가 가지고 있는 모든 멤버나 메소드를 상속받는 클래스가 모두 사용할 수 있도록 해주는 것\n",
    "\n",
    "- 상속을 해주는 클래스가 부모클래스(슈퍼), 상속을 받는 클래스가 자식클래스(서브)라 한다.\n",
    "\n",
    "- class 자식클래스명(부모클래스명)\n",
    "\n",
    "- 자식클래스는 여러 부모클래스로부터 상속받을 수 있으며 다중상속이라 함.\n",
    "\n",
    "- class 자식클래스명(부모1, 부모2, 부모3, ....)"
   ]
  },
  {
   "cell_type": "code",
   "execution_count": 38,
   "id": "ef61966b",
   "metadata": {},
   "outputs": [
    {
     "name": "stdout",
     "output_type": "stream",
     "text": [
      "3\n",
      "6\n",
      "2\n"
     ]
    }
   ],
   "source": [
    "class Sum:\n",
    "    def sum(self,n1,n2):\n",
    "        return n1+n2\n",
    "\n",
    "class Mul:\n",
    "    def mul(self,n1,n2):\n",
    "        return n1*n2\n",
    "    \n",
    "class Cal(Sum,Mul):\n",
    "    def sub(self,n1,n2):\n",
    "        n2 = Mul.mul(self,n2,-1)\n",
    "        ret = Sum.sum(self,n1,n2)\n",
    "        return ret\n",
    "    \n",
    "obj = Cal()\n",
    "print(obj.sum(1,2))\n",
    "print(obj.mul(2,3))\n",
    "print(obj.sub(5,3))"
   ]
  },
  {
   "cell_type": "code",
   "execution_count": 40,
   "id": "fcc62e61",
   "metadata": {},
   "outputs": [
    {
     "name": "stdout",
     "output_type": "stream",
     "text": [
      "cakd5, 안녕하세요\n",
      "cakd5, 다음에 보자\n"
     ]
    }
   ],
   "source": [
    "#클래스 MyClass를 작성하고 객체를 생성하여 아래와 같이 출력하세요(생성자 사용)\n",
    "\n",
    "class MyClass:\n",
    "    def hello(self,name):\n",
    "        print(f'{name}, 안녕하세요')\n",
    "        \n",
    "    def bye(self,name):\n",
    "        print(f'{name}, 다음에 보자')\n",
    "        \n",
    "obj = MyClass()\n",
    "obj.hello('cakd5')\n",
    "obj.bye('cakd5')"
   ]
  },
  {
   "cell_type": "code",
   "execution_count": 4,
   "id": "1c086575",
   "metadata": {},
   "outputs": [
    {
     "name": "stdout",
     "output_type": "stream",
     "text": [
      "2000\n",
      "3000\n",
      "4000\n",
      "3000\n",
      "4000\n"
     ]
    }
   ],
   "source": [
    "#기본가격 1000원인 3개의 상품에 대하여 임의의 추가격을 인수로 대입시 더한 가격을 산출하세요.(클래스를 이용)\n",
    "\n",
    "class Order:\n",
    "    def __init__(self):\n",
    "        self.price = 1000\n",
    "    def order(self, cost):\n",
    "        self.price += cost\n",
    "        return self.price\n",
    "    \n",
    "pd1 = Order()\n",
    "\n",
    "pd2 = Order()\n",
    "pd3 = Order()\n",
    "\n",
    "print(pd1.order(1000))\n",
    "print(pd1.order(1000))\n",
    "print(pd1.order(1000))\n",
    "print(pd2.order(2000))\n",
    "print(pd3.order(3000))"
   ]
  },
  {
   "cell_type": "code",
   "execution_count": 23,
   "id": "81163e09",
   "metadata": {},
   "outputs": [
    {
     "name": "stdout",
     "output_type": "stream",
     "text": [
      "추가 금액을 입력하세요777\n",
      "1777\n",
      "1599.3\n"
     ]
    }
   ],
   "source": [
    "# 기본 가격 1000원인 2개의 상품에 대하여 임의의 추가 가격을 입력시 아래 두개의 방식으로 산출하세요\n",
    "# price1 : 기본가격 + 추가가격\n",
    "# price2 : (기본가격+추가가격)*90%\n",
    "\n",
    "class Order:\n",
    "    def __init__(self):\n",
    "        self.price = 1000\n",
    "    def addPrice(self,cost):\n",
    "        self.price += cost\n",
    "        return self.price\n",
    "    def discount(self,cost):\n",
    "        self.price += cost\n",
    "        self.price *= 0.9\n",
    "        return self.price\n",
    "    \n",
    "price1 = Order()\n",
    "price2 = Order()\n",
    "\n",
    "while 1:\n",
    "    try:\n",
    "        additional = int(input('추가 금액을 입력하세요'))\n",
    "        break\n",
    "    except:\n",
    "        print('다시 입력하세요')\n",
    "\n",
    "\n",
    "print(price1.addPrice(additional))\n",
    "print(price2.discount(additional))"
   ]
  },
  {
   "cell_type": "code",
   "execution_count": 28,
   "id": "e74fff80",
   "metadata": {},
   "outputs": [
    {
     "name": "stdout",
     "output_type": "stream",
     "text": [
      "1000\n",
      "1000원\n"
     ]
    }
   ],
   "source": [
    "# 오버라이딩\n",
    "# Order 클래스를 상속 받아 extraOrder 클래스에서 메소드 오버라이딩하여 출력가격에 원이 추가되도록 출력\n",
    "class Order:\n",
    "    def __init__(self,name):\n",
    "        self.customer = 0\n",
    "        self.name = name\n",
    "    def order(self,cost):\n",
    "        self.customer += cost\n",
    "        return self.customer    \n",
    "    \n",
    "    \n",
    "#overriding    \n",
    "class ExtraOrder(Order):\n",
    "    def order(self,cost):\n",
    "        self.customer += cost\n",
    "        return str(self.customer)+'원'\n",
    "    \n",
    "    \n",
    "order = Order('user')\n",
    "\n",
    "print(order.order(1000))\n",
    "\n",
    "extraorder = ExtraOrder('user')\n",
    "\n",
    "print(extraorder.order(1000))"
   ]
  },
  {
   "cell_type": "code",
   "execution_count": 38,
   "id": "2fb7c57f",
   "metadata": {},
   "outputs": [
    {
     "data": {
      "text/plain": [
       "4"
      ]
     },
     "execution_count": 38,
     "metadata": {},
     "output_type": "execute_result"
    }
   ],
   "source": [
    "#인터프리터에서 마지막 실행결과 값을 가지는 변수로 사용\n",
    "1+1\n",
    "2+2\n",
    "_"
   ]
  },
  {
   "cell_type": "code",
   "execution_count": 37,
   "id": "543ec19d",
   "metadata": {},
   "outputs": [
    {
     "name": "stdout",
     "output_type": "stream",
     "text": [
      "hello world\n",
      "hello world\n",
      "hello world\n",
      "hello world\n",
      "hello world\n",
      "0\n",
      "1\n",
      "2\n",
      "\n",
      "1 2\n"
     ]
    }
   ],
   "source": [
    "for _ in range(5):\n",
    "    print('hello world')\n",
    "for _ in range(3):\n",
    "    print(_)\n",
    "    \n",
    "print()\n",
    "def values():\n",
    "    return (1,2,3,4)\n",
    "\n",
    "a, b, _, _ = values() #반환된 튜플 값 중 2개만 필요\n",
    "print(a,b)"
   ]
  },
  {
   "cell_type": "code",
   "execution_count": 42,
   "id": "7b86b0d1",
   "metadata": {},
   "outputs": [
    {
     "name": "stdout",
     "output_type": "stream",
     "text": [
      "<class '__main__.Order'>\n"
     ]
    }
   ],
   "source": [
    "# 예약어를 변수명으로 사용할 수 없는 경우 > 해당 예약어에 언더바 사용\n",
    "class Order:\n",
    "    def __init__(self):\n",
    "        self.coffee = 'Americano'\n",
    "        self.price = 3000\n",
    "def printClassName(class_):\n",
    "    print(class_)\n",
    "        \n",
    "order = Order()\n",
    "printClassName(order.__class__)"
   ]
  },
  {
   "cell_type": "code",
   "execution_count": 43,
   "id": "c4f8b5e2",
   "metadata": {},
   "outputs": [
    {
     "name": "stdout",
     "output_type": "stream",
     "text": [
      "abc\n"
     ]
    }
   ],
   "source": [
    "# 클래스 변수 : 인스턴스 변수와 달리 모든 인스턴스 사이에 공유된 값을 가진 변수\n",
    "\n",
    "class MyClass:\n",
    "    value = 'abc' # 클래스 변수 선언\n",
    "    \n",
    "if __name__ ==\"__main__\":\n",
    "    print(MyClass.value)"
   ]
  },
  {
   "cell_type": "code",
   "execution_count": 45,
   "id": "1a798651",
   "metadata": {},
   "outputs": [
    {
     "name": "stdout",
     "output_type": "stream",
     "text": [
      "1\n",
      "2\n",
      "3\n"
     ]
    }
   ],
   "source": [
    "# 인스턴스를 생성할 때마다 클래스 변수 value를  +1해준다\n",
    "\n",
    "\n",
    "class MyClass:\n",
    "    value = 0\n",
    "    def __init__(self):\n",
    "        MyClass.value +=1\n",
    "        \n",
    "if __name__ == \"__main__\":\n",
    "    a = MyClass() # 인스턴스 a 생성\n",
    "    print(MyClass.value)\n",
    "    b = MyClass()\n",
    "    print(MyClass.value)\n",
    "    c = MyClass()\n",
    "    print(MyClass.value)"
   ]
  },
  {
   "cell_type": "code",
   "execution_count": 55,
   "id": "7d6c0e73",
   "metadata": {},
   "outputs": [
    {
     "name": "stdout",
     "output_type": "stream",
     "text": [
      "1 honux\n",
      "2 crong\n"
     ]
    }
   ],
   "source": [
    "# 인스턴스 변수\n",
    "\n",
    "class User:\n",
    "    num_users = 0  # 클래스 변수\n",
    "    def __init__(self,name):\n",
    "        self.name = name  # 인스턴스 변수\n",
    "        User.num_users += 1\n",
    "        \n",
    "u = User('honux')\n",
    "print(User.num_users, u.name)\n",
    "\n",
    "u2 = User('crong')\n",
    "print(User.num_users,u2.name)"
   ]
  },
  {
   "cell_type": "code",
   "execution_count": 48,
   "id": "f05d0c07",
   "metadata": {},
   "outputs": [
    {
     "name": "stdout",
     "output_type": "stream",
     "text": [
      "I am a Rockstar!\n"
     ]
    }
   ],
   "source": [
    "# 메소드 : 메소드는 클래스 안에서 정의된 함수, 첫번째 인수를 항상 self로 지정\n",
    "\n",
    "class Musician:\n",
    "    title = 'Rockstar'\n",
    "    def explanation(self):\n",
    "        print(f'I am a {self.title}!')\n",
    "        \n",
    "        \n",
    "drummer = Musician()\n",
    "drummer.explanation()"
   ]
  },
  {
   "cell_type": "code",
   "execution_count": 53,
   "id": "6147e1ea",
   "metadata": {},
   "outputs": [
    {
     "name": "stdout",
     "output_type": "stream",
     "text": [
      "113.03999999999999\n",
      "1256.0\n"
     ]
    }
   ],
   "source": [
    "# 다른 인수가 있는 메소드\n",
    "\n",
    "class Circle:\n",
    "    pi = 3.14\n",
    "    def area(self,radius):\n",
    "        return self.pi*radius*radius\n",
    "    \n",
    "circle = Circle()\n",
    "p = circle.area(6)\n",
    "print(p)\n",
    "\n",
    "circle2 = Circle()\n",
    "bicycle = circle2.area(20)\n",
    "print(bicycle)"
   ]
  },
  {
   "cell_type": "code",
   "execution_count": 57,
   "id": "b4955801",
   "metadata": {},
   "outputs": [
    {
     "name": "stdout",
     "output_type": "stream",
     "text": [
      "Hello?\n"
     ]
    }
   ],
   "source": [
    "# 생성자 (Constructor)\n",
    "# 클래스 호출 시 자동으로 어떤 함수를 실행하거나 값을 호출하고 싶은 경우\n",
    "# __init__을 사용한다\n",
    "# Shouter라는 클래스를 객체로 불러올 때마다 \"Hello?\"라는 문자열을 출력\n",
    "\n",
    "class Shouter:\n",
    "    def __init__(self):\n",
    "        print('Hello?')\n",
    "        \n",
    "shout = Shouter()"
   ]
  }
 ],
 "metadata": {
  "kernelspec": {
   "display_name": "Python 3 (ipykernel)",
   "language": "python",
   "name": "python3"
  },
  "language_info": {
   "codemirror_mode": {
    "name": "ipython",
    "version": 3
   },
   "file_extension": ".py",
   "mimetype": "text/x-python",
   "name": "python",
   "nbconvert_exporter": "python",
   "pygments_lexer": "ipython3",
   "version": "3.8.12"
  }
 },
 "nbformat": 4,
 "nbformat_minor": 5
}
