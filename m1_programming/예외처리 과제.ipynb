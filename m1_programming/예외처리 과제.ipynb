{
 "cells": [
  {
   "cell_type": "code",
   "execution_count": 5,
   "id": "e88cfbe8",
   "metadata": {},
   "outputs": [
    {
     "name": "stdout",
     "output_type": "stream",
     "text": [
      "초단위의 타이머를 맞추세요: 21\n",
      "20초 남았습니다...\n",
      "10초 남았습니다...\n",
      "타이머 종료!!!\n"
     ]
    }
   ],
   "source": [
    "# 10초 간격으로 알려주는 타이머 만들기\n",
    "import time\n",
    "\n",
    "while 1:\n",
    "    try:\n",
    "        wantedSecond = int(input('초단위의 타이머를 맞추세요: '))\n",
    "        while 1:\n",
    "            time.sleep(1)\n",
    "            wantedSecond -=1\n",
    "            if wantedSecond == 0:\n",
    "                print('타이머 종료!!!')\n",
    "                break\n",
    "            elif (wantedSecond%10) == 0:\n",
    "                print(f'{wantedSecond}초 남았습니다...')\n",
    "                continue\n",
    "            \n",
    "            \n",
    "        break\n",
    "    except:\n",
    "        print('유효하지 않은 입력입니다.')"
   ]
  },
  {
   "cell_type": "code",
   "execution_count": 2,
   "id": "1bed8dad",
   "metadata": {},
   "outputs": [
    {
     "name": "stdout",
     "output_type": "stream",
     "text": [
      "원하는 년도를 입력하세요: 0\n",
      "원하는 월을 입력하세요(1~12): 12\n",
      "     December 0\n",
      "Mo Tu We Th Fr Sa Su\n",
      "             1  2  3\n",
      " 4  5  6  7  8  9 10\n",
      "11 12 13 14 15 16 17\n",
      "18 19 20 21 22 23 24\n",
      "25 26 27 28 29 30 31\n"
     ]
    }
   ],
   "source": [
    "# 입력 년월의 달력을 출력\n",
    "\n",
    "import calendar\n",
    "\n",
    "while 1:\n",
    "    try:\n",
    "        yearWanted = int(input(\"원하는 년도를 입력하세요: \"))\n",
    "        monthWanted = int(input(\"원하는 월을 입력하세요(1~12): \"))\n",
    "        dallyeok = calendar.prmonth(yearWanted,monthWanted)\n",
    "        break\n",
    "    except:\n",
    "        print(\"유효하지 않은 입력입니다.\")\n",
    "        continue"
   ]
  },
  {
   "cell_type": "code",
   "execution_count": 7,
   "id": "2a46472b",
   "metadata": {},
   "outputs": [
    {
     "name": "stdout",
     "output_type": "stream",
     "text": [
      "원하는 자연수를 입력하세요: 46\n",
      "[2, 3, 5, 7, 11, 13, 17, 19, 23, 29, 31, 37, 41, 43]\n"
     ]
    }
   ],
   "source": [
    "# 2부터 입력한 수까지의 소수를 구하는 프로그램\n",
    "\n",
    "while 1:\n",
    "    try:\n",
    "        number = int(input(\"원하는 자연수를 입력하세요: \"))\n",
    "        prime = [2]\n",
    "        tmp = 0\n",
    "        if number == 1:\n",
    "            print('1은 안 돼요')\n",
    "            continue\n",
    "        else:\n",
    "            for i in range(3,number+1):\n",
    "                tmp = i\n",
    "                for j in range(2,i):\n",
    "                    if i%j == 0:\n",
    "                        tmp = 0\n",
    "                        break\n",
    "                if tmp != 0:\n",
    "                    prime.append(tmp)\n",
    "                    \n",
    "            print(prime)\n",
    "            break\n",
    "        \n",
    "    except:\n",
    "        print(\"잘못된 입력입니다.\")"
   ]
  }
 ],
 "metadata": {
  "kernelspec": {
   "display_name": "Python 3 (ipykernel)",
   "language": "python",
   "name": "python3"
  },
  "language_info": {
   "codemirror_mode": {
    "name": "ipython",
    "version": 3
   },
   "file_extension": ".py",
   "mimetype": "text/x-python",
   "name": "python",
   "nbconvert_exporter": "python",
   "pygments_lexer": "ipython3",
   "version": "3.8.12"
  }
 },
 "nbformat": 4,
 "nbformat_minor": 5
}
