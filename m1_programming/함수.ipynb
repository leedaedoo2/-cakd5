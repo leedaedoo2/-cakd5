{
 "cells": [
  {
   "cell_type": "code",
   "execution_count": 1,
   "id": "f1617a33",
   "metadata": {},
   "outputs": [
    {
     "name": "stdout",
     "output_type": "stream",
     "text": [
      "Hi\n"
     ]
    }
   ],
   "source": [
    "#입력값이 없고 결과값만 있는 함수\n",
    "\n",
    "def say():\n",
    "    return 'Hi'\n",
    "\n",
    "a = say()\n",
    "print(a)"
   ]
  },
  {
   "cell_type": "code",
   "execution_count": 3,
   "id": "a7f9134c",
   "metadata": {},
   "outputs": [
    {
     "name": "stdout",
     "output_type": "stream",
     "text": [
      "3, 7의 합은 10입니다.\n"
     ]
    }
   ],
   "source": [
    "#입력값은 있고 결과값이 없는 함수\n",
    "# 결과값은 오직 return 명령어로만 돌려받을 수 있음\n",
    "def add(a,b):\n",
    "    print('%d, %d의 합은 %d입니다.'%(a, b, a+b))\n",
    "    \n",
    "add(3,7)"
   ]
  },
  {
   "cell_type": "code",
   "execution_count": 4,
   "id": "9244e5ad",
   "metadata": {},
   "outputs": [
    {
     "name": "stdout",
     "output_type": "stream",
     "text": [
      "hi\n"
     ]
    }
   ],
   "source": [
    "#입력값도 결과값도 없는 함수\n",
    "\n",
    "def say():\n",
    "    print('hi')\n",
    "    \n",
    "say()"
   ]
  },
  {
   "cell_type": "code",
   "execution_count": 38,
   "id": "caad9bea",
   "metadata": {},
   "outputs": [
    {
     "name": "stdout",
     "output_type": "stream",
     "text": [
      "몇번째 피보나치 수를 알고 싶으신가요? (0을 눌러 종료)>12\n",
      "144\n",
      "몇번째 피보나치 수를 알고 싶으신가요? (0을 눌러 종료)>11\n",
      "89\n",
      "몇번째 피보나치 수를 알고 싶으신가요? (0을 눌러 종료)>9\n",
      "34\n",
      "몇번째 피보나치 수를 알고 싶으신가요? (0을 눌러 종료)>10\n",
      "55\n",
      "몇번째 피보나치 수를 알고 싶으신가요? (0을 눌러 종료)>0\n",
      "종료합니다\n"
     ]
    }
   ],
   "source": [
    "#입력값과 결과값이 모두 있는 함수\n",
    "\n",
    "def fibonacci(a):\n",
    "    if a == 1:\n",
    "        return 1\n",
    "    elif a == 2:\n",
    "        return 1\n",
    "    else:\n",
    "        tmp1 = 1\n",
    "        tmp2 = 1\n",
    "        for x in range(0,a-2):\n",
    "            tmp3 = tmp1+tmp2\n",
    "            tmp1 = tmp2\n",
    "            tmp2 = tmp3\n",
    "        return tmp3\n",
    "\n",
    "while 1:\n",
    "    \n",
    "    a = int(input('몇번째 피보나치 수를 알고 싶으신가요? (0을 눌러 종료)>'))\n",
    "    if a == 0:\n",
    "        print('종료합니다')\n",
    "        break\n",
    "    elif a>0:\n",
    "        result = fibonacci(a)\n",
    "        print(result)\n",
    "    else:\n",
    "        print('잘못된 입력입니다. 다시 입력하세요')\n",
    "        continue"
   ]
  },
  {
   "cell_type": "code",
   "execution_count": 41,
   "id": "492b0f6f",
   "metadata": {},
   "outputs": [
    {
     "data": {
      "text/plain": [
       "170"
      ]
     },
     "execution_count": 41,
     "metadata": {},
     "output_type": "execute_result"
    }
   ],
   "source": [
    "#여러 개의 입력값을 받는 함수 만들기\n",
    "# *args처럼 입력 변수명에 *를 붙이면 입력값들을 전부 모아서 튜플로 만들어 줌\n",
    "\n",
    "def add_many(*args):\n",
    "    add = 0\n",
    "    for i in args:\n",
    "        add += i\n",
    "    return add\n",
    "\n",
    "add_many(12,23,34,45,56)"
   ]
  },
  {
   "cell_type": "code",
   "execution_count": 43,
   "id": "1a1192d8",
   "metadata": {},
   "outputs": [
    {
     "data": {
      "text/plain": [
       "(7, 12)"
      ]
     },
     "execution_count": 43,
     "metadata": {},
     "output_type": "execute_result"
    }
   ],
   "source": [
    "# 함수의 반환 값은 언제나 하나임 - 결과값으로 튜플 값 하나를 갖게 됨\n",
    "def add_and_mul(a,b):\n",
    "    return a+b,a*b\n",
    "\n",
    "add_and_mul(3,4)"
   ]
  },
  {
   "cell_type": "code",
   "execution_count": 47,
   "id": "bc7b3c96",
   "metadata": {},
   "outputs": [
    {
     "name": "stdout",
     "output_type": "stream",
     "text": [
      "add or mul> mul\n"
     ]
    },
    {
     "data": {
      "text/plain": [
       "120"
      ]
     },
     "execution_count": 47,
     "metadata": {},
     "output_type": "execute_result"
    }
   ],
   "source": [
    "#add_mul() 함수를 정의하여 1,2,3,4,5를 입력 값으로 적용하여 덧셈, 곱셈 연산을 수행\n",
    "\n",
    "def add_mul(choice, *args):\n",
    "    add = 0\n",
    "    mul = 1\n",
    "    if choice == 'add':\n",
    "        for i in args:\n",
    "            add += i\n",
    "        return add\n",
    "    elif choice == 'mul':\n",
    "        for i in args:\n",
    "            mul *= i\n",
    "        return mul\n",
    "    \n",
    "    \n",
    "choice = input('add or mul> ')\n",
    "\n",
    "add_mul(choice,1,2,3,4,5)"
   ]
  },
  {
   "cell_type": "code",
   "execution_count": 2,
   "id": "4ac5c25b",
   "metadata": {},
   "outputs": [
    {
     "name": "stdout",
     "output_type": "stream",
     "text": [
      "로또 횟수를 입력하세요> 4\n",
      "[1, 6, 20, 22, 28, 38]\n",
      "[6, 10, 13, 22, 29, 41]\n",
      "[1, 6, 13, 21, 22, 33]\n",
      "[1, 10, 16, 17, 29, 44]\n"
     ]
    }
   ],
   "source": [
    "from random import shuffle\n",
    "from time import sleep\n",
    "\n",
    "gnum = int(input('로또 횟수를 입력하세요> '))\n",
    "\n",
    "for i in range(gnum):\n",
    "    lt = [x+1 for x in range(45)]\n",
    "    ret = []\n",
    "    for j in range(6):\n",
    "        shuffle(lt)\n",
    "        num = lt.pop() # 맨 앞의 요소를 pop 시켜서 저장, 원래 리스트에서 없어짐\n",
    "        ret.append(num)\n",
    "    ret.sort()\n",
    "    print(ret)\n",
    "    sleep(1) # 기다리는 함수"
   ]
  },
  {
   "cell_type": "code",
   "execution_count": 7,
   "id": "a8c892b7",
   "metadata": {},
   "outputs": [
    {
     "name": "stdout",
     "output_type": "stream",
     "text": [
      "('3', 'e')\n",
      "couple1: 1-a\n",
      "couple2: 5-b\n",
      "couple3: 4-d\n",
      "couple4: 3-e\n",
      "couple5: 2-c\n"
     ]
    }
   ],
   "source": [
    "import random\n",
    "m = ['1','2','3','4','5']\n",
    "f = ['a','b','c','d','e']\n",
    "random.shuffle(m)\n",
    "random.shuffle(f)\n",
    "couples = zip(m,f)\n",
    "print(couple)\n",
    "for i,couple in enumerate(couples):\n",
    "    print('couple%d: %s-%s' %(i+1,couple[0],couple[1]))"
   ]
  },
  {
   "cell_type": "code",
   "execution_count": 1,
   "id": "b27d4e30",
   "metadata": {},
   "outputs": [
    {
     "name": "stdout",
     "output_type": "stream",
     "text": [
      "2\n",
      "None\n",
      "1\n"
     ]
    }
   ],
   "source": [
    "#함수 안에서 선언된 변수의 효력 범위\n",
    "a= 1\n",
    "def vartest(a):\n",
    "    a=a+1\n",
    "    print(a)\n",
    "    \n",
    "print(vartest(a))\n",
    "print(a)"
   ]
  },
  {
   "cell_type": "code",
   "execution_count": 12,
   "id": "fee42be9",
   "metadata": {},
   "outputs": [
    {
     "name": "stdout",
     "output_type": "stream",
     "text": [
      "2\n"
     ]
    }
   ],
   "source": [
    "# 함수 안에서 함수 밖의 변수를 변경하는 방법 - return\n",
    "a= 1\n",
    "def vartest(a):\n",
    "    a=a+1\n",
    "    return a\n",
    "print(vartest(a))"
   ]
  },
  {
   "cell_type": "code",
   "execution_count": 13,
   "id": "de9bd223",
   "metadata": {},
   "outputs": [
    {
     "name": "stdout",
     "output_type": "stream",
     "text": [
      "2\n"
     ]
    }
   ],
   "source": [
    "# global 명경을 이용하는 방법\n",
    "\n",
    "a = 1\n",
    "def vartest():\n",
    "    global a\n",
    "    a=a+1\n",
    "    \n",
    "vartest()\n",
    "print(a)"
   ]
  },
  {
   "cell_type": "code",
   "execution_count": 14,
   "id": "569378be",
   "metadata": {},
   "outputs": [
    {
     "data": {
      "text/plain": [
       "'C:\\\\cakd5\\\\workspace\\\\m1_programming'"
      ]
     },
     "execution_count": 14,
     "metadata": {},
     "output_type": "execute_result"
    }
   ],
   "source": [
    "%pwd"
   ]
  },
  {
   "cell_type": "code",
   "execution_count": 16,
   "id": "1e5ebc2e",
   "metadata": {},
   "outputs": [],
   "source": [
    "# 파일 읽고 쓰기\n",
    "f = open('test1.txt','w')\n",
    "f.close()"
   ]
  },
  {
   "cell_type": "code",
   "execution_count": 18,
   "id": "d3e01ae2",
   "metadata": {},
   "outputs": [
    {
     "name": "stdout",
     "output_type": "stream",
     "text": [
      " C 드라이브의 볼륨에는 이름이 없습니다.\n",
      " 볼륨 일련 번호: AA1A-F8CD\n",
      "\n",
      " C:\\cakd5\\workspace\\m1_programming 디렉터리\n",
      "\n",
      "2021-12-31  오전 11:12    <DIR>          .\n",
      "2021-12-31  오전 11:12    <DIR>          ..\n",
      "2021-12-31  오전 09:05    <DIR>          .ipynb_checkpoints\n",
      "2021-12-29  오전 09:10             2,668 Jupyter Notebook 사용법.ipynb\n",
      "2021-12-31  오전 11:11                 0 test1.txt\n",
      "2021-12-31  오전 10:45            21,322 과제 1230.ipynb\n",
      "2021-12-31  오전 09:07               589 과제 1231.ipynb\n",
      "2021-12-30  오전 10:29            14,233 과제1229.ipynb\n",
      "2021-12-30  오후 02:16            46,311 기초.ipynb\n",
      "2021-12-28  오후 05:48            94,995 매직명령어.jpg\n",
      "2021-12-31  오전 09:34             5,465 연습장.ipynb\n",
      "2021-12-31  오전 11:12            10,427 함수.ipynb\n",
      "               9개 파일             196,010 바이트\n",
      "               3개 디렉터리  953,997,619,200 바이트 남음\n"
     ]
    }
   ],
   "source": [
    "!dir"
   ]
  },
  {
   "cell_type": "code",
   "execution_count": 39,
   "id": "ecbf813c",
   "metadata": {},
   "outputs": [],
   "source": [
    "f = open('test1.txt','w')\n",
    "for i in range(1,11):\n",
    "    data = '%d번째 줄입니다.\\n' %i\n",
    "    f.write(data)\n",
    "    \n",
    "f.close()"
   ]
  },
  {
   "cell_type": "code",
   "execution_count": 23,
   "id": "dba0140e",
   "metadata": {},
   "outputs": [
    {
     "name": "stdout",
     "output_type": "stream",
     "text": [
      "1번째 줄입니다.\n",
      "\n",
      "2번째 줄입니다.\n",
      "\n",
      "3번째 줄입니다.\n",
      "\n"
     ]
    }
   ],
   "source": [
    "f = open('test1.txt','r')\n",
    "line = f.readline()\n",
    "print(line)\n",
    "line = f.readline()\n",
    "print(line)\n",
    "line = f.readline()\n",
    "print(line)\n",
    "f.close()\n"
   ]
  },
  {
   "cell_type": "code",
   "execution_count": 22,
   "id": "4828a29e",
   "metadata": {
    "scrolled": true
   },
   "outputs": [
    {
     "name": "stdout",
     "output_type": "stream",
     "text": [
      "1번째 줄입니다.\n",
      "\n",
      "2번째 줄입니다.\n",
      "\n",
      "3번째 줄입니다.\n",
      "\n",
      "4번째 줄입니다.\n",
      "\n",
      "5번째 줄입니다.\n",
      "\n",
      "6번째 줄입니다.\n",
      "\n",
      "7번째 줄입니다.\n",
      "\n",
      "8번째 줄입니다.\n",
      "\n",
      "9번째 줄입니다.\n",
      "\n",
      "10번째 줄입니다.\n",
      "\n"
     ]
    }
   ],
   "source": [
    "f = open('test1.txt','r')\n",
    "for i in range(1,11):\n",
    "    line = f.readline()\n",
    "    print(line)\n",
    "f.close()"
   ]
  },
  {
   "cell_type": "code",
   "execution_count": 26,
   "id": "6688f3f5",
   "metadata": {},
   "outputs": [
    {
     "name": "stdout",
     "output_type": "stream",
     "text": [
      "1번째 줄입니다.\n",
      "\n",
      "2번째 줄입니다.\n",
      "\n",
      "3번째 줄입니다.\n",
      "\n",
      "4번째 줄입니다.\n",
      "\n",
      "5번째 줄입니다.\n",
      "\n",
      "6번째 줄입니다.\n",
      "\n",
      "7번째 줄입니다.\n",
      "\n",
      "8번째 줄입니다.\n",
      "\n",
      "9번째 줄입니다.\n",
      "\n",
      "10번째 줄입니다.\n",
      "\n"
     ]
    }
   ],
   "source": [
    "f = open('test1.txt','r')\n",
    "while 1:\n",
    "    line = f.readline()\n",
    "    if not line:\n",
    "        break\n",
    "    print(line)\n",
    "    \n",
    "f.close()"
   ]
  },
  {
   "cell_type": "code",
   "execution_count": 27,
   "id": "0befaffc",
   "metadata": {},
   "outputs": [
    {
     "name": "stdout",
     "output_type": "stream",
     "text": [
      "1번째 줄입니다.\n",
      "2번째 줄입니다.\n",
      "3번째 줄입니다.\n",
      "4번째 줄입니다.\n",
      "5번째 줄입니다.\n",
      "6번째 줄입니다.\n",
      "7번째 줄입니다.\n",
      "8번째 줄입니다.\n",
      "9번째 줄입니다.\n",
      "10번째 줄입니다.\n",
      "\n"
     ]
    }
   ],
   "source": [
    "#f.read()는 파일 내용 전체를 문자열로 반환\n",
    "f = open('test1.txt','r')\n",
    "data = f.read()\n",
    "print(data)\n",
    "f.close()"
   ]
  },
  {
   "cell_type": "code",
   "execution_count": 40,
   "id": "a50aca41",
   "metadata": {},
   "outputs": [],
   "source": [
    "f = open('test1.txt','a')\n",
    "for i in range(11,16):\n",
    "    data = '%d번째 줄입니다\\n' %i\n",
    "    f.write(data)\n",
    "f.close()"
   ]
  },
  {
   "cell_type": "code",
   "execution_count": 41,
   "id": "0d692865",
   "metadata": {},
   "outputs": [
    {
     "name": "stdout",
     "output_type": "stream",
     "text": [
      "1번째 줄입니다.\n",
      "2번째 줄입니다.\n",
      "3번째 줄입니다.\n",
      "4번째 줄입니다.\n",
      "5번째 줄입니다.\n",
      "6번째 줄입니다.\n",
      "7번째 줄입니다.\n",
      "8번째 줄입니다.\n",
      "9번째 줄입니다.\n",
      "10번째 줄입니다.\n",
      "11번째 줄입니다\n",
      "12번째 줄입니다\n",
      "13번째 줄입니다\n",
      "14번째 줄입니다\n",
      "15번째 줄입니다\n",
      "\n"
     ]
    }
   ],
   "source": [
    "f = open('test1.txt','r')\n",
    "data = f.read()\n",
    "print(data)\n",
    "f.close()"
   ]
  },
  {
   "cell_type": "code",
   "execution_count": 37,
   "id": "b0a7cda6",
   "metadata": {},
   "outputs": [],
   "source": [
    "#with문과 같이 사용\n",
    "with open('foo.txt','w') as f:\n",
    "    f.write('파이썬을 배웁시다\\n')"
   ]
  },
  {
   "cell_type": "code",
   "execution_count": 33,
   "id": "92509d14",
   "metadata": {},
   "outputs": [
    {
     "name": "stdout",
     "output_type": "stream",
     "text": [
      "파이썬을 배웁시다\n"
     ]
    }
   ],
   "source": [
    "with open('foo.txt','r') as f:\n",
    "    data = f.read()\n",
    "    print(data)"
   ]
  },
  {
   "cell_type": "code",
   "execution_count": 38,
   "id": "1bfe75a4",
   "metadata": {},
   "outputs": [],
   "source": [
    "with open('foo.txt','a') as f:\n",
    "    data = '어렵지 않아요\\n'\n",
    "    f.write(data)"
   ]
  },
  {
   "cell_type": "code",
   "execution_count": 42,
   "id": "eb2ee528",
   "metadata": {},
   "outputs": [
    {
     "name": "stdout",
     "output_type": "stream",
     "text": [
      "파이썬을 배웁시다\n",
      "어렵지 않아요\n",
      "\n"
     ]
    }
   ],
   "source": [
    "with open('foo.txt','r') as f:\n",
    "    data = f.read()\n",
    "    print(data)"
   ]
  },
  {
   "cell_type": "code",
   "execution_count": 48,
   "id": "1536180a",
   "metadata": {},
   "outputs": [
    {
     "name": "stdout",
     "output_type": "stream",
     "text": [
      "100\n",
      "False\n",
      "True\n",
      "a\n"
     ]
    }
   ],
   "source": [
    "# 내장함수\n",
    "print(abs(-100))\n",
    "print(all([1,2,3,0])) #x가 모두 참이면 true, 거짓이 하나라도 있으면 false\n",
    "print(any([1,2,3,0])) #하나라도 참이며 true, 전부 거짓이면 false\n",
    "print(chr(97))"
   ]
  },
  {
   "cell_type": "code",
   "execution_count": 49,
   "id": "2f96e847",
   "metadata": {},
   "outputs": [
    {
     "data": {
      "text/plain": [
       "7"
      ]
     },
     "execution_count": 49,
     "metadata": {},
     "output_type": "execute_result"
    }
   ],
   "source": [
    "sum = lambda a,b:a+b\n",
    "sum(3,4)"
   ]
  },
  {
   "cell_type": "code",
   "execution_count": 52,
   "id": "3035de26",
   "metadata": {},
   "outputs": [
    {
     "name": "stdout",
     "output_type": "stream",
     "text": [
      "12\n"
     ]
    }
   ],
   "source": [
    "myList = [lambda a,b:a+b , lambda a,b:a*b]\n",
    "print(myList[1](3,4))"
   ]
  },
  {
   "cell_type": "code",
   "execution_count": 58,
   "id": "87ce917d",
   "metadata": {},
   "outputs": [
    {
     "name": "stdout",
     "output_type": "stream",
     "text": [
      "6\n",
      "3\n",
      "3\n"
     ]
    }
   ],
   "source": [
    "print(len('python'))\n",
    "print(len([1,2,3]))\n",
    "print(len([1,2,'a']))"
   ]
  },
  {
   "cell_type": "code",
   "execution_count": 64,
   "id": "d72ca24b",
   "metadata": {},
   "outputs": [
    {
     "data": {
      "text/plain": [
       "[0, -2, -4, -6, -8]"
      ]
     },
     "execution_count": 64,
     "metadata": {},
     "output_type": "execute_result"
    }
   ],
   "source": [
    "list(range(5))\n",
    "list(range(1,6))\n",
    "list(range(1,10,2))\n",
    "list(range(0,-10,-2))"
   ]
  },
  {
   "cell_type": "code",
   "execution_count": 65,
   "id": "ba388544",
   "metadata": {},
   "outputs": [
    {
     "name": "stdout",
     "output_type": "stream",
     "text": [
      "(2, 1)\n"
     ]
    }
   ],
   "source": [
    "print(divmod(7,3))"
   ]
  },
  {
   "cell_type": "code",
   "execution_count": 67,
   "id": "fd78c238",
   "metadata": {},
   "outputs": [
    {
     "name": "stdout",
     "output_type": "stream",
     "text": [
      "0 james\n",
      "1 tom\n",
      "2 susan\n"
     ]
    }
   ],
   "source": [
    "#index와 요소를 한꺼번에 묶음\n",
    "for i, name in enumerate(['james','tom','susan']):\n",
    "    print(i,name)"
   ]
  },
  {
   "cell_type": "code",
   "execution_count": 69,
   "id": "71df18bb",
   "metadata": {},
   "outputs": [
    {
     "name": "stdout",
     "output_type": "stream",
     "text": [
      "3\n"
     ]
    }
   ],
   "source": [
    "#실행 가능한 문자열 입력으로 받아 문자열을 실행한 결과값을 리턴\n",
    "print(eval('1+2'))"
   ]
  },
  {
   "cell_type": "code",
   "execution_count": 73,
   "id": "66bc8f98",
   "metadata": {},
   "outputs": [
    {
     "data": {
      "text/plain": [
       "[5, 4, 3, 2, 1, 0]"
      ]
     },
     "execution_count": 73,
     "metadata": {},
     "output_type": "execute_result"
    }
   ],
   "source": [
    "li = [0,1,5,2,4,3]\n",
    "li.sort(reverse=True)\n",
    "li"
   ]
  },
  {
   "cell_type": "code",
   "execution_count": 75,
   "id": "db21eda7",
   "metadata": {},
   "outputs": [
    {
     "name": "stdout",
     "output_type": "stream",
     "text": [
      "[0, 1, 2, 4, 5]\n"
     ]
    }
   ],
   "source": [
    "#정렬된 결과를 반환하는 함수는 본체를 변형시키지 않는다.\n",
    "li = [0,2,1,5,4]\n",
    "s = sorted(li)\n",
    "print(s)"
   ]
  },
  {
   "cell_type": "code",
   "execution_count": 77,
   "id": "bdcbaefe",
   "metadata": {},
   "outputs": [],
   "source": [
    "# 외장함수 : 전세계 파이썬 사용자들이 만든 유용한 프로그램을 모아 놓은 파이썬 라이브러리\n",
    "\n",
    "#pickle은 객체의 형태를 유지하면서 파일에 저장하고 불러오는 모델\n",
    "\n",
    "import pickle\n",
    "f = open('test.txt','wb')\n",
    "data = {1:\"python\",2:\"you need\"}\n",
    "pickle.dump(data,f)\n",
    "f.close()\n",
    "#txt에 글자 깨짐 > binary code이기 때문"
   ]
  },
  {
   "cell_type": "code",
   "execution_count": 78,
   "id": "05a15c0b",
   "metadata": {},
   "outputs": [
    {
     "name": "stdout",
     "output_type": "stream",
     "text": [
      "{1: 'python', 2: 'you need'}\n"
     ]
    }
   ],
   "source": [
    "import pickle\n",
    "f=open('test.txt','rb')\n",
    "data = pickle.load(f)\n",
    "print(data)\n",
    "f.close()"
   ]
  },
  {
   "cell_type": "code",
   "execution_count": 79,
   "id": "d5fb0fde",
   "metadata": {},
   "outputs": [
    {
     "data": {
      "text/plain": [
       "'C:\\\\Users\\\\admin\\\\anaconda3\\\\envs\\\\cakd5;C:\\\\Users\\\\admin\\\\anaconda3\\\\envs\\\\cakd5\\\\Library\\\\mingw-w64\\\\bin;C:\\\\Users\\\\admin\\\\anaconda3\\\\envs\\\\cakd5\\\\Library\\\\usr\\\\bin;C:\\\\Users\\\\admin\\\\anaconda3\\\\envs\\\\cakd5\\\\Library\\\\bin;C:\\\\Users\\\\admin\\\\anaconda3\\\\envs\\\\cakd5\\\\Scripts;C:\\\\WINDOWS\\\\system32;C:\\\\WINDOWS;C:\\\\WINDOWS\\\\System32\\\\Wbem;C:\\\\WINDOWS\\\\System32\\\\WindowsPowerShell\\\\v1.0\\\\;C:\\\\WINDOWS\\\\System32\\\\OpenSSH\\\\;C:\\\\Users\\\\admin\\\\anaconda3;C:\\\\Users\\\\admin\\\\anaconda3\\\\Library\\\\mingw-w64\\\\bin;C:\\\\Users\\\\admin\\\\anaconda3\\\\Library\\\\bin;C:\\\\Users\\\\admin\\\\anaconda3\\\\Scripts;C:\\\\Users\\\\admin\\\\AppData\\\\Local\\\\Microsoft\\\\WindowsApps;'"
      ]
     },
     "execution_count": 79,
     "metadata": {},
     "output_type": "execute_result"
    }
   ],
   "source": [
    "import os\n",
    "os.environ['PATH']"
   ]
  },
  {
   "cell_type": "code",
   "execution_count": 80,
   "id": "7d5e51df",
   "metadata": {},
   "outputs": [
    {
     "data": {
      "text/plain": [
       "'C:\\\\cakd5\\\\workspace\\\\m1_programming'"
      ]
     },
     "execution_count": 80,
     "metadata": {},
     "output_type": "execute_result"
    }
   ],
   "source": [
    "%pwd"
   ]
  },
  {
   "cell_type": "code",
   "execution_count": 81,
   "id": "fedf148f",
   "metadata": {},
   "outputs": [],
   "source": [
    "#폴더 변경\n",
    "import os\n",
    "os.chdir('C:\\\\cakd5\\\\workspace')"
   ]
  },
  {
   "cell_type": "code",
   "execution_count": 82,
   "id": "c4fa79b4",
   "metadata": {},
   "outputs": [
    {
     "data": {
      "text/plain": [
       "'C:\\\\cakd5\\\\workspace'"
      ]
     },
     "execution_count": 82,
     "metadata": {},
     "output_type": "execute_result"
    }
   ],
   "source": [
    "%pwd"
   ]
  },
  {
   "cell_type": "code",
   "execution_count": 83,
   "id": "f0eb3dd3",
   "metadata": {},
   "outputs": [],
   "source": [
    "import os\n",
    "os.chdir('C:\\\\cakd5\\\\workspace\\\\m1_programming')"
   ]
  },
  {
   "cell_type": "code",
   "execution_count": 84,
   "id": "8061be01",
   "metadata": {},
   "outputs": [
    {
     "data": {
      "text/plain": [
       "'C:\\\\cakd5\\\\workspace\\\\m1_programming'"
      ]
     },
     "execution_count": 84,
     "metadata": {},
     "output_type": "execute_result"
    }
   ],
   "source": [
    "%pwd"
   ]
  },
  {
   "cell_type": "code",
   "execution_count": 85,
   "id": "dcb8924a",
   "metadata": {},
   "outputs": [
    {
     "data": {
      "text/plain": [
       "'C:\\\\cakd5\\\\workspace\\\\m1_programming'"
      ]
     },
     "execution_count": 85,
     "metadata": {},
     "output_type": "execute_result"
    }
   ],
   "source": [
    "os.getcwd()"
   ]
  },
  {
   "cell_type": "code",
   "execution_count": 86,
   "id": "252b49e0",
   "metadata": {},
   "outputs": [
    {
     "name": "stdout",
     "output_type": "stream",
     "text": [
      " C 드라이브의 볼륨에는 이름이 없습니다.\n",
      " 볼륨 일련 번호: AA1A-F8CD\n",
      "\n",
      " C:\\cakd5\\workspace\\m1_programming 디렉터리\n",
      "\n",
      "2021-12-31  오후 12:22    <DIR>          .\n",
      "2021-12-31  오후 12:22    <DIR>          ..\n",
      "2021-12-31  오전 09:05    <DIR>          .ipynb_checkpoints\n",
      "2021-12-31  오전 11:33                34 foo.txt\n",
      "2021-12-29  오전 09:10             2,668 Jupyter Notebook 사용법.ipynb\n",
      "2021-12-31  오후 12:17                40 test.txt\n",
      "2021-12-31  오전 11:35               256 test1.txt\n",
      "2021-12-31  오전 10:45            21,322 과제 1230.ipynb\n",
      "2021-12-31  오전 09:07               589 과제 1231.ipynb\n",
      "2021-12-30  오전 10:29            14,233 과제1229.ipynb\n",
      "2021-12-30  오후 02:16            46,311 기초.ipynb\n",
      "2021-12-28  오후 05:48            94,995 매직명령어.jpg\n",
      "2021-12-31  오전 09:34             5,465 연습장.ipynb\n",
      "2021-12-31  오후 12:22            23,763 함수.ipynb\n",
      "              11개 파일             209,676 바이트\n",
      "               3개 디렉터리  953,986,899,968 바이트 남음\n"
     ]
    }
   ],
   "source": [
    "!dir"
   ]
  },
  {
   "cell_type": "code",
   "execution_count": 3,
   "id": "fd6686d8",
   "metadata": {},
   "outputs": [
    {
     "ename": "FileNotFoundError",
     "evalue": "[WinError 2] 지정된 파일을 찾을 수 없습니다: 'foo.txt' -> 'foo_new.txt'",
     "output_type": "error",
     "traceback": [
      "\u001b[1;31m---------------------------------------------------------------------------\u001b[0m",
      "\u001b[1;31mFileNotFoundError\u001b[0m                         Traceback (most recent call last)",
      "\u001b[1;32m~\\AppData\\Local\\Temp/ipykernel_6936/936003419.py\u001b[0m in \u001b[0;36m<module>\u001b[1;34m\u001b[0m\n\u001b[0;32m      1\u001b[0m \u001b[1;32mimport\u001b[0m \u001b[0mos\u001b[0m\u001b[1;33m\u001b[0m\u001b[1;33m\u001b[0m\u001b[0m\n\u001b[1;32m----> 2\u001b[1;33m \u001b[0mos\u001b[0m\u001b[1;33m.\u001b[0m\u001b[0mrename\u001b[0m\u001b[1;33m(\u001b[0m\u001b[1;34m'foo.txt'\u001b[0m\u001b[1;33m,\u001b[0m\u001b[1;34m'foo_new.txt'\u001b[0m\u001b[1;33m)\u001b[0m\u001b[1;33m\u001b[0m\u001b[1;33m\u001b[0m\u001b[0m\n\u001b[0m",
      "\u001b[1;31mFileNotFoundError\u001b[0m: [WinError 2] 지정된 파일을 찾을 수 없습니다: 'foo.txt' -> 'foo_new.txt'"
     ]
    }
   ],
   "source": [
    "import os\n",
    "os.rename('foo.txt','foo_new.txt')"
   ]
  },
  {
   "cell_type": "code",
   "execution_count": 4,
   "id": "e2da0e45",
   "metadata": {},
   "outputs": [
    {
     "name": "stdout",
     "output_type": "stream",
     "text": [
      " C 드라이브의 볼륨에는 이름이 없습니다.\n",
      " 볼륨 일련 번호: AA1A-F8CD\n",
      "\n",
      " C:\\cakd5\\workspace\\m1_programming 디렉터리\n",
      "\n",
      "2021-12-31  오후 12:25    <DIR>          .\n",
      "2021-12-31  오후 12:25    <DIR>          ..\n",
      "2021-12-31  오전 09:05    <DIR>          .ipynb_checkpoints\n",
      "2021-12-31  오전 11:33                34 foo_new.txt\n",
      "2021-12-29  오전 09:10             2,668 Jupyter Notebook 사용법.ipynb\n",
      "2021-12-31  오전 11:35               256 test1.txt\n",
      "2021-12-31  오후 12:17                40 test_new.txt\n",
      "2021-12-31  오전 10:45            21,322 과제 1230.ipynb\n",
      "2021-12-31  오전 09:07               589 과제 1231.ipynb\n",
      "2021-12-30  오전 10:29            14,233 과제1229.ipynb\n",
      "2021-12-30  오후 02:16            46,311 기초.ipynb\n",
      "2021-12-28  오후 05:48            94,995 매직명령어.jpg\n",
      "2021-12-31  오전 09:34             5,465 연습장.ipynb\n",
      "2021-12-31  오후 12:24            25,667 함수.ipynb\n",
      "              11개 파일             211,580 바이트\n",
      "               3개 디렉터리  953,987,694,592 바이트 남음\n"
     ]
    }
   ],
   "source": [
    "!dir"
   ]
  },
  {
   "cell_type": "code",
   "execution_count": 5,
   "id": "95ca6ccd",
   "metadata": {},
   "outputs": [
    {
     "data": {
      "text/plain": [
       "['C:\\\\cakd5\\\\workspace\\\\m1_programming\\\\foo_new.txt',\n",
       " 'C:\\\\cakd5\\\\workspace\\\\m1_programming\\\\test1.txt',\n",
       " 'C:\\\\cakd5\\\\workspace\\\\m1_programming\\\\test_new.txt']"
      ]
     },
     "execution_count": 5,
     "metadata": {},
     "output_type": "execute_result"
    }
   ],
   "source": [
    "#glob() 함수는 인자로 받은 패턴과 이름이 일치하는 모든 파일과 디렉토리의 리스트를 반환\n",
    "\n",
    "import glob\n",
    "glob.glob('C:\\cakd5\\workspace\\m1_programming/*.txt')"
   ]
  },
  {
   "cell_type": "code",
   "execution_count": 7,
   "id": "c00048a9",
   "metadata": {},
   "outputs": [
    {
     "data": {
      "text/plain": [
       "1640921525.3404636"
      ]
     },
     "execution_count": 7,
     "metadata": {},
     "output_type": "execute_result"
    }
   ],
   "source": [
    "# time \n",
    "import time\n",
    "time.time()\n",
    "#1970년 1월 1일로부터 초를 계산"
   ]
  },
  {
   "cell_type": "code",
   "execution_count": 8,
   "id": "4e7dd81d",
   "metadata": {},
   "outputs": [
    {
     "data": {
      "text/plain": [
       "time.struct_time(tm_year=2021, tm_mon=12, tm_mday=31, tm_hour=12, tm_min=32, tm_sec=18, tm_wday=4, tm_yday=365, tm_isdst=0)"
      ]
     },
     "execution_count": 8,
     "metadata": {},
     "output_type": "execute_result"
    }
   ],
   "source": [
    "time.localtime(time.time())"
   ]
  },
  {
   "cell_type": "code",
   "execution_count": 9,
   "id": "c066f88c",
   "metadata": {},
   "outputs": [
    {
     "data": {
      "text/plain": [
       "'Fri Dec 31 12:32:44 2021'"
      ]
     },
     "execution_count": 9,
     "metadata": {},
     "output_type": "execute_result"
    }
   ],
   "source": [
    "time.asctime(time.localtime(time.time()))"
   ]
  },
  {
   "cell_type": "code",
   "execution_count": 10,
   "id": "ce5ee58c",
   "metadata": {},
   "outputs": [
    {
     "name": "stdout",
     "output_type": "stream",
     "text": [
      "0\n",
      "1\n",
      "2\n",
      "3\n",
      "4\n",
      "5\n",
      "6\n",
      "7\n",
      "8\n",
      "9\n"
     ]
    }
   ],
   "source": [
    "import time\n",
    "\n",
    "for i in range(10):\n",
    "    print(i)\n",
    "    time.sleep(1)"
   ]
  },
  {
   "cell_type": "code",
   "execution_count": 11,
   "id": "1da79ad0",
   "metadata": {},
   "outputs": [
    {
     "name": "stdout",
     "output_type": "stream",
     "text": [
      "   December 2021\n",
      "Mo Tu We Th Fr Sa Su\n",
      "       1  2  3  4  5\n",
      " 6  7  8  9 10 11 12\n",
      "13 14 15 16 17 18 19\n",
      "20 21 22 23 24 25 26\n",
      "27 28 29 30 31\n",
      "None\n"
     ]
    }
   ],
   "source": [
    "import calendar\n",
    "print(calendar.prmonth(2021,12))"
   ]
  },
  {
   "cell_type": "code",
   "execution_count": 12,
   "id": "44e0d315",
   "metadata": {},
   "outputs": [
    {
     "name": "stdout",
     "output_type": "stream",
     "text": [
      "4\n"
     ]
    }
   ],
   "source": [
    "#요일 0 월요일 ~ 6 일요일\n",
    "print(calendar.weekday(2021,12,31))"
   ]
  },
  {
   "cell_type": "code",
   "execution_count": 14,
   "id": "ac94ea5a",
   "metadata": {},
   "outputs": [
    {
     "data": {
      "text/plain": [
       "(1, 28)"
      ]
     },
     "execution_count": 14,
     "metadata": {},
     "output_type": "execute_result"
    }
   ],
   "source": [
    "#1일의 요일, 날수\n",
    "calendar.monthrange(2022,2)"
   ]
  },
  {
   "cell_type": "code",
   "execution_count": 16,
   "id": "5eb147ba",
   "metadata": {},
   "outputs": [
    {
     "data": {
      "text/plain": [
       "True"
      ]
     },
     "execution_count": 16,
     "metadata": {},
     "output_type": "execute_result"
    }
   ],
   "source": [
    "import webbrowser\n",
    "webbrowser.open('http://google.com')"
   ]
  },
  {
   "cell_type": "code",
   "execution_count": 36,
   "id": "6e1217a3",
   "metadata": {},
   "outputs": [
    {
     "name": "stdout",
     "output_type": "stream",
     "text": [
      "[0, 1, 3, 4, 5, 6]\n"
     ]
    }
   ],
   "source": [
    "# 내장함수를 이용해서 list = [0,1,2,3,4,5,6]에서 2를 삭제 후 출력하세요.\n",
    "lst = [0,1,2,3,4,5,6]\n",
    "lst = list(filter(lambda a:a!=2,lst))\n",
    "print(lst)\n"
   ]
  },
  {
   "cell_type": "code",
   "execution_count": 42,
   "id": "e19f9f3f",
   "metadata": {},
   "outputs": [
    {
     "name": "stdout",
     "output_type": "stream",
     "text": [
      "[0, 1, 3, 4, 5, 6]\n"
     ]
    }
   ],
   "source": [
    "#remove 함수\n",
    "lst = [0,1,2,3,4,5,6]\n",
    "lst.remove(2)\n",
    "print(lst)"
   ]
  },
  {
   "cell_type": "code",
   "execution_count": 38,
   "id": "08c5f126",
   "metadata": {},
   "outputs": [
    {
     "name": "stdout",
     "output_type": "stream",
     "text": [
      "[]\n"
     ]
    }
   ],
   "source": [
    "#내장함수를 이용해서 list=[0,1,2,3,4,5,6]에서 모든 원소를 삭제 후 출력하세요.\n",
    "\n",
    "lst = [0,1,2,3,4,5,6]\n",
    "lst = list(filter(lambda a:a<0,lst))\n",
    "print(lst)"
   ]
  },
  {
   "cell_type": "code",
   "execution_count": 35,
   "id": "d6dc8de6",
   "metadata": {},
   "outputs": [
    {
     "name": "stdout",
     "output_type": "stream",
     "text": [
      "[1, 4, 9, 16, 25]\n",
      "[1, 2]\n"
     ]
    }
   ],
   "source": [
    "#람다 함수와 적합한 내장함수를 사용하여 아래와 같이 출력하세요\n",
    "#[1,2,3,4,5] -> [1,4,9,16,25]\n",
    "#[1,2,3,4,5] -> [1,2]\n",
    "\n",
    "lst = [1,2,3,4,5]\n",
    "newlst1 = []\n",
    "newlst2 = []\n",
    "jegop = lambda a:a**2\n",
    "\n",
    "for i in range(len(lst)):\n",
    "    newlst1.append(jegop(lst[i]))\n",
    "\n",
    "newlst2 = list(filter(lambda x:x<3,lst))\n",
    "        \n",
    "print(newlst1)\n",
    "print(newlst2)"
   ]
  },
  {
   "cell_type": "code",
   "execution_count": 4,
   "id": "d3555ee6",
   "metadata": {},
   "outputs": [
    {
     "name": "stdout",
     "output_type": "stream",
     "text": [
      "[1, 2, 6]\n",
      "[1, 2, 6]\n"
     ]
    }
   ],
   "source": [
    "# [1,-3,2,0,-5,6]에서 양수만 필터링해서 출력하세요(내장함수, 사용자 함수 각각 이용)\n",
    "\n",
    "lst = [1,-3,2,0,-5,6]\n",
    "S_hamsu=[]\n",
    "N_hamsu = list(filter(lambda x:x>0,lst))\n",
    "print(N_hamsu)\n",
    "\n",
    "\n",
    "def positive(a):\n",
    "    if a > 0:\n",
    "        return True\n",
    "    else:\n",
    "        return False\n",
    "    \n",
    "for i in lst:\n",
    "    detect = positive(i)\n",
    "    if detect == True:\n",
    "        S_hamsu.append(i)\n",
    "    else:\n",
    "        continue\n",
    "    \n",
    "print(S_hamsu)\n",
    "    \n"
   ]
  },
  {
   "cell_type": "code",
   "execution_count": 34,
   "id": "08be7f6d",
   "metadata": {},
   "outputs": [
    {
     "name": "stdout",
     "output_type": "stream",
     "text": [
      "[(1, 4), (2, 5), (3, 6)]\n",
      "[(1, 4, 7), (2, 5, 8), (3, 6, 9)]\n",
      "[('a', 'd'), ('b', 'e'), ('c', 'f')]\n"
     ]
    }
   ],
   "source": [
    "# 내장 함수를 이용하여 동일한 개수로 이루어진 자료형을 화살표 좌측에서 우측으로 변환\n",
    "# [1,2,3],[4,5,6]->[(1,4),(2,5),(3,6)]\n",
    "# [1,2,3],[4,5,6],[7,8,9] -> [(1,4,7),(2,5,8),(3,6,9)]\n",
    "# ('abc','def') -> [('a','d'),('b','e'),('c','f')]\n",
    "\n",
    "pro1 = [[1,2,3],[4,5,6]]\n",
    "pro2 = [[1,2,3],[4,5,6],[7,8,9]]\n",
    "pro3 = ('abc','def')\n",
    "\n",
    "newpro1 = list(zip(pro1[0],pro1[1]))\n",
    "print(newpro1)\n",
    "\n",
    "newpro2 = list(zip(pro2[0],pro2[1],pro2[2]))\n",
    "print(newpro2)\n",
    "\n",
    "newpro3 = list(zip(pro3[0],pro3[1]))\n",
    "print(newpro3)"
   ]
  },
  {
   "cell_type": "code",
   "execution_count": 43,
   "id": "078643dc",
   "metadata": {},
   "outputs": [
    {
     "name": "stdout",
     "output_type": "stream",
     "text": [
      "(1, 'a')\n",
      "(2, 'b')\n",
      "(3, 'c')\n"
     ]
    }
   ],
   "source": [
    "num = [1,2,3]\n",
    "lt = ['a','b','c']\n",
    "for pair in zip(num,lt):\n",
    "    print(pair)"
   ]
  },
  {
   "cell_type": "code",
   "execution_count": 1,
   "id": "8d1f8678",
   "metadata": {},
   "outputs": [
    {
     "name": "stdout",
     "output_type": "stream",
     "text": [
      "2.0\n"
     ]
    }
   ],
   "source": [
    "#입력으로 들어오는 모든 수의 평균 값을 계산해주는 함수를 작성한 후 1,2,3을 입력한 결과를 출력하세요\n",
    "\n",
    "def mean(*args):\n",
    "    sum = 0\n",
    "    for i in args:\n",
    "        sum = sum+i\n",
    "    \n",
    "    return sum/len(args)\n",
    "\n",
    "m = mean(1,2,3)\n",
    "print(m)"
   ]
  },
  {
   "cell_type": "code",
   "execution_count": null,
   "id": "92eece05",
   "metadata": {},
   "outputs": [],
   "source": []
  }
 ],
 "metadata": {
  "kernelspec": {
   "display_name": "Python 3 (ipykernel)",
   "language": "python",
   "name": "python3"
  },
  "language_info": {
   "codemirror_mode": {
    "name": "ipython",
    "version": 3
   },
   "file_extension": ".py",
   "mimetype": "text/x-python",
   "name": "python",
   "nbconvert_exporter": "python",
   "pygments_lexer": "ipython3",
   "version": "3.8.12"
  }
 },
 "nbformat": 4,
 "nbformat_minor": 5
}
