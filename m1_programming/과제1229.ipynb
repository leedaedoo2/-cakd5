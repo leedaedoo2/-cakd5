{
 "cells": [
  {
   "cell_type": "code",
   "execution_count": 1,
   "id": "e867b324",
   "metadata": {},
   "outputs": [
    {
     "name": "stdout",
     "output_type": "stream",
     "text": [
      "12345\n",
      "     12345\n",
      "12.345679\n",
      "          12.346\n"
     ]
    }
   ],
   "source": [
    "# 과제\n",
    "\n",
    "num = 123456789\n",
    "\n",
    "num1 = int(num/(10**4))\n",
    "print(num1)\n",
    "num11 = f'{num1:10.0f}'\n",
    "print(num11)\n",
    "\n",
    "num2 = num/(10**7)\n",
    "num22 = f'{num2:0.6f}'\n",
    "print(num22)\n",
    "num222 = f'{num2:16.3f}'\n",
    "print(num222)"
   ]
  },
  {
   "cell_type": "code",
   "execution_count": 2,
   "id": "74bd0918",
   "metadata": {},
   "outputs": [
    {
     "name": "stdout",
     "output_type": "stream",
     "text": [
      "4550\n"
     ]
    }
   ],
   "source": [
    "# [과제] 1부터 100까지의 정수 중 5에서 95까지의 합을 구하세요.\n",
    "sum = 0\n",
    "\n",
    "for a in range(1,101):\n",
    "    if a>=5:\n",
    "        if a<=95:\n",
    "            sum = sum +a\n",
    "print(sum)"
   ]
  },
  {
   "cell_type": "code",
   "execution_count": 3,
   "id": "0f4bd049",
   "metadata": {},
   "outputs": [
    {
     "name": "stdout",
     "output_type": "stream",
     "text": [
      "33165\n"
     ]
    }
   ],
   "source": [
    "# [과제]\n",
    "# Q. while문을 사용해 1부터 1000까지의 정수 중 3과 5의 공배수의 합을 구해 보세요.\n",
    "a = 1\n",
    "sum = 0\n",
    "\n",
    "while a<=1000:\n",
    "    if a%3 ==0:\n",
    "        if a%5 == 0:\n",
    "            sum = sum + a\n",
    "    a += 1\n",
    "    \n",
    "print(sum)\n",
    "    \n",
    "\n"
   ]
  },
  {
   "cell_type": "code",
   "execution_count": 4,
   "id": "2b4eba0f",
   "metadata": {},
   "outputs": [
    {
     "name": "stdout",
     "output_type": "stream",
     "text": [
      "첫번째 숫자: 1\n",
      "두번째 숫자: 2\n",
      "세번째 숫자: 3\n",
      "네번째 숫자: 4\n",
      "다섯번째 숫자: 5\n",
      "12345\n"
     ]
    }
   ],
   "source": [
    "# [과제] 1부터 5까지 입력해서 12345를 출력하세요\n",
    "a= input('첫번째 숫자: ')\n",
    "int_a= int(a)\n",
    "b= input('두번째 숫자: ')\n",
    "int_b = int(b)\n",
    "c= input('세번째 숫자: ')\n",
    "int_c = int(c)\n",
    "d=input('네번째 숫자: ')\n",
    "int_d=int(d)\n",
    "e=input('다섯번째 숫자: ')\n",
    "int_e = int(e)\n",
    "num = int_a*(10**4)+int_b*(10**3)+int_c*(10**2)+int_d*10+int_e\n",
    "print(num)"
   ]
  },
  {
   "cell_type": "code",
   "execution_count": 29,
   "id": "6701fbe4",
   "metadata": {},
   "outputs": [
    {
     "name": "stdout",
     "output_type": "stream",
     "text": [
      "[0, 1, 2, 3, 4, 5, 6, 7, 8, 'b', 'c']\n"
     ]
    }
   ],
   "source": [
    "#[과제] [0, 1, 2, 3, 4, 5, 6, 7, 8, 9, 'a', 'b', 'c']에서 9와 'a'를 삭제 후 리스트로 출력하세요\n",
    "list1 = [0,1,2,3,4,5,6,7,8,9,'a','b','c']\n",
    "del list1[9]\n",
    "del list1[-3]\n",
    "print(list1)"
   ]
  },
  {
   "cell_type": "code",
   "execution_count": 6,
   "id": "59a0be95",
   "metadata": {},
   "outputs": [
    {
     "name": "stdout",
     "output_type": "stream",
     "text": [
      "[0, 1, 2, 3, 4, 5, 6, 7, 8, 'b']\n"
     ]
    }
   ],
   "source": [
    "# [과제] [0, 1, 2, 3, 4, 5, 6, 7, 8, 'b', 'c']에서 'c'를 삭제 후 출력하세요.\n",
    "list2 = [0, 1, 2, 3, 4, 5, 6, 7, 8, 'b', 'c']\n",
    "del list2[-1]\n",
    "print(list2)"
   ]
  },
  {
   "cell_type": "code",
   "execution_count": 7,
   "id": "5aacc83c",
   "metadata": {},
   "outputs": [
    {
     "name": "stdout",
     "output_type": "stream",
     "text": [
      "[9, 9, 8, 8, 5, 4, 4, 4, 3, 1]\n"
     ]
    }
   ],
   "source": [
    "# [과제] [4, 8, 5, 4, 8, 4, 3, 9, 1, 9]를 내림차순으로 정렬하세요\n",
    "\n",
    "list3 = [4, 8, 5, 4, 8, 4, 3, 9, 1, 9]\n",
    "list3_desc = sorted(list3, reverse = True)\n",
    "print(list3_desc)"
   ]
  },
  {
   "cell_type": "code",
   "execution_count": 8,
   "id": "ca8a4b69",
   "metadata": {},
   "outputs": [
    {
     "name": "stdout",
     "output_type": "stream",
     "text": [
      "2021년 12월 30일 9시 2분 12초\n"
     ]
    }
   ],
   "source": [
    "# [과제] format 함수를 이용해서 다음과 같은 형식으로 현재 날짜/시간을 출력하세요.\n",
    "# 2021년 12월 29일 15시 47분 30초\n",
    "import datetime\n",
    "t = datetime.datetime.now()\n",
    "presentTime = \"{}년 {}월 {}일 {}시 {}분 {}초\".format(t.year, t.month, t.day, t.hour, t.minute, t.second)\n",
    "print(presentTime)\n"
   ]
  },
  {
   "cell_type": "code",
   "execution_count": 9,
   "id": "0e264f36",
   "metadata": {},
   "outputs": [
    {
     "name": "stdout",
     "output_type": "stream",
     "text": [
      "지금은 오전\n"
     ]
    }
   ],
   "source": [
    "# [과제] 현재 시각을 오전과 오후로 구분하는 프로그램을 작성하세요.\n",
    "import datetime\n",
    "t = datetime.datetime.now()\n",
    "if t.hour < 12:\n",
    "    print('지금은 오전')\n",
    "else:\n",
    "    print('지금은 오후')"
   ]
  },
  {
   "cell_type": "code",
   "execution_count": 10,
   "id": "d0fb4da0",
   "metadata": {},
   "outputs": [
    {
     "name": "stdout",
     "output_type": "stream",
     "text": [
      "아무 수나 입력하시오...:79795\n",
      "해당 수는 홀수\n"
     ]
    }
   ],
   "source": [
    "# [과제] 정수를 입력하면 홀수 짝수를 판별하는 프로그램 작성\n",
    "number = int(input('아무 수나 입력하시오...:'))\n",
    "if number%2 ==0:\n",
    "    print(\"해당 수는 짝수\")\n",
    "else:\n",
    "    print(\"해당 수는 홀수\")\n",
    "\n",
    "\n"
   ]
  },
  {
   "cell_type": "code",
   "execution_count": 39,
   "id": "b96bbe48",
   "metadata": {},
   "outputs": [
    {
     "name": "stdout",
     "output_type": "stream",
     "text": [
      "당신이 태어난 연도를 알려주시오: 2022\n",
      "당신은 범띠입니다.\n"
     ]
    }
   ],
   "source": [
    "# [과제] 태어난 연도를 입력받아 띠를 출력하는 프로그램을 작성하세요.\n",
    "# 원숭이, 닭, 개, 돼지, 쥐, 소, 범, 토끼, 용, 뱀, 말, 양띠\n",
    "birthYear = int(input('당신이 태어난 연도를 알려주시오: '))\n",
    "if birthYear%12 == 6:\n",
    "    print(\"당신은 범띠입니다.\")\n",
    "elif birthYear%12 == 7:\n",
    "    print(\"당신은 토끼띠입니다.\")\n",
    "elif birthYear%12 == 8:\n",
    "    print(\"당신은 용띠입니다.\")\n",
    "elif birthYear%12 == 9:\n",
    "    print(\"당신은 뱀띠입니다.\")\n",
    "elif birthYear%12 == 10:\n",
    "    print(\"당신은 말띠입니다.\")\n",
    "elif birthYear%12 == 11:\n",
    "    print(\"당신은 양띠입니다.\")\n",
    "elif birthYear%12 == 0:\n",
    "    print(\"당신은 원숭이띠입니다.\")\n",
    "elif birthYear%12 == 1:\n",
    "    print(\"당신은 닭띠입니다.\")\n",
    "elif birthYear%12 == 2:\n",
    "    print(\"당신은 개띠입니다.\")\n",
    "elif birthYear%12 == 3:\n",
    "    print(\"당신은 돼지띠입니다.\")\n",
    "elif birthYear%12 == 4:\n",
    "    print(\"당신은 쥐띠입니다.\")\n",
    "else:\n",
    "    print(\"당신은 소띠입니다.\")"
   ]
  },
  {
   "cell_type": "code",
   "execution_count": 12,
   "id": "fdead20d",
   "metadata": {},
   "outputs": [
    {
     "name": "stdout",
     "output_type": "stream",
     "text": [
      "지금은 겨울입니다\n"
     ]
    }
   ],
   "source": [
    "#[과제] 계절 구분 프로그램\n",
    "#각 계절별 출력 멘트는 계절에 맞게 창작\n",
    "#if 조건문으로 datetime 모듈을 import해서 datetime.now 함수를 사용해서 작성\n",
    "import datetime\n",
    "t = datetime.datetime.now()\n",
    "\n",
    "winter = [12,1,2]\n",
    "spring = [3,4,5]\n",
    "summer = [6,7,8]\n",
    "autumn = [9,10,11]\n",
    "if t.month in winter:\n",
    "    print('지금은 겨울입니다')\n",
    "elif t.month in spring:\n",
    "    print('지금은 봄입니다')\n",
    "elif t.month in summer:\n",
    "    print('지금은 여름입니다')\n",
    "else:\n",
    "    print('지금은 가을입니다')"
   ]
  },
  {
   "cell_type": "code",
   "execution_count": 13,
   "id": "56222366",
   "metadata": {},
   "outputs": [
    {
     "name": "stdout",
     "output_type": "stream",
     "text": [
      "32\n",
      "25\n"
     ]
    }
   ],
   "source": [
    "# [과제] 람다 함수를 이용해서 a의 b제곱을 구하는 식을 만들고\n",
    "# a, b가 아래와 같이 주어졌을 때 각각의 값을 구하세요. \n",
    "# a = 2, b = 5\n",
    "# a= 5, b = 2\n",
    "a1 = 2; b1 = 5\n",
    "result1 = (lambda x,y: x ** y)(a1, b1)\n",
    "print(result1)\n",
    "a2 = 5; b2 = 2\n",
    "result2 = (lambda x,y: x ** y)(a2, b2)\n",
    "print(result2)"
   ]
  },
  {
   "cell_type": "code",
   "execution_count": 40,
   "id": "58b8c828",
   "metadata": {},
   "outputs": [
    {
     "name": "stdout",
     "output_type": "stream",
     "text": [
      "돈을 얼마나 넣어볼까요?: 200\n",
      "\n",
      "돈이 부족하네요. 나중에 다시 와요.\n",
      "거스름돈 200원 받아가요\n",
      "돈을 얼마나 넣어볼까요?: 900\n",
      "\n",
      "한잔 하실래요?[y/n]: y\n",
      "\n",
      "커피 한잔 순삭\n",
      "오늘 커피 4잔 남았어요\n",
      "\n",
      "돈을 얼마나 넣어볼까요?: y\n"
     ]
    },
    {
     "ename": "ValueError",
     "evalue": "invalid literal for int() with base 10: 'y'",
     "output_type": "error",
     "traceback": [
      "\u001b[1;31m---------------------------------------------------------------------------\u001b[0m",
      "\u001b[1;31mValueError\u001b[0m                                Traceback (most recent call last)",
      "\u001b[1;32m~\\AppData\\Local\\Temp/ipykernel_9128/4250818666.py\u001b[0m in \u001b[0;36m<module>\u001b[1;34m\u001b[0m\n\u001b[0;32m     10\u001b[0m \u001b[1;33m\u001b[0m\u001b[0m\n\u001b[0;32m     11\u001b[0m \u001b[1;32mwhile\u001b[0m \u001b[1;36m1\u001b[0m\u001b[1;33m:\u001b[0m\u001b[1;33m\u001b[0m\u001b[1;33m\u001b[0m\u001b[0m\n\u001b[1;32m---> 12\u001b[1;33m     \u001b[0mmyMoney\u001b[0m \u001b[1;33m=\u001b[0m \u001b[0mint\u001b[0m\u001b[1;33m(\u001b[0m\u001b[0minput\u001b[0m\u001b[1;33m(\u001b[0m\u001b[1;34m'돈을 얼마나 넣어볼까요?: '\u001b[0m\u001b[1;33m)\u001b[0m\u001b[1;33m)\u001b[0m\u001b[1;33m\u001b[0m\u001b[1;33m\u001b[0m\u001b[0m\n\u001b[0m\u001b[0;32m     13\u001b[0m     \u001b[0mprint\u001b[0m\u001b[1;33m(\u001b[0m\u001b[1;34m''\u001b[0m\u001b[1;33m)\u001b[0m\u001b[1;33m\u001b[0m\u001b[1;33m\u001b[0m\u001b[0m\n\u001b[0;32m     14\u001b[0m     \u001b[1;31m#남은 커피의 여부\u001b[0m\u001b[1;33m\u001b[0m\u001b[1;33m\u001b[0m\u001b[1;33m\u001b[0m\u001b[0m\n",
      "\u001b[1;31mValueError\u001b[0m: invalid literal for int() with base 10: 'y'"
     ]
    }
   ],
   "source": [
    "# 과제 커피 자판기 프로그램\n",
    "# 시나리오 : 자판기 커피 재고 5잔, 커피 한잔 가격 300원, 재고 범위내에서 300원 이상 돈을 넣으면 거스름돈과 커피를 주고 그렇지 않으면 반환하며 재고가 소진되면 안내멘트 출력\n",
    "# 각 Case별 멘트 출력은 상황에 맞게 창작\n",
    "# while, if ~ elif ~ else 제어문을 사용하여 작성\n",
    "\n",
    "remainCoffee = 5\n",
    "coffeeCost = 300\n",
    "\n",
    "\n",
    "\n",
    "while 1:\n",
    "    myMoney = int(input('돈을 얼마나 넣어볼까요?: '))\n",
    "    print('')\n",
    "    #남은 커피의 여부\n",
    "    if remainCoffee == 0:\n",
    "        print('오늘 커피 동났어요. 내일 다시 와요')\n",
    "        if myMoney != 0:\n",
    "            print('거스름돈 %d원 받아가요'%(myMoney))\n",
    "        break\n",
    "    #소지금이 커피 한잔 가격보다 적을 경우\n",
    "    elif myMoney < coffeeCost:\n",
    "        if myMoney ==0:\n",
    "            print('돈이 없네요. 나중에 다시 와요.')\n",
    "        elif myMoney != 0:\n",
    "            print('돈이 부족하네요. 나중에 다시 와요.')\n",
    "            print('거스름돈 %d원 받아가요'%(myMoney))\n",
    "#        break\n",
    "\n",
    "    else:\n",
    "        WannaCoffee = input('한잔 하실래요?[y/n]: ')\n",
    "        print('')\n",
    "        #커피 구매 여부\n",
    "        if WannaCoffee == 'y':\n",
    "            myMoney -= coffeeCost\n",
    "            remainCoffee -= 1\n",
    "            print('커피 한잔 순삭')\n",
    "            print('오늘 커피 %d잔 남았어요'%(remainCoffee))\n",
    "            print('')\n",
    "            continue\n",
    "        elif WannaCoffee == 'n':\n",
    "            print('나중에 다시 와요.')\n",
    "            print('거스름돈 %d원 받아가요.'%(myMoney))\n",
    "#            break\n",
    "        else:\n",
    "            print('잘못 눌렀어요. 다시 시도하세요.')\n",
    "            print('')\n",
    "            continue\n"
   ]
  },
  {
   "cell_type": "code",
   "execution_count": 25,
   "id": "f33e736c",
   "metadata": {},
   "outputs": [
    {
     "name": "stdout",
     "output_type": "stream",
     "text": [
      "['i', \"'\", 'm', ' ', 'h', 'u', 'n', 'g', 'r', 'y']\n"
     ]
    }
   ],
   "source": [
    "string = '''i'm hungry'''\n",
    "str2list = list(string)\n",
    "print(str2list)"
   ]
  }
 ],
 "metadata": {
  "kernelspec": {
   "display_name": "Python 3 (ipykernel)",
   "language": "python",
   "name": "python3"
  },
  "language_info": {
   "codemirror_mode": {
    "name": "ipython",
    "version": 3
   },
   "file_extension": ".py",
   "mimetype": "text/x-python",
   "name": "python",
   "nbconvert_exporter": "python",
   "pygments_lexer": "ipython3",
   "version": "3.8.12"
  }
 },
 "nbformat": 4,
 "nbformat_minor": 5
}
