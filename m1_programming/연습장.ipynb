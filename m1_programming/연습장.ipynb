{
 "cells": [
  {
   "cell_type": "code",
   "execution_count": null,
   "id": "95ef7a5c",
   "metadata": {},
   "outputs": [],
   "source": [
    "coffee = 5\n",
    "while 1:\n",
    "    money = int(input('자판기를 이용하시려면 돈을 넣어주세요: '))\n",
    "    change = money - 300\n",
    "    if money == 300:\n",
    "        print('따뜻한 커피 나왔습니다')\n",
    "        coffee = coffee - 1\n",
    "    elif money > 300 and money <= 600:\n",
    "        print('따뜻한 커피 나왔습니다. 거스름돈은 %d원입니다.' % change)\n",
    "        coffee = coffee - 1\n",
    "    elif money > 600:\n",
    "        coffee_num = int(input('몇 잔의 커피를 뽑으시겠습니까?'))\n",
    "        change_2 = money - (coffee_num * 300)\n",
    "        if coffee < coffee_num:\n",
    "            print(f'죄송합니다. 재고가 모자랍니다. 현재 재고는 {coffee}개 입니다. 잔돈을 반환합니다.')\n",
    "        elif money % 300 == 0:\n",
    "            print(f'커피 {coffee_num}잔 나왔습니다.')\n",
    "            coffee = coffee - coffee_num\n",
    "        elif money < coffee_num * 300:\n",
    "            print('금액이 모자랍니다.')\n",
    "        else:\n",
    "            print(f'커피 {coffee_num}잔 나왔습니다. 거스름돈은 {change_2}원 입니다.')\n",
    "            coffee = coffee - coffee_num\n",
    "    else:\n",
    "        print('금액이 모자랍니다. 300원 이상 넣어주세요!')\n",
    "        \n",
    "    if coffee == 0:\n",
    "        print('금일 준비한 커피가 모두 소진되어 판매를 일시 중단합니다.')\n",
    "        break\n"
   ]
  },
  {
   "cell_type": "code",
   "execution_count": 4,
   "id": "3ca1a096",
   "metadata": {
    "scrolled": true
   },
   "outputs": [
    {
     "name": "stdout",
     "output_type": "stream",
     "text": [
      "[ 0  2 22  3 30  8  3  1 37  4  3 39 14  0  5 40  3 25 24 37 27 21 27 31\n",
      " 22 18  3 44  6 35  8  8 16  4  7  6 19  3 37 20 29 38 35 38 16 35 16  6\n",
      " 11 20 18  6 17 33 39 22  7 20 18 26 14 31  4 39 39  2 20 32 33 34 18  0\n",
      " 18 11 16 42 30 43 39  6  6 33  9 29  6 21 30 40 38 32 24 31 38 42 11 28\n",
      "  9 38 14 31 24  1 24 30 12  2 30 41 36 39  7 12 26  1  0 35  3 15 26  2\n",
      " 26 38  1 15 12 44 12 12 43 12 22  7 35 22 14  3  8 20 33 19 25 22 21 24\n",
      "  8 32 35  4 44 28 41 28  5 14 34 42  4 25  6  3 23 18 35 43  7 26  7 25\n",
      "  8 21 33 27 23 20  6 33 10  5 22  3 17 11  3  4 19  5  1 40 27 25 26  0\n",
      " 33 24 33  1 38  0  5  5]\n"
     ]
    }
   ],
   "source": [
    "import numpy as np\n",
    "\n",
    "number2 = np.random.randint(45,size = 200)\n",
    "print(number2)"
   ]
  },
  {
   "cell_type": "code",
   "execution_count": 2,
   "id": "4117c79d",
   "metadata": {
    "scrolled": true
   },
   "outputs": [
    {
     "name": "stdout",
     "output_type": "stream",
     "text": [
      "게임 수 : 50\n",
      "[3, 28, 30, 36, 38, 44]\n",
      "[7, 22, 30, 32, 35, 40]\n",
      "[8, 9, 13, 21, 23, 32]\n",
      "[4, 10, 23, 28, 32, 35]\n",
      "[5, 18, 22, 24, 37, 39]\n",
      "[3, 6, 8, 20, 38, 44]\n",
      "[3, 9, 10, 17, 40, 45]\n",
      "[3, 5, 7, 23, 41, 42]\n",
      "[18, 20, 22, 30, 37, 40]\n",
      "[6, 18, 24, 25, 34, 35]\n",
      "[9, 10, 21, 22, 41, 42]\n",
      "[14, 18, 19, 37, 41, 43]\n",
      "[10, 19, 21, 23, 27, 37]\n",
      "[12, 24, 25, 26, 30, 45]\n",
      "[13, 16, 20, 21, 25, 37]\n",
      "[8, 20, 27, 28, 43, 44]\n",
      "[5, 17, 30, 37, 41, 42]\n",
      "[1, 7, 18, 31, 41, 43]\n",
      "[5, 6, 7, 9, 35, 40]\n",
      "[2, 5, 7, 15, 38, 39]\n",
      "[1, 7, 9, 29, 30, 35]\n",
      "[5, 12, 20, 26, 29, 41]\n",
      "[1, 6, 16, 26, 38, 39]\n",
      "[8, 25, 29, 32, 35, 44]\n",
      "[5, 6, 11, 19, 38, 39]\n",
      "[7, 20, 21, 22, 23, 40]\n",
      "[1, 17, 22, 37, 39, 45]\n",
      "[2, 4, 7, 14, 28, 45]\n",
      "[7, 11, 17, 23, 26, 36]\n",
      "[7, 13, 20, 24, 44, 45]\n",
      "[7, 24, 28, 36, 42, 44]\n",
      "[11, 25, 26, 27, 30, 45]\n",
      "[8, 22, 28, 32, 33, 38]\n",
      "[12, 14, 16, 17, 30, 35]\n",
      "[5, 11, 15, 20, 34, 37]\n",
      "[1, 6, 12, 20, 36, 41]\n",
      "[5, 6, 21, 39, 41, 45]\n",
      "[1, 16, 28, 32, 36, 40]\n",
      "[5, 13, 21, 23, 24, 29]\n",
      "[3, 15, 23, 27, 29, 35]\n",
      "[5, 8, 21, 33, 38, 41]\n",
      "[1, 3, 7, 21, 25, 29]\n",
      "[11, 25, 32, 33, 34, 43]\n",
      "[7, 11, 17, 26, 34, 43]\n",
      "[13, 22, 26, 39, 44, 45]\n",
      "[5, 25, 28, 30, 35, 40]\n",
      "[2, 3, 9, 27, 37, 42]\n",
      "[15, 26, 31, 33, 39, 41]\n",
      "[6, 16, 20, 35, 39, 44]\n",
      "[13, 30, 36, 38, 41, 44]\n"
     ]
    }
   ],
   "source": [
    "import random\n",
    "\n",
    "num = input(\"게임 수 : \")\n",
    "\n",
    "for i in range(0, int(num)):\n",
    "    lotto = random.sample(range(1, 46), 6)\n",
    "    lotto.sort()\n",
    "    print(lotto)\n"
   ]
  },
  {
   "cell_type": "code",
   "execution_count": 22,
   "id": "0912dc2c",
   "metadata": {},
   "outputs": [
    {
     "data": {
      "text/plain": [
       "'   December 2021\\nMo Tu We Th Fr Sa Su\\n       1  2  3  4  5\\n 6  7  8  9 10 11 12\\n13 14 15 16 17 18 19\\n20 21 22 23 24 25 26\\n27 28 29 30 31\\n'"
      ]
     },
     "execution_count": 22,
     "metadata": {},
     "output_type": "execute_result"
    }
   ],
   "source": [
    "import calendar\n",
    "calendar.month(2021,12)"
   ]
  },
  {
   "cell_type": "code",
   "execution_count": 29,
   "id": "864dc8f1",
   "metadata": {},
   "outputs": [
    {
     "data": {
      "text/plain": [
       "1"
      ]
     },
     "execution_count": 29,
     "metadata": {},
     "output_type": "execute_result"
    }
   ],
   "source": [
    "import numpy as np\n",
    "np.random.randint(2)"
   ]
  },
  {
   "cell_type": "code",
   "execution_count": 43,
   "id": "08396f5e",
   "metadata": {},
   "outputs": [
    {
     "name": "stdout",
     "output_type": "stream",
     "text": [
      "11\n"
     ]
    }
   ],
   "source": [
    "from datetime import datetime as dt\n",
    "print(dt.now().hour)"
   ]
  },
  {
   "cell_type": "code",
   "execution_count": 4,
   "id": "9f6f1b64",
   "metadata": {},
   "outputs": [
    {
     "name": "stdout",
     "output_type": "stream",
     "text": [
      "['   Alabama ', 'Georgia!', 'Georgia', 'georgia', 'FlOrIda', 'south   carolina##', 'West virginia?']\n",
      "Alabama\n",
      "Alabama\n",
      "Alabama\n",
      "Georgia!\n",
      "Georgia \n",
      "Georgia \n",
      "Georgia\n",
      "Georgia\n",
      "Georgia\n",
      "georgia\n",
      "georgia\n",
      "Georgia\n",
      "FlOrIda\n",
      "FlOrIda\n",
      "Florida\n",
      "south   carolina##\n",
      "south   carolina  \n",
      "South   Carolina  \n",
      "West virginia?\n",
      "West virginia \n",
      "West Virginia \n"
     ]
    },
    {
     "data": {
      "text/plain": [
       "['Alabama',\n",
       " 'Georgia ',\n",
       " 'Georgia',\n",
       " 'Georgia',\n",
       " 'Florida',\n",
       " 'South   Carolina  ',\n",
       " 'West Virginia ']"
      ]
     },
     "execution_count": 4,
     "metadata": {},
     "output_type": "execute_result"
    }
   ],
   "source": [
    "import re #정규표현식 패키지 \n",
    "\n",
    "states = ['   Alabama ', 'Georgia!', 'Georgia', 'georgia', 'FlOrIda',\n",
    "          'south   carolina##', 'West virginia?']\n",
    "print(states)\n",
    "def clean_strings(strings):\n",
    "    result = []\n",
    "    for value in strings:\n",
    "        value = value.strip() # 양쪽 공백제거\n",
    "        print(value)\n",
    "        value = re.sub('[!#?]',' ',value) # 특수문자 제거\n",
    "        print(value)\n",
    "        value = value.title() # 첫 글자만 대문자로 변경\n",
    "        print(value)\n",
    "        result.append(value)\n",
    "    return result\n",
    "\n",
    "clean_strings(states)"
   ]
  }
 ],
 "metadata": {
  "kernelspec": {
   "display_name": "Python 3 (ipykernel)",
   "language": "python",
   "name": "python3"
  },
  "language_info": {
   "codemirror_mode": {
    "name": "ipython",
    "version": 3
   },
   "file_extension": ".py",
   "mimetype": "text/x-python",
   "name": "python",
   "nbconvert_exporter": "python",
   "pygments_lexer": "ipython3",
   "version": "3.8.12"
  }
 },
 "nbformat": 4,
 "nbformat_minor": 5
}
