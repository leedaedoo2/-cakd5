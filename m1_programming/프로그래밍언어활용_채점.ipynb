{
 "cells": [
  {
   "cell_type": "markdown",
   "metadata": {},
   "source": [
    "## 프로젝트 기반 AI 빅데이터 서비스 솔루션 개발 전문과정\n",
    "\n",
    "#### 교과목명 : 프로그래밍 언어 활용\n",
    "\n",
    "- 평가일 : 22.01.07\n",
    "- 성명 :  이재우\n",
    "- 점수 :  93\n",
    "\n",
    "※ 문제당 5점으로 채점"
   ]
  },
  {
   "cell_type": "markdown",
   "metadata": {},
   "source": [
    "#### 1. numbers 리스트에서 15, 20, 25를 출력하세요.(for문과 if 조건 사용 필수)  \n",
    "numbers = [5, 15, 6, 20, 7, 25]"
   ]
  },
  {
   "cell_type": "code",
   "execution_count": 1,
   "metadata": {},
   "outputs": [
    {
     "name": "stdout",
     "output_type": "stream",
     "text": [
      "[15, 20, 25]\n"
     ]
    }
   ],
   "source": [
    "numbers =  [5, 15, 6, 20, 7, 25]\n",
    "newnum = []\n",
    "\n",
    "for i in numbers:\n",
    "    if i > 10:\n",
    "        newnum.append(i)\n",
    "        \n",
    "print(newnum)"
   ]
  },
  {
   "cell_type": "markdown",
   "metadata": {},
   "source": [
    "#### 2. 아래 사용자 함수, 변수 리스트 및 2개의 내장함수를 각각 이용해서  [1, 4, 9, 16, 25], [1, 2]를 출력하세요.(내장함수 2개 사용 필수) "
   ]
  },
  {
   "cell_type": "code",
   "execution_count": 100,
   "metadata": {},
   "outputs": [
    {
     "name": "stdout",
     "output_type": "stream",
     "text": [
      "[1, 4, 9, 16, 25]\n",
      "[1, 2]\n"
     ]
    }
   ],
   "source": [
    "# 함수를 선언합니다.\n",
    "def power(item):\n",
    "    return item * item\n",
    "def under_3(item):\n",
    "    return item < 3\n",
    "\n",
    "# 변수를 선언합니다.\n",
    "list_input_a = [1, 2, 3, 4, 5]\n",
    "newlist1 = []\n",
    "newlist2 = []\n",
    "\n",
    "for a in list_input_a:\n",
    "    newlist1.append(power(a))\n",
    "print(newlist1)\n",
    "newlist2 = list(filter(lambda a:under_3(a),list_input_a))\n",
    "print(newlist2)\n"
   ]
  },
  {
   "cell_type": "markdown",
   "metadata": {},
   "source": [
    "#### 3. 정수를 입력하면 짝수 홀수 여부를 반환해주는 프로그램을 작성하세요.(정수 입력 후 '짝수', '홀수'가 일치하게 출력) "
   ]
  },
  {
   "cell_type": "code",
   "execution_count": 166,
   "metadata": {},
   "outputs": [
    {
     "name": "stdout",
     "output_type": "stream",
     "text": [
      "정수를 입력하세요> 9\n",
      "해당 정수는 홀수입니다\n"
     ]
    }
   ],
   "source": [
    "while 1:\n",
    "    try:\n",
    "        num = int(input(\"정수를 입력하세요> \"))\n",
    "        if num%2 ==0:\n",
    "            print(\"해당 정수는 짝수입니다\")\n",
    "        else:\n",
    "            print(\"해당 정수는 홀수입니다\")\n",
    "            break\n",
    "    except:\n",
    "        print(\"정수가 입력되지 않았습니다. 다시 입력해주세요\")\n",
    "        continue"
   ]
  },
  {
   "cell_type": "markdown",
   "metadata": {},
   "source": [
    "#### 4. 람다 함수를 이용해서 a의 b제곱에서 a x b를 뺀 수를 구하는 식을 만들고 그 식을 이용해서  a, b가 아래와 같이 주어졌을 때 각각의 값을 구하세요. \n",
    "a = 2, b = 5 \\\n",
    "a= 5, b = 2"
   ]
  },
  {
   "cell_type": "code",
   "execution_count": 4,
   "metadata": {},
   "outputs": [
    {
     "name": "stdout",
     "output_type": "stream",
     "text": [
      "22\n",
      "15\n"
     ]
    }
   ],
   "source": [
    "a=2 \n",
    "b=5\n",
    "\n",
    "result = (lambda a,b: (a**b)-(a*b))(a,b)\n",
    "print(result)\n",
    "\n",
    "a=5\n",
    "b=2\n",
    "\n",
    "result = (lambda a,b: (a**b)-(a*b))(a,b)\n",
    "print(result)"
   ]
  },
  {
   "cell_type": "markdown",
   "metadata": {},
   "source": [
    "#### 5. 123456789를 입력하면 천 단위로 콤마로 구분하여 출력하세요."
   ]
  },
  {
   "cell_type": "code",
   "execution_count": 126,
   "metadata": {},
   "outputs": [
    {
     "name": "stdout",
     "output_type": "stream",
     "text": [
      "숫자를 입력하세요...> 123456789\n",
      "123,456,789\n"
     ]
    }
   ],
   "source": [
    "while 1:\n",
    "    try:\n",
    "        num = int(input('숫자를 입력하세요...> '))\n",
    "        numlist = []\n",
    "        while num > 0:\n",
    "\n",
    "            num , remain = divmod(num,1000)\n",
    "            \n",
    "            numlist.append(remain)\n",
    "            \n",
    "        \n",
    "        for a in range(len(numlist)//2):\n",
    "            tmp = numlist[a]\n",
    "            numlist[a] = numlist[len(numlist)-a-1]\n",
    "            numlist[len(numlist)-a-1] = tmp\n",
    "        \n",
    "        for b in range(len(numlist)):\n",
    "            numlist[b] = str(numlist[b])\n",
    "        \n",
    "        newnum = \",\".join(numlist)\n",
    "        \n",
    "        print(newnum)\n",
    "        break\n",
    "    except:\n",
    "        print('올바르지 않은 입력입니다. 다시 입력하세요')\n",
    "        break"
   ]
  },
  {
   "cell_type": "markdown",
   "metadata": {},
   "source": [
    "#### 6. example_list = [\"요소A\", \"요소B\", \"요소C\"]를 파이썬 내장함수를 이용하여 아래와 같이 출력하세요. \n",
    "0번째 요소는 요소A입니다.\\\n",
    "1번째 요소는 요소B입니다.\\\n",
    "2번째 요소는 요소C입니다."
   ]
  },
  {
   "cell_type": "code",
   "execution_count": 12,
   "metadata": {},
   "outputs": [
    {
     "name": "stdout",
     "output_type": "stream",
     "text": [
      "0번째 요소는 요소A입니다.\n",
      "1번째 요소는 요소B입니다.\n",
      "2번째 요소는 요소C입니다.\n"
     ]
    }
   ],
   "source": [
    "example_list = [\"요소A\", \"요소B\", \"요소C\"]\n",
    "\n",
    "for i in range(len(example_list)):\n",
    "    print(f'{i}번째 요소는 {example_list[i]}입니다.')"
   ]
  },
  {
   "cell_type": "markdown",
   "metadata": {},
   "source": [
    "#### 7. 97을 40으로 나눈 몫과 나머지를 내장함수를 이용하여 구하세요.(튜플로 출력 필수) "
   ]
  },
  {
   "cell_type": "code",
   "execution_count": 14,
   "metadata": {},
   "outputs": [
    {
     "name": "stdout",
     "output_type": "stream",
     "text": [
      "(2, 17)\n"
     ]
    }
   ],
   "source": [
    "print(divmod(97,40))"
   ]
  },
  {
   "cell_type": "markdown",
   "metadata": {},
   "source": [
    "#### 8. list_number = [52, 273, 32, 72, 100]로 변수 선언하고 정수를 입력하면 그 정수 인덱스와 리스트에서 해당하는 값을 출력하는 프로그램을 작성하세요. 단, 모든 예외처리를 수행하며 특히 ValueError와 IndexError는 별도 구분해서 예외처리 한 후 '예외처리 완료'를 마지막으로 출력하세요.\n",
    "\n",
    "- 4 입력시 \\\n",
    "정수 입력> 4 \\\n",
    "4번째 요소: 100\n",
    "예외 처리 완료\n",
    "\n",
    "- 문자 입력시 \\\n",
    "정수 입력> 가 \\\n",
    "정수를 입력해 주세요!\n",
    "예외 처리 완료\n",
    "\n",
    "- 5 입력시 \\\n",
    "정수 입력> 5 \\\n",
    "리스트의 인덱스를 벗어났어요!\n",
    "예외 처리 완료"
   ]
  },
  {
   "cell_type": "code",
   "execution_count": 162,
   "metadata": {},
   "outputs": [
    {
     "name": "stdout",
     "output_type": "stream",
     "text": [
      "정수 입력> 4\n",
      "4번째 요소: 100 예외 처리 완료\n"
     ]
    }
   ],
   "source": [
    "list_number = [52, 273, 32, 72, 100]\n",
    "\n",
    "while 1:\n",
    "    try:\n",
    "        index = int(input('정수 입력> '))\n",
    "        print(f'{index}번째 요소: {list_number[index]}', end = ' ')\n",
    "        \n",
    "    except ValueError:\n",
    "        print('정수를 입력해 주세요!', end = ' ')\n",
    "    except IndexError:\n",
    "        print('리스트의 인덱스를 벗어났어요!', end = ' ')\n",
    "#    except e:\n",
    "    except Exception as e\n",
    "        print(e)\n",
    "    finally:\n",
    "        print('예외 처리 완료')\n",
    "        break"
   ]
  },
  {
   "cell_type": "markdown",
   "metadata": {},
   "source": [
    "#### 9. 사용자로부터 서로 다른 숫자 두 개를 입력받고 첫 번째 와 두 번째중 큰 숫자를 구하는 프로그램을 수행하세요."
   ]
  },
  {
   "cell_type": "code",
   "execution_count": 23,
   "metadata": {},
   "outputs": [
    {
     "name": "stdout",
     "output_type": "stream",
     "text": [
      "첫번째 숫자를 입력하세요> 5\n",
      "두번째 숫자를 입력하세요> 6\n",
      "둘중 가장 큰 숫자는 6입니다\n"
     ]
    }
   ],
   "source": [
    "while 1:\n",
    "    try:\n",
    "        num1 = int(input('첫번째 숫자를 입력하세요> '))\n",
    "        num2 = int(input('두번째 숫자를 입력하세요> '))\n",
    "        \n",
    "        if num1>num2:\n",
    "            print(f'둘중 가장 큰 숫자는 {num1}입니다')\n",
    "        else:\n",
    "            print(f'둘중 가장 큰 숫자는 {num2}입니다')\n",
    "        break\n",
    "        \n",
    "    except:\n",
    "        print('올바르지 않은 입력입니다. 숫자를 입력하세요')\n",
    "        continue"
   ]
  },
  {
   "cell_type": "markdown",
   "metadata": {},
   "source": [
    "#### 10. 1부터 100까지 아래와 같은 방식으로 2개의 수를 곱해서 가장 큰 수를 구하세요.\n",
    "\n",
    " 1 * 99 ...99 * 1"
   ]
  },
  {
   "cell_type": "code",
   "execution_count": 24,
   "metadata": {},
   "outputs": [
    {
     "name": "stdout",
     "output_type": "stream",
     "text": [
      "2500\n"
     ]
    }
   ],
   "source": [
    "maxValue = 0\n",
    "\n",
    "for i in range(1,100):\n",
    "    if i*(100-i) > maxValue:\n",
    "        maxValue = i*(100-i)\n",
    "        \n",
    "print(maxValue)"
   ]
  },
  {
   "cell_type": "markdown",
   "metadata": {},
   "source": [
    "#### 11. 정규표현식을 사용하여 text에서 지역코드만 출력하세요.\n",
    "text = \"문의사항이 있으면 032-232-3245 으로 연락주시기 바랍니다.\""
   ]
  },
  {
   "cell_type": "code",
   "execution_count": 168,
   "metadata": {},
   "outputs": [
    {
     "name": "stdout",
     "output_type": "stream",
     "text": [
      "032\n"
     ]
    }
   ],
   "source": [
    "import re\n",
    "\n",
    "text = \"문의사항이 있으면 032-232-3245 으로 연락주시기 바랍니다.\"\n",
    "\n",
    "pattern = re.compile('[0-9]+')\n",
    "m = pattern.search(text)\n",
    "print(m.group())"
   ]
  },
  {
   "cell_type": "markdown",
   "metadata": {},
   "source": [
    "#### 12. 'abcdefghij' 에 대하여 중첩을 적용한 서브그룹 5개로 컴파일하여 group()함수를 이용하여 'abcdefghi'와 e'를 출력하세요"
   ]
  },
  {
   "cell_type": "code",
   "execution_count": 40,
   "metadata": {},
   "outputs": [
    {
     "name": "stdout",
     "output_type": "stream",
     "text": [
      "abcdefghi\n",
      "e\n"
     ]
    }
   ],
   "source": [
    "import re\n",
    "\n",
    "p = re.compile('(a(b(c(d(e)f)g)h)i)(j)')\n",
    "\n",
    "m = p.search('abcdefghij')\n",
    "print(m.group(1))\n",
    "print(m.group(5))"
   ]
  },
  {
   "cell_type": "markdown",
   "metadata": {},
   "source": [
    "#### 13. [0, 1, 2, 3, 4, 5, 6, 7, 8, 9, 'a', 'b', 'c']에서 9와 'a'를 삭제 후 리스트로 출력하세요"
   ]
  },
  {
   "cell_type": "code",
   "execution_count": 41,
   "metadata": {},
   "outputs": [
    {
     "name": "stdout",
     "output_type": "stream",
     "text": [
      "[0, 1, 2, 3, 4, 5, 6, 7, 8, 'b', 'c']\n"
     ]
    }
   ],
   "source": [
    "list1 = [0,1,2,3,4,5,6,7,8,9,'a','b','c']\n",
    "\n",
    "del list1[9]\n",
    "del list1[-3]\n",
    "print(list1)"
   ]
  },
  {
   "cell_type": "markdown",
   "metadata": {},
   "source": [
    "#### 14. 500 ~ 1000사이의 정수 중 5와 7의 공배수의 합을 구하세요"
   ]
  },
  {
   "cell_type": "code",
   "execution_count": 46,
   "metadata": {},
   "outputs": [
    {
     "name": "stdout",
     "output_type": "stream",
     "text": [
      "10535\n"
     ]
    }
   ],
   "source": [
    "sum = 0\n",
    "for x in range(500,1001):\n",
    "    if x%5 ==0 and x%7 == 0:\n",
    "        sum += x\n",
    "        \n",
    "print(sum)"
   ]
  },
  {
   "cell_type": "markdown",
   "metadata": {},
   "source": [
    "#### 15. [    ]을 채워서 아래와 같이 출력하세요."
   ]
  },
  {
   "cell_type": "code",
   "execution_count": null,
   "metadata": {},
   "outputs": [],
   "source": [
    "numbers = [1,2,3,4,5,6,7,8,9]\n",
    "output = [[], [], []]\n",
    "\n",
    "for number in numbers:\n",
    "    output[     ].append(number)\n",
    "print(output)"
   ]
  },
  {
   "cell_type": "code",
   "execution_count": 127,
   "metadata": {},
   "outputs": [
    {
     "name": "stdout",
     "output_type": "stream",
     "text": [
      "[[1, 4, 7], [2, 5, 8], [3, 6, 9]]\n"
     ]
    }
   ],
   "source": [
    "numbers = [1,2,3,4,5,6,7,8,9]\n",
    "output = [[], [], []]\n",
    "\n",
    "for number in numbers:\n",
    "    output[(number-1)%3].append(number)\n",
    "print(output)\n",
    "\n",
    "#답 :(number-1)%3 "
   ]
  },
  {
   "cell_type": "markdown",
   "metadata": {},
   "source": [
    "####  16. numbers 내부에 들어 있는 숫자가 몇 번 등장하는지를 출력하는 코드를 작성하세요.\n",
    "numbers = [3,6,3,5,8,2,9,7,4,3,6,3,5,8,2,9,7,4]"
   ]
  },
  {
   "cell_type": "code",
   "execution_count": 51,
   "metadata": {},
   "outputs": [
    {
     "name": "stdout",
     "output_type": "stream",
     "text": [
      "{2: '2회', 3: '4회', 4: '2회', 5: '2회', 6: '2회', 7: '2회', 8: '2회', 9: '2회'}\n"
     ]
    }
   ],
   "source": [
    "numbers = [3,6,3,5,8,2,9,7,4,3,6,3,5,8,2,9,7,4]\n",
    "newnum = set(numbers)\n",
    "numcount = {}\n",
    "for a in newnum:\n",
    "    numcount[a] = str(numbers.count(a))+'회'\n",
    "    \n",
    "print(numcount)"
   ]
  },
  {
   "cell_type": "markdown",
   "metadata": {},
   "source": [
    "#### 17. 클래스 Country를 완성하여 아래와 같이 출력하세요."
   ]
  },
  {
   "cell_type": "code",
   "execution_count": 26,
   "metadata": {},
   "outputs": [
    {
     "name": "stdout",
     "output_type": "stream",
     "text": [
      "한국의 인구는 5천만명이며 수도는 서울입니다.\n",
      "1인당 gnp는 USD 3만입니다.\n"
     ]
    }
   ],
   "source": [
    "class Country:\n",
    "  \n",
    "\n",
    "\n",
    "class Korea(Country):    \n",
    "\n",
    "    def desc1(self,gnp):\n",
    "        self.gnp = gnp\n",
    "        print('1인당 gnp는 USD %d만입니다.' %self.gnp)\n",
    "        \n",
    "obj = Korea('한국',5,'서울')\n",
    "obj.desc()\n",
    "obj.desc1(3)"
   ]
  },
  {
   "cell_type": "code",
   "execution_count": 164,
   "metadata": {},
   "outputs": [
    {
     "name": "stdout",
     "output_type": "stream",
     "text": [
      "한국의 인구는 5천만명이며 수도는 서울입니다.\n",
      "1인당 gnp는 USD 3만입니다.\n"
     ]
    }
   ],
   "source": [
    "#답\n",
    "class Country:\n",
    "    def __init__(self,country,pop,city):\n",
    "        self.country = country\n",
    "        self.pop = pop\n",
    "        self.city = city\n",
    "    \n",
    "    def desc(self):\n",
    "        print(f'{self.country}의 인구는 {self.pop}천만명이며 수도는 {self.city}입니다.')\n",
    "    \n",
    "\n",
    "\n",
    "class Korea(Country):    \n",
    "\n",
    "    def desc1(self,gnp):\n",
    "        self.gnp = gnp\n",
    "        print('1인당 gnp는 USD %d만입니다.' %self.gnp)\n",
    "        \n",
    "obj = Korea('한국',5,'서울')\n",
    "obj.desc()\n",
    "obj.desc1(3)"
   ]
  },
  {
   "cell_type": "markdown",
   "metadata": {},
   "source": [
    "#### 18. 사칙연산을 수행하는  클래스를 작성하여 객체를 만들고 2개의 정수 10, 5를 입력한 후 연산 결과를  포멧을 이용하여 출력하세요."
   ]
  },
  {
   "cell_type": "code",
   "execution_count": 165,
   "metadata": {},
   "outputs": [
    {
     "name": "stdout",
     "output_type": "stream",
     "text": [
      "10+5 = 15, 10-5 = 5, 10*5 = 50,10/5 = 2.0\n"
     ]
    }
   ],
   "source": [
    "class Cal4:\n",
    "        \n",
    "    def add(self,x,y):\n",
    "        return x+y\n",
    "    def sub(self,x,y):\n",
    "        return x-y\n",
    "    def mul(self,x,y):\n",
    "        return x*y\n",
    "    def div(self,x,y):\n",
    "        try:\n",
    "            return x/y\n",
    "        except e:\n",
    "            print(e)\n",
    "            \n",
    "obj = Cal4()\n",
    "result = [obj.add(10,5),obj.sub(10,5),obj.mul(10,5),obj.div(10,5)]\n",
    "\n",
    "print(f'10+5 = {result[0]}, 10-5 = {result[1]}, 10*5 = {result[2]},10/5 = {result[3]}')"
   ]
  },
  {
   "cell_type": "markdown",
   "metadata": {},
   "source": [
    "#### 19. 올해 경과된 날짜수를 계산하여 출력하세요."
   ]
  },
  {
   "cell_type": "code",
   "execution_count": 3,
   "metadata": {},
   "outputs": [
    {
     "name": "stdout",
     "output_type": "stream",
     "text": [
      "time.struct_time(tm_year=2022, tm_mon=1, tm_mday=7, tm_hour=16, tm_min=34, tm_sec=21, tm_wday=4, tm_yday=7, tm_isdst=0)\n"
     ]
    }
   ],
   "source": [
    "import time\n",
    "t = time.localtime()\n",
    "print(t)"
   ]
  },
  {
   "cell_type": "markdown",
   "metadata": {},
   "source": [
    "#### 20. 2015년 인기순 상위5개 여아이름별 출생아수를 출력하세요.('data/names/yob2015.txt')"
   ]
  },
  {
   "cell_type": "code",
   "execution_count": 161,
   "metadata": {},
   "outputs": [
    {
     "name": "stdout",
     "output_type": "stream",
     "text": [
      "Top_1 여아 이름 : Emma, 출생아 수 = 20463\n",
      "Top_2 여아 이름 : Olivia, 출생아 수 = 19705\n",
      "Top_3 여아 이름 : Sophia, 출생아 수 = 17430\n",
      "Top_4 여아 이름 : Ava, 출생아 수 = 16383\n",
      "Top_5 여아 이름 : Isabella, 출생아 수 = 15633\n"
     ]
    }
   ],
   "source": [
    "f = open('data/names/yob2015.txt','r')\n",
    "data = f.read()\n",
    "data = data.split()\n",
    "for i in range(len(data)):\n",
    "    data[i] = data[i].split(',')\n",
    "\n",
    "Fnames = []\n",
    "\n",
    "for a in data:\n",
    "    if a[1] == 'F':\n",
    "        Fnames.append(a)\n",
    "        \n",
    "Fnames = sorted(Fnames,key = lambda a:int(a[2]),reverse = True)\n",
    "\n",
    "for i in range(5):\n",
    "    print(f'Top_{i+1} 여아 이름 : {Fnames[i][0]}, 출생아 수 = {Fnames[i][2]}')\n"
   ]
  }
 ],
 "metadata": {
  "kernelspec": {
   "display_name": "Python 3 (ipykernel)",
   "language": "python",
   "name": "python3"
  },
  "language_info": {
   "codemirror_mode": {
    "name": "ipython",
    "version": 3
   },
   "file_extension": ".py",
   "mimetype": "text/x-python",
   "name": "python",
   "nbconvert_exporter": "python",
   "pygments_lexer": "ipython3",
   "version": "3.8.12"
  }
 },
 "nbformat": 4,
 "nbformat_minor": 2
}
