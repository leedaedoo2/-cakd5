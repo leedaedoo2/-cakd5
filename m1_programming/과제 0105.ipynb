{
 "cells": [
  {
   "cell_type": "code",
   "execution_count": 1,
   "id": "09ce13bd",
   "metadata": {},
   "outputs": [
    {
     "name": "stdout",
     "output_type": "stream",
     "text": [
      "안녕하세요. user님, 업무 미팅은 5시입니다.\n"
     ]
    }
   ],
   "source": [
    "# 업무 미팅이 2시임을 얼려주는 자동 이메일을 클래스 AutoEmail 을 작성하여 아래와 같이 출력하세요\n",
    "# 안녕하세요. Kevin님, 업무 미팅은 2시입니다.\n",
    "from datetime import datetime\n",
    "\n",
    "\n",
    "\n",
    "class Automail:\n",
    "    def __init__(self):\n",
    "        self.schedule = 14\n",
    "        self.user = 'user'\n",
    "        \n",
    "    def hourrefine(self,hour):\n",
    "        if hour%12 == 0:\n",
    "            return 12\n",
    "        else:\n",
    "            return hour%12\n",
    "        \n",
    "    def scheduleAlarm(self):\n",
    "        while 1:\n",
    "            if datetime.now().hour == self.schedule and datetime.now().minute == 0:\n",
    "                newhour = self.hourrefine(self.schedule)\n",
    "                print(f'안녕하세요. {self.user}님, 업무 미팅은 {newhour}시입니다.')\n",
    "                break\n",
    "        \n",
    "        \n",
    "user = Automail()\n",
    "user.scheduleAlarm()\n",
    "    \n"
   ]
  }
 ],
 "metadata": {
  "kernelspec": {
   "display_name": "Python 3 (ipykernel)",
   "language": "python",
   "name": "python3"
  },
  "language_info": {
   "codemirror_mode": {
    "name": "ipython",
    "version": 3
   },
   "file_extension": ".py",
   "mimetype": "text/x-python",
   "name": "python",
   "nbconvert_exporter": "python",
   "pygments_lexer": "ipython3",
   "version": "3.8.12"
  }
 },
 "nbformat": 4,
 "nbformat_minor": 5
}
