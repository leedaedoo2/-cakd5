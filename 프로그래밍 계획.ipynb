{
 "cells": [
  {
   "cell_type": "code",
   "execution_count": 12,
   "id": "a7a19e70",
   "metadata": {},
   "outputs": [
    {
     "name": "stdout",
     "output_type": "stream",
     "text": [
      "원하는 년도를 입력하시오...>2021\n",
      "원하는 달을 입력하시오...>12\n",
      "[[0, 0, 1, 2, 3, 4, 5], [6, 7, 8, 9, 10, 11, 12], [13, 14, 15, 16, 17, 18, 19], [20, 21, 22, 23, 24, 25, 26], [27, 28, 29, 30, 31, 0, 0]]\n",
      "31\n",
      "7\n"
     ]
    }
   ],
   "source": [
    "#비행기 왕복 요금 계산기\n",
    "import calendar\n",
    "import numpy as np\n",
    "\n",
    "\n",
    "while 1:\n",
    "    wantedYear = int(input('원하는 년도를 입력하시오...>'))\n",
    "    wantedMonth = int(input('원하는 달을 입력하시오...>'))\n",
    "    r = calendar.monthcalendar(wantedYear,wantedMonth)\n",
    "    print(r)\n",
    "    monthdays = max(max(r))\n",
    "    print(monthdays)\n",
    "    print(len(r[0]))\n",
    "    \n",
    "    \n",
    "    \n",
    "    \n",
    "    \n",
    "    \n",
    "    break"
   ]
  }
 ],
 "metadata": {
  "kernelspec": {
   "display_name": "Python 3 (ipykernel)",
   "language": "python",
   "name": "python3"
  },
  "language_info": {
   "codemirror_mode": {
    "name": "ipython",
    "version": 3
   },
   "file_extension": ".py",
   "mimetype": "text/x-python",
   "name": "python",
   "nbconvert_exporter": "python",
   "pygments_lexer": "ipython3",
   "version": "3.8.12"
  }
 },
 "nbformat": 4,
 "nbformat_minor": 5
}
