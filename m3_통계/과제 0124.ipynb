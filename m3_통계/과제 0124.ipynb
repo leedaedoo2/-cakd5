{
 "cells": [
  {
   "cell_type": "code",
   "execution_count": 3,
   "id": "3a052b30",
   "metadata": {},
   "outputs": [],
   "source": [
    "# [과제] 1변향 데이터 data에 대하여 평균,표본분산, 불편분산, 편차, 표준편차, 최대, 최소, 4분위수, 중앙값을 구하세요\n",
    "# 단 함수를 사용하는 경우와 사용하지 않는 경우를 모두 수행\n",
    "import numpy as np\n",
    "import pandas as pd\n"
   ]
  },
  {
   "cell_type": "code",
   "execution_count": 72,
   "id": "a1309939",
   "metadata": {
    "scrolled": false
   },
   "outputs": [
    {
     "name": "stdout",
     "output_type": "stream",
     "text": [
      "[44 47 64 67 67  9 83 21 36 87 70 88 88 12 58 65 39 87 46 88]\n",
      "[44 47 64]\n",
      "mean 58.3\n",
      "편차 [-14.3 -11.3   5.7   8.7   8.7 -49.3  24.7 -37.3 -22.3  28.7  11.7  29.7\n",
      "  29.7 -46.3  -0.3   6.7 -19.3  28.7 -12.3  29.7]\n",
      "표본분산 629.41\n",
      "불편분산 662.5368421052631\n",
      "표준편차\n",
      "표본분산의 표준편차 25.088044961694404\n",
      "불편분산의 표준편차 25.739791026837477\n",
      "최대값 88\n",
      "최소값 9\n",
      "중앙값 64.5\n",
      "1사분위 42.75\n",
      "3사분위 84.0\n"
     ]
    }
   ],
   "source": [
    "# 함수 사용 없음\n",
    "np.random.seed(0)\n",
    "arr = np.random.randint(0,100,20)\n",
    "print(arr)\n",
    "print(arr[0:3])\n",
    "#평균\n",
    "mean = np.sum(arr)/len(arr)\n",
    "print('mean',mean)\n",
    "#편차\n",
    "dev = arr-mean\n",
    "print('편차',dev)\n",
    "#표본분산\n",
    "var1 = np.mean(dev**2)\n",
    "print('표본분산',var1)\n",
    "#불편분산\n",
    "var2 = (np.sum(dev**2))/(len(arr)-1)\n",
    "print('불편분산',var2)\n",
    "# 표준편차\n",
    "print('표준편차')\n",
    "# 표본분산의 표준편차\n",
    "nv1 = np.sqrt(var1)\n",
    "print('표본분산의 표준편차',nv1)\n",
    "# 불편분산의 표준편차\n",
    "nv2 = np.sqrt(var2)\n",
    "print('불편분산의 표준편차',nv2)\n",
    "arr_sort = np.sort(arr)\n",
    "# 최대값\n",
    "print('최대값',arr_sort[-1])\n",
    "\n",
    "#최소값\n",
    "print('최소값',arr_sort[0])\n",
    "\n",
    "# 중앙값\n",
    "a = arr_sort[len(arr_sort)//2]\n",
    "if len(arr_sort)%2 ==0:\n",
    "    b = arr_sort[len(arr_sort)//2-1]\n",
    "    print('중앙값', (a+b)/2)\n",
    "else:\n",
    "    print('중앙값', a)\n",
    "# 4분위수\n",
    "\n",
    "#1사분위\n",
    "a = arr_sort[len(arr_sort)//4]\n",
    "if len(arr_sort)%4 ==0:\n",
    "    b = arr_sort[len(arr_sort)//4-1]\n",
    "    print('1사분위', (3*a+b)/4)\n",
    "else:\n",
    "    print('1사분위', a)\n",
    "#3사분위\n",
    "a = arr_sort[len(arr_sort)//4*3]\n",
    "if len(arr_sort)%4 ==0:\n",
    "    b = arr_sort[len(arr_sort)//4*3-1]\n",
    "    print('3사분위', (a+3*b)/4)\n",
    "else:\n",
    "    print('3사분위', a)"
   ]
  },
  {
   "cell_type": "code",
   "execution_count": 73,
   "id": "90076ac2",
   "metadata": {},
   "outputs": [
    {
     "name": "stdout",
     "output_type": "stream",
     "text": [
      "평균 58.3\n",
      "편차 [-14.3 -11.3   5.7   8.7   8.7 -49.3  24.7 -37.3 -22.3  28.7  11.7  29.7\n",
      "  29.7 -46.3  -0.3   6.7 -19.3  28.7 -12.3  29.7]\n",
      "표본분산 629.41\n",
      "불편분산 662.5368421052631\n",
      "표준편차\n",
      "표본분산의 표준편차 25.088044961694404\n",
      "불편분산의 표준편차 25.739791026837477\n",
      "최대값 88\n",
      "최소값 9\n",
      "중앙값 64.5\n",
      "1사분위 42.75\n",
      "3사분위 84.0\n"
     ]
    }
   ],
   "source": [
    "#  함수 사용 버전\n",
    "mean = arr.mean()\n",
    "print('평균', mean)\n",
    "dev = arr-arr.mean()\n",
    "print('편차',dev)\n",
    "var1 = np.var(arr,ddof = 0)\n",
    "print('표본분산', var1)\n",
    "var2 = np.var(arr,ddof=1)\n",
    "print('불편분산', var2)\n",
    "print('표준편차')\n",
    "std1 = np.std(arr,ddof=0)\n",
    "print('표본분산의 표준편차',std1)\n",
    "std2 = np.std(arr,ddof=1)\n",
    "print('불편분산의 표준편차',std2)\n",
    "maxvalue = np.max(arr)\n",
    "print('최대값',maxvalue)\n",
    "minvalue = np.min(arr)\n",
    "print('최소값',minvalue)\n",
    "q50 = np.percentile(arr,50)\n",
    "print('중앙값',q50)\n",
    "q25 = np.percentile(arr,25)\n",
    "print('1사분위',q25)\n",
    "q75 = np.percentile(arr,75)\n",
    "print('3사분위',q75)"
   ]
  },
  {
   "cell_type": "code",
   "execution_count": 74,
   "id": "38e9fa19",
   "metadata": {
    "scrolled": true
   },
   "outputs": [
    {
     "data": {
      "text/plain": [
       "count    20.000000\n",
       "mean     58.300000\n",
       "std      25.739791\n",
       "min       9.000000\n",
       "25%      42.750000\n",
       "50%      64.500000\n",
       "75%      84.000000\n",
       "max      88.000000\n",
       "dtype: float64"
      ]
     },
     "execution_count": 74,
     "metadata": {},
     "output_type": "execute_result"
    }
   ],
   "source": [
    "# 검증\n",
    "df = pd.Series(arr)\n",
    "df.describe()"
   ]
  },
  {
   "cell_type": "code",
   "execution_count": null,
   "id": "5f01f5cf",
   "metadata": {},
   "outputs": [],
   "source": [
    "#과제 10행 2열 2차원의 배열을 생성하고 두 열간의 공분산, 상관계수를 구하세요(단, numpy, pandas 두가지 방식"
   ]
  },
  {
   "cell_type": "code",
   "execution_count": 110,
   "id": "9f7d8160",
   "metadata": {
    "scrolled": false
   },
   "outputs": [
    {
     "name": "stdout",
     "output_type": "stream",
     "text": [
      "[[59 86]\n",
      " [65 50]\n",
      " [99 78]\n",
      " [75 79]\n",
      " [98 79]\n",
      " [99 58]\n",
      " [59 50]\n",
      " [92 90]\n",
      " [86 66]\n",
      " [86 97]]\n",
      "[59 65 99 75 98 99 59 92 86 86]\n",
      "[86 50 78 79 79 58 50 90 66 97]\n",
      "[[236.16  74.36]\n",
      " [ 74.36 246.21]]\n",
      "공분산 74.36\n",
      "상관계수\n",
      "0.3083779854313548\n"
     ]
    }
   ],
   "source": [
    "# np 사용\n",
    "np.random.seed(10)\n",
    "arr2 = np.random.randint(50,100,20).reshape(10,2)\n",
    "print(arr2)\n",
    "print(arr2[:,0])\n",
    "print(arr2[:,1])\n",
    "# 공분산\n",
    "cov_mat = np.cov(arr2[:,0],arr2[:,1],ddof=0)\n",
    "print(cov_mat)\n",
    "print('공분산',cov_mat[0][1])\n",
    "# 상관계수\n",
    "print('상관계수')\n",
    "print(np.corrcoef(arr2[:,0],arr2[:,1])[0][1])"
   ]
  },
  {
   "cell_type": "code",
   "execution_count": 115,
   "id": "97f03645",
   "metadata": {},
   "outputs": [
    {
     "data": {
      "text/html": [
       "<div>\n",
       "<style scoped>\n",
       "    .dataframe tbody tr th:only-of-type {\n",
       "        vertical-align: middle;\n",
       "    }\n",
       "\n",
       "    .dataframe tbody tr th {\n",
       "        vertical-align: top;\n",
       "    }\n",
       "\n",
       "    .dataframe thead th {\n",
       "        text-align: right;\n",
       "    }\n",
       "</style>\n",
       "<table border=\"1\" class=\"dataframe\">\n",
       "  <thead>\n",
       "    <tr style=\"text-align: right;\">\n",
       "      <th></th>\n",
       "      <th>0</th>\n",
       "      <th>1</th>\n",
       "    </tr>\n",
       "  </thead>\n",
       "  <tbody>\n",
       "    <tr>\n",
       "      <th>0</th>\n",
       "      <td>59</td>\n",
       "      <td>86</td>\n",
       "    </tr>\n",
       "    <tr>\n",
       "      <th>1</th>\n",
       "      <td>65</td>\n",
       "      <td>50</td>\n",
       "    </tr>\n",
       "    <tr>\n",
       "      <th>2</th>\n",
       "      <td>99</td>\n",
       "      <td>78</td>\n",
       "    </tr>\n",
       "    <tr>\n",
       "      <th>3</th>\n",
       "      <td>75</td>\n",
       "      <td>79</td>\n",
       "    </tr>\n",
       "    <tr>\n",
       "      <th>4</th>\n",
       "      <td>98</td>\n",
       "      <td>79</td>\n",
       "    </tr>\n",
       "    <tr>\n",
       "      <th>5</th>\n",
       "      <td>99</td>\n",
       "      <td>58</td>\n",
       "    </tr>\n",
       "    <tr>\n",
       "      <th>6</th>\n",
       "      <td>59</td>\n",
       "      <td>50</td>\n",
       "    </tr>\n",
       "    <tr>\n",
       "      <th>7</th>\n",
       "      <td>92</td>\n",
       "      <td>90</td>\n",
       "    </tr>\n",
       "    <tr>\n",
       "      <th>8</th>\n",
       "      <td>86</td>\n",
       "      <td>66</td>\n",
       "    </tr>\n",
       "    <tr>\n",
       "      <th>9</th>\n",
       "      <td>86</td>\n",
       "      <td>97</td>\n",
       "    </tr>\n",
       "  </tbody>\n",
       "</table>\n",
       "</div>"
      ],
      "text/plain": [
       "    0   1\n",
       "0  59  86\n",
       "1  65  50\n",
       "2  99  78\n",
       "3  75  79\n",
       "4  98  79\n",
       "5  99  58\n",
       "6  59  50\n",
       "7  92  90\n",
       "8  86  66\n",
       "9  86  97"
      ]
     },
     "metadata": {},
     "output_type": "display_data"
    },
    {
     "name": "stdout",
     "output_type": "stream",
     "text": [
      "공분산 74.36\n"
     ]
    },
    {
     "data": {
      "text/html": [
       "<div>\n",
       "<style scoped>\n",
       "    .dataframe tbody tr th:only-of-type {\n",
       "        vertical-align: middle;\n",
       "    }\n",
       "\n",
       "    .dataframe tbody tr th {\n",
       "        vertical-align: top;\n",
       "    }\n",
       "\n",
       "    .dataframe thead th {\n",
       "        text-align: right;\n",
       "    }\n",
       "</style>\n",
       "<table border=\"1\" class=\"dataframe\">\n",
       "  <thead>\n",
       "    <tr style=\"text-align: right;\">\n",
       "      <th></th>\n",
       "      <th>0</th>\n",
       "      <th>1</th>\n",
       "    </tr>\n",
       "  </thead>\n",
       "  <tbody>\n",
       "    <tr>\n",
       "      <th>0</th>\n",
       "      <td>1.000000</td>\n",
       "      <td>0.308378</td>\n",
       "    </tr>\n",
       "    <tr>\n",
       "      <th>1</th>\n",
       "      <td>0.308378</td>\n",
       "      <td>1.000000</td>\n",
       "    </tr>\n",
       "  </tbody>\n",
       "</table>\n",
       "</div>"
      ],
      "text/plain": [
       "          0         1\n",
       "0  1.000000  0.308378\n",
       "1  0.308378  1.000000"
      ]
     },
     "execution_count": 115,
     "metadata": {},
     "output_type": "execute_result"
    }
   ],
   "source": [
    "# df 사용\n",
    "df = pd.DataFrame(arr2)\n",
    "display(df)\n",
    "cov_mat = np.cov(df[0],df[1],ddof=0)\n",
    "print('공분산',cov_mat[0][1])\n",
    "df.corr()"
   ]
  }
 ],
 "metadata": {
  "kernelspec": {
   "display_name": "Python 3 (ipykernel)",
   "language": "python",
   "name": "python3"
  },
  "language_info": {
   "codemirror_mode": {
    "name": "ipython",
    "version": 3
   },
   "file_extension": ".py",
   "mimetype": "text/x-python",
   "name": "python",
   "nbconvert_exporter": "python",
   "pygments_lexer": "ipython3",
   "version": "3.8.12"
  }
 },
 "nbformat": 4,
 "nbformat_minor": 5
}
