{
 "cells": [
  {
   "cell_type": "markdown",
   "id": "b40fb628",
   "metadata": {},
   "source": [
    "확률의 수학적 정의와 의미\n",
    "- 표본공간과 확률표본\n",
    " * 확률표본 또는 표본은 풀고자 하는 문제에서 발생할 수 있는 하나의 현상 혹은 선택될 수 있는 하나의 경우를 말한다.\n",
    " * 표본공간은 가능한 모든 표본의 집합을 말하며 고려하는 범위에서 어떤 표본(경우, 현상)이 가능하고 어떤 표본이 가능하지 않은가를 정의하는 작업\n",
    " * 사건은 표본공간의 부분집합, 즉 전체 표본공간 중에서 관심을 가지는 일부 표본의 집합\n",
    "\n",
    "확률\n",
    "- 확률이란 사건(부분집합)을 입력하면 숫자(확률값)가 출력되는 함수\n",
    "- 모든 각각의 사건(부분집합)에 어떤 숫자를 할당하는 함수\n",
    "- 확률은 표본이 아닌 사건을 입력으로 가지는 함수\n",
    "\n",
    "확률의 의미\n",
    "- 빈도주의 관점 : 반복적으로 선택된 표본이 사건 A의 원소가 될 경향. 동전을 던져 앞면이 나오는 사건의 확률값은 0.5\n",
    "- 베이지안 관점 : 선택된 표본이 특정한 사건에 속한다는 가설, 명제 혹은 주장의 신뢰도로 반복이라는 개념은 사용되지 않음. 새가 날 수 있는 가능성은 95%. '앞면이 나왔다'는 주장의 신뢰도가 50%\n",
    " * 베이지안 확률론에서 사건이 일어났다 혹은 발생했다하는 말은 그 사건의 원소 중에 정말로 선택된 표본이 있다는 사실을 알게 되었다는 것을 말한다\n",
    " \n",
    "확률의 성질\n",
    "- 공집합의 확률 : 공집합인 사건의 합은 0이다. P(0) = 0\n",
    "- 여집합의 확률 : 어떤 사건의 여집합인 사건의 확률은 (1-원래 사건의 확률)과 같다.\n",
    "- 포함-배제의 원리 : 두 사건의 합집합의 확률은 각 사건의 확률의 합에서 두 사건의 교집합의 확률을 뺀 것과 같다.\n",
    "- 전체 확률의 법칙 : 생일이 1월인 남자라는 사건의 확률과 생일이 2월인 남자라는 사건의 확률, 이외에도 각각의 월을 생일로 가지는 남자라는 사건들의 확률을 모두 합하면 남자라는 사건의 확률이 된다. 각각의 월에 있는 남자의 생일이 서로 공통 원소가 없음.\n",
    "\n",
    "확률분포함수\n",
    "- 확률이 어디에 어느 정도 분포되어 있는지를 수학적으로 명시하고 전달하는 도구\n",
    "- 만약 표본의 개수가 무한하다면 현실적으로 모든 사건을 하나하나 기술하는 것은 불가능하며 확률분포함수를 이용하여 이 문제를 해결\n",
    " * 확률질량함수 : 유한 개의 사건이 존재하는 경우 각 단수사건에 대한 확률만 정의하는 함수\n",
    " * 누적분포함수 : 시작점을 모두 똑같이 음의 무한대로 통일한 특수한 구간을 사용하는 사건의 확률분포를 묘사하는 함수\n",
    " * 확률밀도함수 : 누적분포함수를 미분하여 구한 도함수를 의미하며 특정한 구간의 확률이 다른 구간에 비해 상대적으로 얼마나 높은가를 나타내는 것이며 그 값 자체가 확률은 아니다\n",
    " \n",
    "확률변수\n",
    "- 확률적인 숫자 값을 출력하는 변수"
   ]
  },
  {
   "cell_type": "markdown",
   "id": "ff7f46e5",
   "metadata": {},
   "source": [
    "추측 통계 : 확률을 사용하여 모집단의 통계적 성질을 추측하는 기법\n",
    "\n",
    "[모집단 분포와 표본분포]\n",
    "- 모집단 : 어떤 통계적 실험의 대상이 되는 모든 대상물. ex) 대한민국 모든 남성의 키 데이터 2018 수능 점수 데이터\n",
    "- 모집단 분포 : 모집단은 데이터 집단이므로 어떠한 분포를 이루며 이 데이터가 이루는 확률 분포가 모집단 분포\n",
    "- 모수 : 모집단 특성을 나타내는 수치로 모평균, 모분산, 모표준편차, 모비율, 모상관관계 등\n",
    "- 표본 : 모집단의 모수(특성)을 알기 위하여 표본을 추출해서 모집단의 모수를 추정\n",
    "- 확률표본 : 모집단을 구성하는 무든 구성원이 표본으로 뽑힐 확률을 동일하게 하여 추출한 표본. Random이란 무작위라는 의미로 어떤 의도를 가지지 않는다는 것을 의미하며 모든 구성원이 뽑힐 확률이 동일하다는 개념\n",
    "- 통계량 : 확률표본의 특성을 설명하는 값으로 표본평균, 표본분산, 표본표준편차, 표본비율, 표본상관관계 등\n",
    "    모수는 모집단이 변하지 않기 때문에 그 값이 변하지 않으나 통계량은 표본을 어떻게 추출하느냐에 따라서 그 값이 다르게 나타난다.\n",
    "- 확률변수 : 무작위 실험을 했을 때 특정확률로 발생하는 각각의 결과를 수치값으로 표현한 변수. 동전의 앞과 뒤\n",
    "- 확률분포 : 확률변수 X의 모든 값과 그에 대응하는 확률값들의 분포\n",
    "- 통계량이 확률변수라는 의미 : 확률변수의 확률분포가 수학적으로 설명가능한 분포(예, 정규분포)를 따른다고 하면 특정 확률변수와 확률함수를 알고 있다면 특정 사건이 일어날 확률을 계산할 수 있으며 더 나아가 모수와 통계량의 관계를 알고 있다면 그것을 통해 모수에 대한 통계적인 추정을 할 수 있다. 즉 통계량의 확률 함수 또는 표본 분포를 안다고 가정하면 이를 이용해 모수를 추정할 수 있다.\n",
    "\n",
    "[표본 통계량 성질]\n",
    "- 샘플 사이즈가 크면 표본평균은 모평균에 가까워진다.\n",
    "- 샘플 사이즈가 커질수록 표본평균의 표준편차가 작아진다. 샘플사이즈를 크게 하면 흩어짐이 적은 신뢰할 수 있는 표본평균을 얻을 수 있다.\n",
    "- 표준오차는 이론상 표본평균의 표준편차 크기인데 샘플사이즈가 커지면 표준오차는 작아짐\n",
    "- 모분산은 0.64, 표본분산의 평균값은 0.575로 분산이 과소평가되어짐 -> 불편분산을 사용하여 편향을 제거 (ddof = 1)\n",
    "- 불편성 : 추정량의 기댓값이 진짜 모수가 되는 특성\n",
    "- 일치성 : 샘플사이즈가 커지면 추정량이 진짜 모수에 가까워지는 특성\n",
    "- 표본평균과 불편분산은 둘 다 불편성을 가지고 있다고 할 수 있다.\n",
    "- 샘플 사이즈를 크게 하면 표본평균은 모평균에 가까워지고 불편분산은 모분산에 가까워지므로 일치성을 가짐\n",
    "- 큰수의 법칙 : 표본의 크기가 커지면 표본평균이 모평균에 가까워지는 방법을 표현한 법칙\n",
    "- 중심극한정리 : 모집단분포가 무엇이든지간에 샘플 사이즈가 커지면 표본 평균들이 이루는 분포가 모집단의 평균 $\\mu$, 표준편차 $\\sigma/sqrt(n)$인 정규분포에 가까워진다는 정리"
   ]
  },
  {
   "cell_type": "code",
   "execution_count": 3,
   "id": "c87fe869",
   "metadata": {},
   "outputs": [
    {
     "data": {
      "text/plain": [
       "array([76, 55, 80, 80, 74, 61, 81, 76, 23, 80], dtype=int64)"
      ]
     },
     "execution_count": 3,
     "metadata": {},
     "output_type": "execute_result"
    }
   ],
   "source": [
    "# 모집단과 표본\n",
    "import numpy as np\n",
    "import pandas as pd\n",
    "import matplotlib.pyplot as plt\n",
    "\n",
    "df = pd.read_csv('./data/ch4_scores400.csv')\n",
    "df.shape\n",
    "scores = np.array(df['score'])\n",
    "scores[:10]"
   ]
  },
  {
   "cell_type": "code",
   "execution_count": 5,
   "id": "7ddb647c",
   "metadata": {},
   "outputs": [
    {
     "data": {
      "text/plain": [
       "array([1, 3, 1])"
      ]
     },
     "execution_count": 5,
     "metadata": {},
     "output_type": "execute_result"
    }
   ],
   "source": [
    "# 복원 추출\n",
    "np.random.choice([1,2,3],3)"
   ]
  },
  {
   "cell_type": "code",
   "execution_count": 7,
   "id": "4ee21f76",
   "metadata": {},
   "outputs": [
    {
     "data": {
      "text/plain": [
       "array([2, 3, 1])"
      ]
     },
     "execution_count": 7,
     "metadata": {},
     "output_type": "execute_result"
    }
   ],
   "source": [
    "# 비복원추출\n",
    "np.random.choice([1,2,3],3,replace = False)"
   ]
  },
  {
   "cell_type": "code",
   "execution_count": 8,
   "id": "25da8e05",
   "metadata": {},
   "outputs": [
    {
     "data": {
      "text/plain": [
       "70.4"
      ]
     },
     "execution_count": 8,
     "metadata": {},
     "output_type": "execute_result"
    }
   ],
   "source": [
    "np.random.seed(0)\n",
    "\n",
    "sample = np.random.choice(scores,20)\n",
    "sample.mean()"
   ]
  },
  {
   "cell_type": "code",
   "execution_count": 9,
   "id": "81840447",
   "metadata": {},
   "outputs": [
    {
     "data": {
      "text/plain": [
       "69.53"
      ]
     },
     "execution_count": 9,
     "metadata": {},
     "output_type": "execute_result"
    }
   ],
   "source": [
    "scores.mean()"
   ]
  },
  {
   "cell_type": "code",
   "execution_count": 11,
   "id": "7e9e00f9",
   "metadata": {},
   "outputs": [
    {
     "name": "stdout",
     "output_type": "stream",
     "text": [
      "[56 58 49 77 52 76 79 83 68 54 55 57 91 56 70 54 55 83 49 99]\n",
      "1번째 무작위 추출로 얻은 표본평균 : 66.05\n",
      "[57 99 83 91 82 79 77 69 76 72 81 76 52 85 93 71 73 92 89 58]\n",
      "2번째 무작위 추출로 얻은 표본평균 : 77.75\n",
      "[55 54 76 78 86 57 63 81 91 90 61 65 78 53 52 74 73 91 91 50]\n",
      "3번째 무작위 추출로 얻은 표본평균 : 70.95\n",
      "[ 81  75  83  71  99  67  52  92 100  76  81  62  63  79  91  68  75  50\n",
      "  87  67]\n",
      "4번째 무작위 추출로 얻은 표본평균 : 75.95\n",
      "[57 61 54 63 85 63 69 88 79 80 80 80 46 68 70 85 73 72 56 50]\n",
      "5번째 무작위 추출로 얻은 표본평균 : 68.95\n"
     ]
    }
   ],
   "source": [
    "for i in range(5):\n",
    "    sample = np.random.choice(scores,20,replace = False)\n",
    "    print(sample)\n",
    "    print(f'{i+1}번째 무작위 추출로 얻은 표본평균 : {sample.mean()}')"
   ]
  },
  {
   "cell_type": "code",
   "execution_count": 35,
   "id": "0c98736e",
   "metadata": {},
   "outputs": [
    {
     "data": {
      "text/plain": [
       "6"
      ]
     },
     "execution_count": 35,
     "metadata": {},
     "output_type": "execute_result"
    }
   ],
   "source": [
    "# 확률 분포(균형이 안 맞는 주사위를 가정)\n",
    "dice = [1,2,3,4,5,6]\n",
    "\n",
    "prob = [1/21,2/21,3/21,4/21,5/21,6/21]\n",
    "\n",
    "np.random.choice(dice,p=prob)"
   ]
  },
  {
   "cell_type": "code",
   "execution_count": 36,
   "id": "3303b9de",
   "metadata": {},
   "outputs": [
    {
     "data": {
      "text/plain": [
       "array([4, 6, 1, 4, 3, 2, 3, 4, 4, 5, 4, 5, 3, 6, 1, 5, 4, 5, 2, 3, 6, 6,\n",
       "       4, 5, 6, 6, 2, 1, 3, 6, 2, 4, 6, 5, 5, 4, 5, 6, 1, 6, 6, 6, 3, 6,\n",
       "       2, 4, 6, 4, 4, 2, 1, 5, 3, 3, 5, 2, 5, 3, 5, 5, 2, 4, 5, 4, 2, 5,\n",
       "       5, 5, 6, 5, 6, 2, 2, 6, 4, 3, 6, 4, 6, 6, 6, 5, 6, 4, 3, 6, 4, 6,\n",
       "       5, 5, 2, 6, 4, 5, 4, 3, 6, 5, 1, 5])"
      ]
     },
     "execution_count": 36,
     "metadata": {},
     "output_type": "execute_result"
    }
   ],
   "source": [
    "np.random.seed(1)\n",
    "num_trial = 100\n",
    "sample = np.random.choice(dice,num_trial,p=prob)\n",
    "sample"
   ]
  },
  {
   "cell_type": "code",
   "execution_count": 41,
   "id": "474b67c7",
   "metadata": {},
   "outputs": [
    {
     "name": "stdout",
     "output_type": "stream",
     "text": [
      "[ 6 12 12 20 24 26] \n",
      "\n"
     ]
    },
    {
     "data": {
      "text/html": [
       "<div>\n",
       "<style scoped>\n",
       "    .dataframe tbody tr th:only-of-type {\n",
       "        vertical-align: middle;\n",
       "    }\n",
       "\n",
       "    .dataframe tbody tr th {\n",
       "        vertical-align: top;\n",
       "    }\n",
       "\n",
       "    .dataframe thead th {\n",
       "        text-align: right;\n",
       "    }\n",
       "</style>\n",
       "<table border=\"1\" class=\"dataframe\">\n",
       "  <thead>\n",
       "    <tr style=\"text-align: right;\">\n",
       "      <th></th>\n",
       "      <th>frequency</th>\n",
       "      <th>relative frequency</th>\n",
       "    </tr>\n",
       "    <tr>\n",
       "      <th>dice</th>\n",
       "      <th></th>\n",
       "      <th></th>\n",
       "    </tr>\n",
       "  </thead>\n",
       "  <tbody>\n",
       "    <tr>\n",
       "      <th>1</th>\n",
       "      <td>6</td>\n",
       "      <td>0.06</td>\n",
       "    </tr>\n",
       "    <tr>\n",
       "      <th>2</th>\n",
       "      <td>12</td>\n",
       "      <td>0.12</td>\n",
       "    </tr>\n",
       "    <tr>\n",
       "      <th>3</th>\n",
       "      <td>12</td>\n",
       "      <td>0.12</td>\n",
       "    </tr>\n",
       "    <tr>\n",
       "      <th>4</th>\n",
       "      <td>20</td>\n",
       "      <td>0.20</td>\n",
       "    </tr>\n",
       "    <tr>\n",
       "      <th>5</th>\n",
       "      <td>24</td>\n",
       "      <td>0.24</td>\n",
       "    </tr>\n",
       "    <tr>\n",
       "      <th>6</th>\n",
       "      <td>26</td>\n",
       "      <td>0.26</td>\n",
       "    </tr>\n",
       "  </tbody>\n",
       "</table>\n",
       "</div>"
      ],
      "text/plain": [
       "      frequency  relative frequency\n",
       "dice                               \n",
       "1             6                0.06\n",
       "2            12                0.12\n",
       "3            12                0.12\n",
       "4            20                0.20\n",
       "5            24                0.24\n",
       "6            26                0.26"
      ]
     },
     "metadata": {},
     "output_type": "display_data"
    }
   ],
   "source": [
    "freq, _ = np.histogram(sample,bins = 6,range=(1,7))\n",
    "print(freq,'\\n')\n",
    "\n",
    "rdf = pd.DataFrame({'frequency':freq,'relative frequency':freq/num_trial},\n",
    "                  index = pd.Index(np.arange(1,7),name = 'dice'))\n",
    "display(rdf)"
   ]
  },
  {
   "cell_type": "code",
   "execution_count": 42,
   "id": "af8f48c5",
   "metadata": {},
   "outputs": [
    {
     "data": {
      "text/plain": [
       "array([1.5, 2.5, 3.5, 4.5, 5.5, 6.5])"
      ]
     },
     "execution_count": 42,
     "metadata": {},
     "output_type": "execute_result"
    }
   ],
   "source": [
    "np.linspace(1.5,6.5,6)"
   ]
  },
  {
   "cell_type": "code",
   "execution_count": 43,
   "id": "9d58a07c",
   "metadata": {},
   "outputs": [
    {
     "name": "stdout",
     "output_type": "stream",
     "text": [
      "['Solarize_Light2', '_classic_test_patch', '_mpl-gallery', '_mpl-gallery-nogrid', 'bmh', 'classic', 'dark_background', 'fast', 'fivethirtyeight', 'ggplot', 'grayscale', 'seaborn', 'seaborn-bright', 'seaborn-colorblind', 'seaborn-dark', 'seaborn-dark-palette', 'seaborn-darkgrid', 'seaborn-deep', 'seaborn-muted', 'seaborn-notebook', 'seaborn-paper', 'seaborn-pastel', 'seaborn-poster', 'seaborn-talk', 'seaborn-ticks', 'seaborn-white', 'seaborn-whitegrid', 'tableau-colorblind10']\n"
     ]
    }
   ],
   "source": [
    "import matplotlib.pyplot as plt\n",
    "print(plt.style.available)"
   ]
  },
  {
   "cell_type": "code",
   "execution_count": 46,
   "id": "927bc177",
   "metadata": {},
   "outputs": [
    {
     "data": {
      "text/plain": [
       "Text(0, 0.5, 'relative frequency')"
      ]
     },
     "execution_count": 46,
     "metadata": {},
     "output_type": "execute_result"
    },
    {
     "data": {
      "image/png": "[encoded data removed]",
      "text/plain": [
       "<Figure size 576x432 with 1 Axes>"
      ]
     },
     "metadata": {},
     "output_type": "display_data"
    }
   ],
   "source": [
    "plt.style.use('seaborn')\n",
    "fig = plt.figure(figsize = (8,6))\n",
    "ax = fig.add_subplot(111)\n",
    "ax.hist(sample,bins=6,range=(1,7),density=True,rwidth = 0.8)\n",
    "# 실제 확률분포를 가로선으로 표시\n",
    "ax.hlines(prob,np.arange(1,7), np.arange(2,8), colors='gray')\n",
    "# 막대그래프\n",
    "ax.set_xticks(np.linspace(1.5,6.5,6))\n",
    "ax.set_xticklabels(np.arange(1,7))\n",
    "ax.set_xlabel('dice')\n",
    "ax.set_ylabel('relative frequency')"
   ]
  },
  {
   "cell_type": "code",
   "execution_count": 47,
   "id": "1317885b",
   "metadata": {},
   "outputs": [
    {
     "data": {
      "text/plain": [
       "Text(0, 0.5, 'relative frequency')"
      ]
     },
     "execution_count": 47,
     "metadata": {},
     "output_type": "execute_result"
    },
    {
     "data": {
      "image/png": "[encoded data removed]",
      "text/plain": [
       "<Figure size 576x432 with 1 Axes>"
      ]
     },
     "metadata": {},
     "output_type": "display_data"
    }
   ],
   "source": [
    "np.random.seed(2)\n",
    "num_trial = 10000\n",
    "sample = np.random.choice(dice,num_trial,p=prob)\n",
    "fig = plt.figure(figsize = (8,6))\n",
    "ax = fig.add_subplot(111)\n",
    "ax.hist(sample,bins=6,range=(1,7),density=True,rwidth = 0.8)\n",
    "# 실제 확률분포를 가로선으로 표시\n",
    "ax.hlines(prob,np.arange(1,7), np.arange(2,8), colors='gray')\n",
    "# 막대그래프\n",
    "ax.set_xticks(np.linspace(1.5,6.5,6))\n",
    "ax.set_xticklabels(np.arange(1,7))\n",
    "ax.set_xlabel('dice')\n",
    "ax.set_ylabel('relative frequency')"
   ]
  },
  {
   "cell_type": "code",
   "execution_count": 50,
   "id": "6e0473e8",
   "metadata": {},
   "outputs": [],
   "source": [
    "# 추측 통계에서의 확률\n",
    "df = pd.read_csv('./data/ch4_scores400.csv')\n",
    "scores = np.array(df['score'])\n",
    "\n",
    "import seaborn as sns\n",
    "\n",
    "# seaborn 에는 5가지 기본 제공 테마가 있다. \n",
    "sns.set_style('darkgrid')"
   ]
  },
  {
   "cell_type": "code",
   "execution_count": 52,
   "id": "edd461f6",
   "metadata": {},
   "outputs": [
    {
     "data": {
      "image/png": "[encoded data removed]",
      "text/plain": [
       "<Figure size 576x396 with 1 Axes>"
      ]
     },
     "metadata": {},
     "output_type": "display_data"
    }
   ],
   "source": [
    "sns.histplot(scores,kde = True)\n",
    "plt.show()"
   ]
  },
  {
   "cell_type": "code",
   "execution_count": 57,
   "id": "dd1890a3",
   "metadata": {},
   "outputs": [
    {
     "data": {
      "text/plain": [
       "(20.0, 120.0, 0.0, 0.042)"
      ]
     },
     "execution_count": 57,
     "metadata": {},
     "output_type": "execute_result"
    },
    {
     "data": {
      "image/png": "[encoded data removed]",
      "text/plain": [
       "<Figure size 720x432 with 1 Axes>"
      ]
     },
     "metadata": {},
     "output_type": "display_data"
    }
   ],
   "source": [
    "plt.figure(figsize = (10,6))\n",
    "plt.hist(scores,bins=100,range=(0,100),density = True)\n",
    "plt.xlabel('score')\n",
    "plt.ylabel('relative frequency')\n",
    "plt.axis([20,120,0,0.042])"
   ]
  },
  {
   "cell_type": "code",
   "execution_count": 67,
   "id": "53433869",
   "metadata": {},
   "outputs": [
    {
     "data": {
      "text/plain": [
       "(20.0, 120.0, 0.0, 17.0)"
      ]
     },
     "execution_count": 67,
     "metadata": {},
     "output_type": "execute_result"
    },
    {
     "data": {
      "image/png": "[encoded data removed]",
      "text/plain": [
       "<Figure size 1152x576 with 2 Axes>"
      ]
     },
     "metadata": {},
     "output_type": "display_data"
    }
   ],
   "source": [
    "# y축을 빈도, 상대빈도로 표시하여 그래프를 비교하세요\n",
    "fig = plt.figure(figsize = (16,8))\n",
    "ax = fig.add_subplot(121)\n",
    "ax2 = fig.add_subplot(122)\n",
    "\n",
    "ax.hist(scores,bins=100,range=(0,100),density = True)\n",
    "ax.set_xlabel('score')\n",
    "ax.set_ylabel('relative frequency')\n",
    "ax.axis([20,120,0,0.042])\n",
    "\n",
    "ax2.hist(scores,bins=100,range=(0,100))\n",
    "ax2.set_xlabel('score')\n",
    "ax2.set_ylabel('frequency')\n",
    "ax2.axis([20,120,0,17])"
   ]
  }
 ],
 "metadata": {
  "kernelspec": {
   "display_name": "Python 3 (ipykernel)",
   "language": "python",
   "name": "python3"
  },
  "language_info": {
   "codemirror_mode": {
    "name": "ipython",
    "version": 3
   },
   "file_extension": ".py",
   "mimetype": "text/x-python",
   "name": "python",
   "nbconvert_exporter": "python",
   "pygments_lexer": "ipython3",
   "version": "3.8.12"
  }
 },
 "nbformat": 4,
 "nbformat_minor": 5
}
