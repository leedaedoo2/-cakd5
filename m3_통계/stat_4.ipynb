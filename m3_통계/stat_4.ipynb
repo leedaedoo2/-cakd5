{
 "cells": [
  {
   "cell_type": "markdown",
   "id": "1cbeb565",
   "metadata": {},
   "source": [
    "#### 독립 동일 분포\n",
    "- 확률변수가 서로 독립이라는 것은 확률변수가 다른 확률변수에 영향을 끼치지 않는다는 의미이다.\n",
    "- 통계분석에서 취급하는 데이터 중 상당수가 독립이면서 다차원인 확률변수의 실현값으로 간주될 수 있다.\n",
    "- 서로 독립이고 각각 동일한 확률분포를 따르는 다차원 확률변수를 독립동일분포라 한다.\n",
    "\n",
    "#### 독립성\n",
    "- 2개 이상의 확률변수가 서로 영향을 끼치지 않으며 관계가 없음을 나타내는 개념\n",
    "- 2차원 확률변수 (X,Y)의 경우 다음과 같은 관계가 성립할 때 X,Y는 독립이라고 함\n",
    "$f_{X,Y}(x,y) = f_X(x)f_Y(y)$\n",
    "- 확률변수가 독립일 때 결합확률은 주변확률의 곱으로 작성할 수 있다.\n",
    "- 일반화 : $f_{X_1,X_2,...,X_n}(x_1,x_2,...x_n) = f_{x_1}(x_1)f_{X_2}(x_2)...f_{X_n}(x_n)$\n",
    "\n",
    "※ 함수 f가 이산형이면 확률함수, 연속형이면 밀도함수를 나타냄"
   ]
  },
  {
   "cell_type": "markdown",
   "id": "78484692",
   "metadata": {},
   "source": [
    "#### 독립성과 무상관성\n",
    "- 공분산이나 상관계수가 0일 때 무상관이라 하고 두 확률 변수 사이에는 상관성, 즉 선형관계가 없음을 나타냄\n",
    "- 독립성도 무상관성도 두 확률변수가 서로 관계가 없다는 것을 나타내는 성질이다.\n",
    " - 무상관성보다 독립성이 더 강한 개념\n",
    " - 2개의 확률변수 X와 Y가 독립일 때 X와 Y는 무상관이 되지만 X와 Y가 무상관일 때 X와 Y가 반드시 독립인 것은 아님"
   ]
  },
  {
   "cell_type": "code",
   "execution_count": 6,
   "id": "a80fcd75",
   "metadata": {},
   "outputs": [],
   "source": [
    "import numpy as np\n",
    "import matplotlib.pyplot as plt\n",
    "from scipy import integrate\n",
    "from scipy import stats\n",
    "import scipy as sp\n",
    "import seaborn as sns\n",
    "import warnings\n",
    "warnings.filterwarnings('ignore')\n",
    "\n",
    "linestyles = ['-','--',':','-.']\n",
    "\n",
    "def f_X(x):\n",
    "    return np.sum([f_XY(x,y_k) for y_k in y_set])\n",
    "\n",
    "def f_Y(y):\n",
    "    return np.sum([f_XY(x_k,y) for x_k in x_set])\n",
    "\n",
    "def E(XY,g):\n",
    "    x_set,y_set, f_XY = XY\n",
    "    return np.sum([g(x_i,y_j) * f_XY(x_i,y_j) for x_i in x_set for y_j in y_set])\n",
    "\n",
    "def V(XY,g):\n",
    "    x_set,y_set, f_XY = XY\n",
    "    mean = E(XY,g)\n",
    "    return np.sum([(g(x_i,y_j)-mean)**2 * f_XY(x_i,y_j) for x_i in x_set for y_j in y_set])\n",
    "\n",
    "def Cov(XY):\n",
    "    x_set,y_set,f_XY = XY\n",
    "    mean_X = E(XY,lambda x,y:x)\n",
    "    mean_Y = E(XY,lambda x,y:y)\n",
    "    return np.sum([(x_i-mean_X) * (y_j - mean_Y) *f_XY(x_i,y_j) for x_i in x_set for y_j in y_set])"
   ]
  },
  {
   "cell_type": "code",
   "execution_count": 18,
   "id": "cf68a910",
   "metadata": {},
   "outputs": [
    {
     "data": {
      "text/plain": [
       "(0, 0)"
      ]
     },
     "execution_count": 18,
     "metadata": {},
     "output_type": "execute_result"
    }
   ],
   "source": [
    "# 2차원 확률변수 X와 Y는 독립\n",
    "# 공분산이 0이므로 무상관인 것을 알 수 있음\n",
    "x_set = np.arange(1,7)\n",
    "y_set = np.arange(1,7)\n",
    "\n",
    "def f_XY(x,y):\n",
    "    if x in x_set and y in y_set:\n",
    "        return x*y/441\n",
    "    else:\n",
    "        return 0\n",
    "    \n",
    "XY = [x_set,y_set,f_XY]\n",
    "f_X(0) * f_Y(0) , f_XY(0,0)"
   ]
  },
  {
   "cell_type": "code",
   "execution_count": 8,
   "id": "b3c256d5",
   "metadata": {},
   "outputs": [
    {
     "data": {
      "text/plain": [
       "-0.0"
      ]
     },
     "execution_count": 8,
     "metadata": {},
     "output_type": "execute_result"
    }
   ],
   "source": [
    "Cov(XY).round(4)"
   ]
  },
  {
   "cell_type": "code",
   "execution_count": 19,
   "id": "38c8cc8f",
   "metadata": {},
   "outputs": [
    {
     "name": "stdout",
     "output_type": "stream",
     "text": [
      "0.0\n"
     ]
    },
    {
     "data": {
      "text/plain": [
       "(0.1111111111111111, 0.3333333333333333)"
      ]
     },
     "execution_count": 19,
     "metadata": {},
     "output_type": "execute_result"
    }
   ],
   "source": [
    "# 무상관인 2개의 확률변수\n",
    "x_set = np.array([0,1])\n",
    "y_set = np.array([-1,0,1])\n",
    "\n",
    "def f_XY(x,y):\n",
    "    if (x,y) in [(0,0),(1,1),(1,-1)]:\n",
    "        return 1/3\n",
    "    else:\n",
    "        return 0\n",
    "    \n",
    "XY =[x_set,y_set,f_XY]\n",
    "# 공분산은 0이므로 확률변수 X,Y는 무상관\n",
    "print(Cov(XY).round(4))\n",
    "\n",
    "#독립성의 정의가 성립하는지 확인\n",
    "f_X(0) * f_Y(0) , f_XY(0,0)\n",
    "\n",
    "# 무상관이어도 독립성이 성립되지 않을 수 있음"
   ]
  },
  {
   "cell_type": "code",
   "execution_count": null,
   "id": "a5629840",
   "metadata": {},
   "outputs": [],
   "source": []
  }
 ],
 "metadata": {
  "kernelspec": {
   "display_name": "Python 3 (ipykernel)",
   "language": "python",
   "name": "python3"
  },
  "language_info": {
   "codemirror_mode": {
    "name": "ipython",
    "version": 3
   },
   "file_extension": ".py",
   "mimetype": "text/x-python",
   "name": "python",
   "nbconvert_exporter": "python",
   "pygments_lexer": "ipython3",
   "version": "3.8.12"
  }
 },
 "nbformat": 4,
 "nbformat_minor": 5
}
