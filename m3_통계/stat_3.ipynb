{
 "cells": [
  {
   "cell_type": "markdown",
   "id": "eca8d283",
   "metadata": {},
   "source": [
    "이산형 확률분포"
   ]
  },
  {
   "cell_type": "code",
   "execution_count": 7,
   "id": "f41240b2",
   "metadata": {},
   "outputs": [],
   "source": [
    "#1차원 이산분포\n",
    "import numpy as np\n",
    "import matplotlib.pyplot as plt\n",
    "\n",
    "x_set = np.array([1,2,3,4,5,6])\n",
    "\n",
    "def f(x):\n",
    "    if x in x_set:\n",
    "        return x/21\n",
    "    else:\n",
    "        return 0\n",
    "X = [x_set,f]"
   ]
  },
  {
   "cell_type": "code",
   "execution_count": 5,
   "id": "6317f195",
   "metadata": {},
   "outputs": [
    {
     "name": "stdout",
     "output_type": "stream",
     "text": [
      "[0.04761905 0.0952381  0.14285714 0.19047619 0.23809524 0.28571429] \n",
      "\n"
     ]
    },
    {
     "data": {
      "text/plain": [
       "{1: 0.047619047619047616,\n",
       " 2: 0.09523809523809523,\n",
       " 3: 0.14285714285714285,\n",
       " 4: 0.19047619047619047,\n",
       " 5: 0.23809523809523808,\n",
       " 6: 0.2857142857142857}"
      ]
     },
     "execution_count": 5,
     "metadata": {},
     "output_type": "execute_result"
    }
   ],
   "source": [
    "prob = np.array([f(x_k) for x_k in x_set])\n",
    "print(prob,'\\n')\n",
    "dict(zip(x_set,prob))"
   ]
  },
  {
   "cell_type": "code",
   "execution_count": 6,
   "id": "8398fe45",
   "metadata": {},
   "outputs": [
    {
     "data": {
      "text/plain": [
       "Text(0, 0.5, 'probability')"
      ]
     },
     "execution_count": 6,
     "metadata": {},
     "output_type": "execute_result"
    },
    {
     "data": {
      "image/png": "[encoded data removed]",
      "text/plain": [
       "<Figure size 720x720 with 1 Axes>"
      ]
     },
     "metadata": {
      "needs_background": "light"
     },
     "output_type": "display_data"
    }
   ],
   "source": [
    "plt.figure(figsize = (10,10))\n",
    "plt.bar(x_set,prob)\n",
    "plt.xlabel('variables')\n",
    "plt.ylabel('probability')"
   ]
  },
  {
   "cell_type": "code",
   "execution_count": null,
   "id": "9063d946",
   "metadata": {},
   "outputs": [],
   "source": [
    "np.all(prob>0)"
   ]
  },
  {
   "cell_type": "code",
   "execution_count": null,
   "id": "03916618",
   "metadata": {},
   "outputs": [],
   "source": [
    "np.sum(prob)"
   ]
  },
  {
   "cell_type": "code",
   "execution_count": null,
   "id": "4b703eb7",
   "metadata": {},
   "outputs": [],
   "source": [
    "# 누적 분포 함수\n",
    "def F(x):\n",
    "    return np.sum([f(x_k) for x_k in x_set if x_k <=x])"
   ]
  },
  {
   "cell_type": "code",
   "execution_count": null,
   "id": "70e20fe4",
   "metadata": {},
   "outputs": [],
   "source": [
    "F(6)"
   ]
  },
  {
   "cell_type": "code",
   "execution_count": null,
   "id": "d489f819",
   "metadata": {},
   "outputs": [],
   "source": [
    "# 확률 변수의 변환 : 확률변수 X 에 2를 곱하고 3은 더한 2X+3\n",
    "y_set = np.array([2*x_k + 3 for x_k in x_set])\n",
    "prob= np.array([f(x_k) for x_k in x_set])\n",
    "dict(zip(y_set,prob))"
   ]
  },
  {
   "cell_type": "code",
   "execution_count": null,
   "id": "443ab0da",
   "metadata": {},
   "outputs": [],
   "source": [
    "#1차원 이산형 확률변수 지표\n",
    "#평균 : 확률변수의 평균은 확률변수의 중심을 나타내는 지효가 되며 기대값이라고도 부른다\n",
    "np.sum([x_k *f(x_k) for x_k in x_set])\n"
   ]
  },
  {
   "cell_type": "code",
   "execution_count": null,
   "id": "e5234af4",
   "metadata": {},
   "outputs": [],
   "source": [
    "# 확률변수의 기댓값은 확률 변수를 무제한 시행하여 얻은 실현값의 평균\n",
    "sample= np.random.choice(x_set,int(1e6),p=prob)\n",
    "np.mean(sample)"
   ]
  },
  {
   "cell_type": "code",
   "execution_count": 2,
   "id": "0027351c",
   "metadata": {},
   "outputs": [],
   "source": [
    "# 일반화\n",
    "def E(X,g=lambda x: x):\n",
    "    x_set ,f = X\n",
    "    return np.sum([g(x_k) * f(x_k) for x_k in x_set])"
   ]
  },
  {
   "cell_type": "code",
   "execution_count": null,
   "id": "476f0562",
   "metadata": {},
   "outputs": [],
   "source": [
    "E(X)"
   ]
  },
  {
   "cell_type": "code",
   "execution_count": null,
   "id": "fb16bc94",
   "metadata": {},
   "outputs": [],
   "source": [
    "E(X,g=lambda x:2*x+3)"
   ]
  },
  {
   "cell_type": "code",
   "execution_count": null,
   "id": "6a73f222",
   "metadata": {},
   "outputs": [],
   "source": [
    "# 기댓값의 선형성\n",
    "2 * E(X) +3"
   ]
  },
  {
   "cell_type": "code",
   "execution_count": null,
   "id": "a622150f",
   "metadata": {},
   "outputs": [],
   "source": [
    "# 분산\n",
    "mean = E(X)\n",
    "np.sum([(x_k-mean)**2 * f(x_k) for x_k in x_set])"
   ]
  },
  {
   "cell_type": "code",
   "execution_count": null,
   "id": "9bb8378b",
   "metadata": {},
   "outputs": [],
   "source": [
    "# 일반화\n",
    "def V(X,g = lambda x:x):\n",
    "    x_set ,f = X\n",
    "    mean = E(X,g)\n",
    "    return np.sum([(g(x_k)-mean)**2 * f(x_k) for x_k in x_set])"
   ]
  },
  {
   "cell_type": "code",
   "execution_count": null,
   "id": "9861c6bd",
   "metadata": {},
   "outputs": [],
   "source": [
    "V(X)"
   ]
  },
  {
   "cell_type": "code",
   "execution_count": null,
   "id": "f5b0dbdb",
   "metadata": {},
   "outputs": [],
   "source": [
    "V(X,g=lambda x:2*x)"
   ]
  },
  {
   "cell_type": "code",
   "execution_count": null,
   "id": "a4052b75",
   "metadata": {},
   "outputs": [],
   "source": [
    "# 2차원 이산형 확률분포\n",
    "x_set = np.arange(2,13)\n",
    "y_set = np.arange(1,7)"
   ]
  },
  {
   "cell_type": "code",
   "execution_count": null,
   "id": "bac19cff",
   "metadata": {},
   "outputs": [],
   "source": [
    "#결합확률함수\n",
    "def f_XY(x,y):\n",
    "    if 1<=y<=6 and 1<=x-y<=6:\n",
    "        return y*(x-y)/441\n",
    "    else:\n",
    "        return 0"
   ]
  },
  {
   "cell_type": "code",
   "execution_count": null,
   "id": "cd6808a8",
   "metadata": {},
   "outputs": [],
   "source": [
    "XY = [x_set,y_set,f_XY]\n",
    "prob = np.array([[f_XY(x_i,y_j) for y_j in y_set] for x_i in x_set])"
   ]
  },
  {
   "cell_type": "code",
   "execution_count": null,
   "id": "57cd63d9",
   "metadata": {
    "scrolled": true
   },
   "outputs": [],
   "source": [
    "fig = plt.figure(figsize = (10,8))\n",
    "ax = fig.add_subplot(111)\n",
    "c = ax.pcolor(prob)\n",
    "ax.set_xticks(np.arange(prob.shape[1])+0.5,minor=False)\n",
    "ax.set_yticks(np.arange(prob.shape[0])+0.5,minor=False)\n",
    "ax.set_xticklabels(np.arange(1,7),minor = False)\n",
    "ax.set_yticklabels(np.arange(2,13),minor = False)\n",
    "# y축을 내림차순의 숫자가 되게하여 위아래를 역전시킴\n",
    "ax.invert_yaxis()\n",
    "# x축 눈금을 그래프 위쪽에 표시\n",
    "ax.xaxis.tick_top()\n",
    "fig.colorbar(c,ax=ax)"
   ]
  },
  {
   "cell_type": "code",
   "execution_count": null,
   "id": "731d1a06",
   "metadata": {},
   "outputs": [],
   "source": [
    "np.all(prob>=0)"
   ]
  },
  {
   "cell_type": "code",
   "execution_count": null,
   "id": "53271ec6",
   "metadata": {},
   "outputs": [],
   "source": [
    "np.sum(prob)"
   ]
  },
  {
   "cell_type": "code",
   "execution_count": null,
   "id": "37c2f1e3",
   "metadata": {},
   "outputs": [],
   "source": [
    "# 주변 확률 분포 (marginal probability distribution)\n",
    "# 확률변수 (X,Y)는 결합확률분포에 의해 동시에 정의되지만 개별 확률 변수에만 흥미가 있을 수 있다.\n",
    "# 확률변수 X만의 움직임, 즉 확률변수 X의 확률함수를 알고 싶은 상황"
   ]
  },
  {
   "cell_type": "code",
   "execution_count": null,
   "id": "03da2895",
   "metadata": {},
   "outputs": [],
   "source": [
    "def f_X(x):\n",
    "    return np.sum([f_XY(x,y_k) for y_k in y_set])"
   ]
  },
  {
   "cell_type": "code",
   "execution_count": null,
   "id": "73fcd12a",
   "metadata": {},
   "outputs": [],
   "source": [
    "def f_Y(y):\n",
    "    return np.sum([f_XY(x_k,y) for x_k in x_set])"
   ]
  },
  {
   "cell_type": "code",
   "execution_count": null,
   "id": "7cb5f763",
   "metadata": {},
   "outputs": [],
   "source": [
    "X = [x_set,f_X]\n",
    "Y = [y_set,f_Y]"
   ]
  },
  {
   "cell_type": "code",
   "execution_count": null,
   "id": "b0f0dfae",
   "metadata": {},
   "outputs": [],
   "source": [
    "X"
   ]
  },
  {
   "cell_type": "code",
   "execution_count": null,
   "id": "4cabd0f8",
   "metadata": {},
   "outputs": [],
   "source": [
    "Y"
   ]
  },
  {
   "cell_type": "code",
   "execution_count": null,
   "id": "2562e8a8",
   "metadata": {},
   "outputs": [],
   "source": [
    "prob_x = np.array([f_X(x_k) for x_k in x_set])\n",
    "prob_y = np.array([f_Y(y_k) for y_k in y_set])"
   ]
  },
  {
   "cell_type": "code",
   "execution_count": null,
   "id": "ec36b004",
   "metadata": {
    "scrolled": true
   },
   "outputs": [],
   "source": [
    "fig = plt.figure(figsize = (12,4))\n",
    "ax1 = fig.add_subplot(121)\n",
    "ax2 = fig.add_subplot(122)\n",
    "\n",
    "ax1.bar(x_set,prob_x)\n",
    "ax1.set_title('X_marginal probability distribution')\n",
    "ax1.set_xlabel('X_label')\n",
    "ax1.set_ylabel('probability')\n",
    "ax1.set_xticks(x_set)\n",
    "\n",
    "ax2.bar(y_set,prob_y)\n",
    "ax2.set_title('Y_marginal probability distribution')\n",
    "ax2.set_xlabel('Y_label')\n",
    "ax2.set_ylabel('probability')\n",
    "ax2.set_xticks(y_set)"
   ]
  },
  {
   "cell_type": "code",
   "execution_count": null,
   "id": "5f9a398b",
   "metadata": {},
   "outputs": [],
   "source": [
    "# 2차원 이산형 확률분포의 지표\n",
    "# 기댓값\n",
    "np.sum([x_i * f_XY(x_i,y_j) for x_i in x_set for y_j in y_set])"
   ]
  },
  {
   "cell_type": "code",
   "execution_count": null,
   "id": "b24b6336",
   "metadata": {},
   "outputs": [],
   "source": [
    "li =[]\n",
    "for y in y_set:\n",
    "    for x in x_set:\n",
    "        li.append(x*f_XY(x,y))\n",
    "np.sum(li)"
   ]
  },
  {
   "cell_type": "code",
   "execution_count": null,
   "id": "efbd83db",
   "metadata": {},
   "outputs": [],
   "source": [
    "def E(XY,g):\n",
    "    x_set,y_set, f_XY = XY\n",
    "    return np.sum([g(x_i,y_j) * f_XY(x_i,y_j) for x_i in x_set for y_j in y_set])"
   ]
  },
  {
   "cell_type": "code",
   "execution_count": null,
   "id": "c8dc35eb",
   "metadata": {},
   "outputs": [],
   "source": [
    "mean_X = E(XY,lambda x,y:x)\n",
    "mean_X"
   ]
  },
  {
   "cell_type": "code",
   "execution_count": null,
   "id": "c78194a0",
   "metadata": {},
   "outputs": [],
   "source": [
    "mean_Y = E(XY,lambda x,y:y)\n",
    "mean_Y"
   ]
  },
  {
   "cell_type": "code",
   "execution_count": null,
   "id": "79e1c36e",
   "metadata": {},
   "outputs": [],
   "source": [
    "# 기대값의 선형성\n",
    "E(XY,lambda x,y:2*x+3*y)"
   ]
  },
  {
   "cell_type": "code",
   "execution_count": null,
   "id": "a5697412",
   "metadata": {},
   "outputs": [],
   "source": [
    "# 분산: X의 분산이라면 X에 관한 편차 제곱의 기대값으로 구할 수 있다\n",
    "np.sum([(x_i-mean_X)**2 * f_XY(x_i,y_j) for x_i in x_set for y_j in y_set])"
   ]
  },
  {
   "cell_type": "code",
   "execution_count": null,
   "id": "444504cb",
   "metadata": {},
   "outputs": [],
   "source": [
    "np.sum([(y_j-mean_Y)**2 * f_XY(x_i,y_j) for x_i in x_set for y_j in y_set])"
   ]
  },
  {
   "cell_type": "code",
   "execution_count": null,
   "id": "ca93c112",
   "metadata": {},
   "outputs": [],
   "source": [
    "def V(XY,g):\n",
    "    x_set,y_set, f_XY = XY\n",
    "    mean = E(XY,g)\n",
    "    return np.sum([(g(x_i,y_j)-mean)**2 * f_XY(x_i,y_j) for x_i in x_set for y_j in y_set])"
   ]
  },
  {
   "cell_type": "code",
   "execution_count": null,
   "id": "605d733b",
   "metadata": {},
   "outputs": [],
   "source": [
    "V(XY,lambda x,y:3*y)"
   ]
  },
  {
   "cell_type": "code",
   "execution_count": null,
   "id": "cd2be666",
   "metadata": {},
   "outputs": [],
   "source": [
    "# 공분산\n",
    "def Cov(XY):\n",
    "    x_set,y_set,f_XY = XY\n",
    "    mean_X = E(XY,lambda x,y:x)\n",
    "    mean_Y = E(XY,lambda x,y:y)\n",
    "    return np.sum([(x_i-mean_X) * (y_j - mean_Y) *f_XY(x_i,y_j) for x_i in x_set for y_j in y_set])\n",
    "\n",
    "Cov(XY)"
   ]
  },
  {
   "cell_type": "code",
   "execution_count": null,
   "id": "e546dfff",
   "metadata": {},
   "outputs": [],
   "source": [
    "# 상관계수 : 공분산을 각각의 표준편차로 나누어 산출\n",
    "var_x = V(XY,lambda x,y:x)\n",
    "var_y = V(XY,lambda x,y:y)\n",
    "cov_xy = Cov(XY)\n",
    "cov_xy/np.sqrt(var_x*var_y)"
   ]
  },
  {
   "cell_type": "code",
   "execution_count": null,
   "id": "f4707f42",
   "metadata": {},
   "outputs": [],
   "source": [
    "# 분산과 공분산의 공식\n",
    "a = 2\n",
    "b = 3\n",
    "a**2*var_x+b**2*var_y +2*a*b*cov_xy"
   ]
  },
  {
   "cell_type": "markdown",
   "id": "7c6753ca",
   "metadata": {},
   "source": [
    "대표적인 이산형 확률분포"
   ]
  },
  {
   "cell_type": "code",
   "execution_count": 22,
   "id": "dc7b6883",
   "metadata": {
    "scrolled": true
   },
   "outputs": [
    {
     "name": "stdout",
     "output_type": "stream",
     "text": [
      "4.333333333333333\n",
      "2.2222222222222223\n"
     ]
    }
   ],
   "source": [
    "# 그래프를 위한 사용자 함수\n",
    "import numpy as np\n",
    "import matplotlib.pyplot as plt\n",
    "from scipy import stats\n",
    "\n",
    "linestyles = ['-','--',':']\n",
    "\n",
    "def E(X,g = lambda x:x):\n",
    "    x_set , f = X\n",
    "    return np.sum([g(x_k)*f(x_k) for x_k in x_set])\n",
    "\n",
    "def V(X,g = lambda x:x):\n",
    "    x_set , f = X\n",
    "    mean = E(X,g)\n",
    "    return np.sum([(g(x_k)-mean)**2*f(x_k) for x_k in x_set])\n",
    "\n",
    "print(E(X))\n",
    "print(V(X))\n",
    "\n",
    "def check_prob(X): # 확률분포를 인수로 가지며 ㄴ기댓값과 분산 계산 결과를 반환\n",
    "    x_set, f = X\n",
    "    prob = np.array([f(x_k) for x_k in x_set])\n",
    "    assert np.all(prob>=0), 'minus probability'\n",
    "    prob_sum = np.around(np.sum(prob),6)\n",
    "    assert prob_sum == 1, f'sum of probability {prob_sum}'\n",
    "    print(f'expected value {E(X):.4}')\n",
    "    print(f'variance {V(X):.4}')\n",
    "    \n",
    "def plot_prob(X): # 확률분포를 인수로 가지며 그 확률변수의 확률함수와 기대값을 그리기 위한 함수\n",
    "    x_set,f = X\n",
    "    prob = np.array([f(x_k) for x_k in x_set])\n",
    "    fig = plt.figure(figsize = (15,4))\n",
    "    ax = fig.add_subplot(111)\n",
    "    ax.bar(x_set,prob,label = 'prob')\n",
    "    ax.vlines(E(X),0,1,label = 'mean',color='crimson')\n",
    "    ax.set_xticks(np.append(x_set,E(X)))\n",
    "    ax.set_ylim(0,prob.max()*1.2)\n",
    "    ax.legend()"
   ]
  },
  {
   "cell_type": "markdown",
   "id": "2fc49d06",
   "metadata": {},
   "source": [
    "#### 베르누이 분포\n",
    "- 가장 기본적인 이산형 확률 분포로 확률변수가 취할 수 있는 값이 0과 1밖에 없는 분포이다.\n",
    "- 베르누이 분포를 따르는 확률변수의 시행을 베르누이 시행이라 하며 1이 나오면 성공, 0이 나오면 실패\n",
    "- 동전을 던져 앞면이 나올 확률, 주사위를 한번 굴려 6이 나오지 않을 확률"
   ]
  },
  {
   "cell_type": "code",
   "execution_count": 9,
   "id": "c29e5cc7",
   "metadata": {},
   "outputs": [],
   "source": [
    "def Bern(p):\n",
    "    x_set = np.array([0,1])\n",
    "    def f(x):\n",
    "        if x in x_set:\n",
    "            return p ** x * (1-p)**(1-x)\n",
    "        else:\n",
    "            return 0\n",
    "    return x_set, f"
   ]
  },
  {
   "cell_type": "code",
   "execution_count": 132,
   "id": "1ec423dd",
   "metadata": {},
   "outputs": [],
   "source": [
    "p = 0.3\n",
    "X = Bern(p)"
   ]
  },
  {
   "cell_type": "code",
   "execution_count": 133,
   "id": "08c8dcba",
   "metadata": {},
   "outputs": [
    {
     "name": "stdout",
     "output_type": "stream",
     "text": [
      "expected value 0.3\n",
      "variance 0.21\n"
     ]
    }
   ],
   "source": [
    "check_prob(X)"
   ]
  },
  {
   "cell_type": "code",
   "execution_count": 186,
   "id": "b1c69d29",
   "metadata": {
    "scrolled": true
   },
   "outputs": [
    {
     "data": {
      "image/png": "[encoded data removed]",
      "text/plain": [
       "<Figure size 1080x288 with 1 Axes>"
      ]
     },
     "metadata": {
      "needs_background": "light"
     },
     "output_type": "display_data"
    }
   ],
   "source": [
    "plot_prob(X)"
   ]
  },
  {
   "cell_type": "code",
   "execution_count": 135,
   "id": "f1800493",
   "metadata": {},
   "outputs": [],
   "source": [
    "rv = stats.bernoulli(p)"
   ]
  },
  {
   "cell_type": "code",
   "execution_count": 136,
   "id": "6557eeaf",
   "metadata": {},
   "outputs": [
    {
     "data": {
      "text/plain": [
       "(0.7, 0.3)"
      ]
     },
     "execution_count": 136,
     "metadata": {},
     "output_type": "execute_result"
    }
   ],
   "source": [
    "rv.pmf(0),rv.pmf(1)"
   ]
  },
  {
   "cell_type": "code",
   "execution_count": 137,
   "id": "4c9af200",
   "metadata": {},
   "outputs": [
    {
     "data": {
      "text/plain": [
       "array([0.7, 0.3])"
      ]
     },
     "execution_count": 137,
     "metadata": {},
     "output_type": "execute_result"
    }
   ],
   "source": [
    "rv.pmf([0,1])"
   ]
  },
  {
   "cell_type": "code",
   "execution_count": 138,
   "id": "a2ebf71f",
   "metadata": {},
   "outputs": [
    {
     "data": {
      "text/plain": [
       "array([0.7, 1. ])"
      ]
     },
     "execution_count": 138,
     "metadata": {},
     "output_type": "execute_result"
    }
   ],
   "source": [
    "rv.cdf([0,1])"
   ]
  },
  {
   "cell_type": "code",
   "execution_count": 139,
   "id": "014f0567",
   "metadata": {},
   "outputs": [
    {
     "data": {
      "text/plain": [
       "(0.3, 0.21)"
      ]
     },
     "execution_count": 139,
     "metadata": {},
     "output_type": "execute_result"
    }
   ],
   "source": [
    "rv.mean(), rv.var()"
   ]
  },
  {
   "cell_type": "markdown",
   "id": "5f437d99",
   "metadata": {},
   "source": [
    "#### 이항 분포\n",
    "- 성공 확률이 p 인 베르누이 시행을 n번 했을 때의 성공 횟수가 따르는 분포\n",
    "\n",
    "f(x) = $_{n}\\mathrm{C}_{x}p^x(1-p)^{n-x}$ $(x \\in \\{0,1,...,n\\}$)\n",
    "\n",
    "       0            (otherwise)"
   ]
  },
  {
   "cell_type": "code",
   "execution_count": 16,
   "id": "b28fb3a6",
   "metadata": {},
   "outputs": [],
   "source": [
    "from scipy.special import comb\n",
    "def Bin(n,p):\n",
    "    x_set = np.arange(0,n+1)\n",
    "    def f(x):\n",
    "        if x in x_set:\n",
    "            return comb(n,x)*(p**x)*((1-p)**(n-x))\n",
    "        else:\n",
    "            return 0\n",
    "        \n",
    "    return x_set, f"
   ]
  },
  {
   "cell_type": "code",
   "execution_count": 28,
   "id": "ab40b284",
   "metadata": {},
   "outputs": [
    {
     "data": {
      "text/plain": [
       "(0, 2.9999999999999982, 2.099999999999999)"
      ]
     },
     "execution_count": 28,
     "metadata": {},
     "output_type": "execute_result"
    }
   ],
   "source": [
    "# [과제] 동전을 10번 던져 앞면이 3번 나오는 확률의 이항분포의 기대값과 분산을 구하세요.\n",
    "x_set , f = Bin(10,0.3)\n",
    "f(0.3) , E(Bin(10,0.3)),V(Bin(10,0.3))"
   ]
  },
  {
   "cell_type": "code",
   "execution_count": 26,
   "id": "8266c47f",
   "metadata": {},
   "outputs": [
    {
     "name": "stdout",
     "output_type": "stream",
     "text": [
      "expected value 3.0\n",
      "variance 2.1\n"
     ]
    }
   ],
   "source": [
    "check_prob(Bin(10,0.3))"
   ]
  },
  {
   "cell_type": "code",
   "execution_count": 29,
   "id": "495a277d",
   "metadata": {},
   "outputs": [
    {
     "data": {
      "image/png": "[encoded data removed]",
      "text/plain": [
       "<Figure size 1080x288 with 1 Axes>"
      ]
     },
     "metadata": {
      "needs_background": "light"
     },
     "output_type": "display_data"
    }
   ],
   "source": [
    "#[과제] 상기 이항분포의 확률함수와 기댓값을 시각화 하세요.\n",
    "plot_prob(Bin(10,0.3))"
   ]
  },
  {
   "cell_type": "code",
   "execution_count": 23,
   "id": "81a0a107",
   "metadata": {},
   "outputs": [
    {
     "data": {
      "image/png": "[encoded data removed]",
      "text/plain": [
       "<Figure size 720x432 with 1 Axes>"
      ]
     },
     "metadata": {
      "needs_background": "light"
     },
     "output_type": "display_data"
    }
   ],
   "source": [
    "# 확률이 0.3, 0.5, 0.7로 변할 때 확률함수가 변화는 모습을 시각화 하세요\n",
    "fig = plt.figure(figsize = (10,6))\n",
    "ax = fig.add_subplot(111)\n",
    "\n",
    "x_set=np.arange(11)\n",
    "for p, ls in zip([0.3, 0.5, 0.7] , linestyles):\n",
    "    rv = stats.binom(10,p)\n",
    "    ax.plot(x_set, rv.pmf(x_set),label = f'p:{p}' ,ls = ls , color = 'gray')\n",
    "ax.set_xticks(x_set)\n",
    "ax.legend()\n",
    "plt.show()"
   ]
  },
  {
   "cell_type": "code",
   "execution_count": 189,
   "id": "790c44a1",
   "metadata": {
    "scrolled": true
   },
   "outputs": [
    {
     "data": {
      "image/png": "[encoded data removed]",
      "text/plain": [
       "<Figure size 1080x288 with 1 Axes>"
      ]
     },
     "metadata": {
      "needs_background": "light"
     },
     "output_type": "display_data"
    }
   ],
   "source": [
    "plot_prob(Bin(10,0.7))"
   ]
  },
  {
   "cell_type": "markdown",
   "id": "654aa115",
   "metadata": {},
   "source": [
    "#### 기하분포\n",
    "- 베르누이 시행에서 처음 성공할때까지 반복한 시행 횟수가 따르는 분포\n",
    "- 기하 분포의 파라미터는 베르누이 시행의 성공 확률 파라미터 p가 되며 파라미터 p의 기하분포를 Ge(p)로 표기\n",
    "\n",
    "f(x) = $(1-p)^{x-1}p$ $(x \\in \\{1,2,3\\})$\n",
    "\n",
    "       0        (otherwise)\n",
    "       \n",
    "- 기하분포의 기댓값과 분산 : E(X) = 1/p, V(X) = (1-p)/$p^2$"
   ]
  },
  {
   "cell_type": "code",
   "execution_count": 41,
   "id": "8e4fabd4",
   "metadata": {},
   "outputs": [],
   "source": [
    "#변수는 1~29로 한정\n",
    "def Ge(p):\n",
    "    x_set = np.arange(1,30)\n",
    "    def f(x):\n",
    "        if x in x_set:\n",
    "            return (1-p)**(x-1) *p\n",
    "        else:\n",
    "            return 0\n",
    "        \n",
    "    return x_set, f"
   ]
  },
  {
   "cell_type": "code",
   "execution_count": 42,
   "id": "0c2ea15b",
   "metadata": {},
   "outputs": [
    {
     "name": "stdout",
     "output_type": "stream",
     "text": [
      "expected value 2.0\n",
      "variance 2.0\n"
     ]
    }
   ],
   "source": [
    "# [과제] 성공확률이 0.5일때 기하분포의 기댓값과 분산을 구하세요.\n",
    "check_prob(Ge(0.5))"
   ]
  },
  {
   "cell_type": "code",
   "execution_count": 43,
   "id": "cdf1a701",
   "metadata": {
    "scrolled": true
   },
   "outputs": [
    {
     "data": {
      "image/png": "[encoded data removed]",
      "text/plain": [
       "<Figure size 1080x288 with 1 Axes>"
      ]
     },
     "metadata": {
      "needs_background": "light"
     },
     "output_type": "display_data"
    }
   ],
   "source": [
    "# [과제] 상기 기하분포의 확률함수와 기댓값을 시각화 하세요.\n",
    "plot_prob(Ge(0.5))"
   ]
  },
  {
   "cell_type": "code",
   "execution_count": 191,
   "id": "617c078b",
   "metadata": {},
   "outputs": [
    {
     "data": {
      "image/png": "[encoded data removed]",
      "text/plain": [
       "<Figure size 1080x288 with 1 Axes>"
      ]
     },
     "metadata": {
      "needs_background": "light"
     },
     "output_type": "display_data"
    }
   ],
   "source": [
    "# [과제] 성공확률이 0.2, 0.5, 0.8로 변할 때 확률함수가 변화는 모습을 시각화 하세요\n",
    "plot_prob(Ge(0.2))"
   ]
  },
  {
   "cell_type": "code",
   "execution_count": 192,
   "id": "77958be4",
   "metadata": {},
   "outputs": [
    {
     "data": {
      "image/png": "[encoded data removed]",
      "text/plain": [
       "<Figure size 1080x288 with 1 Axes>"
      ]
     },
     "metadata": {
      "needs_background": "light"
     },
     "output_type": "display_data"
    }
   ],
   "source": [
    "plot_prob(Ge(0.8))"
   ]
  },
  {
   "cell_type": "markdown",
   "id": "800103fe",
   "metadata": {},
   "source": [
    "#### 포아송 분포\n",
    "- 임의의 사건이 단위 시간당 발생하는 건 수가 따르는 확률분포이며 포아송 분포의 파라미터는 $\\lambda$로 나타낸다.\n",
    "- 하루에 평균 2건의 교통사고가 발생하는 지역에서 하루 교통사고 발생 건수는 Poi(2)를 따른다.\n",
    "\n",
    "예 ) 하루에 교통사고가 한건도 일어나지 않을 확률\n",
    "\n",
    "P(X=0) = 2!/0! *$e^{-2}$ = 0.135\n",
    "\n",
    "- 포아송 분포의 기대값과 분산은 모두 $\\lambda$가 된다.\n",
    "\n",
    "f(x) = $\\lambda^x/x!*e^{-\\lambda}$ $(x \\in \\{0,1,2,...\\})$\n",
    "  \n",
    "      0               (otherwise)"
   ]
  },
  {
   "cell_type": "code",
   "execution_count": 64,
   "id": "114ec061",
   "metadata": {},
   "outputs": [],
   "source": [
    "# 확률 변수를 1 이상 19 이하로 설정한 사용자 함수\n",
    "from scipy.special import factorial\n",
    "def Poi(lam):\n",
    "    x_set = np.arange(20)\n",
    "    def f(x):\n",
    "        if x in x_set:\n",
    "            return (lam**x)/factorial(x) * np.exp(-1*lam)\n",
    "        else:\n",
    "            return 0\n",
    "        \n",
    "    return x_set, f"
   ]
  },
  {
   "cell_type": "code",
   "execution_count": 65,
   "id": "dd1e52bd",
   "metadata": {},
   "outputs": [
    {
     "name": "stdout",
     "output_type": "stream",
     "text": [
      "expected value 3.0\n",
      "variance 3.0\n"
     ]
    }
   ],
   "source": [
    "# lambda가 0.3일때 포아송 분포의 기댓값과 분산을 구하시오\n",
    "check_prob(Poi(3))"
   ]
  },
  {
   "cell_type": "code",
   "execution_count": 66,
   "id": "ac551351",
   "metadata": {},
   "outputs": [
    {
     "data": {
      "image/png": "[encoded data removed]",
      "text/plain": [
       "<Figure size 1080x288 with 1 Axes>"
      ]
     },
     "metadata": {
      "needs_background": "light"
     },
     "output_type": "display_data"
    }
   ],
   "source": [
    "# 확률함수와 기대값 시각화\n",
    "plot_prob(Poi(3))"
   ]
  },
  {
   "cell_type": "code",
   "execution_count": 67,
   "id": "88fb7189",
   "metadata": {},
   "outputs": [
    {
     "data": {
      "image/png": "[encoded data removed]",
      "text/plain": [
       "<Figure size 1080x288 with 1 Axes>"
      ]
     },
     "metadata": {
      "needs_background": "light"
     },
     "output_type": "display_data"
    }
   ],
   "source": [
    "# lambda가 0.2 0.5 0.8로 변할 때 확률함수가 변화하는 모습을 시각화\n",
    "plot_prob(Poi(2))"
   ]
  },
  {
   "cell_type": "code",
   "execution_count": 68,
   "id": "c4801631",
   "metadata": {},
   "outputs": [
    {
     "data": {
      "image/png": "[encoded data removed]",
      "text/plain": [
       "<Figure size 1080x288 with 1 Axes>"
      ]
     },
     "metadata": {
      "needs_background": "light"
     },
     "output_type": "display_data"
    }
   ],
   "source": [
    "plot_prob(Poi(5))"
   ]
  },
  {
   "cell_type": "code",
   "execution_count": 69,
   "id": "1befaa33",
   "metadata": {},
   "outputs": [
    {
     "data": {
      "image/png": "[encoded data removed]",
      "text/plain": [
       "<Figure size 1080x288 with 1 Axes>"
      ]
     },
     "metadata": {
      "needs_background": "light"
     },
     "output_type": "display_data"
    }
   ],
   "source": [
    "plot_prob(Poi(8))"
   ]
  },
  {
   "cell_type": "code",
   "execution_count": null,
   "id": "61d741b7",
   "metadata": {},
   "outputs": [],
   "source": [
    "# 베르누이, 이항, 기하, 포아송 분포의 사례를 각각 2개씩 제시 및 설명"
   ]
  },
  {
   "cell_type": "code",
   "execution_count": 197,
   "id": "226f090d",
   "metadata": {
    "scrolled": true
   },
   "outputs": [
    {
     "data": {
      "image/png": "[encoded data removed]",
      "text/plain": [
       "<Figure size 1080x288 with 1 Axes>"
      ]
     },
     "metadata": {
      "needs_background": "light"
     },
     "output_type": "display_data"
    }
   ],
   "source": [
    "# 베르누이 1 : 가위바위보에서 가위를 낼 확률\n",
    "def Bern1(p):\n",
    "    x_set = np.array([0,1])\n",
    "    def f(x):\n",
    "        if x in x_set:\n",
    "            return p ** x * (1-p)**(1-x)\n",
    "        else:\n",
    "            return 0\n",
    "    return x_set, f\n",
    "\n",
    "plot_prob(Bern1(1/3))"
   ]
  },
  {
   "cell_type": "code",
   "execution_count": 198,
   "id": "fd02aa0a",
   "metadata": {},
   "outputs": [
    {
     "data": {
      "image/png": "[encoded data removed]",
      "text/plain": [
       "<Figure size 1080x288 with 1 Axes>"
      ]
     },
     "metadata": {
      "needs_background": "light"
     },
     "output_type": "display_data"
    }
   ],
   "source": [
    "# 베르누이 2 : 트럼프 카드 뭉치에서 스페이드 카드를 뽑을 확률 / 트럼프 카드에 4개의 문양 * 13장의 카드 + 조커 두장\n",
    "def Bern2(p):\n",
    "    x_set = np.array([0,1])\n",
    "    def f(x):\n",
    "        if x in x_set:\n",
    "            return p ** x * (1-p)**(1-x)\n",
    "        else:\n",
    "            return 0\n",
    "    return x_set, f\n",
    "\n",
    "plot_prob(Bern2(13/54))"
   ]
  },
  {
   "cell_type": "code",
   "execution_count": 30,
   "id": "693286a6",
   "metadata": {},
   "outputs": [
    {
     "data": {
      "image/png": "[encoded data removed]",
      "text/plain": [
       "<Figure size 1080x288 with 1 Axes>"
      ]
     },
     "metadata": {
      "needs_background": "light"
     },
     "output_type": "display_data"
    }
   ],
   "source": [
    "# 이항 분포 1 : 무지개색의 공들이 담긴 상자에서 10번을 뽑아 빨간색이 나올 확률의 분포\n",
    "from scipy.special import comb\n",
    "def Bin1(n,p):\n",
    "    x_set = np.arange(0,n+1)\n",
    "    def f(x):\n",
    "        if x in x_set:\n",
    "            return comb(n,x)*(p**x)*((1-p)**(n-x))\n",
    "        else:\n",
    "            return 0\n",
    "        \n",
    "    return x_set, f\n",
    "plot_prob(Bin1(10,1/5))"
   ]
  },
  {
   "cell_type": "code",
   "execution_count": 35,
   "id": "37e0f4c6",
   "metadata": {},
   "outputs": [
    {
     "data": {
      "image/png": "[encoded data removed]",
      "text/plain": [
       "<Figure size 1080x288 with 1 Axes>"
      ]
     },
     "metadata": {
      "needs_background": "light"
     },
     "output_type": "display_data"
    }
   ],
   "source": [
    "# 이항 분포2 : 주사위를 15번 굴려 1의 눈이 나올 확률의 분포\n",
    "from scipy.special import comb\n",
    "def Bin2(n,p):\n",
    "    x_set = np.arange(0,n+1)\n",
    "    def f(x):\n",
    "        if x in x_set:\n",
    "            return comb(n,x)*(p**x)*((1-p)**(n-x))\n",
    "        else:\n",
    "            return 0\n",
    "        \n",
    "    return x_set, f\n",
    "\n",
    "plot_prob(Bin2(5,3/5))"
   ]
  },
  {
   "cell_type": "code",
   "execution_count": 202,
   "id": "8d8f14bd",
   "metadata": {},
   "outputs": [
    {
     "data": {
      "image/png": "[encoded data removed]",
      "text/plain": [
       "<Figure size 1080x288 with 1 Axes>"
      ]
     },
     "metadata": {
      "needs_background": "light"
     },
     "output_type": "display_data"
    }
   ],
   "source": [
    "# 기하 분포 1: 홀짝을 맞출 확률 (최대 15번까지)\n",
    "def Ge1(p):\n",
    "    x_set = np.arange(1,15)\n",
    "    def f(x):\n",
    "        if x in x_set:\n",
    "            return (1-p)**(x-1) *p\n",
    "        else:\n",
    "            return 0\n",
    "        \n",
    "    return x_set, f\n",
    "plot_prob(Ge1(0.5))"
   ]
  },
  {
   "cell_type": "code",
   "execution_count": 55,
   "id": "4e2763fa",
   "metadata": {},
   "outputs": [
    {
     "name": "stdout",
     "output_type": "stream",
     "text": [
      "expected value 2.0\n",
      "variance 2.0\n"
     ]
    },
    {
     "data": {
      "image/png": "[encoded data removed]",
      "text/plain": [
       "<Figure size 1080x288 with 1 Axes>"
      ]
     },
     "metadata": {
      "needs_background": "light"
     },
     "output_type": "display_data"
    }
   ],
   "source": [
    "# 기하 분포 2: 양궁 과녁에 10점을 맞출 확률 ( 준비된 화살은 12발)\n",
    "def Ge2(p):\n",
    "    x_set = np.arange(1,22)\n",
    "    def f(x):\n",
    "        if x in x_set:\n",
    "            return ((1-p)**(x-1)) *p\n",
    "        else:\n",
    "            return 0\n",
    "        \n",
    "    return x_set, f\n",
    "plot_prob(Ge2(0.5))\n",
    "check_prob(Ge2(0.5))"
   ]
  },
  {
   "cell_type": "code",
   "execution_count": 206,
   "id": "4e53a1e2",
   "metadata": {},
   "outputs": [
    {
     "data": {
      "image/png": "[encoded data removed]",
      "text/plain": [
       "<Figure size 1080x288 with 1 Axes>"
      ]
     },
     "metadata": {
      "needs_background": "light"
     },
     "output_type": "display_data"
    }
   ],
   "source": [
    "# 포아송 분포 1: 저녁 시간대에 평균 5건의 주문을 받는 식당의 주문 건수에 대한 확률의 분포 (최대 25건까지)\n",
    "from scipy.special import factorial\n",
    "def Poi1(lam):\n",
    "    x_set = np.arange(26)\n",
    "    def f(x):\n",
    "        if x in x_set:\n",
    "            return lam**x/factorial(x) * np.exp(-1*lam)\n",
    "        else:\n",
    "            return 0\n",
    "        \n",
    "    return x_set, f\n",
    "plot_prob(Poi1(5))"
   ]
  },
  {
   "cell_type": "code",
   "execution_count": 10,
   "id": "765e9890",
   "metadata": {
    "scrolled": true
   },
   "outputs": [
    {
     "data": {
      "image/png": "[encoded data removed]",
      "text/plain": [
       "<Figure size 1080x288 with 1 Axes>"
      ]
     },
     "metadata": {
      "needs_background": "light"
     },
     "output_type": "display_data"
    }
   ],
   "source": [
    "# 포아송 분포 2 : 하루 평균 10명이 방문하는 동물병원의 방문객 수에 대한 확률의 분포 (최대 20건까지)\n",
    "from scipy.special import factorial\n",
    "def Poi2(lam):\n",
    "    x_set = np.arange(26)\n",
    "    def f(x):\n",
    "        if x in x_set:\n",
    "            return np.power(lam,x)/factorial(x) * np.exp(-1*lam)\n",
    "        else:\n",
    "            return 0\n",
    "        \n",
    "    return x_set, f\n",
    "plot_prob(Poi2(10))"
   ]
  },
  {
   "cell_type": "markdown",
   "id": "48ceca9f",
   "metadata": {},
   "source": [
    "연속형 확률변수\n",
    "- 이산형 확률변수와 연속형 확률변수의 주된 차이는 확률변수가 취할 수 있는 값이 이산적인가 연속적인가이다.\n",
    "- 연속형 확률변수의 경우 계산과정에 적분이 포함된다. 적분은 SciPy의 integrate 모듈을 사용하여 구현한다.\n",
    "\n",
    "연속형 확률 분포와 확률밀도함수\n",
    "- 특정값이 될 확률은 0, 특정 값이 범위에 들어갈 확률은 확률밀도함수를 적분하여 계산(적분은 곡선 아래 면적의 넓이)\n",
    "- 정규분포는 연속확률분포로 가장 자주 쓰이는 확률분포. 모양은 평균을 중심으로 하나의 봉우리 형태를 띄며 한 집단의 많은 사람들의 키, 몸무게, 시험성적 등의 데이터에 잘 나타나는 분포\n",
    " - 누적분포함수 : 확률분포에서 얻은 확률변수 3 이하가 되는 확률. Cumulative density function\n",
    "   * stats.norm.cdf(loc=4, scale = 0.8, x=3)\n",
    " - 정규분포의 확률밀도 계산\n",
    "   * 확률 변수 3일때의 확률밀도 N(3|4, 0.8**2)\n",
    "   * stats.norm.pdf(loc=4,scale=0.8,x=3) Probability density function\n",
    " - 하측확률 : '확률변수 x가 N보다 낮을 확률은 M퍼센트이다'에서 N을 고정하고 M을 구하는 경우\n",
    "   * 이 때의 M이 하측확률이며 M(확률)을 고정하고 N(변수)을 구하는 경우 이 때의 N이 퍼센트포인트 하측확률이 2.5%가 되는 퍼센트 포인트\n",
    " - stats.norm.pdf(x=x)로 하여 loc와 scale을 지정하지 않을 경우 표준 정규분포가 됨. probability density function\n",
    " - stats.norm.rvs() 함수는 정규확률분포로부터 난수 생성"
   ]
  },
  {
   "cell_type": "code",
   "execution_count": 86,
   "id": "2000322a",
   "metadata": {},
   "outputs": [],
   "source": [
    "import numpy as np\n",
    "import matplotlib.pyplot as plt\n",
    "from scipy import integrate\n",
    "from scipy import stats\n",
    "import scipy as sp\n",
    "import seaborn as sns\n",
    "import warnings\n",
    "warnings.filterwarnings('ignore')"
   ]
  },
  {
   "cell_type": "code",
   "execution_count": 72,
   "id": "acab1083",
   "metadata": {},
   "outputs": [],
   "source": [
    "x_range = np.array([0,1])\n",
    "def f(x):\n",
    "    if x_range[0] <= x <= x_range[1]:\n",
    "        return 2*x\n",
    "    else:\n",
    "        return 0\n",
    "    \n",
    "X = [x_range,f]"
   ]
  },
  {
   "cell_type": "code",
   "execution_count": 75,
   "id": "28881bfc",
   "metadata": {},
   "outputs": [
    {
     "data": {
      "text/plain": [
       "<matplotlib.legend.Legend at 0x2334ba51220>"
      ]
     },
     "execution_count": 75,
     "metadata": {},
     "output_type": "execute_result"
    },
    {
     "data": {
      "image/png": "[encoded data removed]",
      "text/plain": [
       "<Figure size 720x432 with 1 Axes>"
      ]
     },
     "metadata": {
      "needs_background": "light"
     },
     "output_type": "display_data"
    }
   ],
   "source": [
    "xs = np.linspace(x_range[0],x_range[1],100)\n",
    "fig = plt.figure(figsize = (10,6))\n",
    "ax = fig.add_subplot(111)\n",
    "\n",
    "ax.plot(xs, [f(x) for x in xs], label = 'f(x)', color = 'gray')\n",
    "ax.hlines(0,-0.2,1.2,alpha = 0.3)\n",
    "ax.vlines(0,-0.2,2.2,alpha = 0.3)\n",
    "ax.vlines(xs.max(),0,2.2,linestyles = ':',color = 'gray')\n",
    "# 0.4 ~0.6 x좌표를 setting\n",
    "xs = np.linspace(0.4,0.6,100)\n",
    "ax.fill_between(xs,[f(x) for x in xs],label = 'prob')\n",
    "\n",
    "ax.set_xticks(np.arange(-0.2,1.3,0.2))\n",
    "ax.set_xlim(-0.1,1.1)\n",
    "ax.set_ylim(-0.2,2.1)\n",
    "ax.legend()"
   ]
  },
  {
   "cell_type": "code",
   "execution_count": 78,
   "id": "ad581076",
   "metadata": {},
   "outputs": [
    {
     "data": {
      "text/plain": [
       "(0.19999999999999996, 2.2204460492503127e-15)"
      ]
     },
     "execution_count": 78,
     "metadata": {},
     "output_type": "execute_result"
    }
   ],
   "source": [
    "# quad 함수는 적분값과 추정오차를 반환\n",
    "# 피적분함수, 적분 범위\n",
    "integrate.quad(f,0.4,0.6) \n",
    "#(확률 , 오차)"
   ]
  },
  {
   "cell_type": "markdown",
   "id": "8947cf2e",
   "metadata": {},
   "source": [
    "연속형 확률 변수에서는 확률의 성질이 수식을 만족해야 함\n",
    "- f(x)가 항상 0 이상의 값을 취함\n",
    "- f(x)에 대하여 무한대 범위의 적분 결과는 1"
   ]
  },
  {
   "cell_type": "code",
   "execution_count": 79,
   "id": "81e26da9",
   "metadata": {},
   "outputs": [
    {
     "data": {
      "text/plain": [
       "0"
      ]
     },
     "execution_count": 79,
     "metadata": {},
     "output_type": "execute_result"
    }
   ],
   "source": [
    "from scipy.optimize import minimize_scalar\n",
    "res = minimize_scalar(f)\n",
    "res.fun # 함수의 최솟값은 fun이라는 인스턴스 변수로 구함"
   ]
  },
  {
   "cell_type": "code",
   "execution_count": 81,
   "id": "86a2c169",
   "metadata": {},
   "outputs": [
    {
     "data": {
      "text/plain": [
       "1.0"
      ]
     },
     "execution_count": 81,
     "metadata": {},
     "output_type": "execute_result"
    }
   ],
   "source": [
    "integrate.quad(f, -np.inf,np.inf)[0]"
   ]
  },
  {
   "cell_type": "code",
   "execution_count": 83,
   "id": "8aebfcbc",
   "metadata": {},
   "outputs": [
    {
     "data": {
      "text/plain": [
       "3.141592653589793"
      ]
     },
     "execution_count": 83,
     "metadata": {},
     "output_type": "execute_result"
    }
   ],
   "source": [
    "np.pi"
   ]
  },
  {
   "cell_type": "code",
   "execution_count": 84,
   "id": "3ae18962",
   "metadata": {},
   "outputs": [
    {
     "data": {
      "text/plain": [
       "0.22831135673627742"
      ]
     },
     "execution_count": 84,
     "metadata": {},
     "output_type": "execute_result"
    }
   ],
   "source": [
    "# 정규분포의 확률밀도 계산\n",
    "# 확률변수 3일때의 확률밀도 N(3|4.0,0.8**2)\n",
    "\n",
    "x = 3\n",
    "mu = 4\n",
    "sigma = 0.8\n",
    "1/(np.sqrt(2*np.pi)*sigma) * np.exp(-1*((x-mu)**2)/(2*sigma**2))"
   ]
  },
  {
   "cell_type": "code",
   "execution_count": 107,
   "id": "ab0998fe",
   "metadata": {
    "scrolled": true
   },
   "outputs": [
    {
     "data": {
      "text/plain": [
       "[<matplotlib.lines.Line2D at 0x2334eff0e50>]"
      ]
     },
     "execution_count": 107,
     "metadata": {},
     "output_type": "execute_result"
    },
    {
     "data": {
      "image/png": "[encoded data removed]",
      "text/plain": [
       "<Figure size 576x432 with 1 Axes>"
      ]
     },
     "metadata": {
      "needs_background": "light"
     },
     "output_type": "display_data"
    }
   ],
   "source": [
    "from matplotlib import rc\n",
    "rc('font', family = 'Malgun Gothic')\n",
    "plt.rcParams['axes.unicode_minus'] = False\n",
    "rv = stats.norm(loc=4,scale = 0.8)\n",
    "xx = np.linspace(0,8,100)\n",
    "pdf = rv.pdf(xx)\n",
    "plt.figure(figsize = (8,6))\n",
    "plt.plot(xx,pdf)"
   ]
  },
  {
   "cell_type": "code",
   "execution_count": 110,
   "id": "5c390260",
   "metadata": {
    "scrolled": true
   },
   "outputs": [
    {
     "data": {
      "text/plain": [
       "[<matplotlib.lines.Line2D at 0x2334f0c7fa0>]"
      ]
     },
     "execution_count": 110,
     "metadata": {},
     "output_type": "execute_result"
    },
    {
     "data": {
      "image/png": "[encoded data removed]",
      "text/plain": [
       "<Figure size 576x432 with 1 Axes>"
      ]
     },
     "metadata": {
      "needs_background": "light"
     },
     "output_type": "display_data"
    }
   ],
   "source": [
    "xx = np.linspace(0,8,100)\n",
    "cdf = rv.cdf(xx)\n",
    "plt.figure(figsize = (8,6))\n",
    "plt.plot(xx,cdf)"
   ]
  },
  {
   "cell_type": "code",
   "execution_count": 111,
   "id": "d1332ee8",
   "metadata": {},
   "outputs": [
    {
     "data": {
      "text/plain": [
       "(0.2283113567362774, 0.10564977366685535)"
      ]
     },
     "execution_count": 111,
     "metadata": {},
     "output_type": "execute_result"
    }
   ],
   "source": [
    "rv.pdf(3), rv.cdf(3)"
   ]
  },
  {
   "cell_type": "code",
   "execution_count": 113,
   "id": "18c1fec6",
   "metadata": {},
   "outputs": [
    {
     "data": {
      "text/plain": [
       "0.2283113567362774"
      ]
     },
     "execution_count": 113,
     "metadata": {},
     "output_type": "execute_result"
    }
   ],
   "source": [
    "stats.norm.pdf(loc=4,scale=0.8,x=3)"
   ]
  },
  {
   "cell_type": "code",
   "execution_count": 121,
   "id": "ec9711de",
   "metadata": {},
   "outputs": [
    {
     "data": {
      "text/plain": [
       "0.24197072451914337"
      ]
     },
     "execution_count": 121,
     "metadata": {},
     "output_type": "execute_result"
    }
   ],
   "source": [
    "# 표준정규분포에서 확률변수가 1일 때의 확률밀도를 구하세요\n",
    "stats.norm.pdf(loc=0,scale=1,x=1)"
   ]
  },
  {
   "cell_type": "code",
   "execution_count": 122,
   "id": "9497aac5",
   "metadata": {},
   "outputs": [
    {
     "data": {
      "text/plain": [
       "0.2283113567362774"
      ]
     },
     "execution_count": 122,
     "metadata": {},
     "output_type": "execute_result"
    }
   ],
   "source": [
    "# 정규 분포 객체 생성\n",
    "norm_dist = stats.norm(loc=4,scale = 0.8)\n",
    "norm_dist.pdf(x=3)"
   ]
  },
  {
   "cell_type": "code",
   "execution_count": 124,
   "id": "9bfdb864",
   "metadata": {},
   "outputs": [
    {
     "data": {
      "text/plain": [
       "[<matplotlib.lines.Line2D at 0x2334f1a2cd0>]"
      ]
     },
     "execution_count": 124,
     "metadata": {},
     "output_type": "execute_result"
    },
    {
     "data": {
      "image/png": "[encoded data removed]",
      "text/plain": [
       "<Figure size 576x432 with 1 Axes>"
      ]
     },
     "metadata": {
      "needs_background": "light"
     },
     "output_type": "display_data"
    }
   ],
   "source": [
    "x_plot = np.arange(1,7.1,0.1)\n",
    "rv = stats.norm(loc = np.mean(x_plot),scale = np.std(x_plot))\n",
    "pdf = rv.pdf(x_plot)\n",
    "plt.figure(figsize = (8,6))\n",
    "plt.plot(x_plot,pdf)"
   ]
  },
  {
   "cell_type": "code",
   "execution_count": 126,
   "id": "4dd8eeab",
   "metadata": {},
   "outputs": [
    {
     "data": {
      "text/plain": [
       "array([5.29947629, 3.51059487, 3.5774626 , 3.1416251 , 4.6923261 ,\n",
       "       2.15876904, 5.39584941, 3.39103448, 4.25523128, 3.8005037 ])"
      ]
     },
     "execution_count": 126,
     "metadata": {},
     "output_type": "execute_result"
    }
   ],
   "source": [
    "# 표본이 어떤 값 이하가 되는 비율\n",
    "np.random.seed(1)\n",
    "\n",
    "simulated_sample = stats.norm.rvs(loc = 4,scale = 0.8 , size = 100000)\n",
    "simulated_sample[:10]"
   ]
  },
  {
   "cell_type": "code",
   "execution_count": 128,
   "id": "5dc9d4f9",
   "metadata": {},
   "outputs": [
    {
     "data": {
      "text/plain": [
       "count    100000.000000\n",
       "mean          4.004202\n",
       "std           0.798667\n",
       "min           0.538490\n",
       "25%           3.465533\n",
       "50%           4.004800\n",
       "75%           4.539819\n",
       "max           7.334494\n",
       "dtype: float64"
      ]
     },
     "execution_count": 128,
     "metadata": {},
     "output_type": "execute_result"
    }
   ],
   "source": [
    "import pandas as pd\n",
    "\n",
    "sr = pd.Series(simulated_sample)\n",
    "sr.describe()"
   ]
  },
  {
   "cell_type": "code",
   "execution_count": 138,
   "id": "dce7e67f",
   "metadata": {},
   "outputs": [
    {
     "name": "stdout",
     "output_type": "stream",
     "text": [
      "27151.549504137874\n",
      "0.10371\n"
     ]
    }
   ],
   "source": [
    "# 3보다 작은 샘플의 합계와 확률은?\n",
    "print(sr.loc[sr<=3].sum())\n",
    "arr = np.array(sr.loc[sr<=3])\n",
    "print(len(sr.loc[sr<=3])/len(simulated_sample))"
   ]
  },
  {
   "cell_type": "code",
   "execution_count": 146,
   "id": "5042352a",
   "metadata": {},
   "outputs": [
    {
     "data": {
      "text/plain": [
       "0.10564977366685535"
      ]
     },
     "execution_count": 146,
     "metadata": {},
     "output_type": "execute_result"
    }
   ],
   "source": [
    "#누적분포 함수 : 확률분포에서 얻은 확률변수 3 이하가 되는 확률(loc = 4,scale = 0.8)\n",
    "rv = stats.norm(loc=4,scale = 0.8)\n",
    "rv.cdf(3)"
   ]
  },
  {
   "cell_type": "code",
   "execution_count": 147,
   "id": "d92e9ee0",
   "metadata": {},
   "outputs": [
    {
     "data": {
      "text/plain": [
       "0.5"
      ]
     },
     "execution_count": 147,
     "metadata": {},
     "output_type": "execute_result"
    }
   ],
   "source": [
    "# 정규분포는 평균에 대해 좌우 대칭\n",
    "# 데이터가 평균값 이하가 될 확률 : 0.5\n",
    "rv = stats.norm(loc = 4,scale = 0.8)\n",
    "rv.cdf(4)"
   ]
  },
  {
   "cell_type": "code",
   "execution_count": 151,
   "id": "29edc6d6",
   "metadata": {},
   "outputs": [
    {
     "data": {
      "text/plain": [
       "2.9747587475643193"
      ]
     },
     "execution_count": 151,
     "metadata": {},
     "output_type": "execute_result"
    }
   ],
   "source": [
    "# 하측확률 : '확률변수 x가 N보다 작을 확률은 M%이다.'에서 M을 고정하고 N을 구하는 경우\n",
    "# q : 하측확률 -> 퍼센트포인트\n",
    "stats.norm.ppf(loc=4,scale=0.8, q =0.1)"
   ]
  },
  {
   "cell_type": "code",
   "execution_count": 153,
   "id": "9d6a1c07",
   "metadata": {},
   "outputs": [
    {
     "data": {
      "text/plain": [
       "0.09999999999999998"
      ]
     },
     "execution_count": 153,
     "metadata": {},
     "output_type": "execute_result"
    }
   ],
   "source": [
    "# 퍼센트포인트  -> 하측확률\n",
    "stats.norm.cdf(loc=4,scale=0.8, x =2.9747587475643193)"
   ]
  },
  {
   "cell_type": "code",
   "execution_count": 154,
   "id": "bd6dda04",
   "metadata": {},
   "outputs": [
    {
     "data": {
      "text/plain": [
       "4.0"
      ]
     },
     "execution_count": 154,
     "metadata": {},
     "output_type": "execute_result"
    }
   ],
   "source": [
    "# 하측확률이 50%가 되는 퍼센트 포인트는 평균과 일치\n",
    "stats.norm.ppf(loc=4,scale=0.8, q =0.5)"
   ]
  },
  {
   "cell_type": "code",
   "execution_count": 155,
   "id": "579b10c9",
   "metadata": {
    "scrolled": true
   },
   "outputs": [
    {
     "data": {
      "text/plain": [
       "94.75599487291959"
      ]
     },
     "execution_count": 155,
     "metadata": {},
     "output_type": "execute_result"
    }
   ],
   "source": [
    "# 평균이 100, 표준편차가 10인 정규분포에서 하측확률이 0.3일 경우의 퍼센트포인트를 구하고 그 퍼센트포인트를 적용하여 하측확률을 구하세요\n",
    "stats.norm.ppf(loc=100,scale=10,q=0.3)"
   ]
  },
  {
   "cell_type": "code",
   "execution_count": 156,
   "id": "edbed9e5",
   "metadata": {},
   "outputs": [
    {
     "data": {
      "text/plain": [
       "0.2999999999999998"
      ]
     },
     "execution_count": 156,
     "metadata": {},
     "output_type": "execute_result"
    }
   ],
   "source": [
    "stats.norm.cdf(loc=100,scale=10,x=94.75599487291959)"
   ]
  },
  {
   "cell_type": "code",
   "execution_count": 179,
   "id": "012f66c3",
   "metadata": {
    "scrolled": true
   },
   "outputs": [
    {
     "data": {
      "text/plain": [
       "[<matplotlib.lines.Line2D at 0x23351007b80>]"
      ]
     },
     "execution_count": 179,
     "metadata": {},
     "output_type": "execute_result"
    },
    {
     "data": {
      "image/png": "[encoded data removed]",
      "text/plain": [
       "<Figure size 720x432 with 1 Axes>"
      ]
     },
     "metadata": {
      "needs_background": "light"
     },
     "output_type": "display_data"
    }
   ],
   "source": [
    "# 상기 정규분포의 확률밀도함수와 누적분포함수를 시각화하여 하측확률과 pp간의 관계를 확인하세요\n",
    "x_plot = np.linspace(70,130,100)\n",
    "rv = stats.norm(loc = 100,scale = 10)\n",
    "pdf = rv.pdf(x_plot)\n",
    "\n",
    "fig = plt.figure(figsize = (10,6))\n",
    "ax = fig.add_subplot(111)\n",
    "\n",
    "ax.vlines(stats.norm.ppf(loc=100,scale=10,q=0.3),0,0.04,color = 'red')\n",
    "ax.plot(x_plot,pdf)"
   ]
  },
  {
   "cell_type": "code",
   "execution_count": 180,
   "id": "6f6932a6",
   "metadata": {},
   "outputs": [
    {
     "data": {
      "text/plain": [
       "[<matplotlib.lines.Line2D at 0x2335250da30>]"
      ]
     },
     "execution_count": 180,
     "metadata": {},
     "output_type": "execute_result"
    },
    {
     "data": {
      "image/png": "[encoded data removed]",
      "text/plain": [
       "<Figure size 720x432 with 1 Axes>"
      ]
     },
     "metadata": {
      "needs_background": "light"
     },
     "output_type": "display_data"
    }
   ],
   "source": [
    "fig = plt.figure(figsize = (10,6))\n",
    "ax = fig.add_subplot(111)\n",
    "\n",
    "x_plot = np.linspace(70,130,100)\n",
    "rv = stats.norm(loc = 100,scale = 10)\n",
    "cdf = rv.cdf(x_plot)\n",
    "\n",
    "ax.hlines(stats.norm.cdf(loc=100,scale=10,x=94.75599487291959),70,130,color = 'green')\n",
    "ax.plot(x_plot,cdf)"
   ]
  },
  {
   "cell_type": "markdown",
   "id": "807b409f",
   "metadata": {},
   "source": [
    "대표적인 연속형 확률분포"
   ]
  },
  {
   "cell_type": "code",
   "execution_count": 206,
   "id": "70f23ac9",
   "metadata": {},
   "outputs": [],
   "source": [
    "import numpy as np\n",
    "import matplotlib.pyplot as plt\n",
    "from scipy import integrate\n",
    "from scipy import stats\n",
    "import scipy as sp\n",
    "import seaborn as sns\n",
    "import warnings\n",
    "from scipy.optimize import minimize_scalar\n",
    "warnings.filterwarnings('ignore')\n",
    "\n",
    "\n",
    "linestyles = ['-','--',':']\n",
    "\n",
    "def E(x, g=lambda x:x):\n",
    "    x_range , f = X\n",
    "    def integrand(x):\n",
    "        return g(x) * f(x)\n",
    "    return integrate.quad(integrand, -np.inf, np.inf)[0]\n",
    "\n",
    "def V(X,g=lambda x:x):\n",
    "    x_range, f =X\n",
    "    mean = E(X,g)\n",
    "    def integrand(x):\n",
    "        return (g(x)-mean)**2*f(x)\n",
    "    return integrate.quad(integrand,-np.inf,np.inf)[0]\n",
    "\n",
    "def check_prob(X):\n",
    "    x_range,f = X\n",
    "    f_min = minimize_scalar(f).fun\n",
    "    assert f_min >= 0, 'density function is minus value'\n",
    "    prob_sum = np.round(integrate.quad(f,-np.inf,np.inf)[0],6)\n",
    "    assert prob_sum == 1, f'sum of probability = {prob_sum}'\n",
    "    print(f'expected Value {E(X):.3f}')\n",
    "    print(f'Variance {V(X):.3f}')\n",
    "    \n",
    "def plot_prob(X, x_min, x_max):\n",
    "    x_range, f =X\n",
    "    def F(x):\n",
    "        return integrate.quad(f,-np.inf,x)[0]\n",
    "    \n",
    "    xs = np.linspace(x_min,x_max,100)\n",
    "    \n",
    "    fig = plt.figure(figsize=(10,6))\n",
    "    ax = fig.add_subplot(111)\n",
    "    ax.plot(xs,[f(x) for x in xs], label = 'f(x)', color ='gray')\n",
    "    ax.plot(xs,[F(x) for x in xs],label = 'F(x)',ls = '--',color = 'gray')\n",
    "    ax.legend()\n",
    "    plt.show()"
   ]
  },
  {
   "cell_type": "markdown",
   "id": "e185add8",
   "metadata": {},
   "source": [
    "#### 정규분포\n",
    "- 통계분석에서 자주 사용되는 중요한 확률분포로 자연계에서 일어나는 수많은 현상을 표현, 가우스 분포라고도 부름\n",
    "- 정규분포가 취할 수 있는 값은 실수 전체로 파라미터는 평균과 분산 두가지이다."
   ]
  },
  {
   "cell_type": "code",
   "execution_count": 207,
   "id": "712ad708",
   "metadata": {},
   "outputs": [],
   "source": [
    "def N(mu,sigma):\n",
    "    x_range = [-np.inf,np.inf]\n",
    "    def f(x):\n",
    "        return 1/(np.sqrt(2*np.pi*sigma**2))*np.exp(-((x-mu)**2)/(2*sigma**2))\n",
    "    return x_range,f"
   ]
  },
  {
   "cell_type": "code",
   "execution_count": 208,
   "id": "6c60e924",
   "metadata": {},
   "outputs": [],
   "source": [
    "mu,sigma = 2,0.5\n",
    "X=N(mu,sigma)"
   ]
  },
  {
   "cell_type": "code",
   "execution_count": 209,
   "id": "a69fad85",
   "metadata": {},
   "outputs": [
    {
     "name": "stdout",
     "output_type": "stream",
     "text": [
      "expected Value 2.000\n",
      "Variance 0.250\n"
     ]
    }
   ],
   "source": [
    "check_prob(X)"
   ]
  },
  {
   "cell_type": "code",
   "execution_count": 210,
   "id": "fce1bdd9",
   "metadata": {},
   "outputs": [
    {
     "data": {
      "image/png": "[encoded data removed]",
      "text/plain": [
       "<Figure size 720x432 with 1 Axes>"
      ]
     },
     "metadata": {
      "needs_background": "light"
     },
     "output_type": "display_data"
    }
   ],
   "source": [
    "plot_prob(X,0,4)"
   ]
  },
  {
   "cell_type": "code",
   "execution_count": 211,
   "id": "e9fc2027",
   "metadata": {},
   "outputs": [
    {
     "name": "stdout",
     "output_type": "stream",
     "text": [
      "2.0 0.25\n"
     ]
    }
   ],
   "source": [
    "rv = stats.norm(2,0.5)\n",
    "print(rv.mean(),rv.var())"
   ]
  },
  {
   "cell_type": "code",
   "execution_count": 212,
   "id": "a6053b8f",
   "metadata": {},
   "outputs": [
    {
     "data": {
      "text/plain": [
       "0.7978845608028654"
      ]
     },
     "execution_count": 212,
     "metadata": {},
     "output_type": "execute_result"
    }
   ],
   "source": [
    "# pp가 2일때 확률밀도\n",
    "rv.pdf(x=2)"
   ]
  },
  {
   "cell_type": "code",
   "execution_count": 213,
   "id": "e6e8c2ef",
   "metadata": {},
   "outputs": [
    {
     "data": {
      "text/plain": [
       "0.5"
      ]
     },
     "execution_count": 213,
     "metadata": {},
     "output_type": "execute_result"
    }
   ],
   "source": [
    "# pp가 2일 때 하측확률\n",
    "rv.cdf(x=2)"
   ]
  },
  {
   "cell_type": "code",
   "execution_count": 214,
   "id": "cc3cbc55",
   "metadata": {},
   "outputs": [
    {
     "data": {
      "text/plain": [
       "2.2622002563540202"
      ]
     },
     "execution_count": 214,
     "metadata": {},
     "output_type": "execute_result"
    }
   ],
   "source": [
    "# 상위 30% 점\n",
    "rv.ppf(0.7)"
   ]
  },
  {
   "cell_type": "code",
   "execution_count": 215,
   "id": "4c29d413",
   "metadata": {},
   "outputs": [
    {
     "data": {
      "text/plain": [
       "2.2622002563540207"
      ]
     },
     "execution_count": 215,
     "metadata": {},
     "output_type": "execute_result"
    }
   ],
   "source": [
    "rv.isf(0.3)"
   ]
  },
  {
   "cell_type": "code",
   "execution_count": 216,
   "id": "87ba366e",
   "metadata": {},
   "outputs": [
    {
     "data": {
      "text/plain": [
       "(1.020018007729973, 2.979981992270027)"
      ]
     },
     "execution_count": 216,
     "metadata": {},
     "output_type": "execute_result"
    }
   ],
   "source": [
    "# 확률의 구간\n",
    "rv.interval(0.95)"
   ]
  },
  {
   "cell_type": "code",
   "execution_count": 217,
   "id": "c17d28d5",
   "metadata": {},
   "outputs": [
    {
     "data": {
      "text/plain": [
       "(1.1775731865242638, 2.8224268134757367)"
      ]
     },
     "execution_count": 217,
     "metadata": {},
     "output_type": "execute_result"
    }
   ],
   "source": [
    "rv.isf(0.95),rv.isf(0.05)"
   ]
  },
  {
   "cell_type": "code",
   "execution_count": 223,
   "id": "61c543c2",
   "metadata": {},
   "outputs": [
    {
     "data": {
      "image/png": "[encoded data removed]",
      "text/plain": [
       "<Figure size 720x576 with 1 Axes>"
      ]
     },
     "metadata": {
      "needs_background": "light"
     },
     "output_type": "display_data"
    }
   ],
   "source": [
    "# N(mean,sigma**2) 파라미터를 각각 (0,1),(0,4),(1,1) 로 변경할 때의 정규분포를 시각화하세요\n",
    "fig = plt.figure(figsize = (10,8))\n",
    "ax = fig.add_subplot(111)\n",
    "\n",
    "xs = np.linspace(-5,5,100)\n",
    "params = [(0,1),(0,2),(1,1)]\n",
    "for param, ls in zip(params,linestyles):\n",
    "    mu, sigma = param\n",
    "    rv = stats.norm(mu,sigma)\n",
    "    ax.plot(xs,rv.pdf(xs), label = f'N({mu},{sigma**2})',ls=ls,color='gray')\n",
    "    \n",
    "ax.legend()\n",
    "plt.show()"
   ]
  },
  {
   "cell_type": "markdown",
   "id": "3f759401",
   "metadata": {},
   "source": [
    "#### 지수분포\n",
    "- 어떤 사건이 발생하는 간격이 따르는 분포이며 확률변수가 취할 수 있는 값은 0 이상의 실수\n",
    "- 지수분포의 파라미터는 $\\lambda$로 양의 실수이며 EX($\\lambda$)로 표기한다"
   ]
  },
  {
   "cell_type": "code",
   "execution_count": 218,
   "id": "7f199b64",
   "metadata": {},
   "outputs": [],
   "source": [
    "def Ex(lam):\n",
    "    x_range = [0,np.inf]\n",
    "    def f(x):\n",
    "        if x>=0:\n",
    "            return lam*np.exp(-lam*x)\n",
    "        else:\n",
    "            return 0\n",
    "    return x_range, f"
   ]
  },
  {
   "cell_type": "code",
   "execution_count": 220,
   "id": "21ad2274",
   "metadata": {},
   "outputs": [],
   "source": [
    "lam =3\n",
    "X=Ex(lam)"
   ]
  },
  {
   "cell_type": "code",
   "execution_count": 221,
   "id": "9a45ea22",
   "metadata": {},
   "outputs": [
    {
     "name": "stdout",
     "output_type": "stream",
     "text": [
      "expected Value 0.333\n",
      "Variance 0.111\n"
     ]
    }
   ],
   "source": [
    "check_prob(X)"
   ]
  },
  {
   "cell_type": "code",
   "execution_count": 224,
   "id": "be046388",
   "metadata": {},
   "outputs": [
    {
     "data": {
      "image/png": "[encoded data removed]",
      "text/plain": [
       "<Figure size 720x432 with 1 Axes>"
      ]
     },
     "metadata": {
      "needs_background": "light"
     },
     "output_type": "display_data"
    }
   ],
   "source": [
    "plot_prob(X,0,2)"
   ]
  },
  {
   "cell_type": "code",
   "execution_count": 227,
   "id": "5ed7637b",
   "metadata": {},
   "outputs": [
    {
     "data": {
      "image/png": "[encoded data removed]",
      "text/plain": [
       "<Figure size 720x576 with 1 Axes>"
      ]
     },
     "metadata": {
      "needs_background": "light"
     },
     "output_type": "display_data"
    }
   ],
   "source": [
    "# 파라미터 lambda = [1,2,3]일 때 지수함수의 확률분포를 시각화하세요\n",
    "fig = plt.figure(figsize = (10,8))\n",
    "ax = fig.add_subplot(111)\n",
    "\n",
    "xs = np.linspace(0,3,100)\n",
    "lams = [1,2,3]\n",
    "for lam, ls in zip(lams,linestyles):\n",
    "    rv = stats.expon(scale = 1/lam)\n",
    "    ax.plot(xs,rv.pdf(xs), label = f'lambda = {lam}',ls=ls,color='gray')\n",
    "    \n",
    "ax.legend()\n",
    "plt.show()"
   ]
  },
  {
   "cell_type": "markdown",
   "id": "0781bfdc",
   "metadata": {},
   "source": [
    "#### 카이제곱분포\n",
    "- $Z_1,Z_2,...,Z_n$이 서로 독립이고 N(0,1)을 따르고 있을 때 그 제곱합의 확률분포를 자유도가 n인 카이제곱분포라고 한다.\n",
    "- ㅏ이제곱분포는 분산의 구간 추정이나 독립성 검정에서 사용되는 확률분포이다."
   ]
  }
 ],
 "metadata": {
  "kernelspec": {
   "display_name": "Python 3 (ipykernel)",
   "language": "python",
   "name": "python3"
  },
  "language_info": {
   "codemirror_mode": {
    "name": "ipython",
    "version": 3
   },
   "file_extension": ".py",
   "mimetype": "text/x-python",
   "name": "python",
   "nbconvert_exporter": "python",
   "pygments_lexer": "ipython3",
   "version": "3.8.12"
  }
 },
 "nbformat": 4,
 "nbformat_minor": 5
}
