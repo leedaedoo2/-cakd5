{
 "cells": [
  {
   "cell_type": "markdown",
   "id": "eca8d283",
   "metadata": {},
   "source": [
    "이산형 확률분포"
   ]
  },
  {
   "cell_type": "code",
   "execution_count": null,
   "id": "f41240b2",
   "metadata": {},
   "outputs": [],
   "source": [
    "#1차원 이산분포\n",
    "import numpy as np\n",
    "import matplotlib.pyplot as plt\n",
    "\n",
    "x_set = np.array([1,2,3,4,5,6])\n",
    "\n",
    "def f(x):\n",
    "    if x in x_set:\n",
    "        return x/21\n",
    "    else:\n",
    "        return 0\n",
    "X = [x_set,f]"
   ]
  },
  {
   "cell_type": "code",
   "execution_count": null,
   "id": "6317f195",
   "metadata": {},
   "outputs": [],
   "source": [
    "prob = np.array([f(x_k) for x_k in x_set])\n",
    "print(prob,'\\n')\n",
    "dict(zip(x_set,prob))"
   ]
  },
  {
   "cell_type": "code",
   "execution_count": null,
   "id": "8398fe45",
   "metadata": {},
   "outputs": [],
   "source": [
    "plt.figure(figsize = (10,10))\n",
    "plt.bar(x_set,prob)\n",
    "plt.xlabel('variables')\n",
    "plt.ylabel('probability')"
   ]
  },
  {
   "cell_type": "code",
   "execution_count": null,
   "id": "9063d946",
   "metadata": {},
   "outputs": [],
   "source": [
    "np.all(prob>0)"
   ]
  },
  {
   "cell_type": "code",
   "execution_count": null,
   "id": "03916618",
   "metadata": {},
   "outputs": [],
   "source": [
    "np.sum(prob)"
   ]
  },
  {
   "cell_type": "code",
   "execution_count": null,
   "id": "4b703eb7",
   "metadata": {},
   "outputs": [],
   "source": [
    "# 누적 분포 함수\n",
    "def F(x):\n",
    "    return np.sum([f(x_k) for x_k in x_set if x_k <=x])"
   ]
  },
  {
   "cell_type": "code",
   "execution_count": null,
   "id": "70e20fe4",
   "metadata": {},
   "outputs": [],
   "source": [
    "F(6)"
   ]
  },
  {
   "cell_type": "code",
   "execution_count": null,
   "id": "d489f819",
   "metadata": {},
   "outputs": [],
   "source": [
    "# 확률 변수의 변환 : 확률변수 X 에 2를 곱하고 3은 더한 2X+3\n",
    "y_set = np.array([2*x_k + 3 for x_k in x_set])\n",
    "prob= np.array([f(x_k) for x_k in x_set])\n",
    "dict(zip(y_set,prob))"
   ]
  },
  {
   "cell_type": "code",
   "execution_count": null,
   "id": "443ab0da",
   "metadata": {},
   "outputs": [],
   "source": [
    "#1차원 이산형 확률변수 지표\n",
    "#평균 : 확률변수의 평균은 확률변수의 중심을 나타내는 지효가 되며 기대값이라고도 부른다\n",
    "np.sum([x_k *f(x_k) for x_k in x_set])\n"
   ]
  },
  {
   "cell_type": "code",
   "execution_count": null,
   "id": "e5234af4",
   "metadata": {},
   "outputs": [],
   "source": [
    "# 확률변수의 기댓값은 확률 변수를 무제한 시행하여 얻은 실현값의 평균\n",
    "sample= np.random.choice(x_set,int(1e6),p=prob)\n",
    "np.mean(sample)"
   ]
  },
  {
   "cell_type": "code",
   "execution_count": null,
   "id": "0027351c",
   "metadata": {},
   "outputs": [],
   "source": [
    "# 일반화\n",
    "def E(X,g=lambda x: x):\n",
    "    x_set ,f = X\n",
    "    return np.sum([g(x_k) * f(x_k) for x_k in x_set])"
   ]
  },
  {
   "cell_type": "code",
   "execution_count": null,
   "id": "476f0562",
   "metadata": {},
   "outputs": [],
   "source": [
    "E(X)"
   ]
  },
  {
   "cell_type": "code",
   "execution_count": null,
   "id": "fb16bc94",
   "metadata": {},
   "outputs": [],
   "source": [
    "E(X,g=lambda x:2*x+3)"
   ]
  },
  {
   "cell_type": "code",
   "execution_count": null,
   "id": "6a73f222",
   "metadata": {},
   "outputs": [],
   "source": [
    "# 기댓값의 선형성\n",
    "2 * E(X) +3"
   ]
  },
  {
   "cell_type": "code",
   "execution_count": null,
   "id": "a622150f",
   "metadata": {},
   "outputs": [],
   "source": [
    "# 분산\n",
    "mean = E(X)\n",
    "np.sum([(x_k-mean)**2 * f(x_k) for x_k in x_set])"
   ]
  },
  {
   "cell_type": "code",
   "execution_count": null,
   "id": "9bb8378b",
   "metadata": {},
   "outputs": [],
   "source": [
    "# 일반화\n",
    "def V(X,g = lambda x:x):\n",
    "    x_set ,f = X\n",
    "    mean = E(X,g)\n",
    "    return np.sum([(g(x_k)-mean)**2 * f(x_k) for x_k in x_set])"
   ]
  },
  {
   "cell_type": "code",
   "execution_count": null,
   "id": "9861c6bd",
   "metadata": {},
   "outputs": [],
   "source": [
    "V(X)"
   ]
  },
  {
   "cell_type": "code",
   "execution_count": null,
   "id": "f5b0dbdb",
   "metadata": {},
   "outputs": [],
   "source": [
    "V(X,g=lambda x:2*x)"
   ]
  },
  {
   "cell_type": "code",
   "execution_count": null,
   "id": "a4052b75",
   "metadata": {},
   "outputs": [],
   "source": [
    "# 2차원 이산형 확률분포\n",
    "x_set = np.arange(2,13)\n",
    "y_set = np.arange(1,7)"
   ]
  },
  {
   "cell_type": "code",
   "execution_count": null,
   "id": "bac19cff",
   "metadata": {},
   "outputs": [],
   "source": [
    "#결합확률함수\n",
    "def f_XY(x,y):\n",
    "    if 1<=y<=6 and 1<=x-y<=6:\n",
    "        return y*(x-y)/441\n",
    "    else:\n",
    "        return 0"
   ]
  },
  {
   "cell_type": "code",
   "execution_count": null,
   "id": "cd6808a8",
   "metadata": {},
   "outputs": [],
   "source": [
    "XY = [x_set,y_set,f_XY]\n",
    "prob = np.array([[f_XY(x_i,y_j) for y_j in y_set] for x_i in x_set])"
   ]
  },
  {
   "cell_type": "code",
   "execution_count": null,
   "id": "57cd63d9",
   "metadata": {
    "scrolled": true
   },
   "outputs": [],
   "source": [
    "fig = plt.figure(figsize = (10,8))\n",
    "ax = fig.add_subplot(111)\n",
    "c = ax.pcolor(prob)\n",
    "ax.set_xticks(np.arange(prob.shape[1])+0.5,minor=False)\n",
    "ax.set_yticks(np.arange(prob.shape[0])+0.5,minor=False)\n",
    "ax.set_xticklabels(np.arange(1,7),minor = False)\n",
    "ax.set_yticklabels(np.arange(2,13),minor = False)\n",
    "# y축을 내림차순의 숫자가 되게하여 위아래를 역전시킴\n",
    "ax.invert_yaxis()\n",
    "# x축 눈금을 그래프 위쪽에 표시\n",
    "ax.xaxis.tick_top()\n",
    "fig.colorbar(c,ax=ax)"
   ]
  },
  {
   "cell_type": "code",
   "execution_count": null,
   "id": "731d1a06",
   "metadata": {},
   "outputs": [],
   "source": [
    "np.all(prob>=0)"
   ]
  },
  {
   "cell_type": "code",
   "execution_count": null,
   "id": "53271ec6",
   "metadata": {},
   "outputs": [],
   "source": [
    "np.sum(prob)"
   ]
  },
  {
   "cell_type": "code",
   "execution_count": null,
   "id": "37c2f1e3",
   "metadata": {},
   "outputs": [],
   "source": [
    "# 주변 확률 분포 (marginal probability distribution)\n",
    "# 확률변수 (X,Y)는 결합확률분포에 의해 동시에 정의되지만 개별 확률 변수에만 흥미가 있을 수 있다.\n",
    "# 확률변수 X만의 움직임, 즉 확률변수 X의 확률함수를 알고 싶은 상황"
   ]
  },
  {
   "cell_type": "code",
   "execution_count": null,
   "id": "03da2895",
   "metadata": {},
   "outputs": [],
   "source": [
    "def f_X(x):\n",
    "    return np.sum([f_XY(x,y_k) for y_k in y_set])"
   ]
  },
  {
   "cell_type": "code",
   "execution_count": null,
   "id": "73fcd12a",
   "metadata": {},
   "outputs": [],
   "source": [
    "def f_Y(y):\n",
    "    return np.sum([f_XY(x_k,y) for x_k in x_set])"
   ]
  },
  {
   "cell_type": "code",
   "execution_count": null,
   "id": "7cb5f763",
   "metadata": {},
   "outputs": [],
   "source": [
    "X = [x_set,f_X]\n",
    "Y = [y_set,f_Y]"
   ]
  },
  {
   "cell_type": "code",
   "execution_count": null,
   "id": "b0f0dfae",
   "metadata": {},
   "outputs": [],
   "source": [
    "X"
   ]
  },
  {
   "cell_type": "code",
   "execution_count": null,
   "id": "4cabd0f8",
   "metadata": {},
   "outputs": [],
   "source": [
    "Y"
   ]
  },
  {
   "cell_type": "code",
   "execution_count": null,
   "id": "2562e8a8",
   "metadata": {},
   "outputs": [],
   "source": [
    "prob_x = np.array([f_X(x_k) for x_k in x_set])\n",
    "prob_y = np.array([f_Y(y_k) for y_k in y_set])"
   ]
  },
  {
   "cell_type": "code",
   "execution_count": null,
   "id": "ec36b004",
   "metadata": {
    "scrolled": true
   },
   "outputs": [],
   "source": [
    "fig = plt.figure(figsize = (12,4))\n",
    "ax1 = fig.add_subplot(121)\n",
    "ax2 = fig.add_subplot(122)\n",
    "\n",
    "ax1.bar(x_set,prob_x)\n",
    "ax1.set_title('X_marginal probability distribution')\n",
    "ax1.set_xlabel('X_label')\n",
    "ax1.set_ylabel('probability')\n",
    "ax1.set_xticks(x_set)\n",
    "\n",
    "ax2.bar(y_set,prob_y)\n",
    "ax2.set_title('Y_marginal probability distribution')\n",
    "ax2.set_xlabel('Y_label')\n",
    "ax2.set_ylabel('probability')\n",
    "ax2.set_xticks(y_set)"
   ]
  },
  {
   "cell_type": "code",
   "execution_count": null,
   "id": "5f9a398b",
   "metadata": {},
   "outputs": [],
   "source": [
    "# 2차원 이산형 확률분포의 지표\n",
    "# 기댓값\n",
    "np.sum([x_i * f_XY(x_i,y_j) for x_i in x_set for y_j in y_set])"
   ]
  },
  {
   "cell_type": "code",
   "execution_count": null,
   "id": "b24b6336",
   "metadata": {},
   "outputs": [],
   "source": [
    "li =[]\n",
    "for y in y_set:\n",
    "    for x in x_set:\n",
    "        li.append(x*f_XY(x,y))\n",
    "np.sum(li)"
   ]
  },
  {
   "cell_type": "code",
   "execution_count": null,
   "id": "efbd83db",
   "metadata": {},
   "outputs": [],
   "source": [
    "def E(XY,g):\n",
    "    x_set,y_set, f_XY = XY\n",
    "    return np.sum([g(x_i,y_j) * f_XY(x_i,y_j) for x_i in x_set for y_j in y_set])"
   ]
  },
  {
   "cell_type": "code",
   "execution_count": null,
   "id": "c8dc35eb",
   "metadata": {},
   "outputs": [],
   "source": [
    "mean_X = E(XY,lambda x,y:x)\n",
    "mean_X"
   ]
  },
  {
   "cell_type": "code",
   "execution_count": null,
   "id": "c78194a0",
   "metadata": {},
   "outputs": [],
   "source": [
    "mean_Y = E(XY,lambda x,y:y)\n",
    "mean_Y"
   ]
  },
  {
   "cell_type": "code",
   "execution_count": null,
   "id": "79e1c36e",
   "metadata": {},
   "outputs": [],
   "source": [
    "# 기대값의 선형성\n",
    "E(XY,lambda x,y:2*x+3*y)"
   ]
  },
  {
   "cell_type": "code",
   "execution_count": null,
   "id": "a5697412",
   "metadata": {},
   "outputs": [],
   "source": [
    "# 분산: X의 분산이라면 X에 관한 편차 제곱의 기대값으로 구할 수 있다\n",
    "np.sum([(x_i-mean_X)**2 * f_XY(x_i,y_j) for x_i in x_set for y_j in y_set])"
   ]
  },
  {
   "cell_type": "code",
   "execution_count": null,
   "id": "444504cb",
   "metadata": {},
   "outputs": [],
   "source": [
    "np.sum([(y_j-mean_Y)**2 * f_XY(x_i,y_j) for x_i in x_set for y_j in y_set])"
   ]
  },
  {
   "cell_type": "code",
   "execution_count": null,
   "id": "ca93c112",
   "metadata": {},
   "outputs": [],
   "source": [
    "def V(XY,g):\n",
    "    x_set,y_set, f_XY = XY\n",
    "    mean = E(XY,g)\n",
    "    return np.sum([(g(x_i,y_j)-mean)**2 * f_XY(x_i,y_j) for x_i in x_set for y_j in y_set])"
   ]
  },
  {
   "cell_type": "code",
   "execution_count": null,
   "id": "605d733b",
   "metadata": {},
   "outputs": [],
   "source": [
    "V(XY,lambda x,y:3*y)"
   ]
  },
  {
   "cell_type": "code",
   "execution_count": null,
   "id": "cd2be666",
   "metadata": {},
   "outputs": [],
   "source": [
    "# 공분산\n",
    "def Cov(XY):\n",
    "    x_set,y_set,f_XY = XY\n",
    "    mean_X = E(XY,lambda x,y:x)\n",
    "    mean_Y = E(XY,lambda x,y:y)\n",
    "    return np.sum([(x_i-mean_X) * (y_j - mean_Y) *f_XY(x_i,y_j) for x_i in x_set for y_j in y_set])\n",
    "\n",
    "Cov(XY)"
   ]
  },
  {
   "cell_type": "code",
   "execution_count": null,
   "id": "e546dfff",
   "metadata": {},
   "outputs": [],
   "source": [
    "# 상관계수 : 공분산을 각각의 표준편차로 나누어 산출\n",
    "var_x = V(XY,lambda x,y:x)\n",
    "var_y = V(XY,lambda x,y:y)\n",
    "cov_xy = Cov(XY)\n",
    "cov_xy/np.sqrt(var_x*var_y)"
   ]
  },
  {
   "cell_type": "code",
   "execution_count": null,
   "id": "f4707f42",
   "metadata": {},
   "outputs": [],
   "source": [
    "# 분산과 공분산의 공식\n",
    "a = 2\n",
    "b = 3\n",
    "a**2*var_x+b**2*var_y +2*a*b*cov_xy"
   ]
  },
  {
   "cell_type": "markdown",
   "id": "7c6753ca",
   "metadata": {},
   "source": [
    "대표적인 이산형 확률분포"
   ]
  },
  {
   "cell_type": "code",
   "execution_count": 185,
   "id": "dc7b6883",
   "metadata": {
    "scrolled": true
   },
   "outputs": [
    {
     "name": "stdout",
     "output_type": "stream",
     "text": [
      "0.3\n",
      "0.20999999999999996\n"
     ]
    }
   ],
   "source": [
    "# 그래프를 위한 사용자 함수\n",
    "import numpy as np\n",
    "import matplotlib.pyplot as plt\n",
    "from scipy import stats\n",
    "\n",
    "linestyles = ['-','--',':']\n",
    "\n",
    "def E(X,g = lambda x:x):\n",
    "    x_set , f = X\n",
    "    return np.sum([g(x_k)*f(x_k) for x_k in x_set])\n",
    "\n",
    "def V(X,g = lambda x:x):\n",
    "    x_set , f = X\n",
    "    mean = E(X,g)\n",
    "    return np.sum([(g(x_k)-mean)**2*f(x_k) for x_k in x_set])\n",
    "\n",
    "print(E(X))\n",
    "print(V(X))\n",
    "\n",
    "def check_prob(X): # 확률분포를 인수로 가지며 ㄴ기댓값과 분산 계산 결과를 반환\n",
    "    x_set, f = X\n",
    "    prob = np.array([f(x_k) for x_k in x_set])\n",
    "    assert np.all(prob>=0), 'minus probability'\n",
    "    prob_sum = np.around(np.sum(prob),6)\n",
    "    assert prob_sum == 1, f'sum of probability {prob_sum}'\n",
    "    print(f'expected value {E(X):.4}')\n",
    "    print(f'variance {V(X):.4}')\n",
    "    \n",
    "def plot_prob(X): # 확률분포를 인수로 가지며 그 확률변수의 확률함수와 기대값을 그리기 위한 함수\n",
    "    x_set,f = X\n",
    "    prob = np.array([f(x_k) for x_k in x_set])\n",
    "    fig = plt.figure(figsize = (15,4))\n",
    "    ax = fig.add_subplot(111)\n",
    "    ax.bar(x_set,prob,label = 'prob')\n",
    "    ax.vlines(E(X),0,1,label = 'mean',color='crimson')\n",
    "    ax.set_xticks(np.append(x_set,E(X)))\n",
    "    ax.set_ylim(0,prob.max()*1.2)\n",
    "    ax.legend()"
   ]
  },
  {
   "cell_type": "markdown",
   "id": "2fc49d06",
   "metadata": {},
   "source": [
    "#### 베르누이 분포\n",
    "- 가장 기본적인 이산형 확률 분포로 확률변수가 취할 수 있는 값이 0과 1밖에 없는 분포이다.\n",
    "- 베르누이 분포를 따르는 확률변수의 시행을 베르누이 시행이라 하며 1이 나오면 성공, 0이 나오면 실패\n",
    "- 동전을 던져 앞면이 나올 확률, 주사위를 한번 굴려 6이 나오지 않을 확률"
   ]
  },
  {
   "cell_type": "code",
   "execution_count": 130,
   "id": "c29e5cc7",
   "metadata": {},
   "outputs": [],
   "source": [
    "def Bern(p):\n",
    "    x_set = np.array([0,1])\n",
    "    def f(x):\n",
    "        if x in x_set:\n",
    "            return p ** x * (1-p)**(1-x)\n",
    "        else:\n",
    "            return 0\n",
    "    return x_set, f"
   ]
  },
  {
   "cell_type": "code",
   "execution_count": 132,
   "id": "1ec423dd",
   "metadata": {},
   "outputs": [],
   "source": [
    "p = 0.3\n",
    "X = Bern(p)"
   ]
  },
  {
   "cell_type": "code",
   "execution_count": 133,
   "id": "08c8dcba",
   "metadata": {},
   "outputs": [
    {
     "name": "stdout",
     "output_type": "stream",
     "text": [
      "expected value 0.3\n",
      "variance 0.21\n"
     ]
    }
   ],
   "source": [
    "check_prob(X)"
   ]
  },
  {
   "cell_type": "code",
   "execution_count": 186,
   "id": "b1c69d29",
   "metadata": {
    "scrolled": true
   },
   "outputs": [
    {
     "data": {
      "image/png": "[encoded data removed]",
      "text/plain": [
       "<Figure size 1080x288 with 1 Axes>"
      ]
     },
     "metadata": {
      "needs_background": "light"
     },
     "output_type": "display_data"
    }
   ],
   "source": [
    "plot_prob(X)"
   ]
  },
  {
   "cell_type": "code",
   "execution_count": 135,
   "id": "f1800493",
   "metadata": {},
   "outputs": [],
   "source": [
    "rv = stats.bernoulli(p)"
   ]
  },
  {
   "cell_type": "code",
   "execution_count": 136,
   "id": "6557eeaf",
   "metadata": {},
   "outputs": [
    {
     "data": {
      "text/plain": [
       "(0.7, 0.3)"
      ]
     },
     "execution_count": 136,
     "metadata": {},
     "output_type": "execute_result"
    }
   ],
   "source": [
    "rv.pmf(0),rv.pmf(1)"
   ]
  },
  {
   "cell_type": "code",
   "execution_count": 137,
   "id": "4c9af200",
   "metadata": {},
   "outputs": [
    {
     "data": {
      "text/plain": [
       "array([0.7, 0.3])"
      ]
     },
     "execution_count": 137,
     "metadata": {},
     "output_type": "execute_result"
    }
   ],
   "source": [
    "rv.pmf([0,1])"
   ]
  },
  {
   "cell_type": "code",
   "execution_count": 138,
   "id": "a2ebf71f",
   "metadata": {},
   "outputs": [
    {
     "data": {
      "text/plain": [
       "array([0.7, 1. ])"
      ]
     },
     "execution_count": 138,
     "metadata": {},
     "output_type": "execute_result"
    }
   ],
   "source": [
    "rv.cdf([0,1])"
   ]
  },
  {
   "cell_type": "code",
   "execution_count": 139,
   "id": "014f0567",
   "metadata": {},
   "outputs": [
    {
     "data": {
      "text/plain": [
       "(0.3, 0.21)"
      ]
     },
     "execution_count": 139,
     "metadata": {},
     "output_type": "execute_result"
    }
   ],
   "source": [
    "rv.mean(), rv.var()"
   ]
  },
  {
   "cell_type": "markdown",
   "id": "5f437d99",
   "metadata": {},
   "source": [
    "#### 이항 분포\n",
    "- 성공 확률이 p 인 베르누이 시행을 n번 했을 때의 성공 횟수가 따르는 분포\n",
    "\n",
    "f(x) = $_{n}\\mathrm{C}_{x}p^x(1-p)^{n-x}$ $(x \\in \\{0,1,...,n\\}$)\n",
    "\n",
    "       0            (otherwise)"
   ]
  },
  {
   "cell_type": "code",
   "execution_count": 140,
   "id": "b28fb3a6",
   "metadata": {},
   "outputs": [],
   "source": [
    "from scipy.special import comb\n",
    "def Bin(n,p):\n",
    "    x_set = np.arange(0,n+1)\n",
    "    def f(x):\n",
    "        if x in x_set:\n",
    "            return comb(n,x)*(p**x)*((1-p)**(n-x))\n",
    "        else:\n",
    "            return 0\n",
    "        \n",
    "    return x_set, f"
   ]
  },
  {
   "cell_type": "code",
   "execution_count": 151,
   "id": "ab40b284",
   "metadata": {},
   "outputs": [
    {
     "data": {
      "text/plain": [
       "(0.1171875, 5.0, 2.5)"
      ]
     },
     "execution_count": 151,
     "metadata": {},
     "output_type": "execute_result"
    }
   ],
   "source": [
    "# [과제] 동전을 10번 던져 앞면이 3번 나오는 확률의 이항분포의 기대값과 분산을 구하세요.\n",
    "x_set , f = Bin(10,0.5)\n",
    "f(3) , E(Bin(10,0.5)),V(Bin(10,0.5))"
   ]
  },
  {
   "cell_type": "code",
   "execution_count": 145,
   "id": "8266c47f",
   "metadata": {},
   "outputs": [
    {
     "name": "stdout",
     "output_type": "stream",
     "text": [
      "expected value 5.0\n",
      "variance 2.5\n"
     ]
    }
   ],
   "source": [
    "check_prob(Bin(10,0.5))"
   ]
  },
  {
   "cell_type": "code",
   "execution_count": 187,
   "id": "495a277d",
   "metadata": {},
   "outputs": [
    {
     "data": {
      "image/png": "[encoded data removed]",
      "text/plain": [
       "<Figure size 1080x288 with 1 Axes>"
      ]
     },
     "metadata": {
      "needs_background": "light"
     },
     "output_type": "display_data"
    }
   ],
   "source": [
    "#[과제] 상기 이항분포의 확률함수와 기댓값을 시각화 하세요.\n",
    "plot_prob(Bin(10,0.5))"
   ]
  },
  {
   "cell_type": "code",
   "execution_count": 188,
   "id": "81a0a107",
   "metadata": {},
   "outputs": [
    {
     "data": {
      "image/png": "[encoded data removed]",
      "text/plain": [
       "<Figure size 1080x288 with 1 Axes>"
      ]
     },
     "metadata": {
      "needs_background": "light"
     },
     "output_type": "display_data"
    }
   ],
   "source": [
    "# 확률이 0.3, 0.5, 0.7로 변할 때 확률함수가 변화는 모습을 시각화 하세요\n",
    "plot_prob(Bin(10,0.3))"
   ]
  },
  {
   "cell_type": "code",
   "execution_count": 189,
   "id": "790c44a1",
   "metadata": {
    "scrolled": true
   },
   "outputs": [
    {
     "data": {
      "image/png": "[encoded data removed]",
      "text/plain": [
       "<Figure size 1080x288 with 1 Axes>"
      ]
     },
     "metadata": {
      "needs_background": "light"
     },
     "output_type": "display_data"
    }
   ],
   "source": [
    "plot_prob(Bin(10,0.7))"
   ]
  },
  {
   "cell_type": "markdown",
   "id": "654aa115",
   "metadata": {},
   "source": [
    "#### 기하분포\n",
    "- 베르누이 시행에서 처음 성공할때까지 반복한 시행 횟수가 따르는 분포\n",
    "- 기하 분포의 파라미터는 베르누이 시행의 성공 확률 파라미터 p가 되며 파라미터 p의 기하분포를 Ge(p)로 표기\n",
    "\n",
    "f(x) = $(1-p)^{x-1}p$ $(x \\in \\{1,2,3\\})$\n",
    "\n",
    "       0        (otherwise)\n",
    "       \n",
    "- 기하분포의 기댓값과 분산 : E(X) = 1/p, V(X) = (1-p)/$p^2$"
   ]
  },
  {
   "cell_type": "code",
   "execution_count": 154,
   "id": "8e4fabd4",
   "metadata": {},
   "outputs": [],
   "source": [
    "#변수는 1~29로 한정\n",
    "def Ge(p):\n",
    "    x_set = np.arange(1,30)\n",
    "    def f(x):\n",
    "        if x in x_set:\n",
    "            return (1-p)**(x-1) *p\n",
    "        else:\n",
    "            return 0\n",
    "        \n",
    "    return x_set, f"
   ]
  },
  {
   "cell_type": "code",
   "execution_count": 156,
   "id": "0c2ea15b",
   "metadata": {},
   "outputs": [
    {
     "name": "stdout",
     "output_type": "stream",
     "text": [
      "expected value 2.0\n",
      "variance 2.0\n"
     ]
    }
   ],
   "source": [
    "# [과제] 성공확률이 0.5일때 기하분포의 기댓값과 분산을 구하세요.\n",
    "check_prob(Ge(0.5))"
   ]
  },
  {
   "cell_type": "code",
   "execution_count": 190,
   "id": "cdf1a701",
   "metadata": {
    "scrolled": true
   },
   "outputs": [
    {
     "data": {
      "image/png": "[encoded data removed]",
      "text/plain": [
       "<Figure size 1080x288 with 1 Axes>"
      ]
     },
     "metadata": {
      "needs_background": "light"
     },
     "output_type": "display_data"
    }
   ],
   "source": [
    "# [과제] 상기 기하분포의 확률함수와 기댓값을 시각화 하세요.\n",
    "plot_prob(Ge(0.5))"
   ]
  },
  {
   "cell_type": "code",
   "execution_count": 191,
   "id": "617c078b",
   "metadata": {},
   "outputs": [
    {
     "data": {
      "image/png": "[encoded data removed]",
      "text/plain": [
       "<Figure size 1080x288 with 1 Axes>"
      ]
     },
     "metadata": {
      "needs_background": "light"
     },
     "output_type": "display_data"
    }
   ],
   "source": [
    "# [과제] 성공확률이 0.2, 0.5, 0.8로 변할 때 확률함수가 변화는 모습을 시각화 하세요\n",
    "plot_prob(Ge(0.2))"
   ]
  },
  {
   "cell_type": "code",
   "execution_count": 192,
   "id": "77958be4",
   "metadata": {},
   "outputs": [
    {
     "data": {
      "image/png": "[encoded data removed]",
      "text/plain": [
       "<Figure size 1080x288 with 1 Axes>"
      ]
     },
     "metadata": {
      "needs_background": "light"
     },
     "output_type": "display_data"
    }
   ],
   "source": [
    "plot_prob(Ge(0.8))"
   ]
  },
  {
   "cell_type": "markdown",
   "id": "800103fe",
   "metadata": {},
   "source": [
    "#### 포아송 분포\n",
    "- 임의의 사건이 단위 시간당 발생하는 건 수가 따르는 확률분포이며 포아송 분포의 파라미터는 $\\lambda$로 나타낸다.\n",
    "- 하루에 평균 2건의 교통사고가 발생하는 지역에서 하루 교통사고 발생 건수는 Poi(2)를 따른다.\n",
    "\n",
    "예 ) 하루에 교통사고가 한건도 일어나지 않을 확률\n",
    "\n",
    "P(X=0) = 2!/0! *$e^{-2}$ = 0.135\n",
    "\n",
    "- 포아송 분포의 기대값과 분산은 모두 $\\lambda$가 된다.\n",
    "\n",
    "f(x) = $\\lambda^x/x!*e^{-\\lambda}$ $(x \\in \\{0,1,2,...\\})$\n",
    "  \n",
    "      0               (otherwise)"
   ]
  },
  {
   "cell_type": "code",
   "execution_count": 175,
   "id": "114ec061",
   "metadata": {},
   "outputs": [],
   "source": [
    "# 확률 변수를 1 이상 19 이하로 설정한 사용자 함수\n",
    "from scipy.special import factorial\n",
    "def Poi(lam):\n",
    "    x_set = np.arange(20)\n",
    "    def f(x):\n",
    "        if x in x_set:\n",
    "            return lam**x/factorial(x) * np.exp(-1*lam)\n",
    "        else:\n",
    "            return 0\n",
    "        \n",
    "    return x_set, f"
   ]
  },
  {
   "cell_type": "code",
   "execution_count": 176,
   "id": "dd1e52bd",
   "metadata": {},
   "outputs": [
    {
     "name": "stdout",
     "output_type": "stream",
     "text": [
      "expected value 3.0\n",
      "variance 3.0\n"
     ]
    }
   ],
   "source": [
    "# lambda가 0.3일때 포아송 분포의 기댓값과 분산을 구하시오\n",
    "check_prob(Poi(3))"
   ]
  },
  {
   "cell_type": "code",
   "execution_count": 193,
   "id": "ac551351",
   "metadata": {},
   "outputs": [
    {
     "data": {
      "image/png": "[encoded data removed]",
      "text/plain": [
       "<Figure size 1080x288 with 1 Axes>"
      ]
     },
     "metadata": {
      "needs_background": "light"
     },
     "output_type": "display_data"
    }
   ],
   "source": [
    "# 확률함수와 기대값 시각화\n",
    "plot_prob(Poi(0.3))"
   ]
  },
  {
   "cell_type": "code",
   "execution_count": 194,
   "id": "88fb7189",
   "metadata": {},
   "outputs": [
    {
     "data": {
      "image/png": "[encoded data removed]",
      "text/plain": [
       "<Figure size 1080x288 with 1 Axes>"
      ]
     },
     "metadata": {
      "needs_background": "light"
     },
     "output_type": "display_data"
    }
   ],
   "source": [
    "# lambda가 0.2 0.5 0.8로 변할 때 확률함수가 변화하는 모습을 시각화\n",
    "plot_prob(Poi(0.2))"
   ]
  },
  {
   "cell_type": "code",
   "execution_count": 195,
   "id": "c4801631",
   "metadata": {},
   "outputs": [
    {
     "data": {
      "image/png": "[encoded data removed]",
      "text/plain": [
       "<Figure size 1080x288 with 1 Axes>"
      ]
     },
     "metadata": {
      "needs_background": "light"
     },
     "output_type": "display_data"
    }
   ],
   "source": [
    "plot_prob(Poi(0.5))"
   ]
  },
  {
   "cell_type": "code",
   "execution_count": 196,
   "id": "1befaa33",
   "metadata": {},
   "outputs": [
    {
     "data": {
      "image/png": "[encoded data removed]",
      "text/plain": [
       "<Figure size 1080x288 with 1 Axes>"
      ]
     },
     "metadata": {
      "needs_background": "light"
     },
     "output_type": "display_data"
    }
   ],
   "source": [
    "plot_prob(Poi(0.8))"
   ]
  },
  {
   "cell_type": "code",
   "execution_count": null,
   "id": "61d741b7",
   "metadata": {},
   "outputs": [],
   "source": [
    "# 베르누이, 이항, 기하, 포아송 분포의 사례를 각각 2개씩 제시 및 설명"
   ]
  },
  {
   "cell_type": "code",
   "execution_count": 197,
   "id": "226f090d",
   "metadata": {
    "scrolled": true
   },
   "outputs": [
    {
     "data": {
      "image/png": "[encoded data removed]",
      "text/plain": [
       "<Figure size 1080x288 with 1 Axes>"
      ]
     },
     "metadata": {
      "needs_background": "light"
     },
     "output_type": "display_data"
    }
   ],
   "source": [
    "# 베르누이 1 : 가위바위보에서 가위를 낼 확률\n",
    "def Bern1(p):\n",
    "    x_set = np.array([0,1])\n",
    "    def f(x):\n",
    "        if x in x_set:\n",
    "            return p ** x * (1-p)**(1-x)\n",
    "        else:\n",
    "            return 0\n",
    "    return x_set, f\n",
    "\n",
    "plot_prob(Bern1(1/3))"
   ]
  },
  {
   "cell_type": "code",
   "execution_count": 198,
   "id": "fd02aa0a",
   "metadata": {},
   "outputs": [
    {
     "data": {
      "image/png": "[encoded data removed]",
      "text/plain": [
       "<Figure size 1080x288 with 1 Axes>"
      ]
     },
     "metadata": {
      "needs_background": "light"
     },
     "output_type": "display_data"
    }
   ],
   "source": [
    "# 베르누이 2 : 트럼프 카드 뭉치에서 스페이드 카드를 뽑을 확률 / 트럼프 카드에 4개의 문양 * 13장의 카드 + 조커 두장\n",
    "def Bern2(p):\n",
    "    x_set = np.array([0,1])\n",
    "    def f(x):\n",
    "        if x in x_set:\n",
    "            return p ** x * (1-p)**(1-x)\n",
    "        else:\n",
    "            return 0\n",
    "    return x_set, f\n",
    "\n",
    "plot_prob(Bern2(13/54))"
   ]
  },
  {
   "cell_type": "code",
   "execution_count": 199,
   "id": "693286a6",
   "metadata": {},
   "outputs": [
    {
     "data": {
      "image/png": "[encoded data removed]",
      "text/plain": [
       "<Figure size 1080x288 with 1 Axes>"
      ]
     },
     "metadata": {
      "needs_background": "light"
     },
     "output_type": "display_data"
    }
   ],
   "source": [
    "# 이항 분포 1 : 무지개색의 공들이 담긴 상자에서 10번을 뽑아 빨간색이 나올 확률의 분포\n",
    "from scipy.special import comb\n",
    "def Bin1(n,p):\n",
    "    x_set = np.arange(0,n+1)\n",
    "    def f(x):\n",
    "        if x in x_set:\n",
    "            return comb(n,x)*(p**x)*((1-p)**(n-x))\n",
    "        else:\n",
    "            return 0\n",
    "        \n",
    "    return x_set, f\n",
    "plot_prob(Bin1(10,1/7))"
   ]
  },
  {
   "cell_type": "code",
   "execution_count": 200,
   "id": "37e0f4c6",
   "metadata": {},
   "outputs": [
    {
     "data": {
      "image/png": "[encoded data removed]",
      "text/plain": [
       "<Figure size 1080x288 with 1 Axes>"
      ]
     },
     "metadata": {
      "needs_background": "light"
     },
     "output_type": "display_data"
    }
   ],
   "source": [
    "# 이항 분포2 : 주사위를 15번 굴려 1의 눈이 나올 확률의 분포\n",
    "from scipy.special import comb\n",
    "def Bin2(n,p):\n",
    "    x_set = np.arange(0,n+1)\n",
    "    def f(x):\n",
    "        if x in x_set:\n",
    "            return comb(n,x)*(p**x)*((1-p)**(n-x))\n",
    "        else:\n",
    "            return 0\n",
    "        \n",
    "    return x_set, f\n",
    "\n",
    "plot_prob(Bin2(15,1/6))"
   ]
  },
  {
   "cell_type": "code",
   "execution_count": 202,
   "id": "8d8f14bd",
   "metadata": {},
   "outputs": [
    {
     "data": {
      "image/png": "[encoded data removed]",
      "text/plain": [
       "<Figure size 1080x288 with 1 Axes>"
      ]
     },
     "metadata": {
      "needs_background": "light"
     },
     "output_type": "display_data"
    }
   ],
   "source": [
    "# 기하 분포 1: 홀짝을 맞출 확률 (최대 15번까지)\n",
    "def Ge1(p):\n",
    "    x_set = np.arange(1,15)\n",
    "    def f(x):\n",
    "        if x in x_set:\n",
    "            return (1-p)**(x-1) *p\n",
    "        else:\n",
    "            return 0\n",
    "        \n",
    "    return x_set, f\n",
    "plot_prob(Ge1(0.5))"
   ]
  },
  {
   "cell_type": "code",
   "execution_count": 204,
   "id": "4e2763fa",
   "metadata": {},
   "outputs": [
    {
     "data": {
      "image/png": "[encoded data removed]",
      "text/plain": [
       "<Figure size 1080x288 with 1 Axes>"
      ]
     },
     "metadata": {
      "needs_background": "light"
     },
     "output_type": "display_data"
    }
   ],
   "source": [
    "# 기하 분포 2: 양궁 과녁에 10점을 맞출 확률 ( 준비된 화살은 12발)\n",
    "def Ge2(p):\n",
    "    x_set = np.arange(1,13)\n",
    "    def f(x):\n",
    "        if x in x_set:\n",
    "            return (1-p)**(x-1) *p\n",
    "        else:\n",
    "            return 0\n",
    "        \n",
    "    return x_set, f\n",
    "plot_prob(Ge2(0.1))"
   ]
  },
  {
   "cell_type": "code",
   "execution_count": 206,
   "id": "4e53a1e2",
   "metadata": {},
   "outputs": [
    {
     "data": {
      "image/png": "[encoded data removed]",
      "text/plain": [
       "<Figure size 1080x288 with 1 Axes>"
      ]
     },
     "metadata": {
      "needs_background": "light"
     },
     "output_type": "display_data"
    }
   ],
   "source": [
    "# 포아송 분포 1: 저녁 시간대에 평균 5건의 주문을 받는 식당의 주문 건수에 대한 확률의 분포 (최대 25건까지)\n",
    "from scipy.special import factorial\n",
    "def Poi1(lam):\n",
    "    x_set = np.arange(26)\n",
    "    def f(x):\n",
    "        if x in x_set:\n",
    "            return lam**x/factorial(x) * np.exp(-1*lam)\n",
    "        else:\n",
    "            return 0\n",
    "        \n",
    "    return x_set, f\n",
    "plot_prob(Poi1(5))"
   ]
  },
  {
   "cell_type": "code",
   "execution_count": 215,
   "id": "765e9890",
   "metadata": {},
   "outputs": [
    {
     "data": {
      "image/png": "[encoded data removed]",
      "text/plain": [
       "<Figure size 1080x288 with 1 Axes>"
      ]
     },
     "metadata": {
      "needs_background": "light"
     },
     "output_type": "display_data"
    }
   ],
   "source": [
    "# 포아송 분포 2 : 하루 평균 10명이 방문하는 동물병원의 방문객 수에 대한 확률의 분포 (최대 20건까지)\n",
    "from scipy.special import factorial\n",
    "def Poi2(lam):\n",
    "    x_set = np.arange(26)\n",
    "    def f(x):\n",
    "        if x in x_set:\n",
    "            return (lam**x)/factorial(x) * np.exp(-1*lam)\n",
    "        else:\n",
    "            return 0\n",
    "        \n",
    "    return x_set, f\n",
    "plot_prob(Poi2(10))"
   ]
  }
 ],
 "metadata": {
  "kernelspec": {
   "display_name": "Python 3 (ipykernel)",
   "language": "python",
   "name": "python3"
  },
  "language_info": {
   "codemirror_mode": {
    "name": "ipython",
    "version": 3
   },
   "file_extension": ".py",
   "mimetype": "text/x-python",
   "name": "python",
   "nbconvert_exporter": "python",
   "pygments_lexer": "ipython3",
   "version": "3.8.12"
  }
 },
 "nbformat": 4,
 "nbformat_minor": 5
}
