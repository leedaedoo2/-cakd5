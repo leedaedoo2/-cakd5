{
 "cells": [
  {
   "cell_type": "markdown",
   "id": "cf85195d",
   "metadata": {},
   "source": [
    "#### 통계적 추정\n",
    "- 점추정\n",
    "  - 모평균이나 모분산 등의 모수를 하나의 수치로 추정\n",
    "  - 추정량의 기댓값이 추측하려는 모수가 되는 성질을 불편성이라고 하며 불편성을 가진 추정량의 불편추정량이라고 한다.\n",
    "  - 표본평균이 모평균을 잘 추정할 수 있는 근거 중 하나가 바로 이 불편성이다.\n",
    "  - 표본크기 n을 증가시키면 추측하기 원하는 모수에 수렴해가는 성질을 일치성이라고 하며 일치성을 지닌 추정량을 일치 추정량이라고 함\n",
    "  - 표본평균은 불편성과 일치성을 모두 가지고 있기 때문에 모평균을 잘 추정한다고 할 수 있다.\n",
    "  - 모분산의 불편 추정량이 되는 표본통계량은 불편분산이다.\n",
    "  - 불편분산은 표본분산에거 나누는 수 n-1로 하는 식으로 계산되며 표본분산은 $S^2$으로 나타내지만 불편분산은 $s^2$으로 나타낸다.\n",
    "  \n",
    "- 구간추정\n",
    "  - 모분산을 알고 있는 경우의 모평균 구간추정\n",
    "  - 모분산을 알고 있는 경우의 모분산 구간추정\n",
    "  - 모분산을 알지 못하는 경우의 모평균 구간추정\n",
    "  - 베르누이 분포의 모평균의 구간 추정\n",
    "  - 포아송 분포의 모평균의 구간 추정"
   ]
  },
  {
   "cell_type": "code",
   "execution_count": 68,
   "id": "61e9bc47",
   "metadata": {},
   "outputs": [
    {
     "name": "stdout",
     "output_type": "stream",
     "text": [
      "mean: 69.53 var: 206.6691\n"
     ]
    }
   ],
   "source": [
    "import numpy as np\n",
    "import pandas as pd\n",
    "import matplotlib.pyplot as plt\n",
    "from scipy import stats\n",
    "\n",
    "df = pd.read_csv('./data/ch4_scores400.csv')\n",
    "scores = np.array(df.score)\n",
    "print('mean:', np.mean(scores),'var:', np.var(scores))"
   ]
  },
  {
   "cell_type": "code",
   "execution_count": 2,
   "id": "246c41ae",
   "metadata": {},
   "outputs": [
    {
     "name": "stdout",
     "output_type": "stream",
     "text": [
      "모평균 점추정 : 69.556695 \n",
      "\n",
      "모분산 점추정 : 206.3315765789474\n"
     ]
    }
   ],
   "source": [
    "# 모평균과 모분산의 점추정 사례를 파이썬 코드로 수행\n",
    "# 원소 20개로 구성된 표본을 총 1만개 생성 후 대수의 법칙을 활용하여 모평균과 모분산 추정\n",
    "np.random.seed(20202)\n",
    "n_samples = int(1e4)\n",
    "n = 20\n",
    "samples = np.random.choice(scores, (n_samples,n))\n",
    "sample_means = np.mean(samples,axis = 1)\n",
    "print('모평균 점추정 :',np.mean(sample_means),'\\n')\n",
    "\n",
    "sample_var = np.var(samples, axis = 1, ddof = 1)\n",
    "print('모분산 점추정 :',np.mean(sample_var))"
   ]
  },
  {
   "cell_type": "markdown",
   "id": "9509537f",
   "metadata": {},
   "source": [
    "모분산을 모르는 경우\n",
    "- $\\sqrt{\\sigma^2/n}$ 대신 불편표준편차의 $\\sqrt{s^2/n}$를 표준오차로 사용한다.\n",
    "- 표준화 과정에서 다음의 식이 사용되는데, 이것은 t분포를 따른다. (카이제곱분포 Y 이용하여 구함)  \n",
    "$t = $ $Z \\over \\sqrt{Y/(n-1)}$\n",
    "- 이 때, $\\alpha$ 신뢰구간은 다음과 같다.  \n",
    "$[\\bar{X}-t_{\\alpha/2}(n-1)\\sqrt{s^2/n}, \\bar{X}-t_{1-\\alpha/2}(n-1)\\sqrt{s^2/n}]$\n"
   ]
  },
  {
   "cell_type": "code",
   "execution_count": 3,
   "id": "33e711d3",
   "metadata": {},
   "outputs": [
    {
     "data": {
      "text/plain": [
       "(67.21881404885121, 79.18118595114879)"
      ]
     },
     "execution_count": 3,
     "metadata": {},
     "output_type": "execute_result"
    }
   ],
   "source": [
    "# 모분산을 알지 못할 때 정규분포의 모평균의 구간 추정을 파이썬 코드로 수행\n",
    "\n",
    "# 모분산 대신 추정량인 불편분산 s^2를 사용 > t 분포의 정의를 따름\n",
    "\n",
    "sample_index = np.random.randint(n_samples)\n",
    "sample = samples[sample_index]\n",
    "s_mean = np.mean(sample)\n",
    "s_var = np.var(sample, ddof = 1)\n",
    "s_mean, s_var\n",
    "\n",
    "rv = stats.t(df = n-1)\n",
    "lcl = s_mean - rv.isf(0.025)*np.sqrt(s_var/n)\n",
    "ucl = s_mean - rv.isf(0.975)*np.sqrt(s_var/n)\n",
    "lcl,ucl"
   ]
  },
  {
   "cell_type": "code",
   "execution_count": 4,
   "id": "71e9de4a",
   "metadata": {
    "scrolled": true
   },
   "outputs": [
    {
     "name": "stdout",
     "output_type": "stream",
     "text": [
      "10.444444444444445\n"
     ]
    },
    {
     "data": {
      "text/plain": [
       "(9.697953549598202, 11.190935339290688)"
      ]
     },
     "execution_count": 4,
     "metadata": {},
     "output_type": "execute_result"
    }
   ],
   "source": [
    "# 모집단에 정규분포를 가정할 수 없는 예를 포아송 분포로 설정하여 모평균 신뢰구간을 구하세요\n",
    "\n",
    "# 포아송 분포 : 평균 = 𝜆, 분산 = 𝜆\n",
    "\n",
    "n_access_df = pd.read_csv('./data/ch10_access.csv')\n",
    "n_access = np.array(n_access_df['access number'])\n",
    "n = len(n_access)\n",
    "\n",
    "s_mean = np.mean(n_access)\n",
    "print(s_mean)\n",
    "\n",
    "rv = stats.norm()\n",
    "\n",
    "lcl = s_mean - rv.isf(0.025)*np.sqrt(s_mean/n)\n",
    "ucl = s_mean - rv.isf(0.975)*np.sqrt(s_mean/n)\n",
    "lcl,ucl"
   ]
  },
  {
   "cell_type": "markdown",
   "id": "38b59d5a",
   "metadata": {},
   "source": [
    "#### 통계적 가설 검정\n",
    "\n",
    "- 가설 검정은 모평균은 '130g보다 작다'이며 이는 차이가 있다고 주장하는 것이므로 대립 가설이 된다. 반대로 '모평균이 130g이다'는 귀무 가설이 된다.\n",
    "\n",
    "- 모평균이 130이라는 가정,정규분포를 따르고 분산이 9라는 전제\n",
    "- 표본평균은 N(130,9/14)를 따를 것\n",
    "\n",
    "- 유의수준으로 5%의 확률을 설정했다.\n",
    "- rv.isf(0.95)는 128.681이며 이 값이 임계값이 된다.\n",
    "- 학생의 구매한 감자튀김의 표본평균은 128.451이며 이를 검정 통계량으로 선정된다.\n",
    "- 임계값보다 검정통계량이 작으므로 귀무가설이 기각된다. 따라서 모평균이 130g 보다 작다는 결론을 내릴 수 있다."
   ]
  },
  {
   "cell_type": "code",
   "execution_count": 69,
   "id": "a31f919e",
   "metadata": {
    "scrolled": true
   },
   "outputs": [
    {
     "name": "stdout",
     "output_type": "stream",
     "text": [
      "128.4507142857143 \n",
      "\n",
      "128.68118313069039 \n",
      "\n",
      "-1.932298779026813 \n",
      "\n",
      "-1.6448536269514722 \n",
      "\n",
      "0.026661319523126635\n"
     ]
    }
   ],
   "source": [
    "# 귀무가설 : 감자튀김의 평균무게는 130g이다.\n",
    "# 대립가설 : 감자튀김의 평균무게는 130g보다 작다.\n",
    "# 유의 수준은 5%로 설정\n",
    "df = pd.read_csv('./data/ch11_potato.csv')\n",
    "sample = np.array(df.무게)\n",
    "s_mean = sample.mean()\n",
    "# 검정통계량 : A가 산 감자튀김 14개의 평균 무게 = 128.451g\n",
    "print(s_mean,'\\n')\n",
    "# 임계값 구하기\n",
    "rv = stats.norm(130, np.sqrt(9/14))\n",
    "print(rv.isf(0.95),'\\n')\n",
    "# 검정통계량이 임계값보다 작기때문에 귀무가설은 기각된다.\n",
    "\n",
    "\n",
    "# 표준화 하여 검정통계량과 임계값의 비교\n",
    "\n",
    "# 표준화 된 검정 통계량 값\n",
    "z = (s_mean-130)/np.sqrt(9/14)\n",
    "print(z,'\\n')\n",
    "# 임계값\n",
    "rv = stats.norm()\n",
    "print(rv.isf(0.95) , '\\n')\n",
    "# 검정통계량이 임계값보다 작으므로 귀무가설은 기각\n",
    "\n",
    "# p값을 활용하여 가설검정\n",
    "\n",
    "print(rv.cdf(z))\n",
    "# 유의수준인 0.05보다 작으므로 귀무가설 기각\n",
    "\n",
    "# 따라서 모평균은 130g보다 작다.\n"
   ]
  },
  {
   "cell_type": "code",
   "execution_count": 6,
   "id": "f3938555",
   "metadata": {},
   "outputs": [
    {
     "data": {
      "image/png": "[encoded data removed]",
      "text/plain": [
       "<Figure size 720x432 with 2 Axes>"
      ]
     },
     "metadata": {
      "needs_background": "light"
     },
     "output_type": "display_data"
    }
   ],
   "source": [
    "import matplotlib.pyplot as plt\n",
    "fig = plt.figure(figsize=(10,6))\n",
    "ax1 = fig.add_subplot(111)\n",
    "ax2 = ax1.twinx()\n",
    "xs = np.linspace(127,133,60)\n",
    "rv = stats.norm(130, np.sqrt(9/14))\n",
    "ax1.plot(xs,rv.pdf(xs))\n",
    "ax2.plot(xs,rv.cdf(xs),color = 'black')\n",
    "ax1.vlines(rv.ppf(0.05),0,0.5,color = 'gray',ls='--')\n",
    "ax1.set_xlabel('x',fontsize = 20)\n",
    "ax1.set_ylabel('pdf',rotation = 0, fontsize = 20)\n",
    "ax2.set_ylabel('cdf',rotation = 0,fontsize = 20)\n",
    "plt.show()"
   ]
  },
  {
   "cell_type": "code",
   "execution_count": 5,
   "id": "55ebf47a",
   "metadata": {},
   "outputs": [
    {
     "data": {
      "text/html": [
       "<div>\n",
       "<style scoped>\n",
       "    .dataframe tbody tr th:only-of-type {\n",
       "        vertical-align: middle;\n",
       "    }\n",
       "\n",
       "    .dataframe tbody tr th {\n",
       "        vertical-align: top;\n",
       "    }\n",
       "\n",
       "    .dataframe thead th {\n",
       "        text-align: right;\n",
       "    }\n",
       "</style>\n",
       "<table border=\"1\" class=\"dataframe\">\n",
       "  <thead>\n",
       "    <tr style=\"text-align: right;\">\n",
       "      <th></th>\n",
       "      <th>무게</th>\n",
       "    </tr>\n",
       "  </thead>\n",
       "  <tbody>\n",
       "    <tr>\n",
       "      <th>0</th>\n",
       "      <td>122.02</td>\n",
       "    </tr>\n",
       "    <tr>\n",
       "      <th>1</th>\n",
       "      <td>131.73</td>\n",
       "    </tr>\n",
       "    <tr>\n",
       "      <th>2</th>\n",
       "      <td>130.60</td>\n",
       "    </tr>\n",
       "    <tr>\n",
       "      <th>3</th>\n",
       "      <td>131.82</td>\n",
       "    </tr>\n",
       "    <tr>\n",
       "      <th>4</th>\n",
       "      <td>132.05</td>\n",
       "    </tr>\n",
       "  </tbody>\n",
       "</table>\n",
       "</div>"
      ],
      "text/plain": [
       "       무게\n",
       "0  122.02\n",
       "1  131.73\n",
       "2  130.60\n",
       "3  131.82\n",
       "4  132.05"
      ]
     },
     "execution_count": 5,
     "metadata": {},
     "output_type": "execute_result"
    }
   ],
   "source": [
    "df = pd.read_csv('./data/ch11_potato.csv')\n",
    "df.head()"
   ]
  },
  {
   "cell_type": "code",
   "execution_count": 12,
   "id": "30b88912",
   "metadata": {
    "scrolled": true
   },
   "outputs": [
    {
     "name": "stdout",
     "output_type": "stream",
     "text": [
      "128.4507142857143 \n",
      "\n",
      "검정통계량: -1.932298779026813\n",
      "임계값 -1.6448536269514722\n"
     ]
    }
   ],
   "source": [
    "# 감자튀김 무게의 평균이 130g이다 라는 귀무가설에 대한 유의성 검정을 수행\n",
    "\n",
    "s_mean = np.mean(np.array(df['무게']))\n",
    "print(s_mean,'\\n')\n",
    "\n",
    "z = (s_mean - 130)/np.sqrt(9/14)\n",
    "print('검정통계량:', z)\n",
    "\n",
    "rv = stats.norm()\n",
    "print('임계값',rv.isf(0.95))\n",
    "\n",
    "# 검정통계량이 임계값보다 작으므로 귀무가설을 기각한다."
   ]
  },
  {
   "cell_type": "code",
   "execution_count": 11,
   "id": "afac70e0",
   "metadata": {},
   "outputs": [
    {
     "data": {
      "text/plain": [
       "0.026661319523126635"
      ]
     },
     "execution_count": 11,
     "metadata": {},
     "output_type": "execute_result"
    }
   ],
   "source": [
    "# p값이 유의수준 0.05보다 작으므로 귀무가설을 기각한다.\n",
    "p_value = rv.cdf(z)\n",
    "p_value\n",
    "#'모평균은 130g이다'라는 결론이 되는 것은 아니다."
   ]
  },
  {
   "cell_type": "code",
   "execution_count": 9,
   "id": "57cef42d",
   "metadata": {},
   "outputs": [
    {
     "data": {
      "text/plain": [
       "-1.9323"
      ]
     },
     "execution_count": 9,
     "metadata": {},
     "output_type": "execute_result"
    }
   ],
   "source": [
    "# 양측검정\n",
    "z = (s_mean-130)/np.sqrt(9/14)\n",
    "z.round(4)\n"
   ]
  },
  {
   "cell_type": "code",
   "execution_count": 11,
   "id": "f86e5030",
   "metadata": {},
   "outputs": [
    {
     "data": {
      "text/plain": [
       "(-1.959963984540054, 1.959963984540054)"
      ]
     },
     "execution_count": 11,
     "metadata": {},
     "output_type": "execute_result"
    }
   ],
   "source": [
    "rv = stats.norm()\n",
    "rv.interval(0.95)"
   ]
  },
  {
   "cell_type": "code",
   "execution_count": 13,
   "id": "46227f8c",
   "metadata": {},
   "outputs": [
    {
     "data": {
      "text/plain": [
       "0.05332263904625327"
      ]
     },
     "execution_count": 13,
     "metadata": {},
     "output_type": "execute_result"
    }
   ],
   "source": [
    "# 양측 검정의 p값은 상단과 하단의 양쪽 면적을 고려해야 하므로 누적밀도함수의 2배로 한다.\n",
    "# p값이 0.05보다 크므로 귀무가설은 기각되지 않는다. '감자튀김 무게 평균은 130g이 아니다' 라고 말할 수 없다.\n",
    "rv.cdf(z)*2"
   ]
  },
  {
   "cell_type": "markdown",
   "id": "ecd60d30",
   "metadata": {},
   "source": [
    "#### 가설검정에서의 두가지 오류\n",
    "- 제 1종 오류 : 귀무가설이 옳을 때 귀무가설을 기각하는 오류\n",
    "  - 실제로 평균이 130g인데도 평균은 130g 보다 작다라는 결론을 내리는 상황\n",
    "  - 위험률 : $\\alpha$\n",
    "- 제 2종 오류 : 대립가설이 옳을 때 귀무가설을 채택하는 오류\n",
    "  - 모평균은 130g 보다 작은데도 '모평균은 130g보다 작다' 라는 결론을 얻을 수 없는 비율\n",
    "  - 검정력 : 1-$\\beta$\n",
    "- 통계적 가설검정에서는 제 1종 오류는 제어할 수 있지만 제 2종 오류는 제어할 수 없는 비대칭성이 있다."
   ]
  },
  {
   "cell_type": "code",
   "execution_count": 16,
   "id": "2cdc91d1",
   "metadata": {},
   "outputs": [
    {
     "data": {
      "text/plain": [
       "0.0497"
      ]
     },
     "execution_count": 16,
     "metadata": {},
     "output_type": "execute_result"
    }
   ],
   "source": [
    "# 제 1종 오류를 범할 비율 : 위험률 = 분석가가 제어할 수 있는 확률\n",
    "c = stats.norm().isf(0.95)\n",
    "rv = stats.norm(130,3)\n",
    "n_samples = 10000\n",
    "cnt = 0\n",
    "for _ in range(n_samples):\n",
    "    sample_ = np.round(rv.rvs(14),2)\n",
    "    s_mean_ = np.mean(sample_)\n",
    "    z = (s_mean_ - 130) / np.sqrt(9/14)\n",
    "    if z < c:\n",
    "        cnt += 1\n",
    "cnt / n_samples"
   ]
  },
  {
   "cell_type": "code",
   "execution_count": 26,
   "id": "fd241140",
   "metadata": {},
   "outputs": [
    {
     "data": {
      "text/plain": [
       "0.1956"
      ]
     },
     "execution_count": 26,
     "metadata": {},
     "output_type": "execute_result"
    }
   ],
   "source": [
    "# 제 2종 오류를 범하는 비율\n",
    "c = stats.norm().isf(0.95)\n",
    "rv = stats.norm(128,3)\n",
    "n_samples = 10000\n",
    "cnt = 0\n",
    "for _ in range(n_samples):\n",
    "    sample_ = np.round(rv.rvs(14),2)\n",
    "    s_mean_ = np.mean(sample_)\n",
    "    z = (s_mean_ - 130) / np.sqrt(9/14)\n",
    "    if z >= c:\n",
    "        cnt += 1\n",
    "cnt / n_samples"
   ]
  },
  {
   "cell_type": "code",
   "execution_count": 73,
   "id": "ac3177dc",
   "metadata": {},
   "outputs": [
    {
     "name": "stdout",
     "output_type": "stream",
     "text": [
      "귀무가설을 채택\n",
      "p값은 0.053\n"
     ]
    }
   ],
   "source": [
    "# 정규분포의 모평균에 대한 검정(모분산을 알고 있음)\n",
    "# 모평균에 대한 검정을 사용자 함수 pmean_test()를 작성하여 감자튀김 사례에 대하여 양측검정으로 수행하세요\n",
    "def pmean_test(sample, mean0, p_var,alpha = 0.05):\n",
    "    s_mean = np.mean(sample)\n",
    "    n = len(sample)\n",
    "    rv = stats.norm()\n",
    "    interval = rv.interval(1-alpha)\n",
    "    \n",
    "    z = (s_mean - mean0)/np.sqrt(p_var/n)\n",
    "    if interval[0] <= z <= interval[1]:\n",
    "        print('귀무가설을 채택')\n",
    "    else:\n",
    "        print('귀무가설을 기각')\n",
    "        \n",
    "    if z< 0 :\n",
    "        p = rv.cdf(z)*2\n",
    "    else:\n",
    "        p = (1-rv.cdf(z))*2\n",
    "    print(f'p값은 {p:.3f}')\n",
    "    \n",
    "pmean_test(sample,130,9)"
   ]
  },
  {
   "cell_type": "code",
   "execution_count": 34,
   "id": "bfdad9e4",
   "metadata": {},
   "outputs": [],
   "source": [
    "# 정규분포의 모분산에 대한 검정\n",
    "def pvar_test(sample, var0, alpha = 0.05):\n",
    "    u_var = np.var(sample,ddof = 1)\n",
    "    n = len(sample)\n",
    "    rv = stats.chi2(df = n-1)\n",
    "    interval = rv.interval(1-alpha)\n",
    "    \n",
    "    y = (n-1)*u_var/var0   #검정통계량\n",
    "    if interval[0] <= y <= interval[1]:\n",
    "        print('귀무가설을 채택')\n",
    "    else:\n",
    "        print('귀무가설을 기각')\n",
    "        \n",
    "    if y<rv.isf(0.5):\n",
    "        p = rv.cdf(y)*2\n",
    "    else:\n",
    "        p = (1-rv.cdf(y))*2\n",
    "    print(f'p값은 {p:.3f}')"
   ]
  },
  {
   "cell_type": "code",
   "execution_count": 35,
   "id": "17cb17d0",
   "metadata": {
    "scrolled": true
   },
   "outputs": [
    {
     "name": "stdout",
     "output_type": "stream",
     "text": [
      "귀무가설을 채택\n",
      "p값은 0.085\n"
     ]
    }
   ],
   "source": [
    "pvar_test(sample, 9)"
   ]
  },
  {
   "cell_type": "markdown",
   "id": "8900a252",
   "metadata": {},
   "source": [
    "정규분포의 모평균에 대한 검정(모분산을 알지 못함)"
   ]
  },
  {
   "cell_type": "code",
   "execution_count": 36,
   "id": "23e07a09",
   "metadata": {},
   "outputs": [],
   "source": [
    "def pmean_test(sample, mean0, alpha = 0.05):\n",
    "    s_mean = np.mean(sample)\n",
    "    u_var = np.var(sample,ddof = 1)\n",
    "    \n",
    "    n = len(sample)\n",
    "    rv = stats.t(df=n-1)\n",
    "    interval = rv.interval(1-alpha)\n",
    "    \n",
    "    t = (s_mean-mean0) / np.sqrt(u_var/n)\n",
    "    \n",
    "    if interval[0] <= t <= interval[1]:\n",
    "        print('귀무가설을 채택')\n",
    "    else:\n",
    "        print('귀무가설을 기각')\n",
    "        \n",
    "    if t< 0 :\n",
    "        p = rv.cdf(t)*2\n",
    "    else:\n",
    "        p = (1-rv.cdf(t))*2\n",
    "    print(f'p값은 {p:.3f}')"
   ]
  },
  {
   "cell_type": "code",
   "execution_count": 37,
   "id": "5bbd4b05",
   "metadata": {
    "scrolled": true
   },
   "outputs": [
    {
     "name": "stdout",
     "output_type": "stream",
     "text": [
      "귀무가설을 채택\n",
      "p값은 0.169\n"
     ]
    }
   ],
   "source": [
    "pmean_test(sample,130)"
   ]
  },
  {
   "cell_type": "markdown",
   "id": "979119e8",
   "metadata": {},
   "source": [
    "대응표본, 독립표본에 대하여 정규분포를 가정하는 경우, 가정할 수 없는 경우의 4가지 유형의 사례 작성"
   ]
  },
  {
   "cell_type": "code",
   "execution_count": 38,
   "id": "a549eef6",
   "metadata": {},
   "outputs": [
    {
     "name": "stdout",
     "output_type": "stream",
     "text": [
      "(20, 2)\n"
     ]
    },
    {
     "data": {
      "text/html": [
       "<div>\n",
       "<style scoped>\n",
       "    .dataframe tbody tr th:only-of-type {\n",
       "        vertical-align: middle;\n",
       "    }\n",
       "\n",
       "    .dataframe tbody tr th {\n",
       "        vertical-align: top;\n",
       "    }\n",
       "\n",
       "    .dataframe thead th {\n",
       "        text-align: right;\n",
       "    }\n",
       "</style>\n",
       "<table border=\"1\" class=\"dataframe\">\n",
       "  <thead>\n",
       "    <tr style=\"text-align: right;\">\n",
       "      <th></th>\n",
       "      <th>전</th>\n",
       "      <th>후</th>\n",
       "    </tr>\n",
       "  </thead>\n",
       "  <tbody>\n",
       "    <tr>\n",
       "      <th>0</th>\n",
       "      <td>59</td>\n",
       "      <td>41</td>\n",
       "    </tr>\n",
       "    <tr>\n",
       "      <th>1</th>\n",
       "      <td>52</td>\n",
       "      <td>63</td>\n",
       "    </tr>\n",
       "    <tr>\n",
       "      <th>2</th>\n",
       "      <td>55</td>\n",
       "      <td>68</td>\n",
       "    </tr>\n",
       "    <tr>\n",
       "      <th>3</th>\n",
       "      <td>61</td>\n",
       "      <td>59</td>\n",
       "    </tr>\n",
       "    <tr>\n",
       "      <th>4</th>\n",
       "      <td>59</td>\n",
       "      <td>84</td>\n",
       "    </tr>\n",
       "  </tbody>\n",
       "</table>\n",
       "</div>"
      ],
      "text/plain": [
       "    전   후\n",
       "0  59  41\n",
       "1  52  63\n",
       "2  55  68\n",
       "3  61  59\n",
       "4  59  84"
      ]
     },
     "execution_count": 38,
     "metadata": {},
     "output_type": "execute_result"
    }
   ],
   "source": [
    "data = pd.read_csv('./data/ch11_training_rel.csv')\n",
    "print(data.shape)\n",
    "data.head()"
   ]
  },
  {
   "cell_type": "code",
   "execution_count": 39,
   "id": "8ebccd37",
   "metadata": {},
   "outputs": [
    {
     "data": {
      "text/html": [
       "<div>\n",
       "<style scoped>\n",
       "    .dataframe tbody tr th:only-of-type {\n",
       "        vertical-align: middle;\n",
       "    }\n",
       "\n",
       "    .dataframe tbody tr th {\n",
       "        vertical-align: top;\n",
       "    }\n",
       "\n",
       "    .dataframe thead th {\n",
       "        text-align: right;\n",
       "    }\n",
       "</style>\n",
       "<table border=\"1\" class=\"dataframe\">\n",
       "  <thead>\n",
       "    <tr style=\"text-align: right;\">\n",
       "      <th></th>\n",
       "      <th>전</th>\n",
       "      <th>후</th>\n",
       "      <th>gap</th>\n",
       "    </tr>\n",
       "  </thead>\n",
       "  <tbody>\n",
       "    <tr>\n",
       "      <th>0</th>\n",
       "      <td>59</td>\n",
       "      <td>41</td>\n",
       "      <td>-18</td>\n",
       "    </tr>\n",
       "    <tr>\n",
       "      <th>1</th>\n",
       "      <td>52</td>\n",
       "      <td>63</td>\n",
       "      <td>11</td>\n",
       "    </tr>\n",
       "    <tr>\n",
       "      <th>2</th>\n",
       "      <td>55</td>\n",
       "      <td>68</td>\n",
       "      <td>13</td>\n",
       "    </tr>\n",
       "    <tr>\n",
       "      <th>3</th>\n",
       "      <td>61</td>\n",
       "      <td>59</td>\n",
       "      <td>-2</td>\n",
       "    </tr>\n",
       "    <tr>\n",
       "      <th>4</th>\n",
       "      <td>59</td>\n",
       "      <td>84</td>\n",
       "      <td>25</td>\n",
       "    </tr>\n",
       "  </tbody>\n",
       "</table>\n",
       "</div>"
      ],
      "text/plain": [
       "    전   후  gap\n",
       "0  59  41  -18\n",
       "1  52  63   11\n",
       "2  55  68   13\n",
       "3  61  59   -2\n",
       "4  59  84   25"
      ]
     },
     "execution_count": 39,
     "metadata": {},
     "output_type": "execute_result"
    }
   ],
   "source": [
    "# 귀무가설:after의 평균 - before의 평균 = 0\n",
    "# 대립가설:after의 평균 - before의 평균 != 0\n",
    "\n",
    "data['gap'] = data['후'] - data['전']\n",
    "data.head()"
   ]
  },
  {
   "cell_type": "code",
   "execution_count": 41,
   "id": "925dc96b",
   "metadata": {},
   "outputs": [
    {
     "data": {
      "text/plain": [
       "0.04004419061842953"
      ]
     },
     "execution_count": 41,
     "metadata": {},
     "output_type": "execute_result"
    }
   ],
   "source": [
    "t,p = stats.ttest_1samp(data.gap, 0)\n",
    "p\n",
    "#유의값보다 작으므로 귀무가설을 기각, 근련운동은 집중력에 유의미한 차이를 가져온다라고 할 수 있다."
   ]
  },
  {
   "cell_type": "code",
   "execution_count": 42,
   "id": "a96caa52",
   "metadata": {},
   "outputs": [
    {
     "data": {
      "text/html": [
       "<div>\n",
       "<style scoped>\n",
       "    .dataframe tbody tr th:only-of-type {\n",
       "        vertical-align: middle;\n",
       "    }\n",
       "\n",
       "    .dataframe tbody tr th {\n",
       "        vertical-align: top;\n",
       "    }\n",
       "\n",
       "    .dataframe thead th {\n",
       "        text-align: right;\n",
       "    }\n",
       "</style>\n",
       "<table border=\"1\" class=\"dataframe\">\n",
       "  <thead>\n",
       "    <tr style=\"text-align: right;\">\n",
       "      <th></th>\n",
       "      <th>A</th>\n",
       "      <th>B</th>\n",
       "    </tr>\n",
       "  </thead>\n",
       "  <tbody>\n",
       "    <tr>\n",
       "      <th>0</th>\n",
       "      <td>47</td>\n",
       "      <td>49</td>\n",
       "    </tr>\n",
       "    <tr>\n",
       "      <th>1</th>\n",
       "      <td>50</td>\n",
       "      <td>52</td>\n",
       "    </tr>\n",
       "    <tr>\n",
       "      <th>2</th>\n",
       "      <td>37</td>\n",
       "      <td>54</td>\n",
       "    </tr>\n",
       "    <tr>\n",
       "      <th>3</th>\n",
       "      <td>60</td>\n",
       "      <td>48</td>\n",
       "    </tr>\n",
       "    <tr>\n",
       "      <th>4</th>\n",
       "      <td>39</td>\n",
       "      <td>51</td>\n",
       "    </tr>\n",
       "  </tbody>\n",
       "</table>\n",
       "</div>"
      ],
      "text/plain": [
       "    A   B\n",
       "0  47  49\n",
       "1  50  52\n",
       "2  37  54\n",
       "3  60  48\n",
       "4  39  51"
      ]
     },
     "execution_count": 42,
     "metadata": {},
     "output_type": "execute_result"
    }
   ],
   "source": [
    "# 독립표본 t검정\n",
    "data = pd.read_csv('./data/ch11_training_ind.csv')\n",
    "data.head()"
   ]
  },
  {
   "cell_type": "code",
   "execution_count": 43,
   "id": "07229cba",
   "metadata": {},
   "outputs": [
    {
     "data": {
      "text/plain": [
       "0.08695731107259362"
      ]
     },
     "execution_count": 43,
     "metadata": {},
     "output_type": "execute_result"
    }
   ],
   "source": [
    "t,p = stats.ttest_ind(data.A,data.B, equal_var = False)\n",
    "p\n",
    "#p값이 0.05보다 크므로 귀무가설 채택, 두 학급 사이에 평균 점수에 유의한 차이가 있다고 말할 수 없다."
   ]
  },
  {
   "cell_type": "code",
   "execution_count": 45,
   "id": "0321ad5a",
   "metadata": {},
   "outputs": [
    {
     "data": {
      "text/html": [
       "<div>\n",
       "<style scoped>\n",
       "    .dataframe tbody tr th:only-of-type {\n",
       "        vertical-align: middle;\n",
       "    }\n",
       "\n",
       "    .dataframe tbody tr th {\n",
       "        vertical-align: top;\n",
       "    }\n",
       "\n",
       "    .dataframe thead th {\n",
       "        text-align: right;\n",
       "    }\n",
       "</style>\n",
       "<table border=\"1\" class=\"dataframe\">\n",
       "  <thead>\n",
       "    <tr style=\"text-align: right;\">\n",
       "      <th></th>\n",
       "      <th>전</th>\n",
       "      <th>후</th>\n",
       "      <th>gap</th>\n",
       "    </tr>\n",
       "  </thead>\n",
       "  <tbody>\n",
       "    <tr>\n",
       "      <th>0</th>\n",
       "      <td>59</td>\n",
       "      <td>41</td>\n",
       "      <td>-18</td>\n",
       "    </tr>\n",
       "    <tr>\n",
       "      <th>1</th>\n",
       "      <td>52</td>\n",
       "      <td>63</td>\n",
       "      <td>11</td>\n",
       "    </tr>\n",
       "    <tr>\n",
       "      <th>2</th>\n",
       "      <td>55</td>\n",
       "      <td>68</td>\n",
       "      <td>13</td>\n",
       "    </tr>\n",
       "    <tr>\n",
       "      <th>3</th>\n",
       "      <td>61</td>\n",
       "      <td>59</td>\n",
       "      <td>-2</td>\n",
       "    </tr>\n",
       "    <tr>\n",
       "      <th>4</th>\n",
       "      <td>59</td>\n",
       "      <td>84</td>\n",
       "      <td>25</td>\n",
       "    </tr>\n",
       "  </tbody>\n",
       "</table>\n",
       "</div>"
      ],
      "text/plain": [
       "    전   후  gap\n",
       "0  59  41  -18\n",
       "1  52  63   11\n",
       "2  55  68   13\n",
       "3  61  59   -2\n",
       "4  59  84   25"
      ]
     },
     "execution_count": 45,
     "metadata": {},
     "output_type": "execute_result"
    }
   ],
   "source": [
    "# 정규분포를 가정할 수 없는 경우 대응표본에 대한 가설검정\n",
    "data = pd.read_csv('./data/ch11_training_rel.csv')\n",
    "data1 = data[:6].copy()\n",
    "data1['gap'] = data1['후'] - data1['전']\n",
    "data1.head()"
   ]
  },
  {
   "cell_type": "code",
   "execution_count": 47,
   "id": "f628844a",
   "metadata": {},
   "outputs": [
    {
     "data": {
      "text/plain": [
       "0.6875"
      ]
     },
     "execution_count": 47,
     "metadata": {},
     "output_type": "execute_result"
    }
   ],
   "source": [
    "# 윌콕슨의 부호순위검정\n",
    "\n",
    "t,p = stats.wilcoxon(data1['전'],data1['후'])\n",
    "p"
   ]
  },
  {
   "cell_type": "markdown",
   "id": "9ca5acb7",
   "metadata": {},
   "source": [
    "독립성 검정이 필요한 사례 2가지 작성"
   ]
  },
  {
   "cell_type": "code",
   "execution_count": 58,
   "id": "c0ca5984",
   "metadata": {},
   "outputs": [
    {
     "name": "stdout",
     "output_type": "stream",
     "text": [
      "1000\n"
     ]
    },
    {
     "data": {
      "text/html": [
       "<div>\n",
       "<style scoped>\n",
       "    .dataframe tbody tr th:only-of-type {\n",
       "        vertical-align: middle;\n",
       "    }\n",
       "\n",
       "    .dataframe tbody tr th {\n",
       "        vertical-align: top;\n",
       "    }\n",
       "\n",
       "    .dataframe thead th {\n",
       "        text-align: right;\n",
       "    }\n",
       "</style>\n",
       "<table border=\"1\" class=\"dataframe\">\n",
       "  <thead>\n",
       "    <tr style=\"text-align: right;\">\n",
       "      <th></th>\n",
       "      <th>광고</th>\n",
       "      <th>구입</th>\n",
       "    </tr>\n",
       "  </thead>\n",
       "  <tbody>\n",
       "    <tr>\n",
       "      <th>0</th>\n",
       "      <td>B</td>\n",
       "      <td>하지 않았다</td>\n",
       "    </tr>\n",
       "    <tr>\n",
       "      <th>1</th>\n",
       "      <td>B</td>\n",
       "      <td>하지 않았다</td>\n",
       "    </tr>\n",
       "    <tr>\n",
       "      <th>2</th>\n",
       "      <td>A</td>\n",
       "      <td>했다</td>\n",
       "    </tr>\n",
       "    <tr>\n",
       "      <th>3</th>\n",
       "      <td>A</td>\n",
       "      <td>했다</td>\n",
       "    </tr>\n",
       "    <tr>\n",
       "      <th>4</th>\n",
       "      <td>B</td>\n",
       "      <td>하지 않았다</td>\n",
       "    </tr>\n",
       "  </tbody>\n",
       "</table>\n",
       "</div>"
      ],
      "text/plain": [
       "  광고      구입\n",
       "0  B  하지 않았다\n",
       "1  B  하지 않았다\n",
       "2  A      했다\n",
       "3  A      했다\n",
       "4  B  하지 않았다"
      ]
     },
     "execution_count": 58,
     "metadata": {},
     "output_type": "execute_result"
    }
   ],
   "source": [
    "df = pd.read_csv('./data/ch11_ad.csv')\n",
    "print(len(df))\n",
    "df.head()"
   ]
  },
  {
   "cell_type": "code",
   "execution_count": 59,
   "id": "5e2e4655",
   "metadata": {
    "scrolled": true
   },
   "outputs": [
    {
     "data": {
      "text/html": [
       "<div>\n",
       "<style scoped>\n",
       "    .dataframe tbody tr th:only-of-type {\n",
       "        vertical-align: middle;\n",
       "    }\n",
       "\n",
       "    .dataframe tbody tr th {\n",
       "        vertical-align: top;\n",
       "    }\n",
       "\n",
       "    .dataframe thead th {\n",
       "        text-align: right;\n",
       "    }\n",
       "</style>\n",
       "<table border=\"1\" class=\"dataframe\">\n",
       "  <thead>\n",
       "    <tr style=\"text-align: right;\">\n",
       "      <th>구입</th>\n",
       "      <th>하지 않았다</th>\n",
       "      <th>했다</th>\n",
       "    </tr>\n",
       "    <tr>\n",
       "      <th>광고</th>\n",
       "      <th></th>\n",
       "      <th></th>\n",
       "    </tr>\n",
       "  </thead>\n",
       "  <tbody>\n",
       "    <tr>\n",
       "      <th>A</th>\n",
       "      <td>351</td>\n",
       "      <td>49</td>\n",
       "    </tr>\n",
       "    <tr>\n",
       "      <th>B</th>\n",
       "      <td>549</td>\n",
       "      <td>51</td>\n",
       "    </tr>\n",
       "  </tbody>\n",
       "</table>\n",
       "</div>"
      ],
      "text/plain": [
       "구입  하지 않았다  했다\n",
       "광고            \n",
       "A      351  49\n",
       "B      549  51"
      ]
     },
     "execution_count": 59,
     "metadata": {},
     "output_type": "execute_result"
    }
   ],
   "source": [
    "# 기대도수와 관측도수의 차이를 측정해서 검정 수행\n",
    "ad_cross = pd.crosstab(df.광고, df.구입)\n",
    "ad_cross"
   ]
  },
  {
   "cell_type": "code",
   "execution_count": 52,
   "id": "12a57f92",
   "metadata": {},
   "outputs": [
    {
     "data": {
      "text/plain": [
       "(3.75, 0.052807511416113395, 1)"
      ]
     },
     "execution_count": 52,
     "metadata": {},
     "output_type": "execute_result"
    }
   ],
   "source": [
    "chi2, p, dof, ef = stats.chi2_contingency(ad_cross,correction = False)\n",
    "chi2, p, dof\n",
    "#p값이 0.05보다 크므로 귀무가설을 채택, 각 광고를 통한 구입에 유의미한 차이가 인정되지 않는다고 결론을 내릴 수 있다."
   ]
  },
  {
   "cell_type": "code",
   "execution_count": 67,
   "id": "e2560f90",
   "metadata": {},
   "outputs": [
    {
     "name": "stdout",
     "output_type": "stream",
     "text": [
      "900 100 400 600\n"
     ]
    },
    {
     "data": {
      "text/html": [
       "<div>\n",
       "<style scoped>\n",
       "    .dataframe tbody tr th:only-of-type {\n",
       "        vertical-align: middle;\n",
       "    }\n",
       "\n",
       "    .dataframe tbody tr th {\n",
       "        vertical-align: top;\n",
       "    }\n",
       "\n",
       "    .dataframe thead th {\n",
       "        text-align: right;\n",
       "    }\n",
       "</style>\n",
       "<table border=\"1\" class=\"dataframe\">\n",
       "  <thead>\n",
       "    <tr style=\"text-align: right;\">\n",
       "      <th></th>\n",
       "      <th>했다</th>\n",
       "      <th>하지 않았다</th>\n",
       "    </tr>\n",
       "  </thead>\n",
       "  <tbody>\n",
       "    <tr>\n",
       "      <th>A</th>\n",
       "      <td>40.0</td>\n",
       "      <td>360.0</td>\n",
       "    </tr>\n",
       "    <tr>\n",
       "      <th>B</th>\n",
       "      <td>60.0</td>\n",
       "      <td>540.0</td>\n",
       "    </tr>\n",
       "  </tbody>\n",
       "</table>\n",
       "</div>"
      ],
      "text/plain": [
       "     했다  하지 않았다\n",
       "A  40.0   360.0\n",
       "B  60.0   540.0"
      ]
     },
     "metadata": {},
     "output_type": "display_data"
    },
    {
     "name": "stdout",
     "output_type": "stream",
     "text": [
      "3.75\n",
      "0.0528\n"
     ]
    }
   ],
   "source": [
    "# 기대도수(확률적인 기대)와 관측도수(실측)의 차이를 측정해서 검정 수행\n",
    "\n",
    "# 각 항목 (구매 여부, 광고 종류)별로 합산을 구함\n",
    "n = len(df)\n",
    "n_not, n_yes = ad_cross.sum()\n",
    "n_adA, n_adB = ad_cross.sum(axis = 1)\n",
    "\n",
    "print(n_not, n_yes, n_adA, n_adB)\n",
    "\n",
    "# 각 합산에 따른 기대 도수를 구함\n",
    "\n",
    "ad_ef = pd.DataFrame({'했다': [n_adA * n_yes / n,n_adB*n_yes/n],'하지 않았다':[n_adA*n_not/n,n_adB*n_not/n]},index=['A','B'])\n",
    "display(ad_ef)\n",
    "\n",
    "# 기대도수와 관측도수의 차이를 구함\n",
    "\n",
    "y = ((ad_cross - ad_ef)**2/ad_ef).sum().sum()\n",
    "print(y)\n",
    "\n",
    "# y는 자유도가 1인 카이제곱분포를 근사적으로 따른다고 한다.\n",
    "# 카이제곱분포를 이용해 p값을 계산\n",
    "rv = stats.chi2(1)\n",
    "print((1-rv.cdf(y)).round(4))\n",
    "\n",
    "# 이 방법 역시 검정통계량이 유의값보다 크므로, 귀무가설을 채택, 각 광고로 인한 구입에 유의미한 차이다 있다고 말할 수 없다. "
   ]
  }
 ],
 "metadata": {
  "kernelspec": {
   "display_name": "Python 3 (ipykernel)",
   "language": "python",
   "name": "python3"
  },
  "language_info": {
   "codemirror_mode": {
    "name": "ipython",
    "version": 3
   },
   "file_extension": ".py",
   "mimetype": "text/x-python",
   "name": "python",
   "nbconvert_exporter": "python",
   "pygments_lexer": "ipython3",
   "version": "3.8.12"
  }
 },
 "nbformat": 4,
 "nbformat_minor": 5
}
