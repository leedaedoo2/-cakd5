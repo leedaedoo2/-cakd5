{
 "cells": [
  {
   "cell_type": "markdown",
   "id": "cf85195d",
   "metadata": {},
   "source": [
    "#### 통계적 추정\n",
    "- 점추정\n",
    "  - 모평균이나 모분산 등의 모수를 하나의 수치로 추정\n",
    "  - 추정량의 기댓값이 추측하려는 모수가 되는 성질을 불편성이라고 하며 불편성을 가진 추정량의 불편추정량이라고 한다.\n",
    "  - 표본평균이 모평균을 잘 추정할 수 있는 근거 중 하나가 바로 이 불편성이다.\n",
    "  - 표본크기 n을 증가시키면 추측하기 원하는 모수에 수렴해가는 성질을 일치성이라고 하며 일치성을 지닌 추정량을 일치 추정량이라고 함\n",
    "  - 표본평균은 불편성과 일치성을 모두 가지고 있기 때문에 모평균을 잘 추정한다고 할 수 있다.\n",
    "  - 모분산의 불편 추정량이 되는 표본통계량은 불편분산이다.\n",
    "  - 불편분산은 표본분산에거 나누는 수 n-1로 하는 식으로 계산되며 표본분산은 $S^2$으로 나타내지만 불편분산은 $s^2$으로 나타낸다.\n",
    "  \n",
    "- 구간추정\n",
    "  - 모분산을 알고 있는 경우의 모평균 구간추정\n",
    "  - 모분산을 알고 있는 경우의 모분산 구간추정\n",
    "  - 모분산을 알지 못하는 경우의 모평균 구간추정\n",
    "  - 베르누이 분포의 모평균의 구간 추정\n",
    "  - 포아송 분포의 모평균의 구간 추정"
   ]
  },
  {
   "cell_type": "code",
   "execution_count": 10,
   "id": "61e9bc47",
   "metadata": {},
   "outputs": [
    {
     "name": "stdout",
     "output_type": "stream",
     "text": [
      "mean: 69.53 var: 206.6691\n"
     ]
    }
   ],
   "source": [
    "import numpy as np\n",
    "import pandas as pd\n",
    "import matplotlib.pyplot as plt\n",
    "from scipy import stats\n",
    "\n",
    "df = pd.read_csv('./data/ch4_scores400.csv')\n",
    "scores = np.array(df.score)\n",
    "print('mean:', np.mean(scores),'var:', np.var(scores))"
   ]
  },
  {
   "cell_type": "code",
   "execution_count": 61,
   "id": "17e128a2",
   "metadata": {},
   "outputs": [
    {
     "name": "stdout",
     "output_type": "stream",
     "text": [
      "모평균 점추정 : 69.556695 \n",
      "\n",
      "모분산 점추정 : 206.3315765789474\n"
     ]
    }
   ],
   "source": [
    "# 모평균과 모분산의 점추정 사례를 파이썬 코드로 수행\n",
    "# 원소 20개로 구성된 표본을 총 1만개 생성 후 대수의 법칙을 활용하여 모평균과 모분산 추정\n",
    "np.random.seed(20202)\n",
    "n_samples = int(1e4)\n",
    "n = 20\n",
    "samples = np.random.choice(scores, (n_samples,n))\n",
    "sample_means = np.mean(samples,axis = 1)\n",
    "print('모평균 점추정 :',np.mean(sample_means),'\\n')\n",
    "\n",
    "sample_var = np.var(samples, axis = 1, ddof = 1)\n",
    "print('모분산 점추정 :',np.mean(sample_var))"
   ]
  },
  {
   "cell_type": "code",
   "execution_count": 79,
   "id": "33e711d3",
   "metadata": {},
   "outputs": [
    {
     "data": {
      "text/plain": [
       "(60.48550133602016, 77.41449866397984)"
      ]
     },
     "execution_count": 79,
     "metadata": {},
     "output_type": "execute_result"
    }
   ],
   "source": [
    "# 모분산을 알지 못할 때 정규분포의 모평균의 구간 추정을 파이썬 코드로 수행\n",
    "\n",
    "# 모분산 대신 추정량인 불편분산 s^2를 사용 > t 분포의 정의를 따름\n",
    "\n",
    "sample_index = np.random.randint(n_samples)\n",
    "sample = samples[sample_index]\n",
    "s_mean = np.mean(sample)\n",
    "s_var = np.var(sample, ddof = 1)\n",
    "s_mean, s_var\n",
    "\n",
    "rv = stats.t(df = n-1)\n",
    "lcl = s_mean - rv.isf(0.025)*np.sqrt(s_var/n)\n",
    "ucl = s_mean - rv.isf(0.975)*np.sqrt(s_var/n)\n",
    "lcl,ucl"
   ]
  },
  {
   "cell_type": "code",
   "execution_count": 84,
   "id": "71e9de4a",
   "metadata": {
    "scrolled": true
   },
   "outputs": [
    {
     "name": "stdout",
     "output_type": "stream",
     "text": [
      "10.444444444444445\n"
     ]
    },
    {
     "data": {
      "text/plain": [
       "(9.697953549598202, 11.190935339290688)"
      ]
     },
     "execution_count": 84,
     "metadata": {},
     "output_type": "execute_result"
    }
   ],
   "source": [
    "# 모집단에 정규분포를 가정할 수 없는 예를 포아송 분포로 설정하여 모평균 신뢰구간을 구하세요\n",
    "\n",
    "# 포아송 분포 : 평균 = 𝜆, 분산 = 𝜆\n",
    "\n",
    "n_access_df = pd.read_csv('./data/ch10_access.csv')\n",
    "n_access = np.array(n_access_df['access number'])\n",
    "n = len(n_access)\n",
    "\n",
    "s_mean = np.mean(n_access)\n",
    "print(s_mean)\n",
    "\n",
    "rv = stats.norm()\n",
    "\n",
    "lcl = s_mean - rv.isf(0.025)*np.sqrt(s_mean/n)\n",
    "ucl = s_mean - rv.isf(0.975)*np.sqrt(s_mean/n)\n",
    "lcl,ucl"
   ]
  }
 ],
 "metadata": {
  "kernelspec": {
   "display_name": "Python 3 (ipykernel)",
   "language": "python",
   "name": "python3"
  },
  "language_info": {
   "codemirror_mode": {
    "name": "ipython",
    "version": 3
   },
   "file_extension": ".py",
   "mimetype": "text/x-python",
   "name": "python",
   "nbconvert_exporter": "python",
   "pygments_lexer": "ipython3",
   "version": "3.8.12"
  }
 },
 "nbformat": 4,
 "nbformat_minor": 5
}
