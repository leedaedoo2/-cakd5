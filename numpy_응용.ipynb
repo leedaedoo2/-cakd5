{
 "cells": [
  {
   "cell_type": "code",
   "execution_count": 4,
   "id": "0e4b8ddf",
   "metadata": {},
   "outputs": [
    {
     "name": "stdout",
     "output_type": "stream",
     "text": [
      "[[9 4 2 6 9]\n",
      " [6 1 5 3 6]\n",
      " [1 2 1 6 9]\n",
      " [1 6 9 4 4]\n",
      " [5 3 4 3 8]]\n",
      "[[9 6 1 1 5]\n",
      " [4 1 2 6 3]\n",
      " [2 5 1 9 4]\n",
      " [6 3 6 4 3]\n",
      " [9 6 9 4 8]]\n",
      "[[9 6 1 1 5]\n",
      " [4 1 2 6 3]\n",
      " [2 5 1 9 4]\n",
      " [6 3 6 4 3]\n",
      " [9 6 9 4 8]]\n"
     ]
    }
   ],
   "source": [
    "import numpy as np\n",
    "\n",
    "arr = np.random.randint(1,10,size=(5,5))\n",
    "print(arr)\n",
    "print(arr.T)\n",
    "print(np.transpose(arr))"
   ]
  },
  {
   "cell_type": "code",
   "execution_count": 5,
   "id": "09790912",
   "metadata": {},
   "outputs": [
    {
     "data": {
      "text/plain": [
       "array([[144,  65,  78,  97, 170],\n",
       "       [ 65,  66,  81,  72, 108],\n",
       "       [ 78,  81, 127,  81, 125],\n",
       "       [ 97,  72,  81, 106, 166],\n",
       "       [170, 108, 125, 166, 278]])"
      ]
     },
     "execution_count": 5,
     "metadata": {},
     "output_type": "execute_result"
    }
   ],
   "source": [
    "#행렬곱 내적\n",
    "\n",
    "np.dot(arr.T,arr)"
   ]
  },
  {
   "cell_type": "code",
   "execution_count": 11,
   "id": "f9457fd8",
   "metadata": {},
   "outputs": [
    {
     "name": "stdout",
     "output_type": "stream",
     "text": [
      "[[0 1 2]\n",
      " [3 4 5]] \n",
      "\n",
      "[[0 3]\n",
      " [1 4]\n",
      " [2 5]] \n",
      "\n",
      "[[0 3]\n",
      " [1 4]\n",
      " [2 5]]\n",
      "[[0 3]\n",
      " [1 4]\n",
      " [2 5]]\n"
     ]
    }
   ],
   "source": [
    "a = np.arange(6).reshape(2,3)\n",
    "print(a,'\\n')\n",
    "\n",
    "y=np.swapaxes(a,0,1) #0은 2차원 (열), 1은 1차원(행)\n",
    "print(y,'\\n')\n",
    "print(np.transpose(a))\n",
    "print(a.T)"
   ]
  },
  {
   "cell_type": "code",
   "execution_count": null,
   "id": "559e79cc",
   "metadata": {},
   "outputs": [],
   "source": [
    "1~100을 아래와 같이 출력하세요"
   ]
  },
  {
   "cell_type": "code",
   "execution_count": 39,
   "id": "91d943da",
   "metadata": {},
   "outputs": [
    {
     "name": "stdout",
     "output_type": "stream",
     "text": [
      "[[  1   2   3   4   5   6   7   8   9  10]\n",
      " [ 20  19  18  17  16  15  14  13  12  11]\n",
      " [ 21  22  23  24  25  26  27  28  29  30]\n",
      " [ 40  39  38  37  36  35  34  33  32  31]\n",
      " [ 41  42  43  44  45  46  47  48  49  50]\n",
      " [ 60  59  58  57  56  55  54  53  52  51]\n",
      " [ 61  62  63  64  65  66  67  68  69  70]\n",
      " [ 80  79  78  77  76  75  74  73  72  71]\n",
      " [ 81  82  83  84  85  86  87  88  89  90]\n",
      " [100  99  98  97  96  95  94  93  92  91]]\n"
     ]
    }
   ],
   "source": [
    "a = np.arange(1,101).reshape(10,10)\n",
    "a[[1,3,5,7,9]]=a[[1,3,5,7,9]][:,[9,8,7,6,5,4,3,2,1,0]]\n",
    "print(a)"
   ]
  },
  {
   "cell_type": "code",
   "execution_count": 29,
   "id": "be674fc5",
   "metadata": {
    "scrolled": true
   },
   "outputs": [
    {
     "name": "stdout",
     "output_type": "stream",
     "text": [
      "[[  1   2   3   4   5   6   7   8   9  10]\n",
      " [ 20  19  18  17  16  15  14  13  12  11]\n",
      " [ 21  22  23  24  25  26  27  28  29  30]\n",
      " [ 40  39  38  37  36  35  34  33  32  31]\n",
      " [ 41  42  43  44  45  46  47  48  49  50]\n",
      " [ 60  59  58  57  56  55  54  53  52  51]\n",
      " [ 61  62  63  64  65  66  67  68  69  70]\n",
      " [ 80  79  78  77  76  75  74  73  72  71]\n",
      " [ 81  82  83  84  85  86  87  88  89  90]\n",
      " [100  99  98  97  96  95  94  93  92  91]]\n"
     ]
    }
   ],
   "source": [
    "a = np.arange(1, 101).reshape((10, -1))\n",
    "\n",
    "for i in range(10):\n",
    "    if i % 2 == 1:\n",
    "        a[i] = a[i][::-1]\n",
    "\n",
    "print(a)\n"
   ]
  },
  {
   "cell_type": "code",
   "execution_count": 41,
   "id": "60f87efe",
   "metadata": {},
   "outputs": [
    {
     "name": "stdout",
     "output_type": "stream",
     "text": [
      "[[[0 1 2]\n",
      "  [3 4 5]]] \n",
      "\n",
      "[[[0 1 2]]\n",
      "\n",
      " [[3 4 5]]] (2, 1, 3) \n",
      "\n"
     ]
    }
   ],
   "source": [
    "#(0,1,2)\n",
    "# 3차원과 2차원을 바꾸는 경우 : (1,2,3) > (2,1,3)\n",
    "a = np.arange(6).reshape(1,2,3)\n",
    "print(a,'\\n')\n",
    "\n",
    "y = np.transpose(a,(1,0,2))\n",
    "print(y,y.shape,'\\n')"
   ]
  },
  {
   "cell_type": "code",
   "execution_count": 43,
   "id": "bd3af896",
   "metadata": {},
   "outputs": [
    {
     "name": "stdout",
     "output_type": "stream",
     "text": [
      "[[[0]\n",
      "  [1]\n",
      "  [2]]\n",
      "\n",
      " [[3]\n",
      "  [4]\n",
      "  [5]]] (2, 3, 1)\n"
     ]
    }
   ],
   "source": [
    "# (1,2,3 ) > (2,3,1)\n",
    "y = np.transpose(a,(1,2,0))\n",
    "print(y,y.shape)"
   ]
  },
  {
   "cell_type": "code",
   "execution_count": 45,
   "id": "6e6c2727",
   "metadata": {},
   "outputs": [
    {
     "name": "stdout",
     "output_type": "stream",
     "text": [
      "[1 2 0]\n",
      "[1 2 0]\n"
     ]
    }
   ],
   "source": [
    "# 나머지를 구할 경우 사용하는 함수\n",
    "value1 = np.array([15,30,45])\n",
    "value2 = np.array([2,7,9])\n",
    "print(np.mod(value1,value2))\n",
    "print(np.remainder(value1,value2))"
   ]
  },
  {
   "cell_type": "code",
   "execution_count": 49,
   "id": "e2420ff4",
   "metadata": {},
   "outputs": [
    {
     "name": "stdout",
     "output_type": "stream",
     "text": [
      "[1.17647059 0.54054054 1.         0.01      ]\n",
      "[100] \n",
      "\n",
      "[0.01]\n"
     ]
    }
   ],
   "source": [
    "# 각 수의 역수를 구해주는 함수\n",
    "value = np.array([0.85,1.85,1,100])\n",
    "print(np.reciprocal(value))\n",
    "\n",
    "value1 = np.array([100],dtype = int)\n",
    "print(value1,'\\n')\n",
    "print(np.reciprocal(value1,dtype=float))"
   ]
  },
  {
   "cell_type": "code",
   "execution_count": 50,
   "id": "d4f8b846",
   "metadata": {},
   "outputs": [
    {
     "name": "stdout",
     "output_type": "stream",
     "text": [
      "[  4 100 225] \n",
      "\n",
      "[   2  100 3375]\n"
     ]
    }
   ],
   "source": [
    "#승수의 결과 값을 표시해주는 함수\n",
    "value1 = np.array([2,10,15])\n",
    "value2 = np.array([1,2,3])\n",
    "\n",
    "print(np.power(value1,2),'\\n')\n",
    "print(np.power(value1,value2))"
   ]
  },
  {
   "cell_type": "code",
   "execution_count": 52,
   "id": "d247050f",
   "metadata": {},
   "outputs": [
    {
     "name": "stdout",
     "output_type": "stream",
     "text": [
      "0.2789339557387111 \n",
      "\n",
      "0.9584802189489389\n"
     ]
    }
   ],
   "source": [
    "arr = np.random.randn(10)\n",
    "print(arr.mean(),'\\n')\n",
    "print(arr.std())"
   ]
  },
  {
   "cell_type": "code",
   "execution_count": 53,
   "id": "184c1ba7",
   "metadata": {},
   "outputs": [
    {
     "data": {
      "text/plain": [
       "5"
      ]
     },
     "execution_count": 53,
     "metadata": {},
     "output_type": "execute_result"
    }
   ],
   "source": [
    "# 양수인 원소의 개수\n",
    "\n",
    "(arr>0).sum()"
   ]
  },
  {
   "cell_type": "code",
   "execution_count": 54,
   "id": "e7b4fbd1",
   "metadata": {},
   "outputs": [
    {
     "data": {
      "text/plain": [
       "True"
      ]
     },
     "execution_count": 54,
     "metadata": {},
     "output_type": "execute_result"
    }
   ],
   "source": [
    "# 하나 이상의 값이 True인지 검사\n",
    "bools = np.array([False, False,True,True])\n",
    "bools.any()"
   ]
  },
  {
   "cell_type": "code",
   "execution_count": 55,
   "id": "800d082a",
   "metadata": {},
   "outputs": [
    {
     "data": {
      "text/plain": [
       "False"
      ]
     },
     "execution_count": 55,
     "metadata": {},
     "output_type": "execute_result"
    }
   ],
   "source": [
    "# 모든 원소가 True인지 검사\n",
    "bools.all()"
   ]
  },
  {
   "cell_type": "code",
   "execution_count": 62,
   "id": "980c9709",
   "metadata": {},
   "outputs": [
    {
     "name": "stdout",
     "output_type": "stream",
     "text": [
      "[[ 1.59456936 -0.38304039  0.55951501  0.01746587]\n",
      " [-0.60137724 -0.50747082 -0.66172296  0.2274389 ]\n",
      " [ 0.47780875  0.0859228  -0.93643826 -1.8500661 ]\n",
      " [ 0.02606071  0.27462932 -0.35030403 -0.36283331]] \n",
      "\n"
     ]
    },
    {
     "data": {
      "text/plain": [
       "array([[ 2, -2,  2,  2],\n",
       "       [-2, -2, -2,  2],\n",
       "       [ 2,  2, -2, -2],\n",
       "       [ 2,  2, -2, -2]])"
      ]
     },
     "execution_count": 62,
     "metadata": {},
     "output_type": "execute_result"
    }
   ],
   "source": [
    "# 삼항식의 벡터화 버전\n",
    "\n",
    "arr = np.random.randn(4,4)\n",
    "print(arr,'\\n')\n",
    "np.where(arr >0,2,-2)"
   ]
  },
  {
   "cell_type": "code",
   "execution_count": 63,
   "id": "923921c4",
   "metadata": {},
   "outputs": [
    {
     "data": {
      "text/plain": [
       "array([[ 2.        , -0.38304039,  2.        ,  2.        ],\n",
       "       [-0.60137724, -0.50747082, -0.66172296,  2.        ],\n",
       "       [ 2.        ,  2.        , -0.93643826, -1.8500661 ],\n",
       "       [ 2.        ,  2.        , -0.35030403, -0.36283331]])"
      ]
     },
     "execution_count": 63,
     "metadata": {},
     "output_type": "execute_result"
    }
   ],
   "source": [
    "np.where(arr>0,2,arr)"
   ]
  },
  {
   "cell_type": "code",
   "execution_count": 66,
   "id": "c82642b5",
   "metadata": {},
   "outputs": [
    {
     "name": "stdout",
     "output_type": "stream",
     "text": [
      "[[1 2 3]\n",
      " [1 2 3]\n",
      " [1 2 3]] \n",
      " [[1 1 1]\n",
      " [2 2 2]\n",
      " [3 3 3]]\n"
     ]
    }
   ],
   "source": [
    "# 두개의 1차원 배열을 받아서 가능한 모든 (x,y)짝을 만들수 있는 2차원 배열 반환\n",
    "# meshgrid\n",
    "\n",
    "x = np.arange(1,4)\n",
    "y = np.arange(1,4)\n",
    "xs, ys = np.meshgrid(x,y)\n",
    "print(xs,'\\n',ys)"
   ]
  },
  {
   "cell_type": "code",
   "execution_count": 72,
   "id": "b36c8ecd",
   "metadata": {},
   "outputs": [
    {
     "name": "stdout",
     "output_type": "stream",
     "text": [
      "[ 2 14 15 16 20 61 61 61 73 87] \n",
      "\n"
     ]
    }
   ],
   "source": [
    "#np.sort()\n",
    "arr = np.random.randint(1,100,size=10)\n",
    "arr = np.sort(arr)\n",
    "print(arr,'\\n')"
   ]
  },
  {
   "cell_type": "code",
   "execution_count": 76,
   "id": "472e8a66",
   "metadata": {},
   "outputs": [
    {
     "name": "stdout",
     "output_type": "stream",
     "text": [
      "[[ 8 12]\n",
      " [ 7  1]] \n",
      "\n",
      "[[ 7  1]\n",
      " [ 8 12]] \n",
      "\n",
      "[[ 8 12]\n",
      " [ 1  7]]\n"
     ]
    }
   ],
   "source": [
    "# 행렬이 2차원 이상일 때 axis 축 값 설정을 통해 행,열 방향으로 정렬 수행\n",
    "\n",
    "arr2d = np.array([[8,12],[7,1]])\n",
    "print(arr2d,'\\n')\n",
    "sort_arr2d_axis0 = np.sort(arr2d,axis = 0)\n",
    "print(sort_arr2d_axis0,'\\n')\n",
    "sort_arr2d_axis1 = np.sort(arr2d,axis = 1)\n",
    "print(sort_arr2d_axis1)"
   ]
  },
  {
   "cell_type": "code",
   "execution_count": 81,
   "id": "a20f0b98",
   "metadata": {},
   "outputs": [
    {
     "name": "stdout",
     "output_type": "stream",
     "text": [
      "[4 3 8 2 1 3 9 1 9 3] \n",
      "\n",
      "[1 1 2 3 3 3 4 8 9 9] \n",
      "\n"
     ]
    }
   ],
   "source": [
    "# ndarray.sort() : 원본 반영\n",
    "\n",
    "arr = np.random.randint(1,10,size=10)\n",
    "print(arr,'\\n')\n",
    "arr.sort()\n",
    "print(arr,'\\n')"
   ]
  },
  {
   "cell_type": "code",
   "execution_count": 88,
   "id": "faefda4b",
   "metadata": {},
   "outputs": [
    {
     "name": "stdout",
     "output_type": "stream",
     "text": [
      "[[7 2 1]\n",
      " [7 3 8]\n",
      " [3 2 1]\n",
      " [2 8 7]\n",
      " [6 8 5]] \n",
      "\n",
      "[[1 2 7]\n",
      " [3 7 8]\n",
      " [1 2 3]\n",
      " [2 7 8]\n",
      " [5 6 8]]\n"
     ]
    }
   ],
   "source": [
    "# 다차원 배열의 정렬은 sort 메소드에 넘긴 축에 따라 1차원 부분을 정렬\n",
    "# 행방향 0 열방향 1\n",
    "arr = np.random.randint(1,10,size=(5,3))\n",
    "print(arr,'\\n')\n",
    "arr.sort()\n",
    "print(arr)"
   ]
  },
  {
   "cell_type": "code",
   "execution_count": 89,
   "id": "9ae3f49f",
   "metadata": {},
   "outputs": [
    {
     "name": "stdout",
     "output_type": "stream",
     "text": [
      "[3 1 9 5]\n",
      "[1 0 3 2]\n"
     ]
    }
   ],
   "source": [
    "#정렬된 행렬이 인덱스 반환 : 기존 원본 행렬의 원소에 대한 인덱스를 필요로 할 때\n",
    "\n",
    "org_array = np.array([3,1,9,5])\n",
    "\n",
    "sort_indices =np.argsort(org_array)\n",
    "print(org_array)\n",
    "print(sort_indices)"
   ]
  },
  {
   "cell_type": "code",
   "execution_count": 92,
   "id": "deefb069",
   "metadata": {},
   "outputs": [
    {
     "data": {
      "text/plain": [
       "array([-3.05516786, -2.96816695, -2.93537598, -2.81608229, -2.58332414,\n",
       "       -2.56567652, -2.55691944, -2.42606481, -2.41239686, -2.39657832,\n",
       "       -2.37808663, -2.34266459, -2.31691957, -2.27959813, -2.27639421,\n",
       "       -2.19839785, -2.19450182, -2.1441345 , -2.10478624, -2.08886733,\n",
       "       -2.0591665 , -2.05633332, -2.00418427, -1.99521925, -1.98169274,\n",
       "       -1.95910912, -1.9532633 , -1.94673067, -1.91895174, -1.91681259,\n",
       "       -1.8837067 , -1.87747408, -1.87603335, -1.8706297 , -1.86715523,\n",
       "       -1.86535419, -1.86055432, -1.84999115, -1.82475519, -1.82178417,\n",
       "       -1.80635741, -1.78661759, -1.78549163, -1.76689098, -1.75484844,\n",
       "       -1.74397222, -1.74161663, -1.72766118, -1.72687075, -1.71714223])"
      ]
     },
     "execution_count": 92,
     "metadata": {},
     "output_type": "execute_result"
    }
   ],
   "source": [
    "# 배열에서 정렬한 후 5%내 분위수 요소만 출력\n",
    "large_arr = np.random.randn(1000)\n",
    "large_arr.sort()\n",
    "large_arr[:int(0.05*len(large_arr))]"
   ]
  },
  {
   "cell_type": "code",
   "execution_count": 93,
   "id": "eb544941",
   "metadata": {},
   "outputs": [
    {
     "data": {
      "text/plain": [
       "array(['Bob', 'Joe', 'Will'], dtype='<U4')"
      ]
     },
     "execution_count": 93,
     "metadata": {},
     "output_type": "execute_result"
    }
   ],
   "source": [
    "# 배열 집합 연산\n",
    "names = np.array(['Bob','Joe','Will','Joe','Joe'])\n",
    "np.unique(names)"
   ]
  },
  {
   "cell_type": "code",
   "execution_count": 100,
   "id": "5701a238",
   "metadata": {},
   "outputs": [
    {
     "data": {
      "text/plain": [
       "['Bob', 'Joe', 'Will']"
      ]
     },
     "execution_count": 100,
     "metadata": {},
     "output_type": "execute_result"
    }
   ],
   "source": [
    "uni = np.array(list(set(names)))\n",
    "sorted(uni)"
   ]
  },
  {
   "cell_type": "code",
   "execution_count": 101,
   "id": "cab7fea3",
   "metadata": {},
   "outputs": [
    {
     "data": {
      "text/plain": [
       "array([ True, False, False,  True,  True, False,  True])"
      ]
     },
     "execution_count": 101,
     "metadata": {},
     "output_type": "execute_result"
    }
   ],
   "source": [
    "# 첫번째 배열의 원소가 두번째 배열에 포함하는지 알려주는 boolean 배열 반환\n",
    "\n",
    "values = np.array([6,0,0,3,2,5,6])\n",
    "np.in1d(values,[2,3,6])"
   ]
  },
  {
   "cell_type": "code",
   "execution_count": 102,
   "id": "a20be625",
   "metadata": {},
   "outputs": [],
   "source": [
    "# 배열 데이터의 입출력\n",
    "# np.save, np.load는 바이너리 형식으로 입출력 실행 .npy파일로 저장\n",
    "\n",
    "arr = np.arange(10)\n",
    "np.save('some_array',arr)"
   ]
  },
  {
   "cell_type": "code",
   "execution_count": 103,
   "id": "f1f54701",
   "metadata": {},
   "outputs": [
    {
     "data": {
      "text/plain": [
       "array([0, 1, 2, 3, 4, 5, 6, 7, 8, 9])"
      ]
     },
     "execution_count": 103,
     "metadata": {},
     "output_type": "execute_result"
    }
   ],
   "source": [
    "np.load('some_array.npy')"
   ]
  },
  {
   "cell_type": "code",
   "execution_count": 104,
   "id": "92e855ab",
   "metadata": {},
   "outputs": [],
   "source": [
    "# np.savez : 여러개의 배열을 압축된 형식으로 저장 .npz파일로 저장\n",
    "np.savez('array_archive.npz',a=arr,b=arr)"
   ]
  },
  {
   "cell_type": "code",
   "execution_count": 106,
   "id": "a8953016",
   "metadata": {},
   "outputs": [
    {
     "data": {
      "text/plain": [
       "array([0, 1, 2, 3, 4, 5, 6, 7, 8, 9])"
      ]
     },
     "execution_count": 106,
     "metadata": {},
     "output_type": "execute_result"
    }
   ],
   "source": [
    "arch = np.load('array_archive.npz')\n",
    "arch['a']"
   ]
  },
  {
   "cell_type": "code",
   "execution_count": 113,
   "id": "f8cfc4b4",
   "metadata": {},
   "outputs": [
    {
     "name": "stdout",
     "output_type": "stream",
     "text": [
      "[1 0 1 0 1 0 1 0 1 0]\n"
     ]
    }
   ],
   "source": [
    "# 인덱싱을 사용하여 [1 0 1 0 1 0 1 0]을 출력하세요\n",
    "\n",
    "a = np.ones(10,dtype=int)\n",
    "index = np.argsort(a)\n",
    "print(np.where(index%2!=0,0,a))"
   ]
  },
  {
   "cell_type": "code",
   "execution_count": 118,
   "id": "82278183",
   "metadata": {},
   "outputs": [
    {
     "name": "stdout",
     "output_type": "stream",
     "text": [
      "[0 1 2 3 4 5 6 7 8 9]\n",
      "[6 7 8 9]\n"
     ]
    }
   ],
   "source": [
    "a = np.arange(10)\n",
    "print(a)\n",
    "print(a[6:])"
   ]
  },
  {
   "cell_type": "code",
   "execution_count": 153,
   "id": "c7eb5e29",
   "metadata": {},
   "outputs": [
    {
     "name": "stdout",
     "output_type": "stream",
     "text": [
      "0\n",
      "9\n"
     ]
    }
   ],
   "source": [
    "print(np.argmin(a))\n",
    "print(np.argmax(a))"
   ]
  },
  {
   "cell_type": "code",
   "execution_count": 152,
   "id": "130bf532",
   "metadata": {},
   "outputs": [
    {
     "name": "stdout",
     "output_type": "stream",
     "text": [
      "[9 8 7 6 5 4 3 2 1 0]\n"
     ]
    }
   ],
   "source": [
    "print(np.argsort(a)[::-1])"
   ]
  },
  {
   "cell_type": "code",
   "execution_count": 155,
   "id": "2d67391f",
   "metadata": {},
   "outputs": [
    {
     "name": "stdout",
     "output_type": "stream",
     "text": [
      "[[1. 1. 1. 1. 1. 1. 1. 1. 1. 1.]\n",
      " [1. 0. 0. 0. 0. 0. 0. 0. 0. 1.]\n",
      " [1. 0. 0. 0. 0. 0. 0. 0. 0. 1.]\n",
      " [1. 0. 0. 0. 0. 0. 0. 0. 0. 1.]\n",
      " [1. 0. 0. 0. 0. 0. 0. 0. 0. 1.]\n",
      " [1. 0. 0. 0. 0. 0. 0. 0. 0. 1.]\n",
      " [1. 0. 0. 0. 0. 0. 0. 0. 0. 1.]\n",
      " [1. 0. 0. 0. 0. 0. 0. 0. 0. 1.]\n",
      " [1. 0. 0. 0. 0. 0. 0. 0. 0. 1.]\n",
      " [1. 1. 1. 1. 1. 1. 1. 1. 1. 1.]]\n"
     ]
    }
   ],
   "source": [
    "x = np.ones((10,10))\n",
    "x[1:9,1:9] = 0\n",
    "print(x)\n"
   ]
  },
  {
   "cell_type": "markdown",
   "id": "7c8dd938",
   "metadata": {},
   "source": [
    "[파이썬 랜덤 함수]"
   ]
  },
  {
   "cell_type": "code",
   "execution_count": 305,
   "id": "9a789bb2",
   "metadata": {},
   "outputs": [
    {
     "name": "stdout",
     "output_type": "stream",
     "text": [
      "0.8690415319664742 \n",
      "\n",
      "6 \n",
      "\n",
      "19.67964972969783 \n",
      "\n",
      "5 \n",
      "\n",
      "3 \n",
      "\n",
      "[4, 1, 5] \n",
      "\n",
      "[5, 3, 1, 4, 2] \n",
      "\n"
     ]
    }
   ],
   "source": [
    "import random\n",
    "print(random.random(),'\\n') # 0.0~1.0 사이의 숫자를 랜덤하게 뽑음\n",
    "print(random.randint(1,10),'\\n') # 1~10 사이 정수 중에서 난수값 리턴\n",
    "print(random.uniform(10,20),'\\n') # min max 사이 float 리턴\n",
    "print(random.randrange(10),'\\n') # 0~10 사이 int값 리턴\n",
    "print(random.choice([1,2,3,4,5]),'\\n') # 리스트 내부요소 중 하나를 랜덤하게 뽑음\n",
    "li = [1,2,3,4,5]\n",
    "print(random.sample(li,3),'\\n') #리스트 내 요소를 중복없이 지정한 수만큼 리턴\n",
    "random.shuffle(li)\n",
    "print(li,'\\n') #리스트 내 요소를 무작위로 섞어서 정렬 후 리턴"
   ]
  },
  {
   "cell_type": "markdown",
   "id": "487b1690",
   "metadata": {},
   "source": [
    ".[numpy random 함수].\n",
    "\n",
    "- np.random.seed : seed를 통한 난수 생성\n",
    "- np.random.randint : 균일 분로의 정수형 난수 1개 생성\n",
    "- np.random.rand : 0부터 1 사이의 균일분포에서 난수 매트릭스 배열 생성\n",
    "- np.random.randn : 가우시안 표준 정규분포에서 난수 매트릭스 배열 생성\n",
    "- np.random.shuffle : 기존의 데이터의 순서 바꾸기\n",
    "- np.random.choice : 기존 데이터에서 sampling"
   ]
  },
  {
   "cell_type": "code",
   "execution_count": 309,
   "id": "52ecc212",
   "metadata": {},
   "outputs": [
    {
     "name": "stdout",
     "output_type": "stream",
     "text": [
      "5 \n",
      "\n",
      "9 \n",
      "\n",
      "[1 3 4 5 1 8 0 4 1 3] \n",
      "\n",
      "[15 14 12 11 13 13 17 12 18 14] \n",
      "\n",
      "[[19 17 10 14 17]\n",
      " [10 19 17 17 10]\n",
      " [16 12 18 14 10]]\n"
     ]
    }
   ],
   "source": [
    "print(np.random.randint(6),'\\n') # 0 ~ 5까지 정수인 난수 한개 생성\n",
    "print(np.random.randint(1,20),'\\n') #1 ~ 19까지 정수인 난수 한개 생성\n",
    "print(np.random.randint(10,size = 10),'\\n') # 0~10에서 10개 생성\n",
    "print(np.random.randint(10,20,size = 10),'\\n') #10 ~20 사이에서 10개 생성\n",
    "print(np.random.randint(10,20,size = (3,5))) # 10~20 사이 난수로 배열 3행 5열 채움"
   ]
  },
  {
   "cell_type": "code",
   "execution_count": 312,
   "id": "e5f035fd",
   "metadata": {},
   "outputs": [
    {
     "name": "stdout",
     "output_type": "stream",
     "text": [
      "[0.16794145 0.52834952 0.08447296 0.75254284 0.08897003 0.59937038] \n",
      "\n",
      "0.37027453114657716\n"
     ]
    }
   ],
   "source": [
    "r = np.random.rand(6)\n",
    "print(r,'\\n') # 0~1사이의 균일 분포\n",
    "print(r.mean())"
   ]
  },
  {
   "cell_type": "code",
   "execution_count": 320,
   "id": "7d4c3eb0",
   "metadata": {},
   "outputs": [
    {
     "data": {
      "text/plain": [
       "-0.019418529852644133"
      ]
     },
     "execution_count": 320,
     "metadata": {},
     "output_type": "execute_result"
    }
   ],
   "source": [
    "# 표준 정규분포\n",
    "\n",
    "r = np.random.randn(1000)\n",
    "r.mean()"
   ]
  },
  {
   "cell_type": "code",
   "execution_count": 321,
   "id": "808da8ae",
   "metadata": {},
   "outputs": [
    {
     "data": {
      "text/plain": [
       "array([5, 1, 2, 3, 4])"
      ]
     },
     "execution_count": 321,
     "metadata": {},
     "output_type": "execute_result"
    }
   ],
   "source": [
    "list = np.arange(1,6)\n",
    "np.random.shuffle(list)\n",
    "list"
   ]
  },
  {
   "cell_type": "code",
   "execution_count": 334,
   "id": "6351fb7b",
   "metadata": {},
   "outputs": [
    {
     "data": {
      "text/plain": [
       "5"
      ]
     },
     "execution_count": 334,
     "metadata": {},
     "output_type": "execute_result"
    }
   ],
   "source": [
    "np.random.choice(list)"
   ]
  },
  {
   "cell_type": "code",
   "execution_count": 335,
   "id": "5a2fc348",
   "metadata": {},
   "outputs": [
    {
     "name": "stdout",
     "output_type": "stream",
     "text": [
      "[ 2  3  7 11]\n",
      "[3 2 1 2]\n"
     ]
    }
   ],
   "source": [
    "a = np.array([11,11,3,3,2,2,2,7])\n",
    "index,count = np.unique(a,return_counts = True)\n",
    "print(index)\n",
    "print(count)"
   ]
  },
  {
   "cell_type": "code",
   "execution_count": 336,
   "id": "93fbfe52",
   "metadata": {},
   "outputs": [
    {
     "data": {
      "text/plain": [
       "array([1.5428217 , 1.83567757, 1.63455175, 1.69659036, 1.41271335,\n",
       "       1.73915675, 1.82366761, 1.46498795, 1.73223465, 1.69551644])"
      ]
     },
     "execution_count": 336,
     "metadata": {},
     "output_type": "execute_result"
    }
   ],
   "source": [
    "np.random.uniform(1.0, 2.0, 10)"
   ]
  },
  {
   "cell_type": "code",
   "execution_count": 337,
   "id": "9724d61f",
   "metadata": {},
   "outputs": [
    {
     "data": {
      "text/plain": [
       "array([[0.76698273, 0.43979355, 0.4931054 ],\n",
       "       [0.95505041, 0.29442868, 0.8914094 ]])"
      ]
     },
     "execution_count": 337,
     "metadata": {},
     "output_type": "execute_result"
    }
   ],
   "source": [
    "# 0 ~ 1 사이의 실수값들로 난수 행렬 생성\n",
    "# uniform 함수의 최소값, 최대값을 각각 0, 1로 지정한 것과 같음\n",
    "np.random.random_sample((2,3))"
   ]
  },
  {
   "cell_type": "code",
   "execution_count": 338,
   "id": "c04622b4",
   "metadata": {},
   "outputs": [
    {
     "name": "stdout",
     "output_type": "stream",
     "text": [
      "Requirement already satisfied: pandas in c:\\users\\admin\\anaconda3\\envs\\cakd5\\lib\\site-packages (1.3.4)\n",
      "Requirement already satisfied: pytz>=2017.3 in c:\\users\\admin\\anaconda3\\envs\\cakd5\\lib\\site-packages (from pandas) (2021.3)\n",
      "Requirement already satisfied: python-dateutil>=2.7.3 in c:\\users\\admin\\anaconda3\\envs\\cakd5\\lib\\site-packages (from pandas) (2.8.2)\n",
      "Requirement already satisfied: numpy>=1.17.3 in c:\\users\\admin\\anaconda3\\envs\\cakd5\\lib\\site-packages (from pandas) (1.21.2)\n",
      "Requirement already satisfied: six>=1.5 in c:\\users\\admin\\anaconda3\\envs\\cakd5\\lib\\site-packages (from python-dateutil>=2.7.3->pandas) (1.16.0)\n"
     ]
    }
   ],
   "source": [
    "!pip install pandas"
   ]
  },
  {
   "cell_type": "code",
   "execution_count": 341,
   "id": "ba05de26",
   "metadata": {},
   "outputs": [
    {
     "data": {
      "text/plain": [
       "array([[0.63462448, 0.36769445, 0.82277324, 0.08659701, 0.07857764,\n",
       "        0.48624028, 0.4586331 , 0.57802519],\n",
       "       [0.42936458, 0.4883043 , 0.63079643, 0.79229888, 0.55574366,\n",
       "        0.05648699, 0.21083867, 0.10172455],\n",
       "       [0.53705851, 0.87777921, 0.88212159, 0.88184371, 0.64118668,\n",
       "        0.50662197, 0.51331055, 0.47946941],\n",
       "       [0.9173426 , 0.00745237, 0.37832007, 0.93997248, 0.39547419,\n",
       "        0.71298311, 0.78688102, 0.54197489]])"
      ]
     },
     "execution_count": 341,
     "metadata": {},
     "output_type": "execute_result"
    }
   ],
   "source": [
    "ar = np.random.rand(4,8)\n",
    "ar"
   ]
  },
  {
   "cell_type": "code",
   "execution_count": 342,
   "id": "eb910a60",
   "metadata": {},
   "outputs": [
    {
     "data": {
      "text/html": [
       "<div>\n",
       "<style scoped>\n",
       "    .dataframe tbody tr th:only-of-type {\n",
       "        vertical-align: middle;\n",
       "    }\n",
       "\n",
       "    .dataframe tbody tr th {\n",
       "        vertical-align: top;\n",
       "    }\n",
       "\n",
       "    .dataframe thead th {\n",
       "        text-align: right;\n",
       "    }\n",
       "</style>\n",
       "<table border=\"1\" class=\"dataframe\">\n",
       "  <thead>\n",
       "    <tr style=\"text-align: right;\">\n",
       "      <th></th>\n",
       "      <th>0</th>\n",
       "      <th>1</th>\n",
       "      <th>2</th>\n",
       "      <th>3</th>\n",
       "      <th>4</th>\n",
       "      <th>5</th>\n",
       "      <th>6</th>\n",
       "      <th>7</th>\n",
       "    </tr>\n",
       "  </thead>\n",
       "  <tbody>\n",
       "    <tr>\n",
       "      <th>0</th>\n",
       "      <td>0.634624</td>\n",
       "      <td>0.367694</td>\n",
       "      <td>0.822773</td>\n",
       "      <td>0.086597</td>\n",
       "      <td>0.078578</td>\n",
       "      <td>0.486240</td>\n",
       "      <td>0.458633</td>\n",
       "      <td>0.578025</td>\n",
       "    </tr>\n",
       "    <tr>\n",
       "      <th>1</th>\n",
       "      <td>0.429365</td>\n",
       "      <td>0.488304</td>\n",
       "      <td>0.630796</td>\n",
       "      <td>0.792299</td>\n",
       "      <td>0.555744</td>\n",
       "      <td>0.056487</td>\n",
       "      <td>0.210839</td>\n",
       "      <td>0.101725</td>\n",
       "    </tr>\n",
       "    <tr>\n",
       "      <th>2</th>\n",
       "      <td>0.537059</td>\n",
       "      <td>0.877779</td>\n",
       "      <td>0.882122</td>\n",
       "      <td>0.881844</td>\n",
       "      <td>0.641187</td>\n",
       "      <td>0.506622</td>\n",
       "      <td>0.513311</td>\n",
       "      <td>0.479469</td>\n",
       "    </tr>\n",
       "    <tr>\n",
       "      <th>3</th>\n",
       "      <td>0.917343</td>\n",
       "      <td>0.007452</td>\n",
       "      <td>0.378320</td>\n",
       "      <td>0.939972</td>\n",
       "      <td>0.395474</td>\n",
       "      <td>0.712983</td>\n",
       "      <td>0.786881</td>\n",
       "      <td>0.541975</td>\n",
       "    </tr>\n",
       "  </tbody>\n",
       "</table>\n",
       "</div>"
      ],
      "text/plain": [
       "          0         1         2         3         4         5         6  \\\n",
       "0  0.634624  0.367694  0.822773  0.086597  0.078578  0.486240  0.458633   \n",
       "1  0.429365  0.488304  0.630796  0.792299  0.555744  0.056487  0.210839   \n",
       "2  0.537059  0.877779  0.882122  0.881844  0.641187  0.506622  0.513311   \n",
       "3  0.917343  0.007452  0.378320  0.939972  0.395474  0.712983  0.786881   \n",
       "\n",
       "          7  \n",
       "0  0.578025  \n",
       "1  0.101725  \n",
       "2  0.479469  \n",
       "3  0.541975  "
      ]
     },
     "execution_count": 342,
     "metadata": {},
     "output_type": "execute_result"
    }
   ],
   "source": [
    "# 배열을 데이터프레임으로 변환\n",
    "import pandas as pd\n",
    "df = pd.DataFrame(ar)\n",
    "df"
   ]
  },
  {
   "cell_type": "code",
   "execution_count": 343,
   "id": "7238c2a7",
   "metadata": {},
   "outputs": [
    {
     "name": "stdout",
     "output_type": "stream",
     "text": [
      "0    0.634624\n",
      "1    0.429365\n",
      "2    0.537059\n",
      "3    0.917343\n",
      "Name: 0, dtype: float64\n"
     ]
    },
    {
     "data": {
      "text/plain": [
       "pandas.core.series.Series"
      ]
     },
     "execution_count": 343,
     "metadata": {},
     "output_type": "execute_result"
    }
   ],
   "source": [
    "print(df[0])\n",
    "type(df[0])"
   ]
  },
  {
   "cell_type": "code",
   "execution_count": 346,
   "id": "16557a34",
   "metadata": {},
   "outputs": [
    {
     "data": {
      "text/html": [
       "<div>\n",
       "<style scoped>\n",
       "    .dataframe tbody tr th:only-of-type {\n",
       "        vertical-align: middle;\n",
       "    }\n",
       "\n",
       "    .dataframe tbody tr th {\n",
       "        vertical-align: top;\n",
       "    }\n",
       "\n",
       "    .dataframe thead th {\n",
       "        text-align: right;\n",
       "    }\n",
       "</style>\n",
       "<table border=\"1\" class=\"dataframe\">\n",
       "  <thead>\n",
       "    <tr style=\"text-align: right;\">\n",
       "      <th></th>\n",
       "      <th>id</th>\n",
       "      <th>gender</th>\n",
       "      <th>age</th>\n",
       "      <th>region</th>\n",
       "      <th>product</th>\n",
       "      <th>price</th>\n",
       "      <th>qty</th>\n",
       "      <th>time</th>\n",
       "    </tr>\n",
       "  </thead>\n",
       "  <tbody>\n",
       "    <tr>\n",
       "      <th>0</th>\n",
       "      <td>0.634624</td>\n",
       "      <td>0.367694</td>\n",
       "      <td>0.822773</td>\n",
       "      <td>0.086597</td>\n",
       "      <td>0.078578</td>\n",
       "      <td>0.486240</td>\n",
       "      <td>0.458633</td>\n",
       "      <td>0.578025</td>\n",
       "    </tr>\n",
       "    <tr>\n",
       "      <th>1</th>\n",
       "      <td>0.429365</td>\n",
       "      <td>0.488304</td>\n",
       "      <td>0.630796</td>\n",
       "      <td>0.792299</td>\n",
       "      <td>0.555744</td>\n",
       "      <td>0.056487</td>\n",
       "      <td>0.210839</td>\n",
       "      <td>0.101725</td>\n",
       "    </tr>\n",
       "    <tr>\n",
       "      <th>2</th>\n",
       "      <td>0.537059</td>\n",
       "      <td>0.877779</td>\n",
       "      <td>0.882122</td>\n",
       "      <td>0.881844</td>\n",
       "      <td>0.641187</td>\n",
       "      <td>0.506622</td>\n",
       "      <td>0.513311</td>\n",
       "      <td>0.479469</td>\n",
       "    </tr>\n",
       "    <tr>\n",
       "      <th>3</th>\n",
       "      <td>0.917343</td>\n",
       "      <td>0.007452</td>\n",
       "      <td>0.378320</td>\n",
       "      <td>0.939972</td>\n",
       "      <td>0.395474</td>\n",
       "      <td>0.712983</td>\n",
       "      <td>0.786881</td>\n",
       "      <td>0.541975</td>\n",
       "    </tr>\n",
       "  </tbody>\n",
       "</table>\n",
       "</div>"
      ],
      "text/plain": [
       "         id    gender       age    region   product     price       qty  \\\n",
       "0  0.634624  0.367694  0.822773  0.086597  0.078578  0.486240  0.458633   \n",
       "1  0.429365  0.488304  0.630796  0.792299  0.555744  0.056487  0.210839   \n",
       "2  0.537059  0.877779  0.882122  0.881844  0.641187  0.506622  0.513311   \n",
       "3  0.917343  0.007452  0.378320  0.939972  0.395474  0.712983  0.786881   \n",
       "\n",
       "       time  \n",
       "0  0.578025  \n",
       "1  0.101725  \n",
       "2  0.479469  \n",
       "3  0.541975  "
      ]
     },
     "execution_count": 346,
     "metadata": {},
     "output_type": "execute_result"
    }
   ],
   "source": [
    "columns = ['id','gender','age','region','product','price','qty','time']\n",
    "index = [np.arange(4)]\n",
    "df = pd.DataFrame(ar,index,columns=columns)\n",
    "df"
   ]
  },
  {
   "cell_type": "code",
   "execution_count": 436,
   "id": "5738b200",
   "metadata": {},
   "outputs": [
    {
     "name": "stdout",
     "output_type": "stream",
     "text": [
      "[[63802     0    71]\n",
      " [91757     1     3]\n",
      " [30721     0    36]\n",
      " [97033     1    28]]\n"
     ]
    },
    {
     "data": {
      "text/html": [
       "<div>\n",
       "<style scoped>\n",
       "    .dataframe tbody tr th:only-of-type {\n",
       "        vertical-align: middle;\n",
       "    }\n",
       "\n",
       "    .dataframe tbody tr th {\n",
       "        vertical-align: top;\n",
       "    }\n",
       "\n",
       "    .dataframe thead th {\n",
       "        text-align: right;\n",
       "    }\n",
       "</style>\n",
       "<table border=\"1\" class=\"dataframe\">\n",
       "  <thead>\n",
       "    <tr style=\"text-align: right;\">\n",
       "      <th></th>\n",
       "      <th>id</th>\n",
       "      <th>gender</th>\n",
       "      <th>age</th>\n",
       "    </tr>\n",
       "  </thead>\n",
       "  <tbody>\n",
       "    <tr>\n",
       "      <th>0</th>\n",
       "      <td>63802</td>\n",
       "      <td>0</td>\n",
       "      <td>71</td>\n",
       "    </tr>\n",
       "    <tr>\n",
       "      <th>1</th>\n",
       "      <td>91757</td>\n",
       "      <td>1</td>\n",
       "      <td>3</td>\n",
       "    </tr>\n",
       "    <tr>\n",
       "      <th>2</th>\n",
       "      <td>30721</td>\n",
       "      <td>0</td>\n",
       "      <td>36</td>\n",
       "    </tr>\n",
       "    <tr>\n",
       "      <th>3</th>\n",
       "      <td>97033</td>\n",
       "      <td>1</td>\n",
       "      <td>28</td>\n",
       "    </tr>\n",
       "  </tbody>\n",
       "</table>\n",
       "</div>"
      ],
      "text/plain": [
       "      id  gender  age\n",
       "0  63802       0   71\n",
       "1  91757       1    3\n",
       "2  30721       0   36\n",
       "3  97033       1   28"
      ]
     },
     "execution_count": 436,
     "metadata": {},
     "output_type": "execute_result"
    }
   ],
   "source": [
    "# id, gender,age 컬럼에 대하여 의미있는 값으로 변환하여 3개의 컬럼으로 구성된 df를 출력하세요\n",
    "arr1 = np.zeros((4,3),dtype = int)\n",
    "arr1[:,0] =np.random.randint(10000,99999,size =4)\n",
    "arr1[:,1] =np.random.choice([0,1],4)\n",
    "arr1[:,2] =np.random.randint(1,100,size =4)\n",
    "print(arr1)\n",
    "index = [np.arange(4)]\n",
    "columns = ['id','gender','age']\n",
    "df = pd.DataFrame(arr1,index,columns = columns)\n",
    "df"
   ]
  },
  {
   "cell_type": "code",
   "execution_count": 398,
   "id": "5670913a",
   "metadata": {},
   "outputs": [
    {
     "data": {
      "text/html": [
       "<div>\n",
       "<style scoped>\n",
       "    .dataframe tbody tr th:only-of-type {\n",
       "        vertical-align: middle;\n",
       "    }\n",
       "\n",
       "    .dataframe tbody tr th {\n",
       "        vertical-align: top;\n",
       "    }\n",
       "\n",
       "    .dataframe thead th {\n",
       "        text-align: right;\n",
       "    }\n",
       "</style>\n",
       "<table border=\"1\" class=\"dataframe\">\n",
       "  <thead>\n",
       "    <tr style=\"text-align: right;\">\n",
       "      <th></th>\n",
       "      <th>ID</th>\n",
       "      <th>Gender</th>\n",
       "      <th>Age</th>\n",
       "    </tr>\n",
       "  </thead>\n",
       "  <tbody>\n",
       "    <tr>\n",
       "      <th>1</th>\n",
       "      <td>1693</td>\n",
       "      <td>F</td>\n",
       "      <td>21</td>\n",
       "    </tr>\n",
       "    <tr>\n",
       "      <th>2</th>\n",
       "      <td>6066</td>\n",
       "      <td>M</td>\n",
       "      <td>21</td>\n",
       "    </tr>\n",
       "    <tr>\n",
       "      <th>3</th>\n",
       "      <td>1625</td>\n",
       "      <td>M</td>\n",
       "      <td>11</td>\n",
       "    </tr>\n",
       "  </tbody>\n",
       "</table>\n",
       "</div>"
      ],
      "text/plain": [
       "     ID Gender Age\n",
       "1  1693      F  21\n",
       "2  6066      M  21\n",
       "3  1625      M  11"
      ]
     },
     "execution_count": 398,
     "metadata": {},
     "output_type": "execute_result"
    }
   ],
   "source": [
    "ID = np.random.randint(1000,10000,3)\n",
    "gen = np.random.choice(['M','F'],3)\n",
    "age = np.random.randint(10,40,3)\n",
    "\n",
    "data = np.array([ID,gen,age]).reshape(3,3).transpose()\n",
    "df=pd.DataFrame(data,np.arange(1,4),['ID','Gender','Age'])\n",
    "df\n"
   ]
  }
 ],
 "metadata": {
  "kernelspec": {
   "display_name": "Python 3 (ipykernel)",
   "language": "python",
   "name": "python3"
  },
  "language_info": {
   "codemirror_mode": {
    "name": "ipython",
    "version": 3
   },
   "file_extension": ".py",
   "mimetype": "text/x-python",
   "name": "python",
   "nbconvert_exporter": "python",
   "pygments_lexer": "ipython3",
   "version": "3.8.12"
  }
 },
 "nbformat": 4,
 "nbformat_minor": 5
}
