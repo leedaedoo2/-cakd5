{
 "cells": [
  {
   "cell_type": "code",
   "execution_count": 41,
   "id": "ca741235",
   "metadata": {},
   "outputs": [
    {
     "data": {
      "text/plain": [
       "2"
      ]
     },
     "execution_count": 41,
     "metadata": {},
     "output_type": "execute_result"
    }
   ],
   "source": [
    "#과제 strings를 다양한 문자가 포함된 순서로 정렬하세요\n",
    "strings = ['a','ca','bar','aaaa','ababa']\n",
    "\n",
    "def variableAlphabet(string):\n",
    "    count = 1\n",
    "    for i in range(1,len(string)):\n",
    "        if string[i] not in string[0:i]:\n",
    "            count += 1                    \n",
    "    return count\n",
    "\n",
    "variableAlphabet(strings[4])\n",
    "\n",
    "\n",
    "\n"
   ]
  },
  {
   "cell_type": "code",
   "execution_count": 36,
   "id": "863e4680",
   "metadata": {},
   "outputs": [
    {
     "data": {
      "text/plain": [
       "[1]"
      ]
     },
     "execution_count": 36,
     "metadata": {},
     "output_type": "execute_result"
    }
   ],
   "source": [
    "string = [1,2,3,4,5]\n",
    "string[0:1]"
   ]
  }
 ],
 "metadata": {
  "kernelspec": {
   "display_name": "Python 3 (ipykernel)",
   "language": "python",
   "name": "python3"
  },
  "language_info": {
   "codemirror_mode": {
    "name": "ipython",
    "version": 3
   },
   "file_extension": ".py",
   "mimetype": "text/x-python",
   "name": "python",
   "nbconvert_exporter": "python",
   "pygments_lexer": "ipython3",
   "version": "3.8.12"
  }
 },
 "nbformat": 4,
 "nbformat_minor": 5
}
